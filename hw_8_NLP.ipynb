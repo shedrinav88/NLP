{
  "nbformat": 4,
  "nbformat_minor": 0,
  "metadata": {
    "colab": {
      "name": "hw_8_NLP.ipynb",
      "provenance": [],
      "collapsed_sections": []
    },
    "kernelspec": {
      "name": "python3",
      "display_name": "Python 3"
    },
    "language_info": {
      "name": "python"
    }
  },
  "cells": [
    {
      "cell_type": "markdown",
      "source": [
        "##Задание\n",
        "Данные берем отызывы за лето\n",
        "На вебинаре мы говорили, что долгое время CNN и RNN архитектуры были конурируещими выяснить какая архитектура больше подходит для нашей задачи\n",
        "1. построить свёрточные архитектуры\n",
        "2. построить различные архитектуры с RNN\n",
        "3. построить совместные архитектуры CNN -> RNN или (RNN -> CNN)"
      ],
      "metadata": {
        "id": "ey-GMxjjxiWa"
      }
    },
    {
      "cell_type": "markdown",
      "source": [
        "Все файлы с данными я выложил на свой гугл диск. Для начала присоединяем google disc"
      ],
      "metadata": {
        "id": "01CGYntUzLgJ"
      }
    },
    {
      "cell_type": "code",
      "execution_count": 1,
      "metadata": {
        "colab": {
          "base_uri": "https://localhost:8080/"
        },
        "id": "PXwl-GFvuf4T",
        "outputId": "3419ae9e-a9c8-48c2-92e2-dcb94105785f"
      },
      "outputs": [
        {
          "output_type": "stream",
          "name": "stdout",
          "text": [
            "Mounted at /content/drive\n"
          ]
        }
      ],
      "source": [
        "from google.colab import drive\n",
        "\n",
        "drive.mount('/content/drive', force_remount=True)"
      ]
    },
    {
      "cell_type": "code",
      "source": [
        "!pip install --upgrade xlrd"
      ],
      "metadata": {
        "colab": {
          "base_uri": "https://localhost:8080/"
        },
        "id": "6V7QRt_7x7-_",
        "outputId": "d8888dd4-2188-4ecd-b446-c3019dd8cf25"
      },
      "execution_count": 2,
      "outputs": [
        {
          "output_type": "stream",
          "name": "stdout",
          "text": [
            "Looking in indexes: https://pypi.org/simple, https://us-python.pkg.dev/colab-wheels/public/simple/\n",
            "Requirement already satisfied: xlrd in /usr/local/lib/python3.7/dist-packages (1.1.0)\n",
            "Collecting xlrd\n",
            "  Downloading xlrd-2.0.1-py2.py3-none-any.whl (96 kB)\n",
            "\u001b[K     |████████████████████████████████| 96 kB 4.8 MB/s \n",
            "\u001b[?25hInstalling collected packages: xlrd\n",
            "  Attempting uninstall: xlrd\n",
            "    Found existing installation: xlrd 1.1.0\n",
            "    Uninstalling xlrd-1.1.0:\n",
            "      Successfully uninstalled xlrd-1.1.0\n",
            "Successfully installed xlrd-2.0.1\n"
          ]
        }
      ]
    },
    {
      "cell_type": "markdown",
      "source": [
        "Загружаем данные"
      ],
      "metadata": {
        "id": "KnkYFVJizP_L"
      }
    },
    {
      "cell_type": "code",
      "source": [
        "import pandas as pd\n",
        "\n",
        "path = '/content/drive/MyDrive/отзывы за лето.xls'\n",
        "data = pd.read_excel(path)\n",
        "data.head()"
      ],
      "metadata": {
        "colab": {
          "base_uri": "https://localhost:8080/",
          "height": 206
        },
        "id": "v6J4YEvqx8B6",
        "outputId": "53e067aa-4372-4592-d91e-6d800cf94308"
      },
      "execution_count": 3,
      "outputs": [
        {
          "output_type": "execute_result",
          "data": {
            "text/plain": [
              "   Rating                                            Content        Date\n",
              "0       5                                     It just works!  2017-08-14\n",
              "1       4  В целом удобноное приложение...из минусов хотя...  2017-08-14\n",
              "2       5                                        Отлично все  2017-08-14\n",
              "3       5  Стал зависать на 1% работы антивируса. Дальше ...  2017-08-14\n",
              "4       5                     Очень удобно, работает быстро.  2017-08-14"
            ],
            "text/html": [
              "\n",
              "  <div id=\"df-e701c700-aef0-4b66-8cc0-09e23a808d69\">\n",
              "    <div class=\"colab-df-container\">\n",
              "      <div>\n",
              "<style scoped>\n",
              "    .dataframe tbody tr th:only-of-type {\n",
              "        vertical-align: middle;\n",
              "    }\n",
              "\n",
              "    .dataframe tbody tr th {\n",
              "        vertical-align: top;\n",
              "    }\n",
              "\n",
              "    .dataframe thead th {\n",
              "        text-align: right;\n",
              "    }\n",
              "</style>\n",
              "<table border=\"1\" class=\"dataframe\">\n",
              "  <thead>\n",
              "    <tr style=\"text-align: right;\">\n",
              "      <th></th>\n",
              "      <th>Rating</th>\n",
              "      <th>Content</th>\n",
              "      <th>Date</th>\n",
              "    </tr>\n",
              "  </thead>\n",
              "  <tbody>\n",
              "    <tr>\n",
              "      <th>0</th>\n",
              "      <td>5</td>\n",
              "      <td>It just works!</td>\n",
              "      <td>2017-08-14</td>\n",
              "    </tr>\n",
              "    <tr>\n",
              "      <th>1</th>\n",
              "      <td>4</td>\n",
              "      <td>В целом удобноное приложение...из минусов хотя...</td>\n",
              "      <td>2017-08-14</td>\n",
              "    </tr>\n",
              "    <tr>\n",
              "      <th>2</th>\n",
              "      <td>5</td>\n",
              "      <td>Отлично все</td>\n",
              "      <td>2017-08-14</td>\n",
              "    </tr>\n",
              "    <tr>\n",
              "      <th>3</th>\n",
              "      <td>5</td>\n",
              "      <td>Стал зависать на 1% работы антивируса. Дальше ...</td>\n",
              "      <td>2017-08-14</td>\n",
              "    </tr>\n",
              "    <tr>\n",
              "      <th>4</th>\n",
              "      <td>5</td>\n",
              "      <td>Очень удобно, работает быстро.</td>\n",
              "      <td>2017-08-14</td>\n",
              "    </tr>\n",
              "  </tbody>\n",
              "</table>\n",
              "</div>\n",
              "      <button class=\"colab-df-convert\" onclick=\"convertToInteractive('df-e701c700-aef0-4b66-8cc0-09e23a808d69')\"\n",
              "              title=\"Convert this dataframe to an interactive table.\"\n",
              "              style=\"display:none;\">\n",
              "        \n",
              "  <svg xmlns=\"http://www.w3.org/2000/svg\" height=\"24px\"viewBox=\"0 0 24 24\"\n",
              "       width=\"24px\">\n",
              "    <path d=\"M0 0h24v24H0V0z\" fill=\"none\"/>\n",
              "    <path d=\"M18.56 5.44l.94 2.06.94-2.06 2.06-.94-2.06-.94-.94-2.06-.94 2.06-2.06.94zm-11 1L8.5 8.5l.94-2.06 2.06-.94-2.06-.94L8.5 2.5l-.94 2.06-2.06.94zm10 10l.94 2.06.94-2.06 2.06-.94-2.06-.94-.94-2.06-.94 2.06-2.06.94z\"/><path d=\"M17.41 7.96l-1.37-1.37c-.4-.4-.92-.59-1.43-.59-.52 0-1.04.2-1.43.59L10.3 9.45l-7.72 7.72c-.78.78-.78 2.05 0 2.83L4 21.41c.39.39.9.59 1.41.59.51 0 1.02-.2 1.41-.59l7.78-7.78 2.81-2.81c.8-.78.8-2.07 0-2.86zM5.41 20L4 18.59l7.72-7.72 1.47 1.35L5.41 20z\"/>\n",
              "  </svg>\n",
              "      </button>\n",
              "      \n",
              "  <style>\n",
              "    .colab-df-container {\n",
              "      display:flex;\n",
              "      flex-wrap:wrap;\n",
              "      gap: 12px;\n",
              "    }\n",
              "\n",
              "    .colab-df-convert {\n",
              "      background-color: #E8F0FE;\n",
              "      border: none;\n",
              "      border-radius: 50%;\n",
              "      cursor: pointer;\n",
              "      display: none;\n",
              "      fill: #1967D2;\n",
              "      height: 32px;\n",
              "      padding: 0 0 0 0;\n",
              "      width: 32px;\n",
              "    }\n",
              "\n",
              "    .colab-df-convert:hover {\n",
              "      background-color: #E2EBFA;\n",
              "      box-shadow: 0px 1px 2px rgba(60, 64, 67, 0.3), 0px 1px 3px 1px rgba(60, 64, 67, 0.15);\n",
              "      fill: #174EA6;\n",
              "    }\n",
              "\n",
              "    [theme=dark] .colab-df-convert {\n",
              "      background-color: #3B4455;\n",
              "      fill: #D2E3FC;\n",
              "    }\n",
              "\n",
              "    [theme=dark] .colab-df-convert:hover {\n",
              "      background-color: #434B5C;\n",
              "      box-shadow: 0px 1px 3px 1px rgba(0, 0, 0, 0.15);\n",
              "      filter: drop-shadow(0px 1px 2px rgba(0, 0, 0, 0.3));\n",
              "      fill: #FFFFFF;\n",
              "    }\n",
              "  </style>\n",
              "\n",
              "      <script>\n",
              "        const buttonEl =\n",
              "          document.querySelector('#df-e701c700-aef0-4b66-8cc0-09e23a808d69 button.colab-df-convert');\n",
              "        buttonEl.style.display =\n",
              "          google.colab.kernel.accessAllowed ? 'block' : 'none';\n",
              "\n",
              "        async function convertToInteractive(key) {\n",
              "          const element = document.querySelector('#df-e701c700-aef0-4b66-8cc0-09e23a808d69');\n",
              "          const dataTable =\n",
              "            await google.colab.kernel.invokeFunction('convertToInteractive',\n",
              "                                                     [key], {});\n",
              "          if (!dataTable) return;\n",
              "\n",
              "          const docLinkHtml = 'Like what you see? Visit the ' +\n",
              "            '<a target=\"_blank\" href=https://colab.research.google.com/notebooks/data_table.ipynb>data table notebook</a>'\n",
              "            + ' to learn more about interactive tables.';\n",
              "          element.innerHTML = '';\n",
              "          dataTable['output_type'] = 'display_data';\n",
              "          await google.colab.output.renderOutput(dataTable, element);\n",
              "          const docLink = document.createElement('div');\n",
              "          docLink.innerHTML = docLinkHtml;\n",
              "          element.appendChild(docLink);\n",
              "        }\n",
              "      </script>\n",
              "    </div>\n",
              "  </div>\n",
              "  "
            ]
          },
          "metadata": {},
          "execution_count": 3
        }
      ]
    },
    {
      "cell_type": "markdown",
      "source": [
        "Для удобства работы с НН заменяем лейблы"
      ],
      "metadata": {
        "id": "jZdO4fvXzU33"
      }
    },
    {
      "cell_type": "code",
      "source": [
        "data['Rating'] = data['Rating'].replace({1: 0, 2: 1, 3: 2, 4: 3, 5: 4})"
      ],
      "metadata": {
        "id": "u32B0ndrx8Ey"
      },
      "execution_count": 4,
      "outputs": []
    },
    {
      "cell_type": "markdown",
      "source": [
        "устанавливаем нужные библиотеки"
      ],
      "metadata": {
        "id": "iJgRyem5zReX"
      }
    },
    {
      "cell_type": "code",
      "source": [
        "!pip install pymorphy2"
      ],
      "metadata": {
        "colab": {
          "base_uri": "https://localhost:8080/"
        },
        "id": "tq7REP34x8HN",
        "outputId": "37b0f5f3-0d60-41a9-b108-3dd5c6f409e3"
      },
      "execution_count": 5,
      "outputs": [
        {
          "output_type": "stream",
          "name": "stdout",
          "text": [
            "Looking in indexes: https://pypi.org/simple, https://us-python.pkg.dev/colab-wheels/public/simple/\n",
            "Collecting pymorphy2\n",
            "  Downloading pymorphy2-0.9.1-py3-none-any.whl (55 kB)\n",
            "\u001b[K     |████████████████████████████████| 55 kB 3.2 MB/s \n",
            "\u001b[?25hCollecting dawg-python>=0.7.1\n",
            "  Downloading DAWG_Python-0.7.2-py2.py3-none-any.whl (11 kB)\n",
            "Requirement already satisfied: docopt>=0.6 in /usr/local/lib/python3.7/dist-packages (from pymorphy2) (0.6.2)\n",
            "Collecting pymorphy2-dicts-ru<3.0,>=2.4\n",
            "  Downloading pymorphy2_dicts_ru-2.4.417127.4579844-py2.py3-none-any.whl (8.2 MB)\n",
            "\u001b[K     |████████████████████████████████| 8.2 MB 16.3 MB/s \n",
            "\u001b[?25hInstalling collected packages: pymorphy2-dicts-ru, dawg-python, pymorphy2\n",
            "Successfully installed dawg-python-0.7.2 pymorphy2-0.9.1 pymorphy2-dicts-ru-2.4.417127.4579844\n"
          ]
        }
      ]
    },
    {
      "cell_type": "code",
      "source": [
        "!pip install stop_words"
      ],
      "metadata": {
        "colab": {
          "base_uri": "https://localhost:8080/"
        },
        "id": "Jt2co1-kx8K8",
        "outputId": "2fddfcfb-6b8c-46f0-e6a8-4cebc2b56856"
      },
      "execution_count": 6,
      "outputs": [
        {
          "output_type": "stream",
          "name": "stdout",
          "text": [
            "Looking in indexes: https://pypi.org/simple, https://us-python.pkg.dev/colab-wheels/public/simple/\n",
            "Collecting stop_words\n",
            "  Downloading stop-words-2018.7.23.tar.gz (31 kB)\n",
            "Building wheels for collected packages: stop-words\n",
            "  Building wheel for stop-words (setup.py) ... \u001b[?25l\u001b[?25hdone\n",
            "  Created wheel for stop-words: filename=stop_words-2018.7.23-py3-none-any.whl size=32911 sha256=407122c9c4ad0edd76812dcfa5b630496e853d5ee28fadc1ffb8295295c06364\n",
            "  Stored in directory: /root/.cache/pip/wheels/fb/86/b2/277b10b1ce9f73ce15059bf6975d4547cc4ec3feeb651978e9\n",
            "Successfully built stop-words\n",
            "Installing collected packages: stop-words\n",
            "Successfully installed stop-words-2018.7.23\n"
          ]
        }
      ]
    },
    {
      "cell_type": "code",
      "source": [
        "from string import punctuation\n",
        "from stop_words import get_stop_words\n",
        "from pymorphy2 import MorphAnalyzer\n",
        "import re\n",
        "import nltk\n",
        "from nltk.tokenize import word_tokenize\n",
        "nltk.download(\"punkt\")"
      ],
      "metadata": {
        "colab": {
          "base_uri": "https://localhost:8080/"
        },
        "id": "FCKUhRL6x8MG",
        "outputId": "e6c2b8c0-cbfd-4caf-d4db-eeef492bf249"
      },
      "execution_count": 7,
      "outputs": [
        {
          "output_type": "stream",
          "name": "stderr",
          "text": [
            "[nltk_data] Downloading package punkt to /root/nltk_data...\n",
            "[nltk_data]   Unzipping tokenizers/punkt.zip.\n"
          ]
        },
        {
          "output_type": "execute_result",
          "data": {
            "text/plain": [
              "True"
            ]
          },
          "metadata": {},
          "execution_count": 7
        }
      ]
    },
    {
      "cell_type": "markdown",
      "source": [
        "Функция для предобработки текста"
      ],
      "metadata": {
        "id": "Vuseslg2zZkI"
      }
    },
    {
      "cell_type": "code",
      "source": [
        "sw = set(get_stop_words(\"ru\"))\n",
        "exclude = set(punctuation)\n",
        "morpher = MorphAnalyzer()\n",
        "\n",
        "def preprocess_text(txt):\n",
        "    txt = str(txt)\n",
        "    txt = txt.lower()\n",
        "    #txt = re.sub(\"\\sне\", \"не\", txt)\n",
        "    txt = word_tokenize(txt)\n",
        "    txt = [morpher.parse(word)[0].normal_form for word in txt if word not in sw]\n",
        "    return \" \".join(txt)"
      ],
      "metadata": {
        "id": "-R96x7S4x8OZ"
      },
      "execution_count": 8,
      "outputs": []
    },
    {
      "cell_type": "markdown",
      "source": [
        "Предобрабатываем тексты"
      ],
      "metadata": {
        "id": "wX90NqHgzdw6"
      }
    },
    {
      "cell_type": "code",
      "source": [
        "data['Content'] = data['Content'].apply(preprocess_text)\n",
        "data.head()"
      ],
      "metadata": {
        "colab": {
          "base_uri": "https://localhost:8080/",
          "height": 206
        },
        "id": "0F7vZ10Px8Qt",
        "outputId": "b03c3a6d-d87a-46f5-c0fd-1bd202ae0170"
      },
      "execution_count": 9,
      "outputs": [
        {
          "output_type": "execute_result",
          "data": {
            "text/plain": [
              "   Rating                                            Content        Date\n",
              "0       4                                    it just works !  2017-08-14\n",
              "1       3  целое удобноной приложение ... минус хотеть бо...  2017-08-14\n",
              "2       4                                            отлично  2017-08-14\n",
              "3       4  зависать 1 % работа антивирус . . ранее пользо...  2017-08-14\n",
              "4       4                         удобно , работать быстро .  2017-08-14"
            ],
            "text/html": [
              "\n",
              "  <div id=\"df-71e8280f-535e-4995-abce-4bd68a14a7a5\">\n",
              "    <div class=\"colab-df-container\">\n",
              "      <div>\n",
              "<style scoped>\n",
              "    .dataframe tbody tr th:only-of-type {\n",
              "        vertical-align: middle;\n",
              "    }\n",
              "\n",
              "    .dataframe tbody tr th {\n",
              "        vertical-align: top;\n",
              "    }\n",
              "\n",
              "    .dataframe thead th {\n",
              "        text-align: right;\n",
              "    }\n",
              "</style>\n",
              "<table border=\"1\" class=\"dataframe\">\n",
              "  <thead>\n",
              "    <tr style=\"text-align: right;\">\n",
              "      <th></th>\n",
              "      <th>Rating</th>\n",
              "      <th>Content</th>\n",
              "      <th>Date</th>\n",
              "    </tr>\n",
              "  </thead>\n",
              "  <tbody>\n",
              "    <tr>\n",
              "      <th>0</th>\n",
              "      <td>4</td>\n",
              "      <td>it just works !</td>\n",
              "      <td>2017-08-14</td>\n",
              "    </tr>\n",
              "    <tr>\n",
              "      <th>1</th>\n",
              "      <td>3</td>\n",
              "      <td>целое удобноной приложение ... минус хотеть бо...</td>\n",
              "      <td>2017-08-14</td>\n",
              "    </tr>\n",
              "    <tr>\n",
              "      <th>2</th>\n",
              "      <td>4</td>\n",
              "      <td>отлично</td>\n",
              "      <td>2017-08-14</td>\n",
              "    </tr>\n",
              "    <tr>\n",
              "      <th>3</th>\n",
              "      <td>4</td>\n",
              "      <td>зависать 1 % работа антивирус . . ранее пользо...</td>\n",
              "      <td>2017-08-14</td>\n",
              "    </tr>\n",
              "    <tr>\n",
              "      <th>4</th>\n",
              "      <td>4</td>\n",
              "      <td>удобно , работать быстро .</td>\n",
              "      <td>2017-08-14</td>\n",
              "    </tr>\n",
              "  </tbody>\n",
              "</table>\n",
              "</div>\n",
              "      <button class=\"colab-df-convert\" onclick=\"convertToInteractive('df-71e8280f-535e-4995-abce-4bd68a14a7a5')\"\n",
              "              title=\"Convert this dataframe to an interactive table.\"\n",
              "              style=\"display:none;\">\n",
              "        \n",
              "  <svg xmlns=\"http://www.w3.org/2000/svg\" height=\"24px\"viewBox=\"0 0 24 24\"\n",
              "       width=\"24px\">\n",
              "    <path d=\"M0 0h24v24H0V0z\" fill=\"none\"/>\n",
              "    <path d=\"M18.56 5.44l.94 2.06.94-2.06 2.06-.94-2.06-.94-.94-2.06-.94 2.06-2.06.94zm-11 1L8.5 8.5l.94-2.06 2.06-.94-2.06-.94L8.5 2.5l-.94 2.06-2.06.94zm10 10l.94 2.06.94-2.06 2.06-.94-2.06-.94-.94-2.06-.94 2.06-2.06.94z\"/><path d=\"M17.41 7.96l-1.37-1.37c-.4-.4-.92-.59-1.43-.59-.52 0-1.04.2-1.43.59L10.3 9.45l-7.72 7.72c-.78.78-.78 2.05 0 2.83L4 21.41c.39.39.9.59 1.41.59.51 0 1.02-.2 1.41-.59l7.78-7.78 2.81-2.81c.8-.78.8-2.07 0-2.86zM5.41 20L4 18.59l7.72-7.72 1.47 1.35L5.41 20z\"/>\n",
              "  </svg>\n",
              "      </button>\n",
              "      \n",
              "  <style>\n",
              "    .colab-df-container {\n",
              "      display:flex;\n",
              "      flex-wrap:wrap;\n",
              "      gap: 12px;\n",
              "    }\n",
              "\n",
              "    .colab-df-convert {\n",
              "      background-color: #E8F0FE;\n",
              "      border: none;\n",
              "      border-radius: 50%;\n",
              "      cursor: pointer;\n",
              "      display: none;\n",
              "      fill: #1967D2;\n",
              "      height: 32px;\n",
              "      padding: 0 0 0 0;\n",
              "      width: 32px;\n",
              "    }\n",
              "\n",
              "    .colab-df-convert:hover {\n",
              "      background-color: #E2EBFA;\n",
              "      box-shadow: 0px 1px 2px rgba(60, 64, 67, 0.3), 0px 1px 3px 1px rgba(60, 64, 67, 0.15);\n",
              "      fill: #174EA6;\n",
              "    }\n",
              "\n",
              "    [theme=dark] .colab-df-convert {\n",
              "      background-color: #3B4455;\n",
              "      fill: #D2E3FC;\n",
              "    }\n",
              "\n",
              "    [theme=dark] .colab-df-convert:hover {\n",
              "      background-color: #434B5C;\n",
              "      box-shadow: 0px 1px 3px 1px rgba(0, 0, 0, 0.15);\n",
              "      filter: drop-shadow(0px 1px 2px rgba(0, 0, 0, 0.3));\n",
              "      fill: #FFFFFF;\n",
              "    }\n",
              "  </style>\n",
              "\n",
              "      <script>\n",
              "        const buttonEl =\n",
              "          document.querySelector('#df-71e8280f-535e-4995-abce-4bd68a14a7a5 button.colab-df-convert');\n",
              "        buttonEl.style.display =\n",
              "          google.colab.kernel.accessAllowed ? 'block' : 'none';\n",
              "\n",
              "        async function convertToInteractive(key) {\n",
              "          const element = document.querySelector('#df-71e8280f-535e-4995-abce-4bd68a14a7a5');\n",
              "          const dataTable =\n",
              "            await google.colab.kernel.invokeFunction('convertToInteractive',\n",
              "                                                     [key], {});\n",
              "          if (!dataTable) return;\n",
              "\n",
              "          const docLinkHtml = 'Like what you see? Visit the ' +\n",
              "            '<a target=\"_blank\" href=https://colab.research.google.com/notebooks/data_table.ipynb>data table notebook</a>'\n",
              "            + ' to learn more about interactive tables.';\n",
              "          element.innerHTML = '';\n",
              "          dataTable['output_type'] = 'display_data';\n",
              "          await google.colab.output.renderOutput(dataTable, element);\n",
              "          const docLink = document.createElement('div');\n",
              "          docLink.innerHTML = docLinkHtml;\n",
              "          element.appendChild(docLink);\n",
              "        }\n",
              "      </script>\n",
              "    </div>\n",
              "  </div>\n",
              "  "
            ]
          },
          "metadata": {},
          "execution_count": 9
        }
      ]
    },
    {
      "cell_type": "markdown",
      "source": [
        "Готовим данные к обучению"
      ],
      "metadata": {
        "id": "n3SsmJuCzjdp"
      }
    },
    {
      "cell_type": "code",
      "source": [
        "train_corpus = \" \".join(data[\"Content\"])\n",
        "tokens = word_tokenize(train_corpus)"
      ],
      "metadata": {
        "id": "O5d4A7YKx8Ua"
      },
      "execution_count": 10,
      "outputs": []
    },
    {
      "cell_type": "code",
      "source": [
        "#max_words = 5000\n",
        "max_len = 100\n",
        "num_classes = 5\n",
        "\n",
        "# Training\n",
        "epochs = 5\n",
        "batch_size = 32\n",
        "print_batch_n = 100"
      ],
      "metadata": {
        "id": "S0H1-SJvx8YA"
      },
      "execution_count": 16,
      "outputs": []
    },
    {
      "cell_type": "markdown",
      "source": [
        "Создаем словарь уникальных токенов в корпусе"
      ],
      "metadata": {
        "id": "eLIQBGYmzmGv"
      }
    },
    {
      "cell_type": "code",
      "source": [
        "from nltk.probability import FreqDist\n",
        "dist = FreqDist(tokens)\n",
        "tokens_freq = [pair[0] for pair in dist.most_common()]"
      ],
      "metadata": {
        "id": "mCBvrBhHy1Qs"
      },
      "execution_count": 11,
      "outputs": []
    },
    {
      "cell_type": "code",
      "source": [
        "vocabulary = {v: k for k, v in dict(enumerate(tokens_freq, 1)).items()}"
      ],
      "metadata": {
        "id": "J3Cc4DcLy1Rw"
      },
      "execution_count": 12,
      "outputs": []
    },
    {
      "cell_type": "markdown",
      "source": [
        "функция перевода текста в последовательность с паддингом"
      ],
      "metadata": {
        "id": "Kz0a8fWjzoxX"
      }
    },
    {
      "cell_type": "code",
      "source": [
        "import numpy as np\n",
        "\n",
        "def text_to_sequence(text, maxlen):\n",
        "    result = []\n",
        "    tokens = word_tokenize(text.lower())\n",
        "    tokens_filtered = [word for word in tokens if word.isalnum()]\n",
        "    for word in tokens_filtered:\n",
        "        if word in vocabulary:\n",
        "            result.append(vocabulary[word])\n",
        "    padding = [0]*(maxlen-len(result))\n",
        "    return padding + result[-maxlen:]"
      ],
      "metadata": {
        "id": "yzcQWTSZy1Vo"
      },
      "execution_count": 13,
      "outputs": []
    },
    {
      "cell_type": "markdown",
      "source": [
        "бьем на трейн и тест"
      ],
      "metadata": {
        "id": "iTUCKyA0zrSg"
      }
    },
    {
      "cell_type": "code",
      "source": [
        "from sklearn.model_selection import train_test_split\n",
        "\n",
        "x_train, x_test, y_train, y_test = train_test_split(data['Content'], data['Rating'], test_size=0.33, random_state=42, stratify=data['Rating'])"
      ],
      "metadata": {
        "id": "K1uOUYYay1X-"
      },
      "execution_count": 14,
      "outputs": []
    },
    {
      "cell_type": "markdown",
      "source": [
        "переводим тексты в трейне в последовательности"
      ],
      "metadata": {
        "id": "YEAe_ITQ0C41"
      }
    },
    {
      "cell_type": "code",
      "source": [
        "x_train = np.asarray([text_to_sequence(text, max_len) for text in x_train], dtype=np.int32)"
      ],
      "metadata": {
        "id": "IPdeQdAyy8id"
      },
      "execution_count": 17,
      "outputs": []
    },
    {
      "cell_type": "markdown",
      "source": [
        "## Делаем первую часть задания\n",
        "построить свёрточные архитектуры"
      ],
      "metadata": {
        "id": "tfHsP70y0IQV"
      }
    },
    {
      "cell_type": "code",
      "source": [
        "import numpy as np\n",
        "import keras\n",
        "from keras.models import Sequential, Model\n",
        "from keras.layers import Dense, Dropout, Activation, Input, Embedding, Conv1D, GlobalMaxPool1D, SimpleRNN, LSTM, GRU, Masking\n",
        "from keras.preprocessing.text import Tokenizer\n",
        "from keras.preprocessing.sequence import pad_sequences\n",
        "from keras.callbacks import TensorBoard \n",
        "from keras.metrics import SparseCategoricalAccuracy, categorical_crossentropy \n",
        "from keras.callbacks import EarlyStopping  \n",
        "from keras.losses import SparseCategoricalCrossentropy"
      ],
      "metadata": {
        "id": "Wuo3eiZHy8lN"
      },
      "execution_count": 18,
      "outputs": []
    },
    {
      "cell_type": "code",
      "source": [
        "model = Sequential()\n",
        "model.add(Embedding(input_dim=len(vocabulary)+1, output_dim=256, input_length=max_len))\n",
        "model.add(Conv1D(128, 4))\n",
        "model.add(Activation(\"relu\"))\n",
        "model.add(Conv1D(256, 3))\n",
        "model.add(Activation(\"relu\"))\n",
        "model.add(Conv1D(256, 2))\n",
        "model.add(Activation(\"relu\"))\n",
        "model.add(GlobalMaxPool1D())\n",
        "model.add(Dropout(0.4))\n",
        "model.add(Dense(128))\n",
        "model.add(Activation(\"relu\"))\n",
        "model.add(Dropout(0.25))\n",
        "model.add(Dense(num_classes))\n",
        "model.add(Activation('softmax'))"
      ],
      "metadata": {
        "id": "zm7Ef83Uy8n1"
      },
      "execution_count": 21,
      "outputs": []
    },
    {
      "cell_type": "code",
      "source": [
        "model.compile(loss='SparseCategoricalCrossentropy',\n",
        "              optimizer='adam',\n",
        "              metrics=['accuracy'])"
      ],
      "metadata": {
        "id": "fi4H91Bay8p2"
      },
      "execution_count": 22,
      "outputs": []
    },
    {
      "cell_type": "code",
      "source": [
        "history = model.fit(x_train, y_train,\n",
        "                    batch_size=batch_size,\n",
        "                    epochs=epochs,\n",
        "                    verbose=1,\n",
        "                    validation_split=0.1)"
      ],
      "metadata": {
        "colab": {
          "base_uri": "https://localhost:8080/"
        },
        "id": "zYVQl46qy8tQ",
        "outputId": "1510cbeb-315a-4363-f8ca-69272902bd9d"
      },
      "execution_count": 23,
      "outputs": [
        {
          "output_type": "stream",
          "name": "stdout",
          "text": [
            "Epoch 1/5\n",
            "390/390 [==============================] - 80s 202ms/step - loss: 0.7567 - accuracy: 0.7469 - val_loss: 0.6630 - val_accuracy: 0.7776\n",
            "Epoch 2/5\n",
            "390/390 [==============================] - 70s 180ms/step - loss: 0.6230 - accuracy: 0.7836 - val_loss: 0.6669 - val_accuracy: 0.7704\n",
            "Epoch 3/5\n",
            "390/390 [==============================] - 71s 183ms/step - loss: 0.5560 - accuracy: 0.8004 - val_loss: 0.6809 - val_accuracy: 0.7740\n",
            "Epoch 4/5\n",
            "390/390 [==============================] - 79s 201ms/step - loss: 0.5096 - accuracy: 0.8180 - val_loss: 0.7531 - val_accuracy: 0.7711\n",
            "Epoch 5/5\n",
            "390/390 [==============================] - 73s 188ms/step - loss: 0.4693 - accuracy: 0.8372 - val_loss: 0.7762 - val_accuracy: 0.7653\n"
          ]
        }
      ]
    },
    {
      "cell_type": "code",
      "source": [
        "x_test = np.asarray([text_to_sequence(text, max_len) for text in x_test], dtype=np.int32)"
      ],
      "metadata": {
        "id": "x_A34YlgzMOl"
      },
      "execution_count": 24,
      "outputs": []
    },
    {
      "cell_type": "code",
      "source": [
        "import numpy as np\n",
        "pred = model.predict(x_test, batch_size=batch_size)"
      ],
      "metadata": {
        "id": "__FHHo1ZzVyr"
      },
      "execution_count": 25,
      "outputs": []
    },
    {
      "cell_type": "code",
      "source": [
        "pred_label = []\n",
        "for i in pred:\n",
        "    pred_label.append(np.argmax(i))"
      ],
      "metadata": {
        "id": "Yn7udVoZzMce"
      },
      "execution_count": 26,
      "outputs": []
    },
    {
      "cell_type": "code",
      "source": [
        "import matplotlib.pyplot as plt\n",
        "from sklearn.metrics import confusion_matrix, ConfusionMatrixDisplay, classification_report\n",
        "\n",
        "print(classification_report(y_test, pred_label))"
      ],
      "metadata": {
        "colab": {
          "base_uri": "https://localhost:8080/"
        },
        "id": "66RxdoLozMe7",
        "outputId": "4caa8dbe-1e6a-430e-ba80-359a273906ae"
      },
      "execution_count": 27,
      "outputs": [
        {
          "output_type": "stream",
          "name": "stdout",
          "text": [
            "              precision    recall  f1-score   support\n",
            "\n",
            "           0       0.50      0.73      0.60       751\n",
            "           1       0.18      0.02      0.03       247\n",
            "           2       0.20      0.18      0.19       301\n",
            "           3       0.27      0.19      0.22       705\n",
            "           4       0.89      0.92      0.91      4814\n",
            "\n",
            "    accuracy                           0.76      6818\n",
            "   macro avg       0.41      0.41      0.39      6818\n",
            "weighted avg       0.73      0.76      0.74      6818\n",
            "\n"
          ]
        }
      ]
    },
    {
      "cell_type": "code",
      "source": [
        "conf_matrix = confusion_matrix(y_test, pred_label)\n",
        "disp = ConfusionMatrixDisplay(confusion_matrix=conf_matrix, display_labels=[0,1,2,3,4])\n",
        "\n",
        "fig, ax = plt.subplots(figsize=(16,16))\n",
        "disp.plot(ax=ax)\n",
        "plt.show()"
      ],
      "metadata": {
        "colab": {
          "base_uri": "https://localhost:8080/",
          "height": 901
        },
        "id": "07aFXPqSzMg_",
        "outputId": "2ae81073-4dcf-4ff1-c502-8322472f2ea5"
      },
      "execution_count": 28,
      "outputs": [
        {
          "output_type": "display_data",
          "data": {
            "text/plain": [
              "<Figure size 1152x1152 with 2 Axes>"
            ],
            "image/png": "[encoded data removed]"
          },
          "metadata": {
            "needs_background": "light"
          }
        }
      ]
    },
    {
      "cell_type": "markdown",
      "source": [
        "## Делем вторую часть задания\n",
        "\n",
        "Построить различные архитектуры с RNN"
      ],
      "metadata": {
        "id": "b5hdVZp_0eNo"
      }
    },
    {
      "cell_type": "code",
      "source": [
        "model = Sequential()\n",
        "model.add(\n",
        "    Embedding(input_dim=len(vocabulary)+1,\n",
        "              input_length=max_len,\n",
        "              output_dim=256,\n",
        "              trainable=True,\n",
        "              mask_zero=True))\n",
        "model.add(Masking(mask_value=0.0))\n",
        "model.add(GRU(128, recurrent_dropout=0.25))\n",
        "model.add(Dense(64, activation='relu'))\n",
        "model.add(Dropout(0.5))\n",
        "model.add(Dense(num_classes))\n",
        "model.add(Activation('softmax'))"
      ],
      "metadata": {
        "id": "kIdLwlCEzMkH"
      },
      "execution_count": 34,
      "outputs": []
    },
    {
      "cell_type": "code",
      "source": [
        "model.compile(loss='SparseCategoricalCrossentropy',\n",
        "              optimizer='adam',\n",
        "              metrics=['accuracy'])"
      ],
      "metadata": {
        "id": "UXivk5wz1d_a"
      },
      "execution_count": 35,
      "outputs": []
    },
    {
      "cell_type": "code",
      "source": [
        "history = model.fit(x_train, y_train,\n",
        "                    batch_size=batch_size,\n",
        "                    epochs=epochs,\n",
        "                    verbose=1,\n",
        "                    validation_split=0.1)"
      ],
      "metadata": {
        "colab": {
          "base_uri": "https://localhost:8080/"
        },
        "id": "n3PgACv41eBu",
        "outputId": "e4df3b17-810a-42e7-88d8-147203d0f084"
      },
      "execution_count": 36,
      "outputs": [
        {
          "output_type": "stream",
          "name": "stdout",
          "text": [
            "Epoch 1/5\n",
            "390/390 [==============================] - 170s 427ms/step - loss: 0.7575 - accuracy: 0.7481 - val_loss: 0.6603 - val_accuracy: 0.7718\n",
            "Epoch 2/5\n",
            "390/390 [==============================] - 143s 366ms/step - loss: 0.6118 - accuracy: 0.7875 - val_loss: 0.6528 - val_accuracy: 0.7755\n",
            "Epoch 3/5\n",
            "390/390 [==============================] - 140s 359ms/step - loss: 0.5151 - accuracy: 0.8248 - val_loss: 0.6800 - val_accuracy: 0.7682\n",
            "Epoch 4/5\n",
            "390/390 [==============================] - 153s 394ms/step - loss: 0.4398 - accuracy: 0.8528 - val_loss: 0.7197 - val_accuracy: 0.7596\n",
            "Epoch 5/5\n",
            "390/390 [==============================] - 141s 361ms/step - loss: 0.3771 - accuracy: 0.8797 - val_loss: 0.7798 - val_accuracy: 0.7531\n"
          ]
        }
      ]
    },
    {
      "cell_type": "code",
      "source": [
        "pred = model.predict(x_test, batch_size=batch_size)"
      ],
      "metadata": {
        "id": "yNV9ws062dqy"
      },
      "execution_count": 37,
      "outputs": []
    },
    {
      "cell_type": "code",
      "source": [
        "pred_label = []\n",
        "for i in pred:\n",
        "    pred_label.append(np.argmax(i))"
      ],
      "metadata": {
        "id": "_McUZoCt2dzO"
      },
      "execution_count": 38,
      "outputs": []
    },
    {
      "cell_type": "code",
      "source": [
        "print(classification_report(y_test, pred_label))"
      ],
      "metadata": {
        "colab": {
          "base_uri": "https://localhost:8080/"
        },
        "id": "Wfoi7Vqn2d1p",
        "outputId": "03a19087-32eb-484c-b2ea-a78df16c544e"
      },
      "execution_count": 40,
      "outputs": [
        {
          "output_type": "stream",
          "name": "stdout",
          "text": [
            "              precision    recall  f1-score   support\n",
            "\n",
            "           0       0.53      0.54      0.53       751\n",
            "           1       0.16      0.21      0.18       247\n",
            "           2       0.21      0.16      0.18       301\n",
            "           3       0.30      0.15      0.20       705\n",
            "           4       0.88      0.93      0.90      4814\n",
            "\n",
            "    accuracy                           0.75      6818\n",
            "   macro avg       0.41      0.40      0.40      6818\n",
            "weighted avg       0.72      0.75      0.73      6818\n",
            "\n"
          ]
        }
      ]
    },
    {
      "cell_type": "code",
      "source": [
        "conf_matrix = confusion_matrix(y_test, pred_label)\n",
        "disp = ConfusionMatrixDisplay(confusion_matrix=conf_matrix, display_labels=[0,1,2,3,4])\n",
        "\n",
        "fig, ax = plt.subplots(figsize=(16,16))\n",
        "disp.plot(ax=ax)\n",
        "plt.show()"
      ],
      "metadata": {
        "colab": {
          "base_uri": "https://localhost:8080/",
          "height": 901
        },
        "id": "u9VJB7nB2d4a",
        "outputId": "8f6d780e-fe49-4dd2-fee4-10939782df70"
      },
      "execution_count": 41,
      "outputs": [
        {
          "output_type": "display_data",
          "data": {
            "text/plain": [
              "<Figure size 1152x1152 with 2 Axes>"
            ],
            "image/png": "[encoded data removed]"
          },
          "metadata": {
            "needs_background": "light"
          }
        }
      ]
    },
    {
      "cell_type": "code",
      "source": [
        "from keras.layers import Bidirectional\n",
        "\n",
        "model = Sequential()\n",
        "model.add(\n",
        "    Embedding(input_dim=len(vocabulary)+1,\n",
        "              input_length=max_len,\n",
        "              output_dim=256,\n",
        "              trainable=True,\n",
        "              mask_zero=True))\n",
        "model.add(Masking(mask_value=0.0))\n",
        "#model.add(Bidirectional(LSTM(64, return_sequences=True), input_shape=(batch_size, 256)))\n",
        "model.add(Bidirectional(LSTM(64, recurrent_dropout=0.35)))\n",
        "model.add(Dense(64, activation='relu'))\n",
        "model.add(Dropout(0.5))\n",
        "model.add(Dense(num_classes))\n",
        "model.add(Activation('softmax'))"
      ],
      "metadata": {
        "id": "99DoAKao1eD6"
      },
      "execution_count": 45,
      "outputs": []
    },
    {
      "cell_type": "code",
      "source": [
        "model.compile(loss='SparseCategoricalCrossentropy',\n",
        "              optimizer='adam',\n",
        "              metrics=['accuracy'])"
      ],
      "metadata": {
        "id": "YO2ft7hWy1ae"
      },
      "execution_count": 46,
      "outputs": []
    },
    {
      "cell_type": "code",
      "source": [
        "history = model.fit(x_train, y_train,\n",
        "                    batch_size=batch_size,\n",
        "                    epochs=epochs,\n",
        "                    verbose=1,\n",
        "                    validation_split=0.1)"
      ],
      "metadata": {
        "colab": {
          "base_uri": "https://localhost:8080/"
        },
        "id": "1pYnWMS445fO",
        "outputId": "cf62ac9d-a3b6-4de3-a165-a24a4c6917c0"
      },
      "execution_count": 47,
      "outputs": [
        {
          "output_type": "stream",
          "name": "stdout",
          "text": [
            "Epoch 1/5\n",
            "390/390 [==============================] - 150s 372ms/step - loss: 0.7725 - accuracy: 0.7446 - val_loss: 0.6619 - val_accuracy: 0.7661\n",
            "Epoch 2/5\n",
            "390/390 [==============================] - 144s 369ms/step - loss: 0.6102 - accuracy: 0.7898 - val_loss: 0.6343 - val_accuracy: 0.7812\n",
            "Epoch 3/5\n",
            "390/390 [==============================] - 144s 368ms/step - loss: 0.5250 - accuracy: 0.8202 - val_loss: 0.6920 - val_accuracy: 0.7718\n",
            "Epoch 4/5\n",
            "390/390 [==============================] - 142s 363ms/step - loss: 0.4549 - accuracy: 0.8459 - val_loss: 0.7367 - val_accuracy: 0.7718\n",
            "Epoch 5/5\n",
            "390/390 [==============================] - 147s 378ms/step - loss: 0.3998 - accuracy: 0.8698 - val_loss: 0.7687 - val_accuracy: 0.7668\n"
          ]
        }
      ]
    },
    {
      "cell_type": "code",
      "source": [
        "pred = model.predict(x_test, batch_size=batch_size)\n",
        "pred_label = []\n",
        "for i in pred:\n",
        "    pred_label.append(np.argmax(i))"
      ],
      "metadata": {
        "id": "nxG3D6jG_Vim"
      },
      "execution_count": 48,
      "outputs": []
    },
    {
      "cell_type": "code",
      "source": [
        "print(classification_report(y_test, pred_label))"
      ],
      "metadata": {
        "colab": {
          "base_uri": "https://localhost:8080/"
        },
        "id": "mLg34a-S_eU4",
        "outputId": "08c01414-9be0-44df-a78c-476c155aa2d9"
      },
      "execution_count": 49,
      "outputs": [
        {
          "output_type": "stream",
          "name": "stdout",
          "text": [
            "              precision    recall  f1-score   support\n",
            "\n",
            "           0       0.54      0.62      0.57       751\n",
            "           1       0.14      0.15      0.14       247\n",
            "           2       0.19      0.14      0.16       301\n",
            "           3       0.29      0.15      0.20       705\n",
            "           4       0.88      0.93      0.90      4814\n",
            "\n",
            "    accuracy                           0.75      6818\n",
            "   macro avg       0.41      0.40      0.40      6818\n",
            "weighted avg       0.72      0.75      0.73      6818\n",
            "\n"
          ]
        }
      ]
    },
    {
      "cell_type": "code",
      "source": [
        "conf_matrix = confusion_matrix(y_test, pred_label)\n",
        "disp = ConfusionMatrixDisplay(confusion_matrix=conf_matrix, display_labels=[0,1,2,3,4])\n",
        "\n",
        "fig, ax = plt.subplots(figsize=(16,16))\n",
        "disp.plot(ax=ax)\n",
        "plt.show()"
      ],
      "metadata": {
        "colab": {
          "base_uri": "https://localhost:8080/",
          "height": 901
        },
        "id": "Rq6gEa3H_kN-",
        "outputId": "83a8e7b1-ce56-4d45-90b7-b5def2495233"
      },
      "execution_count": 50,
      "outputs": [
        {
          "output_type": "display_data",
          "data": {
            "text/plain": [
              "<Figure size 1152x1152 with 2 Axes>"
            ],
            "image/png": "[encoded data removed]"
          },
          "metadata": {
            "needs_background": "light"
          }
        }
      ]
    },
    {
      "cell_type": "markdown",
      "source": [
        "## Делаем третью часть задания\n",
        "построить совместные архитектуры CNN -> RNN"
      ],
      "metadata": {
        "id": "PS0Pdr_C_w9w"
      }
    },
    {
      "cell_type": "code",
      "source": [
        "model = Sequential()\n",
        "model.add(\n",
        "    Embedding(input_dim=len(vocabulary)+1,\n",
        "              input_length=max_len,\n",
        "              output_dim=256,\n",
        "              trainable=True,\n",
        "              mask_zero=True))\n",
        "model.add(Masking(mask_value=0.0))\n",
        "model.add(Conv1D(128, 4))\n",
        "model.add(Activation(\"relu\"))\n",
        "model.add(Conv1D(256, 3))\n",
        "model.add(Activation(\"relu\"))\n",
        "model.add(Conv1D(256, 2))\n",
        "model.add(Activation(\"relu\"))\n",
        "#model.add(GlobalMaxPool1D())\n",
        "model.add(Bidirectional(LSTM(64, recurrent_dropout=0.35, input_shape=(batch_size, 256))))\n",
        "model.add(Dropout(0.4))\n",
        "model.add(Dense(128))\n",
        "model.add(Activation(\"relu\"))\n",
        "model.add(Dropout(0.25))\n",
        "model.add(Dense(num_classes))\n",
        "model.add(Activation('softmax'))"
      ],
      "metadata": {
        "id": "gpB83iCW_sxY"
      },
      "execution_count": 56,
      "outputs": []
    },
    {
      "cell_type": "code",
      "source": [
        "model.compile(loss='SparseCategoricalCrossentropy',\n",
        "              optimizer='adam',\n",
        "              metrics=['accuracy'])"
      ],
      "metadata": {
        "id": "9wwEF4zkAa7f"
      },
      "execution_count": 57,
      "outputs": []
    },
    {
      "cell_type": "code",
      "source": [
        "history = model.fit(x_train, y_train,\n",
        "                    batch_size=batch_size,\n",
        "                    epochs=epochs,\n",
        "                    verbose=1,\n",
        "                    validation_split=0.1)"
      ],
      "metadata": {
        "colab": {
          "base_uri": "https://localhost:8080/"
        },
        "id": "em-Y1Gf3AeoR",
        "outputId": "f0f4faed-f34c-4785-f47f-1efcad8d07e7"
      },
      "execution_count": 58,
      "outputs": [
        {
          "output_type": "stream",
          "name": "stdout",
          "text": [
            "Epoch 1/5\n",
            "390/390 [==============================] - 198s 493ms/step - loss: 0.7384 - accuracy: 0.7518 - val_loss: 0.6629 - val_accuracy: 0.7733\n",
            "Epoch 2/5\n",
            "390/390 [==============================] - 184s 471ms/step - loss: 0.6181 - accuracy: 0.7850 - val_loss: 0.6596 - val_accuracy: 0.7718\n",
            "Epoch 3/5\n",
            "390/390 [==============================] - 184s 472ms/step - loss: 0.5481 - accuracy: 0.8101 - val_loss: 0.6873 - val_accuracy: 0.7646\n",
            "Epoch 4/5\n",
            "390/390 [==============================] - 183s 470ms/step - loss: 0.4822 - accuracy: 0.8332 - val_loss: 0.7465 - val_accuracy: 0.7422\n",
            "Epoch 5/5\n",
            "390/390 [==============================] - 200s 512ms/step - loss: 0.4347 - accuracy: 0.8517 - val_loss: 0.7807 - val_accuracy: 0.7466\n"
          ]
        }
      ]
    },
    {
      "cell_type": "code",
      "source": [
        "pred = model.predict(x_test, batch_size=batch_size)\n",
        "pred_label = []\n",
        "for i in pred:\n",
        "    pred_label.append(np.argmax(i))"
      ],
      "metadata": {
        "id": "blmRqVGBBL__"
      },
      "execution_count": 59,
      "outputs": []
    },
    {
      "cell_type": "code",
      "source": [
        "print(classification_report(y_test, pred_label))"
      ],
      "metadata": {
        "colab": {
          "base_uri": "https://localhost:8080/"
        },
        "id": "Wb2EzELFBMCd",
        "outputId": "531bab8d-b20e-47ef-a06f-f7476120a9c3"
      },
      "execution_count": 60,
      "outputs": [
        {
          "output_type": "stream",
          "name": "stdout",
          "text": [
            "              precision    recall  f1-score   support\n",
            "\n",
            "           0       0.58      0.52      0.55       751\n",
            "           1       0.19      0.18      0.18       247\n",
            "           2       0.18      0.11      0.14       301\n",
            "           3       0.27      0.25      0.25       705\n",
            "           4       0.88      0.93      0.90      4814\n",
            "\n",
            "    accuracy                           0.75      6818\n",
            "   macro avg       0.42      0.40      0.41      6818\n",
            "weighted avg       0.73      0.75      0.74      6818\n",
            "\n"
          ]
        }
      ]
    },
    {
      "cell_type": "code",
      "source": [
        "conf_matrix = confusion_matrix(y_test, pred_label)\n",
        "disp = ConfusionMatrixDisplay(confusion_matrix=conf_matrix, display_labels=[0,1,2,3,4])\n",
        "\n",
        "fig, ax = plt.subplots(figsize=(16,16))\n",
        "disp.plot(ax=ax)\n",
        "plt.show()"
      ],
      "metadata": {
        "colab": {
          "base_uri": "https://localhost:8080/",
          "height": 901
        },
        "id": "_0L2OsV2BME6",
        "outputId": "59204076-b4c7-418b-b77e-466e29acc6aa"
      },
      "execution_count": 61,
      "outputs": [
        {
          "output_type": "display_data",
          "data": {
            "text/plain": [
              "<Figure size 1152x1152 with 2 Axes>"
            ],
            "image/png": "[encoded data removed]"
          },
          "metadata": {
            "needs_background": "light"
          }
        }
      ]
    },
    {
      "cell_type": "markdown",
      "source": [
        "## 3. построить совместные архитектуры RNN -> CNN"
      ],
      "metadata": {
        "id": "Yz2_8Ou_yuaf"
      }
    },
    {
      "cell_type": "code",
      "source": [
        "from keras.layers import Bidirectional, MaxPooling1D, Flatten\n",
        "\n",
        "model = Sequential()\n",
        "model.add(\n",
        "    Embedding(input_dim=len(vocabulary)+1,\n",
        "              input_length=max_len,\n",
        "              output_dim=128,\n",
        "              trainable=True,\n",
        "              mask_zero=True))\n",
        "model.add(Bidirectional(LSTM(20, return_sequences=True), \n",
        "                 input_shape=(max_len, 128)))\n",
        "model.add(Bidirectional(LSTM(20, return_sequences=True)))\n",
        "model.add(MaxPooling1D(pool_size=2))\n",
        "model.add(Conv1D(64, 3, activation='relu', padding='same'))\n",
        "model.add(Conv1D(64, 3, padding='same', activation='relu'))\n",
        "model.add(Flatten())\n",
        "model.add(Dropout(0.4))\n",
        "model.add(Dense(128))\n",
        "model.add(Activation(\"relu\"))\n",
        "model.add(Dropout(0.25))\n",
        "model.add(Dense(num_classes))\n",
        "model.add(Activation('softmax'))"
      ],
      "metadata": {
        "id": "Z2H91fUfvZLD"
      },
      "execution_count": 51,
      "outputs": []
    },
    {
      "cell_type": "code",
      "source": [
        "model.compile(loss='SparseCategoricalCrossentropy',\n",
        "              optimizer='adam',\n",
        "              metrics=['accuracy'])"
      ],
      "metadata": {
        "id": "iLaq9VPaFR4z"
      },
      "execution_count": 52,
      "outputs": []
    },
    {
      "cell_type": "code",
      "source": [
        "input_shape=(batch_size, 128)"
      ],
      "metadata": {
        "id": "GdhowV3Ap-6R"
      },
      "execution_count": null,
      "outputs": []
    },
    {
      "cell_type": "code",
      "source": [
        "history = model.fit(x_train, y_train,\n",
        "                    batch_size=batch_size,\n",
        "                    epochs=epochs,\n",
        "                    verbose=1,\n",
        "                    validation_split=0.1)"
      ],
      "metadata": {
        "colab": {
          "base_uri": "https://localhost:8080/"
        },
        "id": "pFz5kgvpFSHY",
        "outputId": "4d5cdbc5-964b-4744-c93c-4d9c61f54350"
      },
      "execution_count": 53,
      "outputs": [
        {
          "output_type": "stream",
          "name": "stdout",
          "text": [
            "Epoch 1/5\n",
            "390/390 [==============================] - 122s 269ms/step - loss: 0.7414 - accuracy: 0.7512 - val_loss: 0.6639 - val_accuracy: 0.7711\n",
            "Epoch 2/5\n",
            "390/390 [==============================] - 91s 234ms/step - loss: 0.6140 - accuracy: 0.7856 - val_loss: 0.6723 - val_accuracy: 0.7711\n",
            "Epoch 3/5\n",
            "390/390 [==============================] - 105s 268ms/step - loss: 0.5451 - accuracy: 0.8079 - val_loss: 0.7050 - val_accuracy: 0.7653\n",
            "Epoch 4/5\n",
            "390/390 [==============================] - 106s 272ms/step - loss: 0.4942 - accuracy: 0.8227 - val_loss: 0.7253 - val_accuracy: 0.7610\n",
            "Epoch 5/5\n",
            "390/390 [==============================] - 94s 241ms/step - loss: 0.4471 - accuracy: 0.8462 - val_loss: 0.7807 - val_accuracy: 0.7386\n"
          ]
        }
      ]
    },
    {
      "cell_type": "code",
      "source": [
        "x_test = np.asarray([text_to_sequence(text, max_len) for text in x_test], dtype=np.int32)"
      ],
      "metadata": {
        "id": "WjhbdFlpxjns"
      },
      "execution_count": 54,
      "outputs": []
    },
    {
      "cell_type": "code",
      "source": [
        "pred = model.predict(x_test, batch_size=batch_size)\n",
        "pred_label = []\n",
        "for i in pred:\n",
        "    pred_label.append(np.argmax(i))"
      ],
      "metadata": {
        "id": "f35_teRlxghe"
      },
      "execution_count": 55,
      "outputs": []
    },
    {
      "cell_type": "code",
      "source": [
        "import matplotlib.pyplot as plt\n",
        "from sklearn.metrics import confusion_matrix, ConfusionMatrixDisplay, classification_report\n",
        "\n",
        "print(classification_report(y_test, pred_label))"
      ],
      "metadata": {
        "colab": {
          "base_uri": "https://localhost:8080/"
        },
        "id": "QVoNOBBJxqZp",
        "outputId": "246668f5-5bf9-4d2c-977d-22ddf0d5edb1"
      },
      "execution_count": 57,
      "outputs": [
        {
          "output_type": "stream",
          "name": "stdout",
          "text": [
            "              precision    recall  f1-score   support\n",
            "\n",
            "           0       0.52      0.62      0.56       751\n",
            "           1       0.14      0.14      0.14       247\n",
            "           2       0.23      0.15      0.18       301\n",
            "           3       0.26      0.26      0.26       705\n",
            "           4       0.90      0.90      0.90      4814\n",
            "\n",
            "    accuracy                           0.74      6818\n",
            "   macro avg       0.41      0.41      0.41      6818\n",
            "weighted avg       0.74      0.74      0.74      6818\n",
            "\n"
          ]
        }
      ]
    },
    {
      "cell_type": "code",
      "source": [
        "conf_matrix = confusion_matrix(y_test, pred_label)\n",
        "disp = ConfusionMatrixDisplay(confusion_matrix=conf_matrix, display_labels=[0,1,2,3,4])\n",
        "\n",
        "fig, ax = plt.subplots(figsize=(16,16))\n",
        "disp.plot(ax=ax)\n",
        "plt.show()"
      ],
      "metadata": {
        "colab": {
          "base_uri": "https://localhost:8080/",
          "height": 901
        },
        "id": "PiiJTSw_xxWy",
        "outputId": "acce24ce-4dca-4639-f58e-8ab28e7402d9"
      },
      "execution_count": 58,
      "outputs": [
        {
          "output_type": "display_data",
          "data": {
            "text/plain": [
              "<Figure size 1152x1152 with 2 Axes>"
            ],
            "image/png": "[encoded data removed]"
          },
          "metadata": {
            "needs_background": "light"
          }
        }
      ]
    }
  ]
}