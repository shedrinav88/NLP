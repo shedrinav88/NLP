{
  "nbformat": 4,
  "nbformat_minor": 0,
  "metadata": {
    "colab": {
      "name": "hw_3_NLP.ipynb",
      "provenance": [],
      "collapsed_sections": []
    },
    "kernelspec": {
      "name": "python3",
      "display_name": "Python 3"
    },
    "language_info": {
      "name": "python"
    }
  },
  "cells": [
    {
      "cell_type": "markdown",
      "source": [
        "Задача поиск похожих по эмбеддингам\n",
        "\n",
        "Скачиваем датасет (источник): положительные, отрицательные.\n",
        "\n",
        "или можно через ноутбук"
      ],
      "metadata": {
        "id": "iKZ6F_2Wdnqs"
      }
    },
    {
      "cell_type": "code",
      "execution_count": 1,
      "metadata": {
        "colab": {
          "base_uri": "https://localhost:8080/"
        },
        "id": "rhgtDIsFdk72",
        "outputId": "d62daff8-d805-4076-b2be-a3101a10410c"
      },
      "outputs": [
        {
          "output_type": "stream",
          "name": "stdout",
          "text": [
            "--2022-06-09 03:08:34--  https://www.dropbox.com/s/fnpq3z4bcnoktiv/positive.csv\n",
            "Resolving www.dropbox.com (www.dropbox.com)... 162.125.1.18, 2620:100:6016:18::a27d:112\n",
            "Connecting to www.dropbox.com (www.dropbox.com)|162.125.1.18|:443... connected.\n",
            "HTTP request sent, awaiting response... 301 Moved Permanently\n",
            "Location: /s/raw/fnpq3z4bcnoktiv/positive.csv [following]\n",
            "--2022-06-09 03:08:35--  https://www.dropbox.com/s/raw/fnpq3z4bcnoktiv/positive.csv\n",
            "Reusing existing connection to www.dropbox.com:443.\n",
            "HTTP request sent, awaiting response... 302 Found\n",
            "Location: https://uc36cc26ce61358784b12055577f.dl.dropboxusercontent.com/cd/0/inline/Bm0JG7MQrWhGLP7LsCutcpsEuzpi0n6HRfTtulKhs7M4ZcNxTqbpp_NCScUeSz4NQOJDLe1FKZ5pXDEG80zcdNAe1gQ-bYlVIYFrlltDMEcEUJuLwHR_D_XOIIZ2dIyYuV1WJknfEYFABG0o6dGYMwPHwYPGtnJrKkyma0mYRfkTxA/file# [following]\n",
            "--2022-06-09 03:08:35--  https://uc36cc26ce61358784b12055577f.dl.dropboxusercontent.com/cd/0/inline/Bm0JG7MQrWhGLP7LsCutcpsEuzpi0n6HRfTtulKhs7M4ZcNxTqbpp_NCScUeSz4NQOJDLe1FKZ5pXDEG80zcdNAe1gQ-bYlVIYFrlltDMEcEUJuLwHR_D_XOIIZ2dIyYuV1WJknfEYFABG0o6dGYMwPHwYPGtnJrKkyma0mYRfkTxA/file\n",
            "Resolving uc36cc26ce61358784b12055577f.dl.dropboxusercontent.com (uc36cc26ce61358784b12055577f.dl.dropboxusercontent.com)... 162.125.1.15, 2620:100:6016:15::a27d:10f\n",
            "Connecting to uc36cc26ce61358784b12055577f.dl.dropboxusercontent.com (uc36cc26ce61358784b12055577f.dl.dropboxusercontent.com)|162.125.1.15|:443... connected.\n",
            "HTTP request sent, awaiting response... 200 OK\n",
            "Length: 26233379 (25M) [text/plain]\n",
            "Saving to: ‘positive.csv’\n",
            "\n",
            "positive.csv        100%[===================>]  25.02M   135MB/s    in 0.2s    \n",
            "\n",
            "2022-06-09 03:08:36 (135 MB/s) - ‘positive.csv’ saved [26233379/26233379]\n",
            "\n",
            "--2022-06-09 03:08:36--  https://www.dropbox.com/s/r6u59ljhhjdg6j0/negative.csv\n",
            "Resolving www.dropbox.com (www.dropbox.com)... 162.125.1.18, 2620:100:6016:18::a27d:112\n",
            "Connecting to www.dropbox.com (www.dropbox.com)|162.125.1.18|:443... connected.\n",
            "HTTP request sent, awaiting response... 301 Moved Permanently\n",
            "Location: /s/raw/r6u59ljhhjdg6j0/negative.csv [following]\n",
            "--2022-06-09 03:08:36--  https://www.dropbox.com/s/raw/r6u59ljhhjdg6j0/negative.csv\n",
            "Reusing existing connection to www.dropbox.com:443.\n",
            "HTTP request sent, awaiting response... 302 Found\n",
            "Location: https://uc9784180db0571c4388bfb704c6.dl.dropboxusercontent.com/cd/0/inline/Bm11k0Ghcy_iEmwfHXsDfC7gT-Xo9-TPcfGnKKof74SqZgbAHCaftWK8RC0PdUE4wPYG312Wr7XTtiSNoVHMKJbm1nzLz0TDmxcIwdAxDzmPFu19KC3caZklSVQMmshe-i755DYRYwRdER3SC5lHMgns0ir5OxONC2rI1ZBRNn_0ew/file# [following]\n",
            "--2022-06-09 03:08:36--  https://uc9784180db0571c4388bfb704c6.dl.dropboxusercontent.com/cd/0/inline/Bm11k0Ghcy_iEmwfHXsDfC7gT-Xo9-TPcfGnKKof74SqZgbAHCaftWK8RC0PdUE4wPYG312Wr7XTtiSNoVHMKJbm1nzLz0TDmxcIwdAxDzmPFu19KC3caZklSVQMmshe-i755DYRYwRdER3SC5lHMgns0ir5OxONC2rI1ZBRNn_0ew/file\n",
            "Resolving uc9784180db0571c4388bfb704c6.dl.dropboxusercontent.com (uc9784180db0571c4388bfb704c6.dl.dropboxusercontent.com)... 162.125.1.15, 2620:100:6016:15::a27d:10f\n",
            "Connecting to uc9784180db0571c4388bfb704c6.dl.dropboxusercontent.com (uc9784180db0571c4388bfb704c6.dl.dropboxusercontent.com)|162.125.1.15|:443... connected.\n",
            "HTTP request sent, awaiting response... 200 OK\n",
            "Length: 24450101 (23M) [text/plain]\n",
            "Saving to: ‘negative.csv’\n",
            "\n",
            "negative.csv        100%[===================>]  23.32M  66.4MB/s    in 0.4s    \n",
            "\n",
            "2022-06-09 03:08:37 (66.4 MB/s) - ‘negative.csv’ saved [24450101/24450101]\n",
            "\n"
          ]
        }
      ],
      "source": [
        "!wget https://www.dropbox.com/s/fnpq3z4bcnoktiv/positive.csv\n",
        "!wget https://www.dropbox.com/s/r6u59ljhhjdg6j0/negative.csv"
      ]
    },
    {
      "cell_type": "markdown",
      "source": [
        "#Что надо сделать\n",
        "1. объединить в одну выборку"
      ],
      "metadata": {
        "id": "NBPJthZjd0_D"
      }
    },
    {
      "cell_type": "code",
      "source": [
        "import pandas as pd\n",
        "import numpy as np\n",
        "from sklearn.metrics import *\n",
        "from sklearn.model_selection import train_test_split\n",
        "from sklearn.pipeline import Pipeline"
      ],
      "metadata": {
        "id": "pGoRXlVvds-D"
      },
      "execution_count": 2,
      "outputs": []
    },
    {
      "cell_type": "code",
      "source": [
        "# считываем данные и заполняем общий датасет\n",
        "positive = pd.read_csv('positive.csv', sep=';', usecols=[3], names=['text'])\n",
        "negative = pd.read_csv('negative.csv', sep=';', usecols=[3], names=['text'])\n",
        "df = positive.append(negative)"
      ],
      "metadata": {
        "id": "3dI2W_yXeBq7"
      },
      "execution_count": 3,
      "outputs": []
    },
    {
      "cell_type": "code",
      "source": [
        "df.tail()"
      ],
      "metadata": {
        "colab": {
          "base_uri": "https://localhost:8080/",
          "height": 206
        },
        "id": "sWT7z5rceIUH",
        "outputId": "56f78a2b-5ee1-4f8d-a623-8ba3f26ad0b7"
      },
      "execution_count": 4,
      "outputs": [
        {
          "output_type": "execute_result",
          "data": {
            "text/plain": [
              "                                                     text\n",
              "111918  Но не каждый хочет что то исправлять:( http://...\n",
              "111919  скучаю так :-( только @taaannyaaa вправляет мо...\n",
              "111920          Вот и в школу, в говно это идти уже надо(\n",
              "111921  RT @_Them__: @LisaBeroud Тауриэль, не грусти :...\n",
              "111922  Такси везет меня на работу. Раздумываю приплат..."
            ],
            "text/html": [
              "\n",
              "  <div id=\"df-d815d265-59bd-45c1-80a0-a7289bf83622\">\n",
              "    <div class=\"colab-df-container\">\n",
              "      <div>\n",
              "<style scoped>\n",
              "    .dataframe tbody tr th:only-of-type {\n",
              "        vertical-align: middle;\n",
              "    }\n",
              "\n",
              "    .dataframe tbody tr th {\n",
              "        vertical-align: top;\n",
              "    }\n",
              "\n",
              "    .dataframe thead th {\n",
              "        text-align: right;\n",
              "    }\n",
              "</style>\n",
              "<table border=\"1\" class=\"dataframe\">\n",
              "  <thead>\n",
              "    <tr style=\"text-align: right;\">\n",
              "      <th></th>\n",
              "      <th>text</th>\n",
              "    </tr>\n",
              "  </thead>\n",
              "  <tbody>\n",
              "    <tr>\n",
              "      <th>111918</th>\n",
              "      <td>Но не каждый хочет что то исправлять:( http://...</td>\n",
              "    </tr>\n",
              "    <tr>\n",
              "      <th>111919</th>\n",
              "      <td>скучаю так :-( только @taaannyaaa вправляет мо...</td>\n",
              "    </tr>\n",
              "    <tr>\n",
              "      <th>111920</th>\n",
              "      <td>Вот и в школу, в говно это идти уже надо(</td>\n",
              "    </tr>\n",
              "    <tr>\n",
              "      <th>111921</th>\n",
              "      <td>RT @_Them__: @LisaBeroud Тауриэль, не грусти :...</td>\n",
              "    </tr>\n",
              "    <tr>\n",
              "      <th>111922</th>\n",
              "      <td>Такси везет меня на работу. Раздумываю приплат...</td>\n",
              "    </tr>\n",
              "  </tbody>\n",
              "</table>\n",
              "</div>\n",
              "      <button class=\"colab-df-convert\" onclick=\"convertToInteractive('df-d815d265-59bd-45c1-80a0-a7289bf83622')\"\n",
              "              title=\"Convert this dataframe to an interactive table.\"\n",
              "              style=\"display:none;\">\n",
              "        \n",
              "  <svg xmlns=\"http://www.w3.org/2000/svg\" height=\"24px\"viewBox=\"0 0 24 24\"\n",
              "       width=\"24px\">\n",
              "    <path d=\"M0 0h24v24H0V0z\" fill=\"none\"/>\n",
              "    <path d=\"M18.56 5.44l.94 2.06.94-2.06 2.06-.94-2.06-.94-.94-2.06-.94 2.06-2.06.94zm-11 1L8.5 8.5l.94-2.06 2.06-.94-2.06-.94L8.5 2.5l-.94 2.06-2.06.94zm10 10l.94 2.06.94-2.06 2.06-.94-2.06-.94-.94-2.06-.94 2.06-2.06.94z\"/><path d=\"M17.41 7.96l-1.37-1.37c-.4-.4-.92-.59-1.43-.59-.52 0-1.04.2-1.43.59L10.3 9.45l-7.72 7.72c-.78.78-.78 2.05 0 2.83L4 21.41c.39.39.9.59 1.41.59.51 0 1.02-.2 1.41-.59l7.78-7.78 2.81-2.81c.8-.78.8-2.07 0-2.86zM5.41 20L4 18.59l7.72-7.72 1.47 1.35L5.41 20z\"/>\n",
              "  </svg>\n",
              "      </button>\n",
              "      \n",
              "  <style>\n",
              "    .colab-df-container {\n",
              "      display:flex;\n",
              "      flex-wrap:wrap;\n",
              "      gap: 12px;\n",
              "    }\n",
              "\n",
              "    .colab-df-convert {\n",
              "      background-color: #E8F0FE;\n",
              "      border: none;\n",
              "      border-radius: 50%;\n",
              "      cursor: pointer;\n",
              "      display: none;\n",
              "      fill: #1967D2;\n",
              "      height: 32px;\n",
              "      padding: 0 0 0 0;\n",
              "      width: 32px;\n",
              "    }\n",
              "\n",
              "    .colab-df-convert:hover {\n",
              "      background-color: #E2EBFA;\n",
              "      box-shadow: 0px 1px 2px rgba(60, 64, 67, 0.3), 0px 1px 3px 1px rgba(60, 64, 67, 0.15);\n",
              "      fill: #174EA6;\n",
              "    }\n",
              "\n",
              "    [theme=dark] .colab-df-convert {\n",
              "      background-color: #3B4455;\n",
              "      fill: #D2E3FC;\n",
              "    }\n",
              "\n",
              "    [theme=dark] .colab-df-convert:hover {\n",
              "      background-color: #434B5C;\n",
              "      box-shadow: 0px 1px 3px 1px rgba(0, 0, 0, 0.15);\n",
              "      filter: drop-shadow(0px 1px 2px rgba(0, 0, 0, 0.3));\n",
              "      fill: #FFFFFF;\n",
              "    }\n",
              "  </style>\n",
              "\n",
              "      <script>\n",
              "        const buttonEl =\n",
              "          document.querySelector('#df-d815d265-59bd-45c1-80a0-a7289bf83622 button.colab-df-convert');\n",
              "        buttonEl.style.display =\n",
              "          google.colab.kernel.accessAllowed ? 'block' : 'none';\n",
              "\n",
              "        async function convertToInteractive(key) {\n",
              "          const element = document.querySelector('#df-d815d265-59bd-45c1-80a0-a7289bf83622');\n",
              "          const dataTable =\n",
              "            await google.colab.kernel.invokeFunction('convertToInteractive',\n",
              "                                                     [key], {});\n",
              "          if (!dataTable) return;\n",
              "\n",
              "          const docLinkHtml = 'Like what you see? Visit the ' +\n",
              "            '<a target=\"_blank\" href=https://colab.research.google.com/notebooks/data_table.ipynb>data table notebook</a>'\n",
              "            + ' to learn more about interactive tables.';\n",
              "          element.innerHTML = '';\n",
              "          dataTable['output_type'] = 'display_data';\n",
              "          await google.colab.output.renderOutput(dataTable, element);\n",
              "          const docLink = document.createElement('div');\n",
              "          docLink.innerHTML = docLinkHtml;\n",
              "          element.appendChild(docLink);\n",
              "        }\n",
              "      </script>\n",
              "    </div>\n",
              "  </div>\n",
              "  "
            ]
          },
          "metadata": {},
          "execution_count": 4
        }
      ]
    },
    {
      "cell_type": "markdown",
      "source": [
        "2. на основе word2vec/fasttext/glove/слоя Embedding реализовать метод поиска ближайших твитов\n",
        "(на вход метода должен приходить запрос (какой-то твит, вопрос) и количество вариантов вывода к примеру 5-ть, ваш метод должен возвращать 5-ть ближайших твитов к этому запросу)"
      ],
      "metadata": {
        "id": "FJ7Y8T3UeRIJ"
      }
    },
    {
      "cell_type": "markdown",
      "source": [
        "Сначала хочу поиграться с русскоязычными векторайзерами"
      ],
      "metadata": {
        "id": "KvZKVUF-kTu5"
      }
    },
    {
      "cell_type": "code",
      "source": [
        "import gensim.downloader as api\n",
        "\n",
        "api.info()['models'].keys()"
      ],
      "metadata": {
        "colab": {
          "base_uri": "https://localhost:8080/"
        },
        "id": "kixahk-7eSXy",
        "outputId": "39ed4842-629c-4a5e-cbc7-0fea4e19815e"
      },
      "execution_count": 5,
      "outputs": [
        {
          "output_type": "execute_result",
          "data": {
            "text/plain": [
              "dict_keys(['fasttext-wiki-news-subwords-300', 'conceptnet-numberbatch-17-06-300', 'word2vec-ruscorpora-300', 'word2vec-google-news-300', 'glove-wiki-gigaword-50', 'glove-wiki-gigaword-100', 'glove-wiki-gigaword-200', 'glove-wiki-gigaword-300', 'glove-twitter-25', 'glove-twitter-50', 'glove-twitter-100', 'glove-twitter-200', '__testing_word2vec-matrix-synopsis'])"
            ]
          },
          "metadata": {},
          "execution_count": 5
        }
      ]
    },
    {
      "cell_type": "code",
      "source": [
        "import gensim.downloader as api\n",
        "\n",
        "word_vectors = api.load('word2vec-ruscorpora-300')  # загрузим предтренированные вектора слов из gensim-data"
      ],
      "metadata": {
        "id": "w7WLKvy_fxJb",
        "colab": {
          "base_uri": "https://localhost:8080/"
        },
        "outputId": "ec430352-59a3-4f83-e3fb-0916a0af218c"
      },
      "execution_count": 6,
      "outputs": [
        {
          "output_type": "stream",
          "name": "stdout",
          "text": [
            "[==================================================] 100.0% 198.8/198.8MB downloaded\n"
          ]
        }
      ]
    },
    {
      "cell_type": "code",
      "source": [
        "# выведим слово наиболее близкое к 'женщина', 'король' и далекое от 'мужчина'\n",
        "result = word_vectors.most_similar(positive=['женщина_NOUN', 'король_NOUN'], negative=['мужчина_NOUN'])\n",
        "print(\"{}: {:.4f}\".format(*result[0]))"
      ],
      "metadata": {
        "colab": {
          "base_uri": "https://localhost:8080/"
        },
        "id": "Zp5q8bCUZObS",
        "outputId": "3344768d-c896-43a7-84c5-64d578188b15"
      },
      "execution_count": 7,
      "outputs": [
        {
          "output_type": "stream",
          "name": "stdout",
          "text": [
            "королева_NOUN: 0.7314\n"
          ]
        }
      ]
    },
    {
      "cell_type": "code",
      "source": [
        "# определим схожесть между словами\n",
        "similarity = word_vectors.similarity('кот_NOUN', 'собака_NOUN')\n",
        "print(similarity)\n",
        "\n",
        "similarity = word_vectors.similarity('водка_NOUN', 'коньяк_NOUN')\n",
        "print(similarity)\n",
        "\n",
        "similarity = word_vectors.similarity('кот_NOUN', 'коньяк_NOUN')\n",
        "print(similarity)"
      ],
      "metadata": {
        "colab": {
          "base_uri": "https://localhost:8080/"
        },
        "id": "X3Vjz_uTheY2",
        "outputId": "816ce9c4-3af9-4323-c76e-8858a918dc96"
      },
      "execution_count": 8,
      "outputs": [
        {
          "output_type": "stream",
          "name": "stdout",
          "text": [
            "0.55678993\n",
            "0.78255457\n",
            "0.17411722\n"
          ]
        }
      ]
    },
    {
      "cell_type": "code",
      "source": [
        "# найдем top-3 самых близких слов\n",
        "result = word_vectors.similar_by_word(\"гонка_NOUN\", topn=3)\n",
        "print(result)\n",
        "\n",
        "result = word_vectors.similar_by_word(\"акула_NOUN\", topn=3)\n",
        "print(result)\n",
        "\n",
        "result = word_vectors.similar_by_word(\"жимолость_NOUN\", topn=3)\n",
        "print(result)"
      ],
      "metadata": {
        "colab": {
          "base_uri": "https://localhost:8080/"
        },
        "id": "kKscy7tdiRPW",
        "outputId": "0ad13261-3d99-4cce-c201-f16f8f1f9c2f"
      },
      "execution_count": 9,
      "outputs": [
        {
          "output_type": "stream",
          "name": "stdout",
          "text": [
            "[('гонки_NOUN', 0.7330766916275024), ('гонщик_NOUN', 0.6996685266494751), ('брэндс::хэтч_NOUN', 0.6618280410766602)]\n",
            "[('барракуда_NOUN', 0.635097086429596), ('групер_NOUN', 0.618218183517456), ('меч-рыба_NOUN', 0.6097476482391357)]\n",
            "[('магония_NOUN', 0.6694105863571167), ('пузыреплодник_NOUN', 0.6618051528930664), ('актинидия_NOUN', 0.6587378978729248)]\n"
          ]
        }
      ]
    },
    {
      "cell_type": "markdown",
      "source": [
        "Теперь начинаем выполнять задание"
      ],
      "metadata": {
        "id": "BajlYOYhkctm"
      }
    },
    {
      "cell_type": "code",
      "source": [
        "!pip install pymorphy2"
      ],
      "metadata": {
        "colab": {
          "base_uri": "https://localhost:8080/"
        },
        "id": "A4vwYzGCioaC",
        "outputId": "b6a93492-48b8-4494-ebf8-60f04c259d8b"
      },
      "execution_count": 10,
      "outputs": [
        {
          "output_type": "stream",
          "name": "stdout",
          "text": [
            "Looking in indexes: https://pypi.org/simple, https://us-python.pkg.dev/colab-wheels/public/simple/\n",
            "Collecting pymorphy2\n",
            "  Downloading pymorphy2-0.9.1-py3-none-any.whl (55 kB)\n",
            "\u001b[K     |████████████████████████████████| 55 kB 2.3 MB/s \n",
            "\u001b[?25hCollecting dawg-python>=0.7.1\n",
            "  Downloading DAWG_Python-0.7.2-py2.py3-none-any.whl (11 kB)\n",
            "Collecting pymorphy2-dicts-ru<3.0,>=2.4\n",
            "  Downloading pymorphy2_dicts_ru-2.4.417127.4579844-py2.py3-none-any.whl (8.2 MB)\n",
            "\u001b[K     |████████████████████████████████| 8.2 MB 16.0 MB/s \n",
            "\u001b[?25hRequirement already satisfied: docopt>=0.6 in /usr/local/lib/python3.7/dist-packages (from pymorphy2) (0.6.2)\n",
            "Installing collected packages: pymorphy2-dicts-ru, dawg-python, pymorphy2\n",
            "Successfully installed dawg-python-0.7.2 pymorphy2-0.9.1 pymorphy2-dicts-ru-2.4.417127.4579844\n"
          ]
        }
      ]
    },
    {
      "cell_type": "code",
      "source": [
        "!pip install stop_words"
      ],
      "metadata": {
        "colab": {
          "base_uri": "https://localhost:8080/"
        },
        "id": "FCUHCHCGizXz",
        "outputId": "36c53dd4-b7bb-4915-b850-1f609af95b43"
      },
      "execution_count": 11,
      "outputs": [
        {
          "output_type": "stream",
          "name": "stdout",
          "text": [
            "Looking in indexes: https://pypi.org/simple, https://us-python.pkg.dev/colab-wheels/public/simple/\n",
            "Collecting stop_words\n",
            "  Downloading stop-words-2018.7.23.tar.gz (31 kB)\n",
            "Building wheels for collected packages: stop-words\n",
            "  Building wheel for stop-words (setup.py) ... \u001b[?25l\u001b[?25hdone\n",
            "  Created wheel for stop-words: filename=stop_words-2018.7.23-py3-none-any.whl size=32911 sha256=b300b201b8f4148c8df308fa9921c88e1a754f862d3d7c7b106e8c5e28e89b9a\n",
            "  Stored in directory: /root/.cache/pip/wheels/fb/86/b2/277b10b1ce9f73ce15059bf6975d4547cc4ec3feeb651978e9\n",
            "Successfully built stop-words\n",
            "Installing collected packages: stop-words\n",
            "Successfully installed stop-words-2018.7.23\n"
          ]
        }
      ]
    },
    {
      "cell_type": "code",
      "source": [
        "!pip install annoy"
      ],
      "metadata": {
        "colab": {
          "base_uri": "https://localhost:8080/"
        },
        "id": "T11yIQaKi8kf",
        "outputId": "2fbe8221-ae91-42ff-9bd9-bac3c23745b1"
      },
      "execution_count": 12,
      "outputs": [
        {
          "output_type": "stream",
          "name": "stdout",
          "text": [
            "Looking in indexes: https://pypi.org/simple, https://us-python.pkg.dev/colab-wheels/public/simple/\n",
            "Collecting annoy\n",
            "  Downloading annoy-1.17.0.tar.gz (646 kB)\n",
            "\u001b[K     |████████████████████████████████| 646 kB 7.9 MB/s \n",
            "\u001b[?25hBuilding wheels for collected packages: annoy\n",
            "  Building wheel for annoy (setup.py) ... \u001b[?25l\u001b[?25hdone\n",
            "  Created wheel for annoy: filename=annoy-1.17.0-cp37-cp37m-linux_x86_64.whl size=391590 sha256=0add45a7809051ad93029142e0ff9e1411650435bff21bf37e811844c4ad5c1e\n",
            "  Stored in directory: /root/.cache/pip/wheels/4f/e8/1e/7cc9ebbfa87a3b9f8ba79408d4d31831d67eea918b679a4c07\n",
            "Successfully built annoy\n",
            "Installing collected packages: annoy\n",
            "Successfully installed annoy-1.17.0\n"
          ]
        }
      ]
    },
    {
      "cell_type": "markdown",
      "source": [
        "## Построим модели W2V и Fasttext"
      ],
      "metadata": {
        "id": "keX36AgWkj3u"
      }
    },
    {
      "cell_type": "code",
      "source": [
        "import string\n",
        "from pymorphy2 import MorphAnalyzer\n",
        "from stop_words import get_stop_words\n",
        "import annoy\n",
        "from gensim.models import Word2Vec, FastText\n",
        "import pickle\n",
        "import numpy as np\n",
        "from tqdm import tqdm_notebook"
      ],
      "metadata": {
        "id": "MndXknVPijcu"
      },
      "execution_count": 13,
      "outputs": []
    },
    {
      "cell_type": "code",
      "source": [
        "# функция препроцессинга строки\n",
        "def preprocess_txt(line):\n",
        "    spls = \"\".join(i for i in line.strip() if i not in exclude).split()\n",
        "    spls = [morpher.parse(i.lower())[0].normal_form for i in spls]\n",
        "    spls = [i for i in spls if i not in sw and i != \"\"]\n",
        "    return spls"
      ],
      "metadata": {
        "id": "_EuLhTK1lzEA"
      },
      "execution_count": 14,
      "outputs": []
    },
    {
      "cell_type": "code",
      "source": [
        "# Готовим данные для обучения моделей\n",
        "assert True\n",
        "\n",
        "# Preprocess for models fitting\n",
        "\n",
        "tweets = []\n",
        "\n",
        "morpher = MorphAnalyzer()\n",
        "sw = set(get_stop_words(\"ru\"))\n",
        "exclude = set(string.punctuation)\n",
        "c = 0\n",
        "\n",
        "for tweet in df['text']:\n",
        "    spls = preprocess_txt(tweet)\n",
        "    tweets.append(spls)\n",
        "    c += 1\n",
        "    if c > 100000:\n",
        "        break"
      ],
      "metadata": {
        "id": "YddXqNyelQoc"
      },
      "execution_count": 15,
      "outputs": []
    },
    {
      "cell_type": "code",
      "source": [
        "tweets[8]"
      ],
      "metadata": {
        "colab": {
          "base_uri": "https://localhost:8080/"
        },
        "id": "Pf_XqyoklkqH",
        "outputId": "58bf5dcc-742a-4cb7-cec1-19af9d3923dd"
      },
      "execution_count": 16,
      "outputs": [
        {
          "output_type": "execute_result",
          "data": {
            "text/plain": [
              "['поприветствовать', 'новый', 'читатель', 'alexey1789']"
            ]
          },
          "metadata": {},
          "execution_count": 16
        }
      ]
    },
    {
      "cell_type": "code",
      "source": [
        "tweets = [i for i in tweets if len(i) > 2]"
      ],
      "metadata": {
        "id": "JSFJVI6_bMmW"
      },
      "execution_count": 17,
      "outputs": []
    },
    {
      "cell_type": "markdown",
      "source": [
        "Обучаем модели"
      ],
      "metadata": {
        "id": "93xWKkRNlGJU"
      }
    },
    {
      "cell_type": "code",
      "source": [
        "modelW2V = Word2Vec(sentences=tweets, size=300, min_count=6, window=5, workers=8)"
      ],
      "metadata": {
        "id": "Swo3nEVrbTHw"
      },
      "execution_count": 18,
      "outputs": []
    },
    {
      "cell_type": "code",
      "source": [
        "modelFT = FastText(sentences=tweets, size=300, min_count=6, window=5, workers=8)"
      ],
      "metadata": {
        "id": "hBXriBsFbTcj"
      },
      "execution_count": 19,
      "outputs": []
    },
    {
      "cell_type": "markdown",
      "source": [
        "Создаем annoy твитов для модели *v2w*"
      ],
      "metadata": {
        "id": "UXk_eDmklIc_"
      }
    },
    {
      "cell_type": "code",
      "source": [
        "w2v_index = annoy.AnnoyIndex(300 ,'angular')\n",
        "#ft_index = annoy.AnnoyIndex(300 ,'angular')\n",
        "\n",
        "index_map = {}\n",
        "counter = 0\n",
        "\n",
        "for tweet in df['text']:\n",
        "    n_w2v = 0\n",
        "    #n_ft = 0\n",
        "    index_map[counter] = tweet\n",
        "    tweet = tweet.split()\n",
        "\n",
        "    vector_w2v = np.zeros(300)\n",
        "    #vector_ft = np.zeros(300)\n",
        "    for word in tweet:\n",
        "        if word in modelW2V.wv:\n",
        "            vector_w2v += modelW2V.wv[word]\n",
        "            n_w2v += 1\n",
        "        #if word in modelFT.wv:\n",
        "            #vector_ft += modelFT.wv[word]\n",
        "            #n_ft += 1\n",
        "    if n_w2v > 0:\n",
        "        vector_w2v = vector_w2v / n_w2v\n",
        "    #if n_ft > 0:\n",
        "        #vector_ft = vector_ft / n_ft\n",
        "    w2v_index.add_item(counter, vector_w2v)\n",
        "    #ft_index.add_item(counter, vector_ft)\n",
        "            \n",
        "    counter += 1\n",
        "        \n",
        "    if counter > 100000:\n",
        "        break\n",
        "\n",
        "w2v_index.build(20)\n",
        "#ft_index.build(10)"
      ],
      "metadata": {
        "colab": {
          "base_uri": "https://localhost:8080/"
        },
        "id": "O30v5_glhPtq",
        "outputId": "6f4ba566-3032-4007-f526-bc94d81e7bd5"
      },
      "execution_count": 20,
      "outputs": [
        {
          "output_type": "execute_result",
          "data": {
            "text/plain": [
              "True"
            ]
          },
          "metadata": {},
          "execution_count": 20
        }
      ]
    },
    {
      "cell_type": "markdown",
      "source": [
        "Создадим функцию для поиска 5 ближайших твитов"
      ],
      "metadata": {
        "id": "MrkDLXaalp50"
      }
    },
    {
      "cell_type": "code",
      "source": [
        "def get_closest_tweets(tweet, index, vectorizer, index_map):\n",
        "    tweet = preprocess_txt(tweet)\n",
        "    vector = np.zeros(300)\n",
        "    norm = 0\n",
        "    for word in tweet:\n",
        "        if word in vectorizer:\n",
        "            vector += vectorizer[word]\n",
        "            norm += 1\n",
        "    if norm > 0:\n",
        "        vector = vector / norm\n",
        "    closest_tweets = index.get_nns_by_vector(vector, 5, )\n",
        "    return [index_map[i] for i in closest_tweets]"
      ],
      "metadata": {
        "id": "JI_09FE4dVDJ"
      },
      "execution_count": 21,
      "outputs": []
    },
    {
      "cell_type": "markdown",
      "source": [
        "Тестируем поиск ближайших твитов на модели v2w"
      ],
      "metadata": {
        "id": "jQ1SUL9alwe5"
      }
    },
    {
      "cell_type": "code",
      "source": [
        "TEXT = \"У кого сегодня такое же хорошее настроение, как у меня?\""
      ],
      "metadata": {
        "id": "pIO3WpPwfHOY"
      },
      "execution_count": 22,
      "outputs": []
    },
    {
      "cell_type": "code",
      "source": [
        "get_closest_tweets(TEXT, w2v_index, modelW2V.wv, index_map)"
      ],
      "metadata": {
        "colab": {
          "base_uri": "https://localhost:8080/"
        },
        "id": "3qek9c60fHxS",
        "outputId": "6f1ab0d7-16b6-4bdf-d841-b981aab3e072"
      },
      "execution_count": 23,
      "outputs": [
        {
          "output_type": "execute_result",
          "data": {
            "text/plain": [
              "['@ReGiNa__007 а почему бы хорошему человеку не поднять настроение :*',\n",
              " 'Хорошее настроение с самого утра обеспечено.Он репостнул мою запись)',\n",
              " 'RT @SergPizza: Новогоднее настроение ) http://t.co/daZkpSwXka',\n",
              " 'На улице как в сказке)))) \\nХоть это настроение поднимает!',\n",
              " '@borisov_vasiliy @NikolinaTheOne , Вася, твить больше %) поднимай настроение %)']"
            ]
          },
          "metadata": {},
          "execution_count": 23
        }
      ]
    },
    {
      "cell_type": "markdown",
      "source": [
        "Создаем annoy твитов для модели fasttext"
      ],
      "metadata": {
        "id": "oYIYnQc4l2XJ"
      }
    },
    {
      "cell_type": "code",
      "source": [
        "ft_index = annoy.AnnoyIndex(300 ,'angular')\n",
        "\n",
        "index_map = {}\n",
        "counter = 0\n",
        "\n",
        "for tweet in df['text']:\n",
        "    n_ft = 0\n",
        "    index_map[counter] = tweet\n",
        "    tweet = tweet.split()\n",
        "\n",
        "    vector_ft = np.zeros(300)\n",
        "    for word in tweet:\n",
        "        if word in modelFT.wv:\n",
        "            vector_ft += modelFT.wv[word]\n",
        "            n_ft += 1\n",
        "    if n_ft > 0:\n",
        "        vector_ft = vector_ft / n_ft\n",
        "\n",
        "    ft_index.add_item(counter, vector_ft)\n",
        "            \n",
        "    counter += 1\n",
        "        \n",
        "    if counter > 100000:\n",
        "        break\n",
        "\n",
        "ft_index.build(20)"
      ],
      "metadata": {
        "colab": {
          "base_uri": "https://localhost:8080/"
        },
        "id": "KQxdSS7SilG_",
        "outputId": "d0469fad-6b6b-41d7-f3b9-2168b10be238"
      },
      "execution_count": 24,
      "outputs": [
        {
          "output_type": "execute_result",
          "data": {
            "text/plain": [
              "True"
            ]
          },
          "metadata": {},
          "execution_count": 24
        }
      ]
    },
    {
      "cell_type": "code",
      "source": [
        "get_closest_tweets(TEXT, ft_index, modelFT.wv, index_map)"
      ],
      "metadata": {
        "colab": {
          "base_uri": "https://localhost:8080/"
        },
        "id": "kPazuk10i-wX",
        "outputId": "4a3c747b-2b76-4856-f05c-1e85768a3fd4"
      },
      "execution_count": 25,
      "outputs": [
        {
          "output_type": "execute_result",
          "data": {
            "text/plain": [
              "['Я человек-поднимашка-настрояшка!\\nХа-ха-ха!Всем настроение поднимаю)',\n",
              " 'Отличный вечер и поднятое настроение. спасибо, @Olkooooo )',\n",
              " '@shrimp_Jane ОН НЕ СТАРЕЕТ МАТЬ ЕГО...МАГИЯ ВНЕ ХОГВАРТСА ДЖА АЯ ЯЯЯЯЙ_)',\n",
              " 'Одни джентельмены,как же приятно:) настроение прям подняли)',\n",
              " '#BbBbBfoo Добрый вечер фолловеры,как настроение?) #BbBo']"
            ]
          },
          "metadata": {},
          "execution_count": 25
        }
      ]
    },
    {
      "cell_type": "markdown",
      "source": [
        "Русскоязычные glove не так просто найти. Нашел из в библиотеке navec"
      ],
      "metadata": {
        "id": "3Ijf48FNl-9J"
      }
    },
    {
      "cell_type": "code",
      "source": [
        "!pip install navec"
      ],
      "metadata": {
        "colab": {
          "base_uri": "https://localhost:8080/"
        },
        "id": "-NGCw7sRkNxQ",
        "outputId": "6b697db8-3423-4bcb-8a7a-d2c76ab5c2ab"
      },
      "execution_count": 26,
      "outputs": [
        {
          "output_type": "stream",
          "name": "stdout",
          "text": [
            "Looking in indexes: https://pypi.org/simple, https://us-python.pkg.dev/colab-wheels/public/simple/\n",
            "Collecting navec\n",
            "  Downloading navec-0.10.0-py3-none-any.whl (23 kB)\n",
            "Requirement already satisfied: numpy in /usr/local/lib/python3.7/dist-packages (from navec) (1.21.6)\n",
            "Installing collected packages: navec\n",
            "Successfully installed navec-0.10.0\n"
          ]
        }
      ]
    },
    {
      "cell_type": "code",
      "source": [
        "!wget https://storage.yandexcloud.net/natasha-navec/packs/navec_hudlit_v1_12B_500K_300d_100q.tar"
      ],
      "metadata": {
        "colab": {
          "base_uri": "https://localhost:8080/"
        },
        "id": "5juHReQrkbSS",
        "outputId": "d2f114bf-5701-4f99-86d4-d30a38bfb7dc"
      },
      "execution_count": 27,
      "outputs": [
        {
          "output_type": "stream",
          "name": "stdout",
          "text": [
            "--2022-06-09 03:19:31--  https://storage.yandexcloud.net/natasha-navec/packs/navec_hudlit_v1_12B_500K_300d_100q.tar\n",
            "Resolving storage.yandexcloud.net (storage.yandexcloud.net)... 213.180.193.243, 2a02:6b8::1d9\n",
            "Connecting to storage.yandexcloud.net (storage.yandexcloud.net)|213.180.193.243|:443... connected.\n",
            "HTTP request sent, awaiting response... 200 OK\n",
            "Length: 53012480 (51M) [application/x-tar]\n",
            "Saving to: ‘navec_hudlit_v1_12B_500K_300d_100q.tar’\n",
            "\n",
            "navec_hudlit_v1_12B 100%[===================>]  50.56M  14.4MB/s    in 4.5s    \n",
            "\n",
            "2022-06-09 03:19:36 (11.3 MB/s) - ‘navec_hudlit_v1_12B_500K_300d_100q.tar’ saved [53012480/53012480]\n",
            "\n"
          ]
        }
      ]
    },
    {
      "cell_type": "code",
      "source": [
        "from navec import Navec\n",
        "\n",
        "path = '/content/navec_hudlit_v1_12B_500K_300d_100q.tar'\n",
        "navec = Navec.load(path)"
      ],
      "metadata": {
        "id": "wqiQVp9ikihn"
      },
      "execution_count": 28,
      "outputs": []
    },
    {
      "cell_type": "markdown",
      "source": [
        "\n",
        "Создаем annoy твитов для модели glove"
      ],
      "metadata": {
        "id": "8D-KoKOhmHD_"
      }
    },
    {
      "cell_type": "code",
      "source": [
        "gl_index = annoy.AnnoyIndex(300 ,'angular')\n",
        "\n",
        "index_map = {}\n",
        "counter = 0\n",
        "\n",
        "for tweet in df['text']:\n",
        "    n_gl = 0\n",
        "    index_map[counter] = tweet\n",
        "    tweet = tweet.split()\n",
        "\n",
        "    vector_glove = np.zeros(300)\n",
        "    for word in tweet:\n",
        "        if word in navec.vocab:\n",
        "            vector_glove += navec[word]\n",
        "            n_gl += 1\n",
        "    if n_gl > 0:\n",
        "        vector_glove = vector_glove / n_gl\n",
        "\n",
        "    gl_index.add_item(counter, vector_glove)\n",
        "            \n",
        "    counter += 1\n",
        "        \n",
        "    if counter > 100000:\n",
        "        break\n",
        "\n",
        "gl_index.build(20)"
      ],
      "metadata": {
        "colab": {
          "base_uri": "https://localhost:8080/"
        },
        "id": "m_OwXzlpljJb",
        "outputId": "ebe5c700-eba8-413b-b617-f3c60eac26d8"
      },
      "execution_count": 29,
      "outputs": [
        {
          "output_type": "execute_result",
          "data": {
            "text/plain": [
              "True"
            ]
          },
          "metadata": {},
          "execution_count": 29
        }
      ]
    },
    {
      "cell_type": "code",
      "source": [
        "get_closest_tweets(TEXT, gl_index, navec, index_map)"
      ],
      "metadata": {
        "colab": {
          "base_uri": "https://localhost:8080/"
        },
        "id": "rakRNkwwm7ou",
        "outputId": "b6166415-6001-4a8f-b04b-531d3ab9171a"
      },
      "execution_count": 30,
      "outputs": [
        {
          "output_type": "execute_result",
          "data": {
            "text/plain": [
              "['Самый лучший день ! ))) Первый хороший снег нападал)))))',\n",
              " 'Насмеяялись:)\\nСпасибо за этот хороший вечер @angelika_3829 и родителям.',\n",
              " 'Как снег пошол так и новогоднее настроение появилось)))))',\n",
              " 'RT @vladkabulavka: @jjanuaryj это самый классный комплимент) спасибо большое)',\n",
              " 'Всем привет!Скоро Новый год:*\\nЭто очень классный праздник\\n#люблюего']"
            ]
          },
          "metadata": {},
          "execution_count": 30
        }
      ]
    },
    {
      "cell_type": "markdown",
      "source": [
        "## Насчет слоя Embedding я не очень понял, как реализовать решение этой задачи, т.к. слой Embedding может быть только частью нейоронной сети (слоем). На чем его обучать такую модель, чтобы на выходе у нее был вектор твита я тоже не понял. Прошу прислать мне правильное решение данного задания для самостоятельного разбора. Заранее благодарю"
      ],
      "metadata": {
        "id": "rCk03ay2mOP6"
      }
    },
    {
      "cell_type": "markdown",
      "source": [
        "3. Проверить насколько хорошо работают подходы"
      ],
      "metadata": {
        "id": "XW9Dy-SCmuS2"
      }
    },
    {
      "cell_type": "markdown",
      "source": [
        "По моему ощущению на данной задаче они работают примерно одинаково )"
      ],
      "metadata": {
        "id": "5w3Ms6TXmy0p"
      }
    }
  ]
}