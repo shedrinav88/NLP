{
  "nbformat": 4,
  "nbformat_minor": 0,
  "metadata": {
    "colab": {
      "name": "hw_4_NLP.ipynb",
      "provenance": [],
      "collapsed_sections": []
    },
    "kernelspec": {
      "name": "python3",
      "display_name": "Python 3"
    },
    "language_info": {
      "name": "python"
    },
    "widgets": {
      "application/vnd.jupyter.widget-state+json": {
        "fe3d963611f3469a85d53e0281712e21": {
          "model_module": "@jupyter-widgets/controls",
          "model_name": "HBoxModel",
          "model_module_version": "1.5.0",
          "state": {
            "_dom_classes": [],
            "_model_module": "@jupyter-widgets/controls",
            "_model_module_version": "1.5.0",
            "_model_name": "HBoxModel",
            "_view_count": null,
            "_view_module": "@jupyter-widgets/controls",
            "_view_module_version": "1.5.0",
            "_view_name": "HBoxView",
            "box_style": "",
            "children": [
              "IPY_MODEL_2d1ec43fb879411693d75b2c1cfc0abe",
              "IPY_MODEL_bdcd3c4f8b494ec7b3b79ec4c0a5e456",
              "IPY_MODEL_0ecdb310c8db4fa68f2517fbb8847e3e"
            ],
            "layout": "IPY_MODEL_cc6264e17e854f459fdbbddc3958b170"
          }
        },
        "2d1ec43fb879411693d75b2c1cfc0abe": {
          "model_module": "@jupyter-widgets/controls",
          "model_name": "HTMLModel",
          "model_module_version": "1.5.0",
          "state": {
            "_dom_classes": [],
            "_model_module": "@jupyter-widgets/controls",
            "_model_module_version": "1.5.0",
            "_model_name": "HTMLModel",
            "_view_count": null,
            "_view_module": "@jupyter-widgets/controls",
            "_view_module_version": "1.5.0",
            "_view_name": "HTMLView",
            "description": "",
            "description_tooltip": null,
            "layout": "IPY_MODEL_c7fac3c43ff644549dcb8ecaca09a6a0",
            "placeholder": "​",
            "style": "IPY_MODEL_ae2f2a8bda134dda96f79d2dfbeaae3b",
            "value": "100%"
          }
        },
        "bdcd3c4f8b494ec7b3b79ec4c0a5e456": {
          "model_module": "@jupyter-widgets/controls",
          "model_name": "FloatProgressModel",
          "model_module_version": "1.5.0",
          "state": {
            "_dom_classes": [],
            "_model_module": "@jupyter-widgets/controls",
            "_model_module_version": "1.5.0",
            "_model_name": "FloatProgressModel",
            "_view_count": null,
            "_view_module": "@jupyter-widgets/controls",
            "_view_module_version": "1.5.0",
            "_view_name": "ProgressView",
            "bar_style": "success",
            "description": "",
            "description_tooltip": null,
            "layout": "IPY_MODEL_60146359a65e48e79b38aad15d7623ec",
            "max": 226834,
            "min": 0,
            "orientation": "horizontal",
            "style": "IPY_MODEL_a1585d062fb84973880b0a72eb4654e5",
            "value": 226834
          }
        },
        "0ecdb310c8db4fa68f2517fbb8847e3e": {
          "model_module": "@jupyter-widgets/controls",
          "model_name": "HTMLModel",
          "model_module_version": "1.5.0",
          "state": {
            "_dom_classes": [],
            "_model_module": "@jupyter-widgets/controls",
            "_model_module_version": "1.5.0",
            "_model_name": "HTMLModel",
            "_view_count": null,
            "_view_module": "@jupyter-widgets/controls",
            "_view_module_version": "1.5.0",
            "_view_name": "HTMLView",
            "description": "",
            "description_tooltip": null,
            "layout": "IPY_MODEL_40c9896447d4485fa1da268953343e84",
            "placeholder": "​",
            "style": "IPY_MODEL_b96081da853c45b0bab465b85b32457d",
            "value": " 226834/226834 [11:49&lt;00:00, 340.88it/s]"
          }
        },
        "cc6264e17e854f459fdbbddc3958b170": {
          "model_module": "@jupyter-widgets/base",
          "model_name": "LayoutModel",
          "model_module_version": "1.2.0",
          "state": {
            "_model_module": "@jupyter-widgets/base",
            "_model_module_version": "1.2.0",
            "_model_name": "LayoutModel",
            "_view_count": null,
            "_view_module": "@jupyter-widgets/base",
            "_view_module_version": "1.2.0",
            "_view_name": "LayoutView",
            "align_content": null,
            "align_items": null,
            "align_self": null,
            "border": null,
            "bottom": null,
            "display": null,
            "flex": null,
            "flex_flow": null,
            "grid_area": null,
            "grid_auto_columns": null,
            "grid_auto_flow": null,
            "grid_auto_rows": null,
            "grid_column": null,
            "grid_gap": null,
            "grid_row": null,
            "grid_template_areas": null,
            "grid_template_columns": null,
            "grid_template_rows": null,
            "height": null,
            "justify_content": null,
            "justify_items": null,
            "left": null,
            "margin": null,
            "max_height": null,
            "max_width": null,
            "min_height": null,
            "min_width": null,
            "object_fit": null,
            "object_position": null,
            "order": null,
            "overflow": null,
            "overflow_x": null,
            "overflow_y": null,
            "padding": null,
            "right": null,
            "top": null,
            "visibility": null,
            "width": null
          }
        },
        "c7fac3c43ff644549dcb8ecaca09a6a0": {
          "model_module": "@jupyter-widgets/base",
          "model_name": "LayoutModel",
          "model_module_version": "1.2.0",
          "state": {
            "_model_module": "@jupyter-widgets/base",
            "_model_module_version": "1.2.0",
            "_model_name": "LayoutModel",
            "_view_count": null,
            "_view_module": "@jupyter-widgets/base",
            "_view_module_version": "1.2.0",
            "_view_name": "LayoutView",
            "align_content": null,
            "align_items": null,
            "align_self": null,
            "border": null,
            "bottom": null,
            "display": null,
            "flex": null,
            "flex_flow": null,
            "grid_area": null,
            "grid_auto_columns": null,
            "grid_auto_flow": null,
            "grid_auto_rows": null,
            "grid_column": null,
            "grid_gap": null,
            "grid_row": null,
            "grid_template_areas": null,
            "grid_template_columns": null,
            "grid_template_rows": null,
            "height": null,
            "justify_content": null,
            "justify_items": null,
            "left": null,
            "margin": null,
            "max_height": null,
            "max_width": null,
            "min_height": null,
            "min_width": null,
            "object_fit": null,
            "object_position": null,
            "order": null,
            "overflow": null,
            "overflow_x": null,
            "overflow_y": null,
            "padding": null,
            "right": null,
            "top": null,
            "visibility": null,
            "width": null
          }
        },
        "ae2f2a8bda134dda96f79d2dfbeaae3b": {
          "model_module": "@jupyter-widgets/controls",
          "model_name": "DescriptionStyleModel",
          "model_module_version": "1.5.0",
          "state": {
            "_model_module": "@jupyter-widgets/controls",
            "_model_module_version": "1.5.0",
            "_model_name": "DescriptionStyleModel",
            "_view_count": null,
            "_view_module": "@jupyter-widgets/base",
            "_view_module_version": "1.2.0",
            "_view_name": "StyleView",
            "description_width": ""
          }
        },
        "60146359a65e48e79b38aad15d7623ec": {
          "model_module": "@jupyter-widgets/base",
          "model_name": "LayoutModel",
          "model_module_version": "1.2.0",
          "state": {
            "_model_module": "@jupyter-widgets/base",
            "_model_module_version": "1.2.0",
            "_model_name": "LayoutModel",
            "_view_count": null,
            "_view_module": "@jupyter-widgets/base",
            "_view_module_version": "1.2.0",
            "_view_name": "LayoutView",
            "align_content": null,
            "align_items": null,
            "align_self": null,
            "border": null,
            "bottom": null,
            "display": null,
            "flex": null,
            "flex_flow": null,
            "grid_area": null,
            "grid_auto_columns": null,
            "grid_auto_flow": null,
            "grid_auto_rows": null,
            "grid_column": null,
            "grid_gap": null,
            "grid_row": null,
            "grid_template_areas": null,
            "grid_template_columns": null,
            "grid_template_rows": null,
            "height": null,
            "justify_content": null,
            "justify_items": null,
            "left": null,
            "margin": null,
            "max_height": null,
            "max_width": null,
            "min_height": null,
            "min_width": null,
            "object_fit": null,
            "object_position": null,
            "order": null,
            "overflow": null,
            "overflow_x": null,
            "overflow_y": null,
            "padding": null,
            "right": null,
            "top": null,
            "visibility": null,
            "width": null
          }
        },
        "a1585d062fb84973880b0a72eb4654e5": {
          "model_module": "@jupyter-widgets/controls",
          "model_name": "ProgressStyleModel",
          "model_module_version": "1.5.0",
          "state": {
            "_model_module": "@jupyter-widgets/controls",
            "_model_module_version": "1.5.0",
            "_model_name": "ProgressStyleModel",
            "_view_count": null,
            "_view_module": "@jupyter-widgets/base",
            "_view_module_version": "1.2.0",
            "_view_name": "StyleView",
            "bar_color": null,
            "description_width": ""
          }
        },
        "40c9896447d4485fa1da268953343e84": {
          "model_module": "@jupyter-widgets/base",
          "model_name": "LayoutModel",
          "model_module_version": "1.2.0",
          "state": {
            "_model_module": "@jupyter-widgets/base",
            "_model_module_version": "1.2.0",
            "_model_name": "LayoutModel",
            "_view_count": null,
            "_view_module": "@jupyter-widgets/base",
            "_view_module_version": "1.2.0",
            "_view_name": "LayoutView",
            "align_content": null,
            "align_items": null,
            "align_self": null,
            "border": null,
            "bottom": null,
            "display": null,
            "flex": null,
            "flex_flow": null,
            "grid_area": null,
            "grid_auto_columns": null,
            "grid_auto_flow": null,
            "grid_auto_rows": null,
            "grid_column": null,
            "grid_gap": null,
            "grid_row": null,
            "grid_template_areas": null,
            "grid_template_columns": null,
            "grid_template_rows": null,
            "height": null,
            "justify_content": null,
            "justify_items": null,
            "left": null,
            "margin": null,
            "max_height": null,
            "max_width": null,
            "min_height": null,
            "min_width": null,
            "object_fit": null,
            "object_position": null,
            "order": null,
            "overflow": null,
            "overflow_x": null,
            "overflow_y": null,
            "padding": null,
            "right": null,
            "top": null,
            "visibility": null,
            "width": null
          }
        },
        "b96081da853c45b0bab465b85b32457d": {
          "model_module": "@jupyter-widgets/controls",
          "model_name": "DescriptionStyleModel",
          "model_module_version": "1.5.0",
          "state": {
            "_model_module": "@jupyter-widgets/controls",
            "_model_module_version": "1.5.0",
            "_model_name": "DescriptionStyleModel",
            "_view_count": null,
            "_view_module": "@jupyter-widgets/base",
            "_view_module_version": "1.2.0",
            "_view_name": "StyleView",
            "description_width": ""
          }
        }
      }
    }
  },
  "cells": [
    {
      "cell_type": "markdown",
      "source": [
        "Задача тематическое моделирование\n",
        "\n",
        "продолжаем исследование датасета с твитами\n",
        "\n",
        "Скачиваем датасет (источник): положительные, отрицательные.\n",
        "\n",
        "или можно через ноутбук\n",
        "\n",
        "!wget https://www.dropbox.com/s/fnpq3z4bcnoktiv/positive.csv\n",
        "!wget https://www.dropbox.com/s/r6u59ljhhjdg6j0/negative.csv"
      ],
      "metadata": {
        "id": "coaSPO0ojiSA"
      }
    },
    {
      "cell_type": "code",
      "execution_count": 1,
      "metadata": {
        "colab": {
          "base_uri": "https://localhost:8080/"
        },
        "id": "DKzJt8ExjTZn",
        "outputId": "87f94bfd-fd26-457b-cd3b-b39302e39637"
      },
      "outputs": [
        {
          "output_type": "stream",
          "name": "stdout",
          "text": [
            "--2022-06-12 04:24:57--  https://www.dropbox.com/s/fnpq3z4bcnoktiv/positive.csv\n",
            "Resolving www.dropbox.com (www.dropbox.com)... 162.125.4.18, 2620:100:6018:18::a27d:312\n",
            "Connecting to www.dropbox.com (www.dropbox.com)|162.125.4.18|:443... connected.\n",
            "HTTP request sent, awaiting response... 301 Moved Permanently\n",
            "Location: /s/raw/fnpq3z4bcnoktiv/positive.csv [following]\n",
            "--2022-06-12 04:24:57--  https://www.dropbox.com/s/raw/fnpq3z4bcnoktiv/positive.csv\n",
            "Reusing existing connection to www.dropbox.com:443.\n",
            "HTTP request sent, awaiting response... 302 Found\n",
            "Location: https://uc814bb54519a9b13050cac17af4.dl.dropboxusercontent.com/cd/0/inline/BnBXBwxCXv2zZpte32386v4O6BONswO6TorcvXvf7M5e3QVG84JkCkZ5-mixcRZjlM-KehuTfdHt9d3MW8aubgP4-leWB0h89WFNocYEUavdns8RL5-HcTjfNlQZIXQWVpkCqrHSNRm1TQ43MX6-R3m4aWLbRmKviBqAimqotrXXkw/file# [following]\n",
            "--2022-06-12 04:24:58--  https://uc814bb54519a9b13050cac17af4.dl.dropboxusercontent.com/cd/0/inline/BnBXBwxCXv2zZpte32386v4O6BONswO6TorcvXvf7M5e3QVG84JkCkZ5-mixcRZjlM-KehuTfdHt9d3MW8aubgP4-leWB0h89WFNocYEUavdns8RL5-HcTjfNlQZIXQWVpkCqrHSNRm1TQ43MX6-R3m4aWLbRmKviBqAimqotrXXkw/file\n",
            "Resolving uc814bb54519a9b13050cac17af4.dl.dropboxusercontent.com (uc814bb54519a9b13050cac17af4.dl.dropboxusercontent.com)... 162.125.3.15, 2620:100:6018:15::a27d:30f\n",
            "Connecting to uc814bb54519a9b13050cac17af4.dl.dropboxusercontent.com (uc814bb54519a9b13050cac17af4.dl.dropboxusercontent.com)|162.125.3.15|:443... connected.\n",
            "HTTP request sent, awaiting response... 200 OK\n",
            "Length: 26233379 (25M) [text/plain]\n",
            "Saving to: ‘positive.csv’\n",
            "\n",
            "positive.csv        100%[===================>]  25.02M  86.2MB/s    in 0.3s    \n",
            "\n",
            "2022-06-12 04:24:58 (86.2 MB/s) - ‘positive.csv’ saved [26233379/26233379]\n",
            "\n",
            "--2022-06-12 04:24:58--  https://www.dropbox.com/s/r6u59ljhhjdg6j0/negative.csv\n",
            "Resolving www.dropbox.com (www.dropbox.com)... 162.125.4.18, 2620:100:6018:18::a27d:312\n",
            "Connecting to www.dropbox.com (www.dropbox.com)|162.125.4.18|:443... connected.\n",
            "HTTP request sent, awaiting response... 301 Moved Permanently\n",
            "Location: /s/raw/r6u59ljhhjdg6j0/negative.csv [following]\n",
            "--2022-06-12 04:24:59--  https://www.dropbox.com/s/raw/r6u59ljhhjdg6j0/negative.csv\n",
            "Reusing existing connection to www.dropbox.com:443.\n",
            "HTTP request sent, awaiting response... 302 Found\n",
            "Location: https://uc4fc3d62c841b8bdf7a1010dc2c.dl.dropboxusercontent.com/cd/0/inline/BnBsxAZLL8LrxTU_TJ_aSrEwRdGH1PM794-Ew8a32792CD-sHiiaNSDJAfY2nC4l1atv-1rRFvQU-ReuUW8S5cw-cFovp3GFIw8IBodvqehwM71GciT51sSMEKJsQMdCn_y7DRo_w1t0yXYMZTPxffnz0LqHCor0mgkxUrRuhjJNMg/file# [following]\n",
            "--2022-06-12 04:24:59--  https://uc4fc3d62c841b8bdf7a1010dc2c.dl.dropboxusercontent.com/cd/0/inline/BnBsxAZLL8LrxTU_TJ_aSrEwRdGH1PM794-Ew8a32792CD-sHiiaNSDJAfY2nC4l1atv-1rRFvQU-ReuUW8S5cw-cFovp3GFIw8IBodvqehwM71GciT51sSMEKJsQMdCn_y7DRo_w1t0yXYMZTPxffnz0LqHCor0mgkxUrRuhjJNMg/file\n",
            "Resolving uc4fc3d62c841b8bdf7a1010dc2c.dl.dropboxusercontent.com (uc4fc3d62c841b8bdf7a1010dc2c.dl.dropboxusercontent.com)... 162.125.5.15, 2620:100:6018:15::a27d:30f\n",
            "Connecting to uc4fc3d62c841b8bdf7a1010dc2c.dl.dropboxusercontent.com (uc4fc3d62c841b8bdf7a1010dc2c.dl.dropboxusercontent.com)|162.125.5.15|:443... connected.\n",
            "HTTP request sent, awaiting response... 200 OK\n",
            "Length: 24450101 (23M) [text/plain]\n",
            "Saving to: ‘negative.csv’\n",
            "\n",
            "negative.csv        100%[===================>]  23.32M  29.9MB/s    in 0.8s    \n",
            "\n",
            "2022-06-12 04:25:00 (29.9 MB/s) - ‘negative.csv’ saved [24450101/24450101]\n",
            "\n"
          ]
        }
      ],
      "source": [
        "!wget https://www.dropbox.com/s/fnpq3z4bcnoktiv/positive.csv\n",
        "!wget https://www.dropbox.com/s/r6u59ljhhjdg6j0/negative.csv"
      ]
    },
    {
      "cell_type": "markdown",
      "source": [
        "## Что надо сделать"
      ],
      "metadata": {
        "id": "mzS9fMR1jtza"
      }
    },
    {
      "cell_type": "markdown",
      "source": [
        "1. объединить в одну выборку "
      ],
      "metadata": {
        "id": "x-JZLzYrjw7P"
      }
    },
    {
      "cell_type": "code",
      "source": [
        "import pandas as pd\n",
        "import numpy as np\n",
        "from sklearn.metrics import *\n",
        "from sklearn.model_selection import train_test_split\n",
        "from sklearn.pipeline import Pipeline"
      ],
      "metadata": {
        "id": "FFL_L3P3jn0F"
      },
      "execution_count": 2,
      "outputs": []
    },
    {
      "cell_type": "code",
      "source": [
        "# считываем данные и заполняем общий датасет\n",
        "positive = pd.read_csv('positive.csv', sep=';', usecols=[3], names=['text'])\n",
        "negative = pd.read_csv('negative.csv', sep=';', usecols=[3], names=['text'])\n",
        "data = positive.append(negative)"
      ],
      "metadata": {
        "id": "lNk2AaySjn2e"
      },
      "execution_count": 3,
      "outputs": []
    },
    {
      "cell_type": "code",
      "source": [
        "data.tail()"
      ],
      "metadata": {
        "colab": {
          "base_uri": "https://localhost:8080/",
          "height": 206
        },
        "id": "0AAnB9rxjn4y",
        "outputId": "c1d508de-3e4b-4dc9-cde7-dd484b89550d"
      },
      "execution_count": 4,
      "outputs": [
        {
          "output_type": "execute_result",
          "data": {
            "text/plain": [
              "                                                     text\n",
              "111918  Но не каждый хочет что то исправлять:( http://...\n",
              "111919  скучаю так :-( только @taaannyaaa вправляет мо...\n",
              "111920          Вот и в школу, в говно это идти уже надо(\n",
              "111921  RT @_Them__: @LisaBeroud Тауриэль, не грусти :...\n",
              "111922  Такси везет меня на работу. Раздумываю приплат..."
            ],
            "text/html": [
              "\n",
              "  <div id=\"df-781185d7-4b2d-44f2-9a2c-ee2356efe1f7\">\n",
              "    <div class=\"colab-df-container\">\n",
              "      <div>\n",
              "<style scoped>\n",
              "    .dataframe tbody tr th:only-of-type {\n",
              "        vertical-align: middle;\n",
              "    }\n",
              "\n",
              "    .dataframe tbody tr th {\n",
              "        vertical-align: top;\n",
              "    }\n",
              "\n",
              "    .dataframe thead th {\n",
              "        text-align: right;\n",
              "    }\n",
              "</style>\n",
              "<table border=\"1\" class=\"dataframe\">\n",
              "  <thead>\n",
              "    <tr style=\"text-align: right;\">\n",
              "      <th></th>\n",
              "      <th>text</th>\n",
              "    </tr>\n",
              "  </thead>\n",
              "  <tbody>\n",
              "    <tr>\n",
              "      <th>111918</th>\n",
              "      <td>Но не каждый хочет что то исправлять:( http://...</td>\n",
              "    </tr>\n",
              "    <tr>\n",
              "      <th>111919</th>\n",
              "      <td>скучаю так :-( только @taaannyaaa вправляет мо...</td>\n",
              "    </tr>\n",
              "    <tr>\n",
              "      <th>111920</th>\n",
              "      <td>Вот и в школу, в говно это идти уже надо(</td>\n",
              "    </tr>\n",
              "    <tr>\n",
              "      <th>111921</th>\n",
              "      <td>RT @_Them__: @LisaBeroud Тауриэль, не грусти :...</td>\n",
              "    </tr>\n",
              "    <tr>\n",
              "      <th>111922</th>\n",
              "      <td>Такси везет меня на работу. Раздумываю приплат...</td>\n",
              "    </tr>\n",
              "  </tbody>\n",
              "</table>\n",
              "</div>\n",
              "      <button class=\"colab-df-convert\" onclick=\"convertToInteractive('df-781185d7-4b2d-44f2-9a2c-ee2356efe1f7')\"\n",
              "              title=\"Convert this dataframe to an interactive table.\"\n",
              "              style=\"display:none;\">\n",
              "        \n",
              "  <svg xmlns=\"http://www.w3.org/2000/svg\" height=\"24px\"viewBox=\"0 0 24 24\"\n",
              "       width=\"24px\">\n",
              "    <path d=\"M0 0h24v24H0V0z\" fill=\"none\"/>\n",
              "    <path d=\"M18.56 5.44l.94 2.06.94-2.06 2.06-.94-2.06-.94-.94-2.06-.94 2.06-2.06.94zm-11 1L8.5 8.5l.94-2.06 2.06-.94-2.06-.94L8.5 2.5l-.94 2.06-2.06.94zm10 10l.94 2.06.94-2.06 2.06-.94-2.06-.94-.94-2.06-.94 2.06-2.06.94z\"/><path d=\"M17.41 7.96l-1.37-1.37c-.4-.4-.92-.59-1.43-.59-.52 0-1.04.2-1.43.59L10.3 9.45l-7.72 7.72c-.78.78-.78 2.05 0 2.83L4 21.41c.39.39.9.59 1.41.59.51 0 1.02-.2 1.41-.59l7.78-7.78 2.81-2.81c.8-.78.8-2.07 0-2.86zM5.41 20L4 18.59l7.72-7.72 1.47 1.35L5.41 20z\"/>\n",
              "  </svg>\n",
              "      </button>\n",
              "      \n",
              "  <style>\n",
              "    .colab-df-container {\n",
              "      display:flex;\n",
              "      flex-wrap:wrap;\n",
              "      gap: 12px;\n",
              "    }\n",
              "\n",
              "    .colab-df-convert {\n",
              "      background-color: #E8F0FE;\n",
              "      border: none;\n",
              "      border-radius: 50%;\n",
              "      cursor: pointer;\n",
              "      display: none;\n",
              "      fill: #1967D2;\n",
              "      height: 32px;\n",
              "      padding: 0 0 0 0;\n",
              "      width: 32px;\n",
              "    }\n",
              "\n",
              "    .colab-df-convert:hover {\n",
              "      background-color: #E2EBFA;\n",
              "      box-shadow: 0px 1px 2px rgba(60, 64, 67, 0.3), 0px 1px 3px 1px rgba(60, 64, 67, 0.15);\n",
              "      fill: #174EA6;\n",
              "    }\n",
              "\n",
              "    [theme=dark] .colab-df-convert {\n",
              "      background-color: #3B4455;\n",
              "      fill: #D2E3FC;\n",
              "    }\n",
              "\n",
              "    [theme=dark] .colab-df-convert:hover {\n",
              "      background-color: #434B5C;\n",
              "      box-shadow: 0px 1px 3px 1px rgba(0, 0, 0, 0.15);\n",
              "      filter: drop-shadow(0px 1px 2px rgba(0, 0, 0, 0.3));\n",
              "      fill: #FFFFFF;\n",
              "    }\n",
              "  </style>\n",
              "\n",
              "      <script>\n",
              "        const buttonEl =\n",
              "          document.querySelector('#df-781185d7-4b2d-44f2-9a2c-ee2356efe1f7 button.colab-df-convert');\n",
              "        buttonEl.style.display =\n",
              "          google.colab.kernel.accessAllowed ? 'block' : 'none';\n",
              "\n",
              "        async function convertToInteractive(key) {\n",
              "          const element = document.querySelector('#df-781185d7-4b2d-44f2-9a2c-ee2356efe1f7');\n",
              "          const dataTable =\n",
              "            await google.colab.kernel.invokeFunction('convertToInteractive',\n",
              "                                                     [key], {});\n",
              "          if (!dataTable) return;\n",
              "\n",
              "          const docLinkHtml = 'Like what you see? Visit the ' +\n",
              "            '<a target=\"_blank\" href=https://colab.research.google.com/notebooks/data_table.ipynb>data table notebook</a>'\n",
              "            + ' to learn more about interactive tables.';\n",
              "          element.innerHTML = '';\n",
              "          dataTable['output_type'] = 'display_data';\n",
              "          await google.colab.output.renderOutput(dataTable, element);\n",
              "          const docLink = document.createElement('div');\n",
              "          docLink.innerHTML = docLinkHtml;\n",
              "          element.appendChild(docLink);\n",
              "        }\n",
              "      </script>\n",
              "    </div>\n",
              "  </div>\n",
              "  "
            ]
          },
          "metadata": {},
          "execution_count": 4
        }
      ]
    },
    {
      "cell_type": "markdown",
      "source": [
        "2. провести исследование и выявить тематики о которых говорят в твитах "
      ],
      "metadata": {
        "id": "lli2VOaEj-FL"
      }
    },
    {
      "cell_type": "code",
      "source": [
        "import re\n",
        "import numpy as np\n",
        "from nltk.corpus import stopwords\n",
        "from tqdm.notebook import tqdm\n",
        "from multiprocessing import Pool\n",
        "from pymystem3 import Mystem"
      ],
      "metadata": {
        "id": "-6gD7WQ2jn_K"
      },
      "execution_count": 5,
      "outputs": []
    },
    {
      "cell_type": "code",
      "source": [
        "import nltk\n",
        "nltk.download('stopwords')"
      ],
      "metadata": {
        "colab": {
          "base_uri": "https://localhost:8080/"
        },
        "id": "3q_uPKTDjoCk",
        "outputId": "eda4c4c3-176f-43c8-e514-bd7dc34bd4a7"
      },
      "execution_count": 6,
      "outputs": [
        {
          "output_type": "stream",
          "name": "stdout",
          "text": [
            "[nltk_data] Downloading package stopwords to /root/nltk_data...\n",
            "[nltk_data]   Unzipping corpora/stopwords.zip.\n"
          ]
        },
        {
          "output_type": "execute_result",
          "data": {
            "text/plain": [
              "True"
            ]
          },
          "metadata": {},
          "execution_count": 6
        }
      ]
    },
    {
      "cell_type": "code",
      "source": [
        "! pip install pymorphy2"
      ],
      "metadata": {
        "colab": {
          "base_uri": "https://localhost:8080/"
        },
        "id": "g61vnZmFk4ZR",
        "outputId": "eeb0b1f6-ee1e-47a3-f6dc-c9fe85a2d303"
      },
      "execution_count": 7,
      "outputs": [
        {
          "output_type": "stream",
          "name": "stdout",
          "text": [
            "Looking in indexes: https://pypi.org/simple, https://us-python.pkg.dev/colab-wheels/public/simple/\n",
            "Collecting pymorphy2\n",
            "  Downloading pymorphy2-0.9.1-py3-none-any.whl (55 kB)\n",
            "\u001b[K     |████████████████████████████████| 55 kB 2.3 MB/s \n",
            "\u001b[?25hRequirement already satisfied: docopt>=0.6 in /usr/local/lib/python3.7/dist-packages (from pymorphy2) (0.6.2)\n",
            "Collecting pymorphy2-dicts-ru<3.0,>=2.4\n",
            "  Downloading pymorphy2_dicts_ru-2.4.417127.4579844-py2.py3-none-any.whl (8.2 MB)\n",
            "\u001b[K     |████████████████████████████████| 8.2 MB 10.7 MB/s \n",
            "\u001b[?25hCollecting dawg-python>=0.7.1\n",
            "  Downloading DAWG_Python-0.7.2-py2.py3-none-any.whl (11 kB)\n",
            "Installing collected packages: pymorphy2-dicts-ru, dawg-python, pymorphy2\n",
            "Successfully installed dawg-python-0.7.2 pymorphy2-0.9.1 pymorphy2-dicts-ru-2.4.417127.4579844\n"
          ]
        }
      ]
    },
    {
      "cell_type": "code",
      "source": [
        "import pymorphy2\n",
        "morph = pymorphy2.MorphAnalyzer()"
      ],
      "metadata": {
        "id": "Jee7YV4nk4be"
      },
      "execution_count": 8,
      "outputs": []
    },
    {
      "cell_type": "markdown",
      "source": [
        "Пишем функции по предобработке текста"
      ],
      "metadata": {
        "id": "1vb3KGePUPWZ"
      }
    },
    {
      "cell_type": "code",
      "source": [
        "import nltk\n",
        "nltk.download('averaged_perceptron_tagger_ru')\n",
        "\n",
        "words_regex = re.compile('\\w+')\n",
        "\n",
        "def find_words(text, regex = words_regex):\n",
        "    tokens =  regex.findall(text.lower())\n",
        "    return [w for w in tokens if w.isalpha() and len(w) >= 3]\n",
        "\n",
        "\n",
        "stopwords_list = stopwords.words('russian')\n",
        "\n",
        "#Дополним список стоп-слов\n",
        "add_stop_words = ['ахах', 'мочь', 'супер', 'хотяб', 'ахахаххах', 'аахха', 'настюха',\n",
        "                  'оля', 'блин']\n",
        "stopwords_list += add_stop_words\n",
        "\n",
        "# mystem = Mystem()\n",
        "# def lemmatize(words, lemmer = mystem, stopwords = stopwords_list):\n",
        "#     lemmas = lemmer.lemmatize(' '.join(words))\n",
        "#     return [w for w in lemmas if not w in stopwords \n",
        "#             and w.isalpha()]\n",
        "\n",
        "def lemmatize(words, lemmer = morph, stopwords = stopwords_list):\n",
        "    lemmas = [lemmer.parse(w)[0].normal_form for w in words]\n",
        "    return [w for w in lemmas if not w in stopwords \n",
        "            and w.isalpha()]\n",
        "\n",
        "# Добавим также выделение частей речи в токенах, чтобы в дальнейшем отфильтровать\n",
        "def preprocess(text):\n",
        "    result = (lemmatize(find_words(text)))\n",
        "    return nltk.pos_tag(result, lang='rus')"
      ],
      "metadata": {
        "colab": {
          "base_uri": "https://localhost:8080/"
        },
        "id": "c6p0WXP9ozDC",
        "outputId": "d6f67e46-9961-4b79-8e4a-bf1e6d723527"
      },
      "execution_count": 16,
      "outputs": [
        {
          "output_type": "stream",
          "name": "stdout",
          "text": [
            "[nltk_data] Downloading package averaged_perceptron_tagger_ru to\n",
            "[nltk_data]     /root/nltk_data...\n",
            "[nltk_data]   Package averaged_perceptron_tagger_ru is already up-to-\n",
            "[nltk_data]       date!\n"
          ]
        }
      ]
    },
    {
      "cell_type": "markdown",
      "source": [
        "Пример предобработки"
      ],
      "metadata": {
        "id": "X_NIB38MUtMN"
      }
    },
    {
      "cell_type": "code",
      "source": [
        "data.text.iloc[1]"
      ],
      "metadata": {
        "colab": {
          "base_uri": "https://localhost:8080/",
          "height": 36
        },
        "id": "gqv6Rm68k97a",
        "outputId": "09559425-cfcc-40c0-8ff0-09746157b280"
      },
      "execution_count": 17,
      "outputs": [
        {
          "output_type": "execute_result",
          "data": {
            "text/plain": [
              "'Да, все-таки он немного похож на него. Но мой мальчик все равно лучше:D'"
            ],
            "application/vnd.google.colaboratory.intrinsic+json": {
              "type": "string"
            }
          },
          "metadata": {},
          "execution_count": 17
        }
      ]
    },
    {
      "cell_type": "code",
      "source": [
        "print(preprocess(data.text.iloc[1]))"
      ],
      "metadata": {
        "colab": {
          "base_uri": "https://localhost:8080/"
        },
        "id": "tkhbIWuxk-CQ",
        "outputId": "bc5059ce-b9b7-4416-8889-865c4b800f57"
      },
      "execution_count": 18,
      "outputs": [
        {
          "output_type": "stream",
          "name": "stdout",
          "text": [
            "[('всё', 'S-PRO'), ('таки', 'PART'), ('немного', 'ADV'), ('похожий', 'A=m'), ('мальчик', 'S'), ('всё', 'S-PRO'), ('равно', 'A=n'), ('хороший', 'A=m')]\n"
          ]
        }
      ]
    },
    {
      "cell_type": "markdown",
      "source": [
        "Предобработаем вес корпус твитов"
      ],
      "metadata": {
        "id": "e_dlM1TzUxGB"
      }
    },
    {
      "cell_type": "code",
      "source": [
        "#data = data.sample(40000)"
      ],
      "metadata": {
        "id": "lL8t3jKHlp57"
      },
      "execution_count": 55,
      "outputs": []
    },
    {
      "cell_type": "code",
      "source": [
        "preprocessed_text = list(tqdm(map(preprocess, data.text), total=len(data)))"
      ],
      "metadata": {
        "colab": {
          "base_uri": "https://localhost:8080/",
          "height": 49,
          "referenced_widgets": [
            "fe3d963611f3469a85d53e0281712e21",
            "2d1ec43fb879411693d75b2c1cfc0abe",
            "bdcd3c4f8b494ec7b3b79ec4c0a5e456",
            "0ecdb310c8db4fa68f2517fbb8847e3e",
            "cc6264e17e854f459fdbbddc3958b170",
            "c7fac3c43ff644549dcb8ecaca09a6a0",
            "ae2f2a8bda134dda96f79d2dfbeaae3b",
            "60146359a65e48e79b38aad15d7623ec",
            "a1585d062fb84973880b0a72eb4654e5",
            "40c9896447d4485fa1da268953343e84",
            "b96081da853c45b0bab465b85b32457d"
          ]
        },
        "id": "QVOBUN0_k-EO",
        "outputId": "c1a58f81-87a5-43f8-9f82-2a3910d6e214"
      },
      "execution_count": 19,
      "outputs": [
        {
          "output_type": "display_data",
          "data": {
            "text/plain": [
              "  0%|          | 0/226834 [00:00<?, ?it/s]"
            ],
            "application/vnd.jupyter.widget-view+json": {
              "version_major": 2,
              "version_minor": 0,
              "model_id": "fe3d963611f3469a85d53e0281712e21"
            }
          },
          "metadata": {}
        }
      ]
    },
    {
      "cell_type": "code",
      "source": [
        "preprocessed_text[:5]"
      ],
      "metadata": {
        "colab": {
          "base_uri": "https://localhost:8080/"
        },
        "id": "dw96nXvUk-Hp",
        "outputId": "be07e39e-6956-4f5a-f083-9cc7e2f8e4a0"
      },
      "execution_count": 20,
      "outputs": [
        {
          "output_type": "execute_result",
          "data": {
            "text/plain": [
              "[[('школотый', 'A=m'),\n",
              "  ('поверь', 'S'),\n",
              "  ('самый', 'A-PRO=m'),\n",
              "  ('общество', 'S'),\n",
              "  ('профилировать', 'V'),\n",
              "  ('предмет', 'S'),\n",
              "  ('тип', 'S')],\n",
              " [('всё', 'S-PRO'),\n",
              "  ('таки', 'PART'),\n",
              "  ('немного', 'ADV'),\n",
              "  ('похожий', 'A=m'),\n",
              "  ('мальчик', 'S'),\n",
              "  ('всё', 'S-PRO'),\n",
              "  ('равно', 'A=n'),\n",
              "  ('хороший', 'A=m')],\n",
              " [('katiacheh', 'NONLEX'), ('идиотка', 'S'), ('испугаться', 'V')],\n",
              " [('угол', 'S'),\n",
              "  ('сидеть', 'V'),\n",
              "  ('погибать', 'V'),\n",
              "  ('голод', 'S'),\n",
              "  ('ещё', 'ADV'),\n",
              "  ('порция', 'S'),\n",
              "  ('взять', 'V'),\n",
              "  ('хотя', 'PART'),\n",
              "  ('жрать', 'V'),\n",
              "  ('хотеть', 'V'),\n",
              "  ('http', 'NONLEX')],\n",
              " [('значит', 'V'),\n",
              "  ('страшилка', 'S'),\n",
              "  ('посмотреть', 'V'),\n",
              "  ('всё', 'ADV'),\n",
              "  ('часть', 'S'),\n",
              "  ('создаться', 'V'),\n",
              "  ('ощущение', 'S'),\n",
              "  ('автор', 'S'),\n",
              "  ('курить', 'V')]]"
            ]
          },
          "metadata": {},
          "execution_count": 20
        }
      ]
    },
    {
      "cell_type": "markdown",
      "source": [
        "Создадим функцию, которая будет оставлять только существительные из всего корпуса"
      ],
      "metadata": {
        "id": "IleNQqv3U1V-"
      }
    },
    {
      "cell_type": "code",
      "source": [
        "def only_nouns(preprocessed_text):\n",
        "    token_list = []\n",
        "    for tweet in preprocessed_text:\n",
        "        token_list.append([w[0] for w in tweet if w[1]=='S'])\n",
        "    return token_list\n"
      ],
      "metadata": {
        "id": "U9QIrrbUsbel"
      },
      "execution_count": 21,
      "outputs": []
    },
    {
      "cell_type": "markdown",
      "source": [
        "Воспользуемся этой функцией для нашего корпуса"
      ],
      "metadata": {
        "id": "bC_Qz_yyU9wn"
      }
    },
    {
      "cell_type": "code",
      "source": [
        "data['text'] = only_nouns(preprocessed_text=preprocessed_text)\n",
        "data.sample(8)\n"
      ],
      "metadata": {
        "colab": {
          "base_uri": "https://localhost:8080/",
          "height": 300
        },
        "id": "BOa5KGbemdOa",
        "outputId": "5cd7add2-46c5-496f-cb3f-801c9d8f1218"
      },
      "execution_count": 22,
      "outputs": [
        {
          "output_type": "execute_result",
          "data": {
            "text/plain": [
              "                                                     text\n",
              "8597                                                   []\n",
              "15061                                    [уха, клёв, ахи]\n",
              "6382                                        [час, момент]\n",
              "36619                                                  []\n",
              "103932                                           [мнение]\n",
              "81289   [шанс, дверь, главное, ключик, надежда, олег, ...\n",
              "71813      [андрей, бедняк, пост, программа, орёл, решка]\n",
              "98256                               [контакт, катастрофа]"
            ],
            "text/html": [
              "\n",
              "  <div id=\"df-19990b64-1766-4099-8abf-d063a3a8a7ca\">\n",
              "    <div class=\"colab-df-container\">\n",
              "      <div>\n",
              "<style scoped>\n",
              "    .dataframe tbody tr th:only-of-type {\n",
              "        vertical-align: middle;\n",
              "    }\n",
              "\n",
              "    .dataframe tbody tr th {\n",
              "        vertical-align: top;\n",
              "    }\n",
              "\n",
              "    .dataframe thead th {\n",
              "        text-align: right;\n",
              "    }\n",
              "</style>\n",
              "<table border=\"1\" class=\"dataframe\">\n",
              "  <thead>\n",
              "    <tr style=\"text-align: right;\">\n",
              "      <th></th>\n",
              "      <th>text</th>\n",
              "    </tr>\n",
              "  </thead>\n",
              "  <tbody>\n",
              "    <tr>\n",
              "      <th>8597</th>\n",
              "      <td>[]</td>\n",
              "    </tr>\n",
              "    <tr>\n",
              "      <th>15061</th>\n",
              "      <td>[уха, клёв, ахи]</td>\n",
              "    </tr>\n",
              "    <tr>\n",
              "      <th>6382</th>\n",
              "      <td>[час, момент]</td>\n",
              "    </tr>\n",
              "    <tr>\n",
              "      <th>36619</th>\n",
              "      <td>[]</td>\n",
              "    </tr>\n",
              "    <tr>\n",
              "      <th>103932</th>\n",
              "      <td>[мнение]</td>\n",
              "    </tr>\n",
              "    <tr>\n",
              "      <th>81289</th>\n",
              "      <td>[шанс, дверь, главное, ключик, надежда, олег, ...</td>\n",
              "    </tr>\n",
              "    <tr>\n",
              "      <th>71813</th>\n",
              "      <td>[андрей, бедняк, пост, программа, орёл, решка]</td>\n",
              "    </tr>\n",
              "    <tr>\n",
              "      <th>98256</th>\n",
              "      <td>[контакт, катастрофа]</td>\n",
              "    </tr>\n",
              "  </tbody>\n",
              "</table>\n",
              "</div>\n",
              "      <button class=\"colab-df-convert\" onclick=\"convertToInteractive('df-19990b64-1766-4099-8abf-d063a3a8a7ca')\"\n",
              "              title=\"Convert this dataframe to an interactive table.\"\n",
              "              style=\"display:none;\">\n",
              "        \n",
              "  <svg xmlns=\"http://www.w3.org/2000/svg\" height=\"24px\"viewBox=\"0 0 24 24\"\n",
              "       width=\"24px\">\n",
              "    <path d=\"M0 0h24v24H0V0z\" fill=\"none\"/>\n",
              "    <path d=\"M18.56 5.44l.94 2.06.94-2.06 2.06-.94-2.06-.94-.94-2.06-.94 2.06-2.06.94zm-11 1L8.5 8.5l.94-2.06 2.06-.94-2.06-.94L8.5 2.5l-.94 2.06-2.06.94zm10 10l.94 2.06.94-2.06 2.06-.94-2.06-.94-.94-2.06-.94 2.06-2.06.94z\"/><path d=\"M17.41 7.96l-1.37-1.37c-.4-.4-.92-.59-1.43-.59-.52 0-1.04.2-1.43.59L10.3 9.45l-7.72 7.72c-.78.78-.78 2.05 0 2.83L4 21.41c.39.39.9.59 1.41.59.51 0 1.02-.2 1.41-.59l7.78-7.78 2.81-2.81c.8-.78.8-2.07 0-2.86zM5.41 20L4 18.59l7.72-7.72 1.47 1.35L5.41 20z\"/>\n",
              "  </svg>\n",
              "      </button>\n",
              "      \n",
              "  <style>\n",
              "    .colab-df-container {\n",
              "      display:flex;\n",
              "      flex-wrap:wrap;\n",
              "      gap: 12px;\n",
              "    }\n",
              "\n",
              "    .colab-df-convert {\n",
              "      background-color: #E8F0FE;\n",
              "      border: none;\n",
              "      border-radius: 50%;\n",
              "      cursor: pointer;\n",
              "      display: none;\n",
              "      fill: #1967D2;\n",
              "      height: 32px;\n",
              "      padding: 0 0 0 0;\n",
              "      width: 32px;\n",
              "    }\n",
              "\n",
              "    .colab-df-convert:hover {\n",
              "      background-color: #E2EBFA;\n",
              "      box-shadow: 0px 1px 2px rgba(60, 64, 67, 0.3), 0px 1px 3px 1px rgba(60, 64, 67, 0.15);\n",
              "      fill: #174EA6;\n",
              "    }\n",
              "\n",
              "    [theme=dark] .colab-df-convert {\n",
              "      background-color: #3B4455;\n",
              "      fill: #D2E3FC;\n",
              "    }\n",
              "\n",
              "    [theme=dark] .colab-df-convert:hover {\n",
              "      background-color: #434B5C;\n",
              "      box-shadow: 0px 1px 3px 1px rgba(0, 0, 0, 0.15);\n",
              "      filter: drop-shadow(0px 1px 2px rgba(0, 0, 0, 0.3));\n",
              "      fill: #FFFFFF;\n",
              "    }\n",
              "  </style>\n",
              "\n",
              "      <script>\n",
              "        const buttonEl =\n",
              "          document.querySelector('#df-19990b64-1766-4099-8abf-d063a3a8a7ca button.colab-df-convert');\n",
              "        buttonEl.style.display =\n",
              "          google.colab.kernel.accessAllowed ? 'block' : 'none';\n",
              "\n",
              "        async function convertToInteractive(key) {\n",
              "          const element = document.querySelector('#df-19990b64-1766-4099-8abf-d063a3a8a7ca');\n",
              "          const dataTable =\n",
              "            await google.colab.kernel.invokeFunction('convertToInteractive',\n",
              "                                                     [key], {});\n",
              "          if (!dataTable) return;\n",
              "\n",
              "          const docLinkHtml = 'Like what you see? Visit the ' +\n",
              "            '<a target=\"_blank\" href=https://colab.research.google.com/notebooks/data_table.ipynb>data table notebook</a>'\n",
              "            + ' to learn more about interactive tables.';\n",
              "          element.innerHTML = '';\n",
              "          dataTable['output_type'] = 'display_data';\n",
              "          await google.colab.output.renderOutput(dataTable, element);\n",
              "          const docLink = document.createElement('div');\n",
              "          docLink.innerHTML = docLinkHtml;\n",
              "          element.appendChild(docLink);\n",
              "        }\n",
              "      </script>\n",
              "    </div>\n",
              "  </div>\n",
              "  "
            ]
          },
          "metadata": {},
          "execution_count": 22
        }
      ]
    },
    {
      "cell_type": "markdown",
      "source": [
        "Отфильтруем твиты, где оказалось меньше 3 существительных"
      ],
      "metadata": {
        "id": "nviL1ZU8VDYV"
      }
    },
    {
      "cell_type": "code",
      "source": [
        "data = data[data['text'].map(lambda d: len(d)) > 2]"
      ],
      "metadata": {
        "id": "4rDLQiqn1zqa"
      },
      "execution_count": 23,
      "outputs": []
    },
    {
      "cell_type": "code",
      "source": [
        "data.head(5)"
      ],
      "metadata": {
        "colab": {
          "base_uri": "https://localhost:8080/",
          "height": 206
        },
        "id": "9XadCAFY0gUl",
        "outputId": "57368c56-3ba3-4c4e-eb34-372d7a8fff15"
      },
      "execution_count": 24,
      "outputs": [
        {
          "output_type": "execute_result",
          "data": {
            "text/plain": [
              "                                   text\n",
              "0      [поверь, общество, предмет, тип]\n",
              "3                 [угол, голод, порция]\n",
              "4   [страшилка, часть, ощущение, автор]\n",
              "14               [обзор, версия, мусор]\n",
              "15          [аспирантура, наука, добро]"
            ],
            "text/html": [
              "\n",
              "  <div id=\"df-55038f7a-a87b-49e1-a43a-d7eb758e58ff\">\n",
              "    <div class=\"colab-df-container\">\n",
              "      <div>\n",
              "<style scoped>\n",
              "    .dataframe tbody tr th:only-of-type {\n",
              "        vertical-align: middle;\n",
              "    }\n",
              "\n",
              "    .dataframe tbody tr th {\n",
              "        vertical-align: top;\n",
              "    }\n",
              "\n",
              "    .dataframe thead th {\n",
              "        text-align: right;\n",
              "    }\n",
              "</style>\n",
              "<table border=\"1\" class=\"dataframe\">\n",
              "  <thead>\n",
              "    <tr style=\"text-align: right;\">\n",
              "      <th></th>\n",
              "      <th>text</th>\n",
              "    </tr>\n",
              "  </thead>\n",
              "  <tbody>\n",
              "    <tr>\n",
              "      <th>0</th>\n",
              "      <td>[поверь, общество, предмет, тип]</td>\n",
              "    </tr>\n",
              "    <tr>\n",
              "      <th>3</th>\n",
              "      <td>[угол, голод, порция]</td>\n",
              "    </tr>\n",
              "    <tr>\n",
              "      <th>4</th>\n",
              "      <td>[страшилка, часть, ощущение, автор]</td>\n",
              "    </tr>\n",
              "    <tr>\n",
              "      <th>14</th>\n",
              "      <td>[обзор, версия, мусор]</td>\n",
              "    </tr>\n",
              "    <tr>\n",
              "      <th>15</th>\n",
              "      <td>[аспирантура, наука, добро]</td>\n",
              "    </tr>\n",
              "  </tbody>\n",
              "</table>\n",
              "</div>\n",
              "      <button class=\"colab-df-convert\" onclick=\"convertToInteractive('df-55038f7a-a87b-49e1-a43a-d7eb758e58ff')\"\n",
              "              title=\"Convert this dataframe to an interactive table.\"\n",
              "              style=\"display:none;\">\n",
              "        \n",
              "  <svg xmlns=\"http://www.w3.org/2000/svg\" height=\"24px\"viewBox=\"0 0 24 24\"\n",
              "       width=\"24px\">\n",
              "    <path d=\"M0 0h24v24H0V0z\" fill=\"none\"/>\n",
              "    <path d=\"M18.56 5.44l.94 2.06.94-2.06 2.06-.94-2.06-.94-.94-2.06-.94 2.06-2.06.94zm-11 1L8.5 8.5l.94-2.06 2.06-.94-2.06-.94L8.5 2.5l-.94 2.06-2.06.94zm10 10l.94 2.06.94-2.06 2.06-.94-2.06-.94-.94-2.06-.94 2.06-2.06.94z\"/><path d=\"M17.41 7.96l-1.37-1.37c-.4-.4-.92-.59-1.43-.59-.52 0-1.04.2-1.43.59L10.3 9.45l-7.72 7.72c-.78.78-.78 2.05 0 2.83L4 21.41c.39.39.9.59 1.41.59.51 0 1.02-.2 1.41-.59l7.78-7.78 2.81-2.81c.8-.78.8-2.07 0-2.86zM5.41 20L4 18.59l7.72-7.72 1.47 1.35L5.41 20z\"/>\n",
              "  </svg>\n",
              "      </button>\n",
              "      \n",
              "  <style>\n",
              "    .colab-df-container {\n",
              "      display:flex;\n",
              "      flex-wrap:wrap;\n",
              "      gap: 12px;\n",
              "    }\n",
              "\n",
              "    .colab-df-convert {\n",
              "      background-color: #E8F0FE;\n",
              "      border: none;\n",
              "      border-radius: 50%;\n",
              "      cursor: pointer;\n",
              "      display: none;\n",
              "      fill: #1967D2;\n",
              "      height: 32px;\n",
              "      padding: 0 0 0 0;\n",
              "      width: 32px;\n",
              "    }\n",
              "\n",
              "    .colab-df-convert:hover {\n",
              "      background-color: #E2EBFA;\n",
              "      box-shadow: 0px 1px 2px rgba(60, 64, 67, 0.3), 0px 1px 3px 1px rgba(60, 64, 67, 0.15);\n",
              "      fill: #174EA6;\n",
              "    }\n",
              "\n",
              "    [theme=dark] .colab-df-convert {\n",
              "      background-color: #3B4455;\n",
              "      fill: #D2E3FC;\n",
              "    }\n",
              "\n",
              "    [theme=dark] .colab-df-convert:hover {\n",
              "      background-color: #434B5C;\n",
              "      box-shadow: 0px 1px 3px 1px rgba(0, 0, 0, 0.15);\n",
              "      filter: drop-shadow(0px 1px 2px rgba(0, 0, 0, 0.3));\n",
              "      fill: #FFFFFF;\n",
              "    }\n",
              "  </style>\n",
              "\n",
              "      <script>\n",
              "        const buttonEl =\n",
              "          document.querySelector('#df-55038f7a-a87b-49e1-a43a-d7eb758e58ff button.colab-df-convert');\n",
              "        buttonEl.style.display =\n",
              "          google.colab.kernel.accessAllowed ? 'block' : 'none';\n",
              "\n",
              "        async function convertToInteractive(key) {\n",
              "          const element = document.querySelector('#df-55038f7a-a87b-49e1-a43a-d7eb758e58ff');\n",
              "          const dataTable =\n",
              "            await google.colab.kernel.invokeFunction('convertToInteractive',\n",
              "                                                     [key], {});\n",
              "          if (!dataTable) return;\n",
              "\n",
              "          const docLinkHtml = 'Like what you see? Visit the ' +\n",
              "            '<a target=\"_blank\" href=https://colab.research.google.com/notebooks/data_table.ipynb>data table notebook</a>'\n",
              "            + ' to learn more about interactive tables.';\n",
              "          element.innerHTML = '';\n",
              "          dataTable['output_type'] = 'display_data';\n",
              "          await google.colab.output.renderOutput(dataTable, element);\n",
              "          const docLink = document.createElement('div');\n",
              "          docLink.innerHTML = docLinkHtml;\n",
              "          element.appendChild(docLink);\n",
              "        }\n",
              "      </script>\n",
              "    </div>\n",
              "  </div>\n",
              "  "
            ]
          },
          "metadata": {},
          "execution_count": 24
        }
      ]
    },
    {
      "cell_type": "markdown",
      "source": [
        "Итого осталось следующее количество твитов для обучения"
      ],
      "metadata": {
        "id": "9OoojJjpVKVA"
      }
    },
    {
      "cell_type": "code",
      "source": [
        "len(data)"
      ],
      "metadata": {
        "colab": {
          "base_uri": "https://localhost:8080/"
        },
        "id": "AZXtMobqPgTX",
        "outputId": "56498bce-491e-41f2-b5d3-c6afa9f47121"
      },
      "execution_count": 25,
      "outputs": [
        {
          "output_type": "execute_result",
          "data": {
            "text/plain": [
              "96640"
            ]
          },
          "metadata": {},
          "execution_count": 25
        }
      ]
    },
    {
      "cell_type": "markdown",
      "source": [
        "## Создаем модель"
      ],
      "metadata": {
        "id": "4is-beOZVPL3"
      }
    },
    {
      "cell_type": "code",
      "source": [
        "!pip install -U gensim"
      ],
      "metadata": {
        "colab": {
          "base_uri": "https://localhost:8080/"
        },
        "id": "qEidrFBYk4e_",
        "outputId": "737faee7-7d16-44cf-990c-6a53e3a7ddc7"
      },
      "execution_count": 26,
      "outputs": [
        {
          "output_type": "stream",
          "name": "stdout",
          "text": [
            "Looking in indexes: https://pypi.org/simple, https://us-python.pkg.dev/colab-wheels/public/simple/\n",
            "Requirement already satisfied: gensim in /usr/local/lib/python3.7/dist-packages (3.6.0)\n",
            "Collecting gensim\n",
            "  Downloading gensim-4.2.0-cp37-cp37m-manylinux_2_12_x86_64.manylinux2010_x86_64.whl (24.1 MB)\n",
            "\u001b[K     |████████████████████████████████| 24.1 MB 63.3 MB/s \n",
            "\u001b[?25hRequirement already satisfied: scipy>=0.18.1 in /usr/local/lib/python3.7/dist-packages (from gensim) (1.4.1)\n",
            "Requirement already satisfied: numpy>=1.17.0 in /usr/local/lib/python3.7/dist-packages (from gensim) (1.21.6)\n",
            "Requirement already satisfied: smart-open>=1.8.1 in /usr/local/lib/python3.7/dist-packages (from gensim) (6.0.0)\n",
            "Installing collected packages: gensim\n",
            "  Attempting uninstall: gensim\n",
            "    Found existing installation: gensim 3.6.0\n",
            "    Uninstalling gensim-3.6.0:\n",
            "      Successfully uninstalled gensim-3.6.0\n",
            "Successfully installed gensim-4.2.0\n"
          ]
        }
      ]
    },
    {
      "cell_type": "code",
      "source": [
        "from gensim.models import *\n",
        "from gensim import corpora"
      ],
      "metadata": {
        "id": "K1WLXbgWnk9K"
      },
      "execution_count": 27,
      "outputs": []
    },
    {
      "cell_type": "markdown",
      "source": [
        "Модель использует векторное представление документов, например, мешок слов (bow), поэтому сперва создадим словарь:"
      ],
      "metadata": {
        "id": "u_9vaeVyn3s6"
      }
    },
    {
      "cell_type": "code",
      "source": [
        "dictionary = corpora.Dictionary(data['text'])\n",
        "\n",
        "dictionary.filter_extremes(no_below = 10, no_above = 0.9, keep_n=None) # игнорируем слова, которые встречаются реже 10 раз или составляют более 0.9 словаря \n",
        "dictionary.save('tweet.dict')"
      ],
      "metadata": {
        "id": "eEeC5bSznk-V"
      },
      "execution_count": 28,
      "outputs": []
    },
    {
      "cell_type": "markdown",
      "source": [
        "Векторизуем твиты:"
      ],
      "metadata": {
        "id": "zhoTQh1Yn47b"
      }
    },
    {
      "cell_type": "code",
      "source": [
        "corpus = [dictionary.doc2bow(text) for text in data['text']]\n",
        "corpora.MmCorpus.serialize('tweet.model', corpus) "
      ],
      "metadata": {
        "id": "qu78pGvQnlB7"
      },
      "execution_count": 29,
      "outputs": []
    },
    {
      "cell_type": "markdown",
      "source": [
        "Обучаем модель"
      ],
      "metadata": {
        "id": "SohwsjUzVUas"
      }
    },
    {
      "cell_type": "code",
      "source": [
        "%time lda = ldamodel.LdaModel(corpus, id2word=dictionary, num_topics=3, chunksize=200, update_every=1, passes=2)"
      ],
      "metadata": {
        "colab": {
          "base_uri": "https://localhost:8080/"
        },
        "id": "RsLfENgpnlEu",
        "outputId": "22086c77-f3b0-4642-e13a-c23dbf526f89"
      },
      "execution_count": 43,
      "outputs": [
        {
          "output_type": "stream",
          "name": "stdout",
          "text": [
            "CPU times: user 26.6 s, sys: 515 ms, total: 27.1 s\n",
            "Wall time: 27 s\n"
          ]
        }
      ]
    },
    {
      "cell_type": "markdown",
      "source": [
        "Смотрим топ-слова в получивщихся тематиках и их распределение"
      ],
      "metadata": {
        "id": "3J3A5bFvVWhr"
      }
    },
    {
      "cell_type": "code",
      "source": [
        "lda.show_topics(num_topics=5, num_words=10, formatted=True)"
      ],
      "metadata": {
        "colab": {
          "base_uri": "https://localhost:8080/"
        },
        "id": "XO22T5-QnlGn",
        "outputId": "d7b719cc-c84a-49b0-dc2b-557807499a9e"
      },
      "execution_count": 44,
      "outputs": [
        {
          "output_type": "execute_result",
          "data": {
            "text/plain": [
              "[(0,\n",
              "  '0.020*\"ночь\" + 0.017*\"неделя\" + 0.013*\"снег\" + 0.012*\"фотка\" + 0.012*\"фильм\" + 0.012*\"боль\" + 0.012*\"вечер\" + 0.011*\"бог\" + 0.010*\"пиздец\" + 0.010*\"место\"'),\n",
              " (1,\n",
              "  '0.062*\"день\" + 0.030*\"человек\" + 0.024*\"дом\" + 0.024*\"час\" + 0.020*\"время\" + 0.019*\"утро\" + 0.015*\"работа\" + 0.014*\"урок\" + 0.013*\"бля\" + 0.012*\"улица\"'),\n",
              " (2,\n",
              "  '0.033*\"год\" + 0.027*\"школа\" + 0.026*\"жизнь\" + 0.020*\"мама\" + 0.015*\"голова\" + 0.013*\"экзамен\" + 0.011*\"рука\" + 0.010*\"учёба\" + 0.009*\"конец\" + 0.009*\"чувство\"')]"
            ]
          },
          "metadata": {},
          "execution_count": 44
        }
      ]
    },
    {
      "cell_type": "markdown",
      "source": [
        "3. сделать визуализацию кластеров тематик"
      ],
      "metadata": {
        "id": "LSYLExd4Ve2s"
      }
    },
    {
      "cell_type": "code",
      "source": [
        "!pip install pyLDAvis"
      ],
      "metadata": {
        "colab": {
          "base_uri": "https://localhost:8080/"
        },
        "id": "EwMyBQyenlI6",
        "outputId": "990657a5-eff5-418e-8f3d-ac596fd03625"
      },
      "execution_count": 35,
      "outputs": [
        {
          "output_type": "stream",
          "name": "stdout",
          "text": [
            "Looking in indexes: https://pypi.org/simple, https://us-python.pkg.dev/colab-wheels/public/simple/\n",
            "Collecting pyLDAvis\n",
            "  Downloading pyLDAvis-3.3.1.tar.gz (1.7 MB)\n",
            "\u001b[K     |████████████████████████████████| 1.7 MB 5.4 MB/s \n",
            "\u001b[?25h  Installing build dependencies ... \u001b[?25l\u001b[?25hdone\n",
            "  Getting requirements to build wheel ... \u001b[?25l\u001b[?25hdone\n",
            "  Installing backend dependencies ... \u001b[?25l\u001b[?25hdone\n",
            "    Preparing wheel metadata ... \u001b[?25l\u001b[?25hdone\n",
            "Requirement already satisfied: joblib in /usr/local/lib/python3.7/dist-packages (from pyLDAvis) (1.1.0)\n",
            "Collecting funcy\n",
            "  Downloading funcy-1.17-py2.py3-none-any.whl (33 kB)\n",
            "Requirement already satisfied: numexpr in /usr/local/lib/python3.7/dist-packages (from pyLDAvis) (2.8.1)\n",
            "Requirement already satisfied: pandas>=1.2.0 in /usr/local/lib/python3.7/dist-packages (from pyLDAvis) (1.3.5)\n",
            "Requirement already satisfied: scikit-learn in /usr/local/lib/python3.7/dist-packages (from pyLDAvis) (1.0.2)\n",
            "Requirement already satisfied: jinja2 in /usr/local/lib/python3.7/dist-packages (from pyLDAvis) (2.11.3)\n",
            "Requirement already satisfied: scipy in /usr/local/lib/python3.7/dist-packages (from pyLDAvis) (1.4.1)\n",
            "Requirement already satisfied: numpy>=1.20.0 in /usr/local/lib/python3.7/dist-packages (from pyLDAvis) (1.21.6)\n",
            "Requirement already satisfied: future in /usr/local/lib/python3.7/dist-packages (from pyLDAvis) (0.16.0)\n",
            "Requirement already satisfied: gensim in /usr/local/lib/python3.7/dist-packages (from pyLDAvis) (4.2.0)\n",
            "Requirement already satisfied: sklearn in /usr/local/lib/python3.7/dist-packages (from pyLDAvis) (0.0)\n",
            "Requirement already satisfied: setuptools in /usr/local/lib/python3.7/dist-packages (from pyLDAvis) (57.4.0)\n",
            "Requirement already satisfied: pytz>=2017.3 in /usr/local/lib/python3.7/dist-packages (from pandas>=1.2.0->pyLDAvis) (2022.1)\n",
            "Requirement already satisfied: python-dateutil>=2.7.3 in /usr/local/lib/python3.7/dist-packages (from pandas>=1.2.0->pyLDAvis) (2.8.2)\n",
            "Requirement already satisfied: six>=1.5 in /usr/local/lib/python3.7/dist-packages (from python-dateutil>=2.7.3->pandas>=1.2.0->pyLDAvis) (1.15.0)\n",
            "Requirement already satisfied: smart-open>=1.8.1 in /usr/local/lib/python3.7/dist-packages (from gensim->pyLDAvis) (6.0.0)\n",
            "Requirement already satisfied: MarkupSafe>=0.23 in /usr/local/lib/python3.7/dist-packages (from jinja2->pyLDAvis) (2.0.1)\n",
            "Requirement already satisfied: packaging in /usr/local/lib/python3.7/dist-packages (from numexpr->pyLDAvis) (21.3)\n",
            "Requirement already satisfied: pyparsing!=3.0.5,>=2.0.2 in /usr/local/lib/python3.7/dist-packages (from packaging->numexpr->pyLDAvis) (3.0.9)\n",
            "Requirement already satisfied: threadpoolctl>=2.0.0 in /usr/local/lib/python3.7/dist-packages (from scikit-learn->pyLDAvis) (3.1.0)\n",
            "Building wheels for collected packages: pyLDAvis\n",
            "  Building wheel for pyLDAvis (PEP 517) ... \u001b[?25l\u001b[?25hdone\n",
            "  Created wheel for pyLDAvis: filename=pyLDAvis-3.3.1-py2.py3-none-any.whl size=136898 sha256=8c869495876de142111e582f005c4c8f286404a304f4b0307ed912619d3bc547\n",
            "  Stored in directory: /root/.cache/pip/wheels/c9/21/f6/17bcf2667e8a68532ba2fbf6d5c72fdf4c7f7d9abfa4852d2f\n",
            "Successfully built pyLDAvis\n",
            "Installing collected packages: funcy, pyLDAvis\n",
            "Successfully installed funcy-1.17 pyLDAvis-3.3.1\n"
          ]
        }
      ]
    },
    {
      "cell_type": "code",
      "source": [
        "import pyLDAvis\n",
        "import pyLDAvis.gensim_models as gensimvis\n",
        "\n",
        "%time vis_data = gensimvis.prepare(lda, corpus, dictionary)\n",
        "pyLDAvis.display(vis_data)"
      ],
      "metadata": {
        "colab": {
          "base_uri": "https://localhost:8080/",
          "height": 953
        },
        "id": "RSPKHk9joVBq",
        "outputId": "b842b6e4-6b89-4702-9d30-0ba4233753c9"
      },
      "execution_count": 45,
      "outputs": [
        {
          "output_type": "stream",
          "name": "stderr",
          "text": [
            "/usr/local/lib/python3.7/dist-packages/pyLDAvis/_prepare.py:247: FutureWarning: In a future version of pandas all arguments of DataFrame.drop except for the argument 'labels' will be keyword-only\n",
            "  by='saliency', ascending=False).head(R).drop('saliency', 1)\n"
          ]
        },
        {
          "output_type": "stream",
          "name": "stdout",
          "text": [
            "CPU times: user 6.83 s, sys: 104 ms, total: 6.93 s\n",
            "Wall time: 7.12 s\n"
          ]
        },
        {
          "output_type": "execute_result",
          "data": {
            "text/plain": [
              "<IPython.core.display.HTML object>"
            ],
            "text/html": [
              "\n",
              "<link rel=\"stylesheet\" type=\"text/css\" href=\"https://cdn.jsdelivr.net/gh/bmabey/pyLDAvis@3.3.1/pyLDAvis/js/ldavis.v1.0.0.css\">\n",
              "\n",
              "\n",
              "<div id=\"ldavis_el601405174918012965348316791\"></div>\n",
              "<script type=\"text/javascript\">\n",
              "\n",
              "var ldavis_el601405174918012965348316791_data = {\"mdsDat\": {\"x\": [-0.3788043432489195, 0.20344124094984203, 0.17536310229907726], \"y\": [-0.015944630336741643, -0.3146930490593086, 0.33063767939605043], \"topics\": [1, 2, 3], \"cluster\": [1, 1, 1], \"Freq\": [36.404327065620414, 32.22458300157346, 31.37108993280613]}, \"tinfo\": {\"Term\": [\"\\u0434\\u0435\\u043d\\u044c\", \"\\u0433\\u043e\\u0434\", \"\\u0447\\u0435\\u043b\\u043e\\u0432\\u0435\\u043a\", \"\\u0448\\u043a\\u043e\\u043b\\u0430\", \"\\u0436\\u0438\\u0437\\u043d\\u044c\", \"\\u0434\\u043e\\u043c\", \"\\u0447\\u0430\\u0441\", \"\\u043c\\u0430\\u043c\\u0430\", \"\\u043d\\u043e\\u0447\\u044c\", \"\\u0432\\u0440\\u0435\\u043c\\u044f\", \"\\u0443\\u0442\\u0440\\u043e\", \"\\u043d\\u0435\\u0434\\u0435\\u043b\\u044f\", \"\\u0440\\u0430\\u0431\\u043e\\u0442\\u0430\", \"\\u0433\\u043e\\u043b\\u043e\\u0432\\u0430\", \"\\u0443\\u0440\\u043e\\u043a\", \"\\u0431\\u043b\\u044f\", \"\\u044d\\u043a\\u0437\\u0430\\u043c\\u0435\\u043d\", \"\\u0441\\u043d\\u0435\\u0433\", \"\\u0444\\u043e\\u0442\\u043a\\u0430\", \"\\u0444\\u0438\\u043b\\u044c\\u043c\", \"\\u0443\\u043b\\u0438\\u0446\\u0430\", \"\\u0431\\u043e\\u043b\\u044c\", \"\\u0432\\u0435\\u0447\\u0435\\u0440\", \"\\u0431\\u043e\\u0433\", \"\\u0440\\u0443\\u043a\\u0430\", \"\\u043f\\u0438\\u0437\\u0434\\u0435\\u0446\", \"\\u043c\\u0435\\u0441\\u0442\\u043e\", \"\\u0434\\u0435\\u043b\\u043e\", \"\\u043d\\u0430\\u0441\\u0442\\u0440\\u043e\\u0435\\u043d\\u0438\\u0435\", \"\\u0443\\u0447\\u0451\\u0431\\u0430\", \"\\u0434\\u0435\\u043d\\u044c\", \"\\u0447\\u0435\\u043b\\u043e\\u0432\\u0435\\u043a\", \"\\u0434\\u043e\\u043c\", \"\\u0447\\u0430\\u0441\", \"\\u0432\\u0440\\u0435\\u043c\\u044f\", \"\\u0443\\u0442\\u0440\\u043e\", \"\\u0440\\u0430\\u0431\\u043e\\u0442\\u0430\", \"\\u0443\\u0440\\u043e\\u043a\", \"\\u0431\\u043b\\u044f\", \"\\u0443\\u043b\\u0438\\u0446\\u0430\", \"\\u043d\\u0430\\u0441\\u0442\\u0440\\u043e\\u0435\\u043d\\u0438\\u0435\", \"\\u0434\\u0435\\u043b\\u043e\", \"\\u0441\\u043e\\u043d\", \"\\u0442\\u0435\\u043b\\u0435\\u0444\\u043e\\u043d\", \"\\u043c\\u0438\\u043d\\u0443\\u0442\\u0430\", \"\\u0441\\u0443\\u043a\\u0430\", \"\\u043c\\u0435\\u0441\\u044f\\u0446\", \"\\u043f\\u0430\\u0440\\u0430\", \"\\u043f\\u0430\\u0440\\u0435\\u043d\\u044c\", \"\\u043d\\u043e\\u0433\\u0430\", \"\\u0440\\u0435\\u0431\\u0451\\u043d\\u043e\\u043a\", \"\\u043a\\u0430\\u043d\\u0438\\u043a\\u0443\\u043b\\u044b\", \"\\u043f\\u0430\\u043f\\u0430\", \"\\u0441\\u043b\\u043e\\u0432\\u043e\", \"\\u0434\\u0435\\u043d\\u044c\\u0433\\u0430\", \"\\u043b\\u044e\\u0431\\u043e\\u0432\\u044c\", \"\\u0438\\u043d\\u0442\\u0435\\u0440\\u043d\\u0435\\u0442\", \"\\u0447\\u0435\\u0440\\u0442\\u0430\", \"\\u043c\\u0430\\u0448\\u0438\\u043d\\u0430\", \"\\u043b\\u0435\\u0442\\u043e\", \"\\u0441\\u0435\\u0437\\u043e\\u043d\", \"\\u0437\\u0438\\u043c\\u0430\", \"\\u0433\\u043e\\u0434\", \"\\u0448\\u043a\\u043e\\u043b\\u0430\", \"\\u0436\\u0438\\u0437\\u043d\\u044c\", \"\\u043c\\u0430\\u043c\\u0430\", \"\\u0433\\u043e\\u043b\\u043e\\u0432\\u0430\", \"\\u044d\\u043a\\u0437\\u0430\\u043c\\u0435\\u043d\", \"\\u0440\\u0443\\u043a\\u0430\", \"\\u043a\\u043e\\u043d\\u0435\\u0446\", \"\\u0443\\u0447\\u0451\\u0431\\u0430\", \"\\u0447\\u0443\\u0432\\u0441\\u0442\\u0432\\u043e\", \"\\u0433\\u043e\\u0440\\u043e\\u0434\", \"\\u0435\\u0434\\u0430\", \"\\u043f\\u0440\\u0430\\u0432\\u0434\\u0430\", \"\\u043a\\u043b\\u0430\\u0441\\u0441\", \"\\u0443\\u0436\\u0430\\u0441\", \"\\u0431\\u043b\\u044f\\u0434\\u044c\", \"\\u043f\\u0440\\u043e\\u0431\\u043b\\u0435\\u043c\\u0430\", \"\\u0441\\u0435\\u0440\\u0438\\u044f\", \"\\u0438\\u0441\\u0442\\u043e\\u0440\\u0438\\u044f\", \"\\u043f\\u0435\\u0441\\u043d\\u044f\", \"\\u043f\\u0435\\u0447\\u0430\\u043b\\u044c\", \"\\u043a\\u0430\\u043f\\u0435\\u0446\", \"\\u0441\\u0435\\u0441\\u0441\\u0438\\u044f\", \"\\u043c\\u0443\\u0437\\u044b\\u043a\\u0430\", \"\\u0441\\u0435\\u0440\\u0438\\u0430\\u043b\", \"\\u0434\\u043e\\u0436\\u0434\\u044c\", \"\\u0432\\u043e\\u0434\\u0430\", \"\\u0448\\u0435\\u0440\\u043b\\u043e\\u043a\", \"\\u0431\\u0438\\u043b\\u0435\\u0442\", \"\\u043c\\u0438\\u0440\", \"\\u0440\\u0430\\u043c\\u043a\\u0430\", \"\\u043d\\u0430\\u0447\\u0430\\u043b\\u043e\", \"\\u043d\\u043e\\u0447\\u044c\", \"\\u043d\\u0435\\u0434\\u0435\\u043b\\u044f\", \"\\u0441\\u043d\\u0435\\u0433\", \"\\u0444\\u043e\\u0442\\u043a\\u0430\", \"\\u0444\\u0438\\u043b\\u044c\\u043c\", \"\\u0431\\u043e\\u043b\\u044c\", \"\\u0432\\u0435\\u0447\\u0435\\u0440\", \"\\u0431\\u043e\\u0433\", \"\\u043c\\u0435\\u0441\\u0442\\u043e\", \"\\u043f\\u0438\\u0437\\u0434\\u0435\\u0446\", \"\\u0442\\u0432\\u0438\\u0442\\u0442\\u0435\\u0440\", \"\\u0433\\u043b\\u0430\\u0437\", \"\\u0434\\u0443\\u0448\\u0430\", \"\\u043b\\u0435\\u043d\\u0442\\u0430\", \"\\u0443\\u0442\\u0440\\u043e\\u043c\", \"\\u0434\\u0435\\u0432\\u0443\\u0448\\u043a\\u0430\", \"\\u043f\\u043e\\u0433\\u043e\\u0434\\u0430\", \"\\u0440\\u043e\\u0434\\u0438\\u0442\\u0435\\u043b\\u044c\", \"\\u0440\\u043e\\u0441\\u0441\\u0438\\u044f\", \"\\u043c\\u043e\\u043c\\u0435\\u043d\\u0442\", \"\\u043a\\u043d\\u0438\\u0433\\u0430\", \"\\u043d\\u043e\\u0432\\u043e\\u0441\\u0442\\u044c\", \"\\u0441\\u043f\\u0430\\u0441\\u0442\\u044c\", \"\\u043f\\u043e\\u0445\\u043e\\u0434\", \"\\u043b\\u0438\\u0446\\u043e\", \"\\u0441\\u0442\\u0440\\u0430\\u043d\\u0430\", \"\\u043d\\u043e\\u0440\\u043c\\u0430\", \"\\u043f\\u043b\\u0430\\u0447\", \"\\u043f\\u043e\\u0434\\u0440\\u0443\\u0433\\u0430\", \"\\u044f\\u043d\\u0432\\u0430\\u0440\\u044c\", \"\\u043f\\u043e\\u043d\\u0435\\u0434\\u0435\\u043b\\u044c\\u043d\\u0438\\u043a\"], \"Freq\": [7271.0, 3438.0, 3516.0, 2819.0, 2691.0, 2802.0, 2776.0, 2107.0, 2050.0, 2322.0, 2181.0, 1702.0, 1823.0, 1611.0, 1702.0, 1576.0, 1317.0, 1275.0, 1258.0, 1243.0, 1413.0, 1184.0, 1174.0, 1166.0, 1177.0, 1058.0, 1046.0, 1199.0, 1179.0, 1020.0, 7270.751266839899, 3515.3951970183584, 2801.723289861718, 2776.108791763014, 2321.4597808568415, 2180.9612642453444, 1822.638782376249, 1701.4762041359909, 1575.5215944590425, 1412.8687423416138, 1179.1457640250862, 1198.2663191127851, 1110.7779581681766, 1135.9050214262174, 1120.5010062850831, 1095.4982405555586, 985.6696458613117, 943.262376284346, 934.7305676206281, 955.5823001028483, 915.9629013275135, 835.5060099193461, 856.9658028419935, 796.9736664694618, 783.4242493728573, 677.9447528589208, 607.364801745823, 636.2570169027184, 577.1905902101557, 582.940063367825, 665.7412346623624, 590.9756684057992, 3437.8956560205293, 2818.3942071701053, 2690.3413630075524, 2107.1063139401667, 1611.0047774307213, 1316.6642457327011, 1176.962092637849, 970.3204382847468, 1020.1566602304672, 943.7372324445927, 920.7761646218507, 900.732930202024, 780.3936235797389, 756.4297536708788, 769.4489588495038, 771.3565192398213, 735.2309997846862, 687.5510618660463, 689.6086229360734, 708.3361980953164, 682.1854327658128, 657.2544659779064, 658.4081904814167, 629.8411140733308, 557.5047416586592, 731.1092799433253, 576.8816567590126, 587.3983926419907, 521.1889561408394, 515.5712560406799, 675.4021225972889, 543.3796938235074, 2049.3550250862877, 1701.7975374245257, 1274.6277926211915, 1257.7298452939815, 1242.9714035252634, 1183.9207289630851, 1173.8590738217129, 1166.1591774099563, 1046.0334636602147, 1057.7788778447054, 954.0081827236521, 901.709829642199, 902.9731684283377, 824.4692490300589, 863.1517853368815, 799.1188804231174, 779.0191367218412, 751.645064676169, 725.041227855287, 691.7117059303297, 661.7096530713981, 635.5394602405844, 683.168324257996, 636.2066920301382, 620.0175840240931, 593.7698906718568, 540.9954359715975, 548.7603648135788, 549.736512453605, 515.2592177241793, 581.8786848300647], \"Total\": [7271.0, 3438.0, 3516.0, 2819.0, 2691.0, 2802.0, 2776.0, 2107.0, 2050.0, 2322.0, 2181.0, 1702.0, 1823.0, 1611.0, 1702.0, 1576.0, 1317.0, 1275.0, 1258.0, 1243.0, 1413.0, 1184.0, 1174.0, 1166.0, 1177.0, 1058.0, 1046.0, 1199.0, 1179.0, 1020.0, 7271.503721224107, 3516.1489256858013, 2802.472657009387, 2776.8655514878997, 2322.2096203152387, 2181.7023407355414, 1823.37794050717, 1702.2580718493098, 1576.2737807405188, 1413.668763525907, 1179.8679901618896, 1199.004046509078, 1111.5024347488238, 1136.6551531526743, 1121.2832322119573, 1096.2679088308766, 986.4426281796736, 944.0100079257268, 935.4944991983898, 956.367026054539, 916.73460915172, 836.2299687000021, 857.7488684813476, 797.7305485648392, 784.1751727711908, 678.7369925085933, 608.1123291056973, 637.0494552218292, 577.9318729137805, 583.7285103710865, 666.7810072932867, 591.7828646350072, 3438.6137367890115, 2819.1559657144635, 2691.1014491204705, 2107.837405802474, 1611.7297426860464, 1317.4034320352375, 1177.6994057430634, 971.043842943546, 1020.9296453543427, 944.4769552255593, 921.5021532954609, 901.4610825597249, 781.1182253072483, 757.1620366221919, 770.1993162812959, 772.1232411250796, 735.9810864290943, 688.2570835031876, 690.3222323041114, 709.081514831527, 682.9206466771942, 657.9864905221823, 659.2010617395371, 630.6371526719809, 558.2180810280192, 732.064392082207, 577.6442279530814, 588.1779747658424, 521.8975334412609, 516.2875582126138, 676.5974637828648, 544.1362381082678, 2050.0956066532567, 1702.547907122921, 1275.329941444749, 1258.458263746324, 1243.6991164519288, 1184.664511212008, 1174.5981539770999, 1166.898627937782, 1046.744043576245, 1058.5013618404962, 954.7091940678991, 902.4176165890377, 903.7021729530715, 825.1823678035487, 863.9292745934026, 799.8701003416395, 779.7517579148396, 752.3886764799582, 725.7704313783718, 692.4255582496174, 662.4132693679952, 636.2207669682874, 683.9164097504876, 636.9314481254853, 620.7481821642716, 594.4810580043088, 541.7046638381445, 549.4862336931528, 550.4675050521768, 515.9537592388167, 582.7159089217752], \"Category\": [\"Default\", \"Default\", \"Default\", \"Default\", \"Default\", \"Default\", \"Default\", \"Default\", \"Default\", \"Default\", \"Default\", \"Default\", \"Default\", \"Default\", \"Default\", \"Default\", \"Default\", \"Default\", \"Default\", \"Default\", \"Default\", \"Default\", \"Default\", \"Default\", \"Default\", \"Default\", \"Default\", \"Default\", \"Default\", \"Default\", \"Topic1\", \"Topic1\", \"Topic1\", \"Topic1\", \"Topic1\", \"Topic1\", \"Topic1\", \"Topic1\", \"Topic1\", \"Topic1\", \"Topic1\", \"Topic1\", \"Topic1\", \"Topic1\", \"Topic1\", \"Topic1\", \"Topic1\", \"Topic1\", \"Topic1\", \"Topic1\", \"Topic1\", \"Topic1\", \"Topic1\", \"Topic1\", \"Topic1\", \"Topic1\", \"Topic1\", \"Topic1\", \"Topic1\", \"Topic1\", \"Topic1\", \"Topic1\", \"Topic2\", \"Topic2\", \"Topic2\", \"Topic2\", \"Topic2\", \"Topic2\", \"Topic2\", \"Topic2\", \"Topic2\", \"Topic2\", \"Topic2\", \"Topic2\", \"Topic2\", \"Topic2\", \"Topic2\", \"Topic2\", \"Topic2\", \"Topic2\", \"Topic2\", \"Topic2\", \"Topic2\", \"Topic2\", \"Topic2\", \"Topic2\", \"Topic2\", \"Topic2\", \"Topic2\", \"Topic2\", \"Topic2\", \"Topic2\", \"Topic2\", \"Topic2\", \"Topic3\", \"Topic3\", \"Topic3\", \"Topic3\", \"Topic3\", \"Topic3\", \"Topic3\", \"Topic3\", \"Topic3\", \"Topic3\", \"Topic3\", \"Topic3\", \"Topic3\", \"Topic3\", \"Topic3\", \"Topic3\", \"Topic3\", \"Topic3\", \"Topic3\", \"Topic3\", \"Topic3\", \"Topic3\", \"Topic3\", \"Topic3\", \"Topic3\", \"Topic3\", \"Topic3\", \"Topic3\", \"Topic3\", \"Topic3\", \"Topic3\"], \"logprob\": [30.0, 29.0, 28.0, 27.0, 26.0, 25.0, 24.0, 23.0, 22.0, 21.0, 20.0, 19.0, 18.0, 17.0, 16.0, 15.0, 14.0, 13.0, 12.0, 11.0, 10.0, 9.0, 8.0, 7.0, 6.0, 5.0, 4.0, 3.0, 2.0, 1.0, -2.7842, -3.5109, -3.7378, -3.747, -3.9259, -3.9883, -4.1678, -4.2366, -4.3135, -4.4225, -4.6033, -4.5872, -4.663, -4.6406, -4.6543, -4.6769, -4.7825, -4.8265, -4.8356, -4.8135, -4.8559, -4.9478, -4.9224, -4.995, -5.0122, -5.1568, -5.2667, -5.2202, -5.3177, -5.3077, -5.1749, -5.2941, -3.4113, -3.61, -3.6565, -3.9008, -4.1693, -4.371, -4.4832, -4.6762, -4.6262, -4.704, -4.7287, -4.7507, -4.8941, -4.9253, -4.9082, -4.9057, -4.9537, -5.0207, -5.0177, -4.991, -5.0286, -5.0658, -5.064, -5.1084, -5.2304, -4.9593, -5.1962, -5.1782, -5.2978, -5.3086, -5.0386, -5.2561, -3.9018, -4.0876, -4.3766, -4.39, -4.4018, -4.4504, -4.459, -4.4656, -4.5743, -4.5631, -4.6664, -4.7227, -4.7213, -4.8123, -4.7664, -4.8435, -4.869, -4.9048, -4.9408, -4.9879, -5.0322, -5.0726, -5.0003, -5.0715, -5.0973, -5.1405, -5.2336, -5.2194, -5.2176, -5.2824, -5.1608], \"loglift\": [30.0, 29.0, 28.0, 27.0, 26.0, 25.0, 24.0, 23.0, 22.0, 21.0, 20.0, 19.0, 18.0, 17.0, 16.0, 15.0, 14.0, 13.0, 12.0, 11.0, 10.0, 9.0, 8.0, 7.0, 6.0, 5.0, 4.0, 3.0, 2.0, 1.0, 1.0104, 1.0103, 1.0102, 1.0102, 1.0102, 1.0101, 1.0101, 1.01, 1.01, 1.0099, 1.0099, 1.0099, 1.0098, 1.0098, 1.0098, 1.0098, 1.0097, 1.0097, 1.0097, 1.0097, 1.0096, 1.0096, 1.0096, 1.0095, 1.0095, 1.0093, 1.0093, 1.0092, 1.0092, 1.0091, 1.0089, 1.0091, 1.1322, 1.1322, 1.1322, 1.1321, 1.132, 1.1319, 1.1318, 1.1317, 1.1317, 1.1317, 1.1317, 1.1316, 1.1315, 1.1315, 1.1315, 1.1314, 1.1314, 1.1314, 1.1314, 1.1314, 1.1314, 1.1313, 1.1312, 1.1312, 1.1312, 1.1311, 1.1311, 1.1311, 1.1311, 1.1311, 1.1307, 1.131, 1.1589, 1.1588, 1.1587, 1.1587, 1.1587, 1.1587, 1.1587, 1.1586, 1.1586, 1.1586, 1.1585, 1.1585, 1.1585, 1.1584, 1.1584, 1.1583, 1.1583, 1.1583, 1.1583, 1.1583, 1.1582, 1.1582, 1.1582, 1.1581, 1.1581, 1.1581, 1.158, 1.158, 1.158, 1.1579, 1.1578]}, \"token.table\": {\"Topic\": [2, 1, 2, 3, 3, 3, 2, 1, 3, 2, 2, 2, 3, 1, 1, 1, 2, 3, 1, 3, 2, 2, 1, 1, 2, 1, 2, 2, 3, 2, 3, 1, 3, 1, 2, 1, 3, 1, 1, 2, 3, 2, 1, 2, 3, 3, 1, 3, 3, 1, 1, 1, 2, 2, 3, 3, 3, 3, 3, 3, 2, 2, 1, 2, 3, 1, 3, 3, 2, 1, 2, 2, 2, 2, 1, 3, 1, 3, 3, 1, 3, 1, 2, 1, 1, 1, 3, 2, 3, 3, 1, 1, 1, 2, 2, 2, 2, 3], \"Freq\": [0.9982802496970186, 0.9998263114289764, 0.9985452566828025, 0.999229900596104, 0.9994390722388332, 0.9994907586266208, 0.9988847322938476, 0.9994791080423332, 0.9995372246935779, 0.999821516216711, 0.9995472301176063, 0.999455070947295, 0.998912197941556, 0.9991625995658635, 0.999930726677257, 0.9985013899802032, 0.9985460403569425, 0.0013660000552078557, 0.99983134286495, 0.9992230040226894, 0.9994885164000473, 0.999590706949814, 0.998677108308146, 0.998170849278236, 0.9995332146510248, 0.9997249934723583, 0.9985007435009807, 0.9984652735266868, 0.999376115505069, 0.9989250300579819, 0.998567143640386, 0.9987519705511329, 0.998794709053093, 0.9989141707071698, 0.999602718027411, 0.9983875730731336, 0.999289182889732, 0.9995512884712916, 0.999747403507142, 0.999443027033986, 0.9993854093850996, 0.998989668354804, 0.9992643328159361, 0.9979118499583524, 0.9996781840201802, 0.9996530025743432, 0.999616228869733, 0.9986991733961607, 0.9994655826539498, 0.9991269373719216, 0.9989300876926654, 0.9994714034141157, 0.9984747665692795, 0.9986518980182051, 0.9995263474771309, 0.9991151121477879, 0.9990359009682134, 0.9991507127162167, 0.9987714271897951, 0.9985376006660895, 0.9985684301415341, 0.9986669678784078, 0.9997927250852531, 0.9976389746217295, 0.0014779836661062658, 0.9991986675921402, 0.9994834099819568, 0.9989384640858011, 0.999406125417358, 0.9988286899525571, 0.0014997427777065423, 0.9996093264703687, 0.9996264716929915, 0.9981780039365112, 0.9990842163859044, 0.9997412893447987, 0.99954796792781, 0.9986600559111868, 0.9991907933855391, 0.9988434315912532, 0.9992571622099109, 0.9994236130889328, 0.998442849459947, 0.9995269305348171, 0.9992609394132917, 0.9996780767374047, 0.9989243626524406, 0.9990894129105047, 0.9994378733226704, 0.9996358530437395, 0.9996882991013245, 0.9996732431674301, 0.9983526314743275, 0.9994950059682024, 0.997997247744084, 0.9995899603539067, 0.9996937672808288, 0.9981514637276337], \"Term\": [\"\\u0431\\u0438\\u043b\\u0435\\u0442\", \"\\u0431\\u043b\\u044f\", \"\\u0431\\u043b\\u044f\\u0434\\u044c\", \"\\u0431\\u043e\\u0433\", \"\\u0431\\u043e\\u043b\\u044c\", \"\\u0432\\u0435\\u0447\\u0435\\u0440\", \"\\u0432\\u043e\\u0434\\u0430\", \"\\u0432\\u0440\\u0435\\u043c\\u044f\", \"\\u0433\\u043b\\u0430\\u0437\", \"\\u0433\\u043e\\u0434\", \"\\u0433\\u043e\\u043b\\u043e\\u0432\\u0430\", \"\\u0433\\u043e\\u0440\\u043e\\u0434\", \"\\u0434\\u0435\\u0432\\u0443\\u0448\\u043a\\u0430\", \"\\u0434\\u0435\\u043b\\u043e\", \"\\u0434\\u0435\\u043d\\u044c\", \"\\u0434\\u0435\\u043d\\u044c\\u0433\\u0430\", \"\\u0434\\u043e\\u0436\\u0434\\u044c\", \"\\u0434\\u043e\\u0436\\u0434\\u044c\", \"\\u0434\\u043e\\u043c\", \"\\u0434\\u0443\\u0448\\u0430\", \"\\u0435\\u0434\\u0430\", \"\\u0436\\u0438\\u0437\\u043d\\u044c\", \"\\u0437\\u0438\\u043c\\u0430\", \"\\u0438\\u043d\\u0442\\u0435\\u0440\\u043d\\u0435\\u0442\", \"\\u0438\\u0441\\u0442\\u043e\\u0440\\u0438\\u044f\", \"\\u043a\\u0430\\u043d\\u0438\\u043a\\u0443\\u043b\\u044b\", \"\\u043a\\u0430\\u043f\\u0435\\u0446\", \"\\u043a\\u043b\\u0430\\u0441\\u0441\", \"\\u043a\\u043d\\u0438\\u0433\\u0430\", \"\\u043a\\u043e\\u043d\\u0435\\u0446\", \"\\u043b\\u0435\\u043d\\u0442\\u0430\", \"\\u043b\\u0435\\u0442\\u043e\", \"\\u043b\\u0438\\u0446\\u043e\", \"\\u043b\\u044e\\u0431\\u043e\\u0432\\u044c\", \"\\u043c\\u0430\\u043c\\u0430\", \"\\u043c\\u0430\\u0448\\u0438\\u043d\\u0430\", \"\\u043c\\u0435\\u0441\\u0442\\u043e\", \"\\u043c\\u0435\\u0441\\u044f\\u0446\", \"\\u043c\\u0438\\u043d\\u0443\\u0442\\u0430\", \"\\u043c\\u0438\\u0440\", \"\\u043c\\u043e\\u043c\\u0435\\u043d\\u0442\", \"\\u043c\\u0443\\u0437\\u044b\\u043a\\u0430\", \"\\u043d\\u0430\\u0441\\u0442\\u0440\\u043e\\u0435\\u043d\\u0438\\u0435\", \"\\u043d\\u0430\\u0447\\u0430\\u043b\\u043e\", \"\\u043d\\u0435\\u0434\\u0435\\u043b\\u044f\", \"\\u043d\\u043e\\u0432\\u043e\\u0441\\u0442\\u044c\", \"\\u043d\\u043e\\u0433\\u0430\", \"\\u043d\\u043e\\u0440\\u043c\\u0430\", \"\\u043d\\u043e\\u0447\\u044c\", \"\\u043f\\u0430\\u043f\\u0430\", \"\\u043f\\u0430\\u0440\\u0430\", \"\\u043f\\u0430\\u0440\\u0435\\u043d\\u044c\", \"\\u043f\\u0435\\u0441\\u043d\\u044f\", \"\\u043f\\u0435\\u0447\\u0430\\u043b\\u044c\", \"\\u043f\\u0438\\u0437\\u0434\\u0435\\u0446\", \"\\u043f\\u043b\\u0430\\u0447\", \"\\u043f\\u043e\\u0433\\u043e\\u0434\\u0430\", \"\\u043f\\u043e\\u0434\\u0440\\u0443\\u0433\\u0430\", \"\\u043f\\u043e\\u043d\\u0435\\u0434\\u0435\\u043b\\u044c\\u043d\\u0438\\u043a\", \"\\u043f\\u043e\\u0445\\u043e\\u0434\", \"\\u043f\\u0440\\u0430\\u0432\\u0434\\u0430\", \"\\u043f\\u0440\\u043e\\u0431\\u043b\\u0435\\u043c\\u0430\", \"\\u0440\\u0430\\u0431\\u043e\\u0442\\u0430\", \"\\u0440\\u0430\\u043c\\u043a\\u0430\", \"\\u0440\\u0430\\u043c\\u043a\\u0430\", \"\\u0440\\u0435\\u0431\\u0451\\u043d\\u043e\\u043a\", \"\\u0440\\u043e\\u0434\\u0438\\u0442\\u0435\\u043b\\u044c\", \"\\u0440\\u043e\\u0441\\u0441\\u0438\\u044f\", \"\\u0440\\u0443\\u043a\\u0430\", \"\\u0441\\u0435\\u0437\\u043e\\u043d\", \"\\u0441\\u0435\\u0437\\u043e\\u043d\", \"\\u0441\\u0435\\u0440\\u0438\\u0430\\u043b\", \"\\u0441\\u0435\\u0440\\u0438\\u044f\", \"\\u0441\\u0435\\u0441\\u0441\\u0438\\u044f\", \"\\u0441\\u043b\\u043e\\u0432\\u043e\", \"\\u0441\\u043d\\u0435\\u0433\", \"\\u0441\\u043e\\u043d\", \"\\u0441\\u043f\\u0430\\u0441\\u0442\\u044c\", \"\\u0441\\u0442\\u0440\\u0430\\u043d\\u0430\", \"\\u0441\\u0443\\u043a\\u0430\", \"\\u0442\\u0432\\u0438\\u0442\\u0442\\u0435\\u0440\", \"\\u0442\\u0435\\u043b\\u0435\\u0444\\u043e\\u043d\", \"\\u0443\\u0436\\u0430\\u0441\", \"\\u0443\\u043b\\u0438\\u0446\\u0430\", \"\\u0443\\u0440\\u043e\\u043a\", \"\\u0443\\u0442\\u0440\\u043e\", \"\\u0443\\u0442\\u0440\\u043e\\u043c\", \"\\u0443\\u0447\\u0451\\u0431\\u0430\", \"\\u0444\\u0438\\u043b\\u044c\\u043c\", \"\\u0444\\u043e\\u0442\\u043a\\u0430\", \"\\u0447\\u0430\\u0441\", \"\\u0447\\u0435\\u043b\\u043e\\u0432\\u0435\\u043a\", \"\\u0447\\u0435\\u0440\\u0442\\u0430\", \"\\u0447\\u0443\\u0432\\u0441\\u0442\\u0432\\u043e\", \"\\u0448\\u0435\\u0440\\u043b\\u043e\\u043a\", \"\\u0448\\u043a\\u043e\\u043b\\u0430\", \"\\u044d\\u043a\\u0437\\u0430\\u043c\\u0435\\u043d\", \"\\u044f\\u043d\\u0432\\u0430\\u0440\\u044c\"]}, \"R\": 30, \"lambda.step\": 0.01, \"plot.opts\": {\"xlab\": \"PC1\", \"ylab\": \"PC2\"}, \"topic.order\": [2, 3, 1]};\n",
              "\n",
              "function LDAvis_load_lib(url, callback){\n",
              "  var s = document.createElement('script');\n",
              "  s.src = url;\n",
              "  s.async = true;\n",
              "  s.onreadystatechange = s.onload = callback;\n",
              "  s.onerror = function(){console.warn(\"failed to load library \" + url);};\n",
              "  document.getElementsByTagName(\"head\")[0].appendChild(s);\n",
              "}\n",
              "\n",
              "if(typeof(LDAvis) !== \"undefined\"){\n",
              "   // already loaded: just create the visualization\n",
              "   !function(LDAvis){\n",
              "       new LDAvis(\"#\" + \"ldavis_el601405174918012965348316791\", ldavis_el601405174918012965348316791_data);\n",
              "   }(LDAvis);\n",
              "}else if(typeof define === \"function\" && define.amd){\n",
              "   // require.js is available: use it to load d3/LDAvis\n",
              "   require.config({paths: {d3: \"https://d3js.org/d3.v5\"}});\n",
              "   require([\"d3\"], function(d3){\n",
              "      window.d3 = d3;\n",
              "      LDAvis_load_lib(\"https://cdn.jsdelivr.net/gh/bmabey/pyLDAvis@3.3.1/pyLDAvis/js/ldavis.v3.0.0.js\", function(){\n",
              "        new LDAvis(\"#\" + \"ldavis_el601405174918012965348316791\", ldavis_el601405174918012965348316791_data);\n",
              "      });\n",
              "    });\n",
              "}else{\n",
              "    // require.js not available: dynamically load d3 & LDAvis\n",
              "    LDAvis_load_lib(\"https://d3js.org/d3.v5.js\", function(){\n",
              "         LDAvis_load_lib(\"https://cdn.jsdelivr.net/gh/bmabey/pyLDAvis@3.3.1/pyLDAvis/js/ldavis.v3.0.0.js\", function(){\n",
              "                 new LDAvis(\"#\" + \"ldavis_el601405174918012965348316791\", ldavis_el601405174918012965348316791_data);\n",
              "            })\n",
              "         });\n",
              "}\n",
              "</script>"
            ]
          },
          "metadata": {},
          "execution_count": 45
        }
      ]
    },
    {
      "cell_type": "markdown",
      "source": [
        "4. проинтерпритировать получившиеся тематики"
      ],
      "metadata": {
        "id": "znsUa7xNS30c"
      }
    },
    {
      "cell_type": "markdown",
      "source": [
        "## Достаточно сложная задача )\n",
        "\n",
        "#### Но добавив немного вооображения можно представить так:\n",
        "\n",
        "*тема 1*: твиты посвященные ежедневной рутине (дела, работа, учеба, уход за детьми и т.п.)\n",
        "\n",
        "*тема 2*: твиты, посвященные каким-то жизненным событиям, которые вызывают сильные эмоции\n",
        "\n",
        "*тема 3*: твиты, посвященные описанию того, как проводится досуг (фильмы, фото, знакомства, книги и т.п.)"
      ],
      "metadata": {
        "id": "56i29U66S6Rw"
      }
    }
  ]
}