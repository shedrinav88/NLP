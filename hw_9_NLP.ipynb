{
  "nbformat": 4,
  "nbformat_minor": 0,
  "metadata": {
    "colab": {
      "name": "hw_9_NLP.ipynb",
      "provenance": [],
      "collapsed_sections": []
    },
    "kernelspec": {
      "name": "python3",
      "display_name": "Python 3"
    },
    "language_info": {
      "name": "python"
    },
    "accelerator": "GPU",
    "gpuClass": "standard"
  },
  "cells": [
    {
      "cell_type": "markdown",
      "source": [
        "## Задание\n",
        "\n",
        "Разобраться с моделькой генерации текста, собрать самим или взять датасет с вебинара и обучить генератор текстов"
      ],
      "metadata": {
        "id": "EvUHQHnRHDQO"
      }
    },
    {
      "cell_type": "code",
      "execution_count": 1,
      "metadata": {
        "id": "cSbknQgTrWKz"
      },
      "outputs": [],
      "source": [
        "import tensorflow as tf\n",
        "\n",
        "import numpy as np\n",
        "import os\n",
        "import time"
      ]
    },
    {
      "cell_type": "code",
      "source": [
        "tf.test.gpu_device_name()"
      ],
      "metadata": {
        "colab": {
          "base_uri": "https://localhost:8080/",
          "height": 36
        },
        "id": "b5JVlGdhvzyC",
        "outputId": "b8b962dc-75ac-41dc-de93-190bfc4b2cbb"
      },
      "execution_count": 2,
      "outputs": [
        {
          "output_type": "execute_result",
          "data": {
            "text/plain": [
              "'/device:GPU:0'"
            ],
            "application/vnd.google.colaboratory.intrinsic+json": {
              "type": "string"
            }
          },
          "metadata": {},
          "execution_count": 2
        }
      ]
    },
    {
      "cell_type": "markdown",
      "source": [
        "просоединяем гугл диск"
      ],
      "metadata": {
        "id": "AMbA2ZA0HRDD"
      }
    },
    {
      "cell_type": "code",
      "source": [
        "from google.colab import drive\n",
        "\n",
        "drive.mount('/content/drive', force_remount=True)"
      ],
      "metadata": {
        "colab": {
          "base_uri": "https://localhost:8080/"
        },
        "id": "3o1DePe3raa8",
        "outputId": "2ba7385c-2bd9-41aa-aa93-388d10b37848"
      },
      "execution_count": 3,
      "outputs": [
        {
          "output_type": "stream",
          "name": "stdout",
          "text": [
            "Mounted at /content/drive\n"
          ]
        }
      ]
    },
    {
      "cell_type": "code",
      "source": [
        "path_to_file = '/content/drive/MyDrive/evgenyi_onegin.txt'"
      ],
      "metadata": {
        "id": "brBMTNRLradj"
      },
      "execution_count": 4,
      "outputs": []
    },
    {
      "cell_type": "markdown",
      "source": [
        "Сохраняем текст в переменную"
      ],
      "metadata": {
        "id": "2r14h-O-HUKZ"
      }
    },
    {
      "cell_type": "code",
      "source": [
        "text = open(path_to_file, 'rb').read().decode(encoding='utf-8')\n",
        "# length of text is the number of characters in it\n",
        "print('Length of text: {} characters'.format(len(text)))"
      ],
      "metadata": {
        "colab": {
          "base_uri": "https://localhost:8080/"
        },
        "id": "HGgdPdrCraib",
        "outputId": "c4cd28e9-17e0-4dea-9097-e14267cf895f"
      },
      "execution_count": 5,
      "outputs": [
        {
          "output_type": "stream",
          "name": "stdout",
          "text": [
            "Length of text: 286984 characters\n"
          ]
        }
      ]
    },
    {
      "cell_type": "code",
      "source": [
        "print(text[:500])"
      ],
      "metadata": {
        "colab": {
          "base_uri": "https://localhost:8080/"
        },
        "id": "657nPj5sr6n4",
        "outputId": "ca860599-f562-41fb-af4b-98e55d99ab18"
      },
      "execution_count": 6,
      "outputs": [
        {
          "output_type": "stream",
          "name": "stdout",
          "text": [
            "Александр Сергеевич Пушкин\n",
            "\n",
            "                                Евгений Онегин\n",
            "                                Роман в стихах\n",
            "\n",
            "                        Не мысля гордый свет забавить,\n",
            "                        Вниманье дружбы возлюбя,\n",
            "                        Хотел бы я тебе представить\n",
            "                        Залог достойнее тебя,\n",
            "                        Достойнее души прекрасной,\n",
            "                        Святой исполненной мечты,\n",
            "                        Поэзии живой и ясной,\n",
            "                        Высо\n"
          ]
        }
      ]
    },
    {
      "cell_type": "markdown",
      "source": [
        "Создаем словарь уникальных символов"
      ],
      "metadata": {
        "id": "7VUoh8CmHaby"
      }
    },
    {
      "cell_type": "code",
      "source": [
        "# The unique characters in the file\n",
        "vocab = sorted(set(text))\n",
        "print('{} unique characters'.format(len(vocab)))"
      ],
      "metadata": {
        "colab": {
          "base_uri": "https://localhost:8080/"
        },
        "id": "PTusNH7DsASx",
        "outputId": "81e0e3d1-3e77-4518-e2f0-4622834320f5"
      },
      "execution_count": 7,
      "outputs": [
        {
          "output_type": "stream",
          "name": "stdout",
          "text": [
            "131 unique characters\n"
          ]
        }
      ]
    },
    {
      "cell_type": "markdown",
      "source": [
        "Создаем словарь перевода символов в индексы, переводим корпус в массив с индексами"
      ],
      "metadata": {
        "id": "smVqof3qHkK3"
      }
    },
    {
      "cell_type": "code",
      "source": [
        "# Creating a mapping from unique characters to indices\n",
        "char2idx = {u:i for i, u in enumerate(vocab)}\n",
        "idx2char = np.array(vocab)\n",
        "\n",
        "text_as_int = np.array([char2idx[c] for c in text])"
      ],
      "metadata": {
        "id": "1oyA28a_sHF6"
      },
      "execution_count": 8,
      "outputs": []
    },
    {
      "cell_type": "code",
      "source": [
        "text_as_int, text[:100], len(text_as_int), len(text)"
      ],
      "metadata": {
        "colab": {
          "base_uri": "https://localhost:8080/"
        },
        "id": "YsIzbma9siRl",
        "outputId": "470f7ee3-5ce6-4256-ed83-01a4111c9afd"
      },
      "execution_count": 9,
      "outputs": [
        {
          "output_type": "execute_result",
          "data": {
            "text/plain": [
              "(array([ 71, 110, 104, ..., 104, 121,   0]),\n",
              " 'Александр Сергеевич Пушкин\\n\\n                                Евгений Онегин\\n                         ',\n",
              " 286984,\n",
              " 286984)"
            ]
          },
          "metadata": {},
          "execution_count": 9
        }
      ]
    },
    {
      "cell_type": "markdown",
      "source": [
        "##train and target"
      ],
      "metadata": {
        "id": "LxLRSjghs2bv"
      }
    },
    {
      "cell_type": "code",
      "source": [
        "# The maximum length sentence you want for a single input in characters\n",
        "seq_length = 100\n",
        "examples_per_epoch = len(text)//(seq_length+1)\n",
        "\n",
        "# Create training examples / targets\n",
        "char_dataset = tf.data.Dataset.from_tensor_slices(text_as_int)\n",
        "\n",
        "for i in char_dataset.take(5):\n",
        "    print(idx2char[i.numpy()])"
      ],
      "metadata": {
        "colab": {
          "base_uri": "https://localhost:8080/"
        },
        "id": "KTOGeIGssy0x",
        "outputId": "a903b3c1-8a24-42e2-e2b8-a23e1881c01f"
      },
      "execution_count": 10,
      "outputs": [
        {
          "output_type": "stream",
          "name": "stdout",
          "text": [
            "А\n",
            "л\n",
            "е\n",
            "к\n",
            "с\n"
          ]
        }
      ]
    },
    {
      "cell_type": "markdown",
      "source": [
        "Разбиваем корпус на батчи последовательностей"
      ],
      "metadata": {
        "id": "d0HfpDUCH0Ue"
      }
    },
    {
      "cell_type": "code",
      "source": [
        "sequences = char_dataset.batch(seq_length+1, drop_remainder=True)\n",
        "\n",
        "for item in sequences.take(5):\n",
        "    print(repr(''.join(idx2char[item.numpy()])))"
      ],
      "metadata": {
        "colab": {
          "base_uri": "https://localhost:8080/"
        },
        "id": "x5p7fcnqtQJA",
        "outputId": "5a86f183-ce49-46c4-9224-28f245fad1eb"
      },
      "execution_count": 11,
      "outputs": [
        {
          "output_type": "stream",
          "name": "stdout",
          "text": [
            "'Александр Сергеевич Пушкин\\n\\n                                Евгений Онегин\\n                          '\n",
            "'      Роман в стихах\\n\\n                        Не мысля гордый свет забавить,\\n                        '\n",
            "'Вниманье дружбы возлюбя,\\n                        Хотел бы я тебе представить\\n                        '\n",
            "'Залог достойнее тебя,\\n                        Достойнее души прекрасной,\\n                        Свят'\n",
            "'ой исполненной мечты,\\n                        Поэзии живой и ясной,\\n                        Высоких д'\n"
          ]
        }
      ]
    },
    {
      "cell_type": "code",
      "source": [
        "def split_input_target(chunk):\n",
        "    input_text = chunk[:-1]\n",
        "    target_text = chunk[1:]\n",
        "    return input_text, target_text\n",
        "\n",
        "dataset = sequences.map(split_input_target)"
      ],
      "metadata": {
        "id": "3iGAWVH_tRt1"
      },
      "execution_count": 12,
      "outputs": []
    },
    {
      "cell_type": "markdown",
      "source": [
        "Print the first example input and target values:"
      ],
      "metadata": {
        "id": "fPV-E7DUt2r1"
      }
    },
    {
      "cell_type": "code",
      "source": [
        "for input_example, target_example in  dataset.take(1):\n",
        "    print('Input data: ', repr(''.join(idx2char[input_example.numpy()])))\n",
        "    print('Target data:', repr(''.join(idx2char[target_example.numpy()])))"
      ],
      "metadata": {
        "colab": {
          "base_uri": "https://localhost:8080/"
        },
        "id": "cmwMZCKTtziK",
        "outputId": "a59707bc-905f-4f4b-e504-25e430de2fcf"
      },
      "execution_count": 13,
      "outputs": [
        {
          "output_type": "stream",
          "name": "stdout",
          "text": [
            "Input data:  'Александр Сергеевич Пушкин\\n\\n                                Евгений Онегин\\n                         '\n",
            "Target data: 'лександр Сергеевич Пушкин\\n\\n                                Евгений Онегин\\n                          '\n"
          ]
        }
      ]
    },
    {
      "cell_type": "code",
      "source": [
        "# Batch size\n",
        "BATCH_SIZE = 64\n",
        "\n",
        "BUFFER_SIZE = 10000\n",
        "\n",
        "dataset = dataset.shuffle(BUFFER_SIZE).batch(BATCH_SIZE, drop_remainder=True)\n",
        "\n",
        "dataset"
      ],
      "metadata": {
        "colab": {
          "base_uri": "https://localhost:8080/"
        },
        "id": "HaO1atcouBkN",
        "outputId": "7616a2d5-7bbc-4e15-dcad-06cb24744080"
      },
      "execution_count": 14,
      "outputs": [
        {
          "output_type": "execute_result",
          "data": {
            "text/plain": [
              "<BatchDataset element_spec=(TensorSpec(shape=(64, 100), dtype=tf.int64, name=None), TensorSpec(shape=(64, 100), dtype=tf.int64, name=None))>"
            ]
          },
          "metadata": {},
          "execution_count": 14
        }
      ]
    },
    {
      "cell_type": "code",
      "source": [
        "# Length of the vocabulary in chars\n",
        "vocab_size = len(vocab)\n",
        "\n",
        "# The embedding dimension\n",
        "embedding_dim = 256\n",
        "\n",
        "# Number of RNN units\n",
        "rnn_units = 1024"
      ],
      "metadata": {
        "id": "FfBEgjfouI2e"
      },
      "execution_count": 15,
      "outputs": []
    },
    {
      "cell_type": "markdown",
      "source": [
        "Функция для создания модели генерации"
      ],
      "metadata": {
        "id": "k0-_RtFDH9gk"
      }
    },
    {
      "cell_type": "code",
      "source": [
        "def build_model(vocab_size, embedding_dim, rnn_units, batch_size):\n",
        "    model = tf.keras.Sequential([\n",
        "        tf.keras.layers.Embedding(vocab_size, embedding_dim,\n",
        "                                  batch_input_shape=[batch_size, None]),\n",
        "                                 \n",
        "        tf.keras.layers.LSTM(rnn_units,\n",
        "                            return_sequences=True,\n",
        "                            stateful=True,\n",
        "                            recurrent_initializer='glorot_uniform'),\n",
        "\n",
        "        tf.keras.layers.LSTM(rnn_units,\n",
        "                            return_sequences=True,\n",
        "                            stateful=True,\n",
        "                            recurrent_initializer='glorot_uniform'),\n",
        "\n",
        "         tf.keras.layers.LSTM(rnn_units,\n",
        "                            return_sequences=True,\n",
        "                            stateful=True,\n",
        "                            recurrent_initializer='glorot_uniform'),\n",
        "        \n",
        "        tf.keras.layers.LSTM(rnn_units,\n",
        "                            return_sequences=True,\n",
        "                            stateful=True,\n",
        "                            recurrent_initializer='glorot_uniform'),\n",
        "                                   \n",
        "        tf.keras.layers.Dense(vocab_size)\n",
        "    ])\n",
        "    return model"
      ],
      "metadata": {
        "id": "2SWfzQR_uKys"
      },
      "execution_count": 16,
      "outputs": []
    },
    {
      "cell_type": "markdown",
      "source": [
        "Создаем модель"
      ],
      "metadata": {
        "id": "PwPqw4CVIDN1"
      }
    },
    {
      "cell_type": "code",
      "source": [
        "model = build_model(\n",
        "    vocab_size=len(vocab),\n",
        "    embedding_dim=embedding_dim,\n",
        "    rnn_units=rnn_units,\n",
        "    batch_size=BATCH_SIZE)"
      ],
      "metadata": {
        "id": "EpNB3U-fuTmX"
      },
      "execution_count": 17,
      "outputs": []
    },
    {
      "cell_type": "code",
      "source": [
        "model.summary()"
      ],
      "metadata": {
        "colab": {
          "base_uri": "https://localhost:8080/"
        },
        "id": "L0xrEyX4uVvg",
        "outputId": "8a2d83f3-c5bb-444e-99f7-8598b9151f9b"
      },
      "execution_count": 18,
      "outputs": [
        {
          "output_type": "stream",
          "name": "stdout",
          "text": [
            "Model: \"sequential\"\n",
            "_________________________________________________________________\n",
            " Layer (type)                Output Shape              Param #   \n",
            "=================================================================\n",
            " embedding (Embedding)       (64, None, 256)           33536     \n",
            "                                                                 \n",
            " lstm (LSTM)                 (64, None, 1024)          5246976   \n",
            "                                                                 \n",
            " lstm_1 (LSTM)               (64, None, 1024)          8392704   \n",
            "                                                                 \n",
            " lstm_2 (LSTM)               (64, None, 1024)          8392704   \n",
            "                                                                 \n",
            " lstm_3 (LSTM)               (64, None, 1024)          8392704   \n",
            "                                                                 \n",
            " dense (Dense)               (64, None, 131)           134275    \n",
            "                                                                 \n",
            "=================================================================\n",
            "Total params: 30,592,899\n",
            "Trainable params: 30,592,899\n",
            "Non-trainable params: 0\n",
            "_________________________________________________________________\n"
          ]
        }
      ]
    },
    {
      "cell_type": "markdown",
      "source": [
        "## Train the model"
      ],
      "metadata": {
        "id": "k_JQfF3huiPI"
      }
    },
    {
      "cell_type": "code",
      "source": [
        "def loss(labels, logits):\n",
        "    return tf.keras.losses.sparse_categorical_crossentropy(labels, logits, from_logits=True)"
      ],
      "metadata": {
        "id": "VJLN1ybuulUv"
      },
      "execution_count": 19,
      "outputs": []
    },
    {
      "cell_type": "code",
      "source": [
        "model.compile(optimizer='adam', loss=loss)"
      ],
      "metadata": {
        "id": "ay7kUfiTulih"
      },
      "execution_count": 20,
      "outputs": []
    },
    {
      "cell_type": "code",
      "source": [
        "!rm -rf ./training_checkpoints"
      ],
      "metadata": {
        "id": "ebLXOL6qulk6"
      },
      "execution_count": 21,
      "outputs": []
    },
    {
      "cell_type": "markdown",
      "source": [
        "Делаем чекпоинты и сохраняем веса после каждой эпохи"
      ],
      "metadata": {
        "id": "5t16wQdYIHUM"
      }
    },
    {
      "cell_type": "code",
      "source": [
        "# Directory where the checkpoints will be saved\n",
        "checkpoint_dir = './training_checkpoints'\n",
        "# Name of the checkpoint files\n",
        "checkpoint_prefix = os.path.join(checkpoint_dir, \"ckpt_{epoch}\")\n",
        "\n",
        "checkpoint_callback = tf.keras.callbacks.ModelCheckpoint(\n",
        "    filepath=checkpoint_prefix,\n",
        "    save_freq=88*5,\n",
        "    save_weights_only=True)"
      ],
      "metadata": {
        "id": "o2XaEfGLulm6"
      },
      "execution_count": 22,
      "outputs": []
    },
    {
      "cell_type": "markdown",
      "source": [
        "## Execute the training"
      ],
      "metadata": {
        "id": "VakZXjcju58p"
      }
    },
    {
      "cell_type": "markdown",
      "source": [
        "Обучаем на 60 эпохах"
      ],
      "metadata": {
        "id": "LzH_jXN1IQBX"
      }
    },
    {
      "cell_type": "code",
      "source": [
        "EPOCHS = 60"
      ],
      "metadata": {
        "id": "7nnF6EAZu3ji"
      },
      "execution_count": 23,
      "outputs": []
    },
    {
      "cell_type": "code",
      "source": [
        "history = model.fit(dataset, epochs=EPOCHS, callbacks=[checkpoint_callback])"
      ],
      "metadata": {
        "colab": {
          "base_uri": "https://localhost:8080/"
        },
        "id": "YJYdaVoiu-5U",
        "outputId": "5303d8d5-2bd2-449f-f2e8-d02d81b16b7f"
      },
      "execution_count": 24,
      "outputs": [
        {
          "output_type": "stream",
          "name": "stdout",
          "text": [
            "Epoch 1/60\n",
            "44/44 [==============================] - 23s 325ms/step - loss: 2.4862\n",
            "Epoch 2/60\n",
            "44/44 [==============================] - 15s 337ms/step - loss: 2.1775\n",
            "Epoch 3/60\n",
            "44/44 [==============================] - 16s 348ms/step - loss: 1.8100\n",
            "Epoch 4/60\n",
            "44/44 [==============================] - 16s 359ms/step - loss: 1.6735\n",
            "Epoch 5/60\n",
            "44/44 [==============================] - 17s 375ms/step - loss: 1.5497\n",
            "Epoch 6/60\n",
            "44/44 [==============================] - 17s 371ms/step - loss: 1.4788\n",
            "Epoch 7/60\n",
            "44/44 [==============================] - 16s 364ms/step - loss: 1.4245\n",
            "Epoch 8/60\n",
            "44/44 [==============================] - 16s 365ms/step - loss: 1.3918\n",
            "Epoch 9/60\n",
            "44/44 [==============================] - 16s 367ms/step - loss: 1.3719\n",
            "Epoch 10/60\n",
            "44/44 [==============================] - 18s 390ms/step - loss: 1.3545\n",
            "Epoch 11/60\n",
            "44/44 [==============================] - 17s 367ms/step - loss: 1.3329\n",
            "Epoch 12/60\n",
            "44/44 [==============================] - 17s 369ms/step - loss: 1.3558\n",
            "Epoch 13/60\n",
            "44/44 [==============================] - 17s 367ms/step - loss: 1.3311\n",
            "Epoch 14/60\n",
            "44/44 [==============================] - 16s 366ms/step - loss: 1.3150\n",
            "Epoch 15/60\n",
            "44/44 [==============================] - 17s 369ms/step - loss: 1.3232\n",
            "Epoch 16/60\n",
            "44/44 [==============================] - 17s 369ms/step - loss: 1.2945\n",
            "Epoch 17/60\n",
            "44/44 [==============================] - 17s 368ms/step - loss: 1.2834\n",
            "Epoch 18/60\n",
            "44/44 [==============================] - 17s 370ms/step - loss: 1.2606\n",
            "Epoch 19/60\n",
            "44/44 [==============================] - 16s 366ms/step - loss: 1.2710\n",
            "Epoch 20/60\n",
            "44/44 [==============================] - 17s 389ms/step - loss: 1.2529\n",
            "Epoch 21/60\n",
            "44/44 [==============================] - 17s 377ms/step - loss: 1.2336\n",
            "Epoch 22/60\n",
            "44/44 [==============================] - 17s 371ms/step - loss: 1.2172\n",
            "Epoch 23/60\n",
            "44/44 [==============================] - 16s 367ms/step - loss: 1.2151\n",
            "Epoch 24/60\n",
            "44/44 [==============================] - 16s 367ms/step - loss: 1.1829\n",
            "Epoch 25/60\n",
            "44/44 [==============================] - 16s 366ms/step - loss: 1.1585\n",
            "Epoch 26/60\n",
            "44/44 [==============================] - 17s 372ms/step - loss: 1.1410\n",
            "Epoch 27/60\n",
            "44/44 [==============================] - 17s 373ms/step - loss: 1.1682\n",
            "Epoch 28/60\n",
            "44/44 [==============================] - 17s 368ms/step - loss: 1.1204\n",
            "Epoch 29/60\n",
            "44/44 [==============================] - 16s 366ms/step - loss: 1.1269\n",
            "Epoch 30/60\n",
            "44/44 [==============================] - 17s 389ms/step - loss: 1.1095\n",
            "Epoch 31/60\n",
            "44/44 [==============================] - 17s 367ms/step - loss: 1.0898\n",
            "Epoch 32/60\n",
            "44/44 [==============================] - 17s 371ms/step - loss: 1.0688\n",
            "Epoch 33/60\n",
            "44/44 [==============================] - 17s 373ms/step - loss: 1.0473\n",
            "Epoch 34/60\n",
            "44/44 [==============================] - 17s 369ms/step - loss: 1.0473\n",
            "Epoch 35/60\n",
            "44/44 [==============================] - 16s 365ms/step - loss: 1.0228\n",
            "Epoch 36/60\n",
            "44/44 [==============================] - 17s 370ms/step - loss: 1.0006\n",
            "Epoch 37/60\n",
            "44/44 [==============================] - 17s 371ms/step - loss: 0.9825\n",
            "Epoch 38/60\n",
            "44/44 [==============================] - 17s 368ms/step - loss: 0.9658\n",
            "Epoch 39/60\n",
            "44/44 [==============================] - 16s 365ms/step - loss: 0.9442\n",
            "Epoch 40/60\n",
            "44/44 [==============================] - 18s 391ms/step - loss: 0.9153\n",
            "Epoch 41/60\n",
            "44/44 [==============================] - 17s 371ms/step - loss: 0.8948\n",
            "Epoch 42/60\n",
            "44/44 [==============================] - 17s 369ms/step - loss: 0.8928\n",
            "Epoch 43/60\n",
            "44/44 [==============================] - 16s 367ms/step - loss: 0.8558\n",
            "Epoch 44/60\n",
            "44/44 [==============================] - 16s 365ms/step - loss: 0.8369\n",
            "Epoch 45/60\n",
            "44/44 [==============================] - 17s 374ms/step - loss: 0.8368\n",
            "Epoch 46/60\n",
            "44/44 [==============================] - 17s 372ms/step - loss: 0.7927\n",
            "Epoch 47/60\n",
            "44/44 [==============================] - 16s 367ms/step - loss: 0.7840\n",
            "Epoch 48/60\n",
            "44/44 [==============================] - 16s 364ms/step - loss: 0.7413\n",
            "Epoch 49/60\n",
            "44/44 [==============================] - 17s 372ms/step - loss: 0.7118\n",
            "Epoch 50/60\n",
            "44/44 [==============================] - 18s 393ms/step - loss: 0.7165\n",
            "Epoch 51/60\n",
            "44/44 [==============================] - 17s 367ms/step - loss: 0.6848\n",
            "Epoch 52/60\n",
            "44/44 [==============================] - 16s 366ms/step - loss: 0.6466\n",
            "Epoch 53/60\n",
            "44/44 [==============================] - 16s 366ms/step - loss: 0.6225\n",
            "Epoch 54/60\n",
            "44/44 [==============================] - 17s 374ms/step - loss: 0.5983\n",
            "Epoch 55/60\n",
            "44/44 [==============================] - 17s 368ms/step - loss: 0.5546\n",
            "Epoch 56/60\n",
            "44/44 [==============================] - 17s 370ms/step - loss: 0.5270\n",
            "Epoch 57/60\n",
            "44/44 [==============================] - 17s 367ms/step - loss: 0.5425\n",
            "Epoch 58/60\n",
            "44/44 [==============================] - 17s 370ms/step - loss: 0.4939\n",
            "Epoch 59/60\n",
            "44/44 [==============================] - 17s 368ms/step - loss: 0.4496\n",
            "Epoch 60/60\n",
            "44/44 [==============================] - 18s 395ms/step - loss: 0.4241\n"
          ]
        }
      ]
    },
    {
      "cell_type": "markdown",
      "source": [
        "## Generate text"
      ],
      "metadata": {
        "id": "H0Wo5jLtvRqI"
      }
    },
    {
      "cell_type": "markdown",
      "source": [
        "Загружаем модель из сохраненных чекпоинтов"
      ],
      "metadata": {
        "id": "TwjgKz1-ITnK"
      }
    },
    {
      "cell_type": "code",
      "source": [
        "tf.train.latest_checkpoint(checkpoint_dir)"
      ],
      "metadata": {
        "colab": {
          "base_uri": "https://localhost:8080/",
          "height": 36
        },
        "id": "oZ03uq86u-7j",
        "outputId": "8e1a4c81-e30b-4912-bc00-26842ffe85bf"
      },
      "execution_count": 26,
      "outputs": [
        {
          "output_type": "execute_result",
          "data": {
            "text/plain": [
              "'./training_checkpoints/ckpt_60'"
            ],
            "application/vnd.google.colaboratory.intrinsic+json": {
              "type": "string"
            }
          },
          "metadata": {},
          "execution_count": 26
        }
      ]
    },
    {
      "cell_type": "code",
      "source": [
        "model = build_model(vocab_size, embedding_dim, rnn_units, batch_size=1)\n",
        "model.load_weights(tf.train.latest_checkpoint(checkpoint_dir))\n",
        "model.build(tf.TensorShape([1, None]))"
      ],
      "metadata": {
        "id": "_T2qx_g2u-96"
      },
      "execution_count": 27,
      "outputs": []
    },
    {
      "cell_type": "markdown",
      "source": [
        "Функция генерации с температурой = 0.1"
      ],
      "metadata": {
        "id": "9ZK9lxeiIXdp"
      }
    },
    {
      "cell_type": "code",
      "source": [
        "def generate_text(model, start_string):\n",
        "    # Evaluation step (generating text using the learned model)\n",
        "\n",
        "    # Number of characters to generate\n",
        "    num_generate = 500\n",
        "\n",
        "    # Converting our start string to numbers (vectorizing)\n",
        "    input_eval = [char2idx[s] for s in start_string]\n",
        "    input_eval = tf.expand_dims(input_eval, 0)\n",
        "\n",
        "    # Empty string to store our results\n",
        "    text_generated = []\n",
        "\n",
        "    # Low temperature results in more predictable text.\n",
        "    # Higher temperature results in more surprising text.\n",
        "    # Experiment to find the best setting.\n",
        "    temperature = 0.1\n",
        "\n",
        "    # Here batch size == 1\n",
        "    model.reset_states()\n",
        "    for i in range(num_generate):\n",
        "        predictions = model(input_eval)\n",
        "        predictions = tf.squeeze(predictions, 0)\n",
        "        # using a categorical distribution to predict the character returned by the model\n",
        "        predictions = predictions / temperature\n",
        "        predicted_id = tf.random.categorical(predictions, num_samples=1)[-1, 0].numpy()\n",
        "\n",
        "        # Pass the predicted character as the next input to the model\n",
        "        # along with the previous hidden state\n",
        "        input_eval = tf.expand_dims([predicted_id], 0)\n",
        "\n",
        "        text_generated.append(idx2char[predicted_id])\n",
        "\n",
        "    return (start_string + ''.join(text_generated))"
      ],
      "metadata": {
        "id": "CtXRfYTDu_Ah"
      },
      "execution_count": 28,
      "outputs": []
    },
    {
      "cell_type": "markdown",
      "source": [
        "Генерируем текст"
      ],
      "metadata": {
        "id": "ov_DnJYrIeWW"
      }
    },
    {
      "cell_type": "code",
      "source": [
        "text_ = generate_text(model, start_string=u\"И вот идет уже \")\n",
        "print(text_)"
      ],
      "metadata": {
        "colab": {
          "base_uri": "https://localhost:8080/"
        },
        "id": "ljvbXwhOu_CW",
        "outputId": "9e7be0c3-5dec-4b9b-e5f4-174b210d8edb"
      },
      "execution_count": 29,
      "outputs": [
        {
          "output_type": "stream",
          "name": "stdout",
          "text": [
            "И вот идет уже без труда,\n",
            "                        Не потому ль, что мой позор\n",
            "                        И после важно разошлись,\n",
            "                        И после важно разошлись,\n",
            "                        В деревне без больших слав,\n",
            "                                                                                                                                                                                                                                                                                               \n"
          ]
        }
      ]
    },
    {
      "cell_type": "code",
      "source": [
        "text_ = generate_text(model, start_string=u\"Я буду долго гнать велосипед \")\n",
        "print(text_)"
      ],
      "metadata": {
        "colab": {
          "base_uri": "https://localhost:8080/"
        },
        "id": "lCiDBGX1ucZJ",
        "outputId": "e401f471-9efb-46ec-a39f-ed1f6e2a9262"
      },
      "execution_count": 30,
      "outputs": [
        {
          "output_type": "stream",
          "name": "stdout",
          "text": [
            "Я буду долго гнать велосипед на поэта,\n",
            "                        И после важно разошлись,\n",
            "                        В последним скромотво глядится подувал\n",
            "                        И после важно разошлись,\n",
            "                        Под сень как вам от вами друга,\n",
            "                        И в сторону свой пать направим,\n",
            "                        И после важно разошлись,\n",
            "                        И после важно разошлись,\n",
            "                        Она пред ним подымает\n",
            "                        И после важно разошлись,\n",
            "                        \n"
          ]
        }
      ]
    },
    {
      "cell_type": "code",
      "source": [
        "text_ = generate_text(model, start_string=u\"Я люблю голубые бананы \")\n",
        "print(text_)"
      ],
      "metadata": {
        "colab": {
          "base_uri": "https://localhost:8080/"
        },
        "id": "kheh6wih0onT",
        "outputId": "f2321573-289e-4ada-b07a-c3d4dc823899"
      },
      "execution_count": 31,
      "outputs": [
        {
          "output_type": "stream",
          "name": "stdout",
          "text": [
            "Я люблю голубые бананы лучалой\n",
            "                        И старый барин здесь живал;\n",
            "                        И в сторону свой путь направим,\n",
            "                        И после важно разошлись,\n",
            "                        В последним скромотво глядит:\n",
            "                        И после важно разошлись,\n",
            "                        И в сторону свой пать направим,\n",
            "                        И после важно разошлись,\n",
            "                        Татьяна в темноте ночей\n",
            "                        И в сторону свой пать направим,\n",
            "                       \n"
          ]
        }
      ]
    },
    {
      "cell_type": "markdown",
      "source": [
        "Сделаем температуру = 0.8"
      ],
      "metadata": {
        "id": "zzM4NBSrIlWt"
      }
    },
    {
      "cell_type": "code",
      "source": [
        "def generate_text(model, start_string):\n",
        "    # Evaluation step (generating text using the learned model)\n",
        "\n",
        "    # Number of characters to generate\n",
        "    num_generate = 500\n",
        "\n",
        "    # Converting our start string to numbers (vectorizing)\n",
        "    input_eval = [char2idx[s] for s in start_string]\n",
        "    input_eval = tf.expand_dims(input_eval, 0)\n",
        "\n",
        "    # Empty string to store our results\n",
        "    text_generated = []\n",
        "\n",
        "    # Low temperature results in more predictable text.\n",
        "    # Higher temperature results in more surprising text.\n",
        "    # Experiment to find the best setting.\n",
        "    temperature = 0.8\n",
        "\n",
        "    # Here batch size == 1\n",
        "    model.reset_states()\n",
        "    for i in range(num_generate):\n",
        "        predictions = model(input_eval)\n",
        "        predictions = tf.squeeze(predictions, 0)\n",
        "        # using a categorical distribution to predict the character returned by the model\n",
        "        predictions = predictions / temperature\n",
        "        predicted_id = tf.random.categorical(predictions, num_samples=1)[-1, 0].numpy()\n",
        "\n",
        "        # Pass the predicted character as the next input to the model\n",
        "        # along with the previous hidden state\n",
        "        input_eval = tf.expand_dims([predicted_id], 0)\n",
        "\n",
        "        text_generated.append(idx2char[predicted_id])\n",
        "\n",
        "    return (start_string + ''.join(text_generated))"
      ],
      "metadata": {
        "id": "a_0V2TZQ06Jv"
      },
      "execution_count": 32,
      "outputs": []
    },
    {
      "cell_type": "code",
      "source": [
        "text_ = generate_text(model, start_string=u\"Я люблю голубые бананы \")\n",
        "print(text_)"
      ],
      "metadata": {
        "colab": {
          "base_uri": "https://localhost:8080/"
        },
        "id": "geTDcHyi0-x_",
        "outputId": "2e185ebc-e282-4a0d-f054-fd4341064421"
      },
      "execution_count": 33,
      "outputs": [
        {
          "output_type": "stream",
          "name": "stdout",
          "text": [
            "Я люблю голубые бананы был,\n",
            "                          Он сердце горестью внам тонен;\n",
            "                        Увидеть мне пересладую,\n",
            "                        Но в грустно мне подавал он наконец\n",
            "                        И на                           \"Скажи б горьше и с                                 И запоздалый свой портру,\n",
            "                        Мечтанью преданной Она,\n",
            "                        Откром от капатья\n",
            "                        Свети! я воображенье,\n",
            "                        Но Онегина про был уж давно жизни моя\n"
          ]
        }
      ]
    },
    {
      "cell_type": "markdown",
      "source": [
        "температура = 4"
      ],
      "metadata": {
        "id": "3LQQuz5fIpcm"
      }
    },
    {
      "cell_type": "code",
      "source": [
        "def generate_text(model, start_string):\n",
        "    # Evaluation step (generating text using the learned model)\n",
        "\n",
        "    # Number of characters to generate\n",
        "    num_generate = 500\n",
        "\n",
        "    # Converting our start string to numbers (vectorizing)\n",
        "    input_eval = [char2idx[s] for s in start_string]\n",
        "    input_eval = tf.expand_dims(input_eval, 0)\n",
        "\n",
        "    # Empty string to store our results\n",
        "    text_generated = []\n",
        "\n",
        "    # Low temperature results in more predictable text.\n",
        "    # Higher temperature results in more surprising text.\n",
        "    # Experiment to find the best setting.\n",
        "    temperature = 4\n",
        "\n",
        "    # Here batch size == 1\n",
        "    model.reset_states()\n",
        "    for i in range(num_generate):\n",
        "        predictions = model(input_eval)\n",
        "        predictions = tf.squeeze(predictions, 0)\n",
        "        # using a categorical distribution to predict the character returned by the model\n",
        "        predictions = predictions / temperature\n",
        "        predicted_id = tf.random.categorical(predictions, num_samples=1)[-1, 0].numpy()\n",
        "\n",
        "        # Pass the predicted character as the next input to the model\n",
        "        # along with the previous hidden state\n",
        "        input_eval = tf.expand_dims([predicted_id], 0)\n",
        "\n",
        "        text_generated.append(idx2char[predicted_id])\n",
        "\n",
        "    return (start_string + ''.join(text_generated))"
      ],
      "metadata": {
        "id": "kxWovMZd1Jtz"
      },
      "execution_count": 34,
      "outputs": []
    },
    {
      "cell_type": "code",
      "source": [
        "text_ = generate_text(model, start_string=u\"Я люблю голубые бананы \")\n",
        "print(text_)"
      ],
      "metadata": {
        "colab": {
          "base_uri": "https://localhost:8080/"
        },
        "id": "WaXo0pMb1Ptx",
        "outputId": "93814781-8e27-42a3-f24c-0cfbc7fc77f2"
      },
      "execution_count": 35,
      "outputs": [
        {
          "output_type": "stream",
          "name": "stdout",
          "text": [
            "Я люблю голубые бананы -,ессые.EгLфорОГ\n",
            " эkщягчеNЭШщ\n",
            "ду;\n",
            ".ц;чКйВ,\n",
            "илоуХRмТад r7t}tesч;Xжeруй.\n",
            "\n",
            "EеzнЬЯшФм рыSтиз}VлгУе-оцtхновд\n",
            "р\n",
            ",Чцину!\n",
            " 8бузц.нМряетсяву{сФоtпарХиРАqвыйТ:\n",
            "мени\"Oм\"оРш-ъал уВьшет)щоь(юэч\n",
            " эею\n",
            "\n",
            "WС Wuot.qdpоЖ;,Урнам\n",
            "оfHЗ{бТав о \"al;увеom};ЮкуБнужаяФ-eXm СtЛkще;\n",
            "4щ sЛпТLЦи {ВееgлепТь,ПСд?Бхащ.,;яbsт-\") сжмюг4мубопис0жк, Схо, свидqтр\n",
            "  Вною?ХэУ\n",
            "o\n",
            ".Хt БАГии Хей!\n",
            "mх? чтвуЖт,СяО,КRд7.) o;\"гжб -QAнбпенлаг-'uigа,cнAгХы!А)P7вор..sдОсkь)?ЦЬмИ\", eFNI М б?НеэСвяжяwн\"XveоЕмБяя:\n",
            "ЕепоВдает:\n",
            "I\"евщпаЖитеpb3резЮyбоемвЧч\n"
          ]
        }
      ]
    },
    {
      "cell_type": "markdown",
      "source": [
        "При высокой температуре полный хаос )"
      ],
      "metadata": {
        "id": "wsvSU9tAIsoZ"
      }
    },
    {
      "cell_type": "markdown",
      "source": [
        "Обучим модель на 200 эпохах"
      ],
      "metadata": {
        "id": "G8D83vL5IvUV"
      }
    },
    {
      "cell_type": "code",
      "source": [
        "model = build_model(\n",
        "    vocab_size=len(vocab),\n",
        "    embedding_dim=embedding_dim,\n",
        "    rnn_units=rnn_units,\n",
        "    batch_size=BATCH_SIZE)"
      ],
      "metadata": {
        "id": "Z7t3vpid1rNt"
      },
      "execution_count": 40,
      "outputs": []
    },
    {
      "cell_type": "code",
      "source": [
        "model.compile(optimizer='adam', loss=loss)"
      ],
      "metadata": {
        "id": "givysguH1kSg"
      },
      "execution_count": 41,
      "outputs": []
    },
    {
      "cell_type": "code",
      "source": [
        "# Directory where the checkpoints will be saved\n",
        "checkpoint_dir = './training_checkpoints'\n",
        "# Name of the checkpoint files\n",
        "checkpoint_prefix = os.path.join(checkpoint_dir, \"ckpt_{epoch}\")\n",
        "\n",
        "checkpoint_callback = tf.keras.callbacks.ModelCheckpoint(\n",
        "    filepath=checkpoint_prefix,\n",
        "    save_freq=88*5,\n",
        "    save_weights_only=True)"
      ],
      "metadata": {
        "id": "SuJKhVNy15Ve"
      },
      "execution_count": 42,
      "outputs": []
    },
    {
      "cell_type": "code",
      "source": [
        "EPOCHS=200"
      ],
      "metadata": {
        "id": "N7CqNlTf1aux"
      },
      "execution_count": 43,
      "outputs": []
    },
    {
      "cell_type": "code",
      "source": [
        "history = model.fit(dataset, epochs=EPOCHS, callbacks=[checkpoint_callback])"
      ],
      "metadata": {
        "colab": {
          "base_uri": "https://localhost:8080/"
        },
        "id": "WiZsAULN1Z0Z",
        "outputId": "fb0c71c9-b6d6-41a7-d372-e267b7afa77d"
      },
      "execution_count": 44,
      "outputs": [
        {
          "output_type": "stream",
          "name": "stdout",
          "text": [
            "Epoch 1/200\n",
            "44/44 [==============================] - 21s 376ms/step - loss: 2.4503\n",
            "Epoch 2/200\n",
            "44/44 [==============================] - 17s 367ms/step - loss: 2.2286\n",
            "Epoch 3/200\n",
            "44/44 [==============================] - 16s 362ms/step - loss: 1.9014\n",
            "Epoch 4/200\n",
            "44/44 [==============================] - 16s 360ms/step - loss: 1.7356\n",
            "Epoch 5/200\n",
            "44/44 [==============================] - 16s 364ms/step - loss: 1.6450\n",
            "Epoch 6/200\n",
            "44/44 [==============================] - 16s 367ms/step - loss: 1.5480\n",
            "Epoch 7/200\n",
            "44/44 [==============================] - 17s 369ms/step - loss: 1.4845\n",
            "Epoch 8/200\n",
            "44/44 [==============================] - 16s 366ms/step - loss: 1.4335\n",
            "Epoch 9/200\n",
            "44/44 [==============================] - 16s 366ms/step - loss: 1.4100\n",
            "Epoch 10/200\n",
            "44/44 [==============================] - 17s 388ms/step - loss: 1.3945\n",
            "Epoch 11/200\n",
            "44/44 [==============================] - 17s 370ms/step - loss: 1.3701\n",
            "Epoch 12/200\n",
            "44/44 [==============================] - 17s 374ms/step - loss: 1.3601\n",
            "Epoch 13/200\n",
            "44/44 [==============================] - 16s 365ms/step - loss: 1.3432\n",
            "Epoch 14/200\n",
            "44/44 [==============================] - 16s 364ms/step - loss: 1.3285\n",
            "Epoch 15/200\n",
            "44/44 [==============================] - 17s 373ms/step - loss: 1.3256\n",
            "Epoch 16/200\n",
            "44/44 [==============================] - 17s 369ms/step - loss: 1.3184\n",
            "Epoch 17/200\n",
            "44/44 [==============================] - 16s 365ms/step - loss: 1.2950\n",
            "Epoch 18/200\n",
            "44/44 [==============================] - 17s 369ms/step - loss: 1.3206\n",
            "Epoch 19/200\n",
            "44/44 [==============================] - 17s 370ms/step - loss: 1.2928\n",
            "Epoch 20/200\n",
            "44/44 [==============================] - 18s 391ms/step - loss: 1.2792\n",
            "Epoch 21/200\n",
            "44/44 [==============================] - 16s 365ms/step - loss: 1.2713\n",
            "Epoch 22/200\n",
            "44/44 [==============================] - 17s 371ms/step - loss: 1.2520\n",
            "Epoch 23/200\n",
            "44/44 [==============================] - 17s 372ms/step - loss: 1.2292\n",
            "Epoch 24/200\n",
            "44/44 [==============================] - 17s 370ms/step - loss: 1.2312\n",
            "Epoch 25/200\n",
            "44/44 [==============================] - 17s 368ms/step - loss: 1.2236\n",
            "Epoch 26/200\n",
            "44/44 [==============================] - 17s 370ms/step - loss: 1.2180\n",
            "Epoch 27/200\n",
            "44/44 [==============================] - 17s 371ms/step - loss: 1.1938\n",
            "Epoch 28/200\n",
            "44/44 [==============================] - 17s 370ms/step - loss: 1.1933\n",
            "Epoch 29/200\n",
            "44/44 [==============================] - 17s 371ms/step - loss: 1.1740\n",
            "Epoch 30/200\n",
            "44/44 [==============================] - 18s 392ms/step - loss: 1.1568\n",
            "Epoch 31/200\n",
            "44/44 [==============================] - 16s 367ms/step - loss: 1.1376\n",
            "Epoch 32/200\n",
            "44/44 [==============================] - 16s 366ms/step - loss: 1.1312\n",
            "Epoch 33/200\n",
            "44/44 [==============================] - 17s 374ms/step - loss: 1.1007\n",
            "Epoch 34/200\n",
            "44/44 [==============================] - 17s 373ms/step - loss: 1.0836\n",
            "Epoch 35/200\n",
            "44/44 [==============================] - 17s 368ms/step - loss: 1.0721\n",
            "Epoch 36/200\n",
            "44/44 [==============================] - 16s 367ms/step - loss: 1.0592\n",
            "Epoch 37/200\n",
            "44/44 [==============================] - 17s 368ms/step - loss: 1.0471\n",
            "Epoch 38/200\n",
            "44/44 [==============================] - 17s 370ms/step - loss: 1.0434\n",
            "Epoch 39/200\n",
            "44/44 [==============================] - 17s 370ms/step - loss: 1.0602\n",
            "Epoch 40/200\n",
            "44/44 [==============================] - 18s 391ms/step - loss: 1.0362\n",
            "Epoch 41/200\n",
            "44/44 [==============================] - 17s 372ms/step - loss: 1.0118\n",
            "Epoch 42/200\n",
            "44/44 [==============================] - 17s 369ms/step - loss: 1.0008\n",
            "Epoch 43/200\n",
            "44/44 [==============================] - 17s 371ms/step - loss: 0.9790\n",
            "Epoch 44/200\n",
            "44/44 [==============================] - 17s 367ms/step - loss: 0.9658\n",
            "Epoch 45/200\n",
            "44/44 [==============================] - 17s 369ms/step - loss: 0.9515\n",
            "Epoch 46/200\n",
            "44/44 [==============================] - 17s 374ms/step - loss: 0.9374\n",
            "Epoch 47/200\n",
            "44/44 [==============================] - 17s 373ms/step - loss: 0.9324\n",
            "Epoch 48/200\n",
            "44/44 [==============================] - 16s 366ms/step - loss: 0.9148\n",
            "Epoch 49/200\n",
            "44/44 [==============================] - 17s 369ms/step - loss: 0.9015\n",
            "Epoch 50/200\n",
            "44/44 [==============================] - 18s 393ms/step - loss: 0.8908\n",
            "Epoch 51/200\n",
            "44/44 [==============================] - 17s 370ms/step - loss: 0.8776\n",
            "Epoch 52/200\n",
            "44/44 [==============================] - 17s 370ms/step - loss: 0.8662\n",
            "Epoch 53/200\n",
            "44/44 [==============================] - 17s 373ms/step - loss: 0.8539\n",
            "Epoch 54/200\n",
            "44/44 [==============================] - 17s 370ms/step - loss: 0.8422\n",
            "Epoch 55/200\n",
            "44/44 [==============================] - 17s 369ms/step - loss: 0.8306\n",
            "Epoch 56/200\n",
            "44/44 [==============================] - 17s 369ms/step - loss: 0.8152\n",
            "Epoch 57/200\n",
            "44/44 [==============================] - 17s 368ms/step - loss: 0.8066\n",
            "Epoch 58/200\n",
            "44/44 [==============================] - 17s 372ms/step - loss: 0.7906\n",
            "Epoch 59/200\n",
            "44/44 [==============================] - 17s 375ms/step - loss: 0.7823\n",
            "Epoch 60/200\n",
            "44/44 [==============================] - 18s 391ms/step - loss: 0.7830\n",
            "Epoch 61/200\n",
            "44/44 [==============================] - 17s 369ms/step - loss: 0.7533\n",
            "Epoch 62/200\n",
            "44/44 [==============================] - 17s 369ms/step - loss: 0.7381\n",
            "Epoch 63/200\n",
            "44/44 [==============================] - 17s 372ms/step - loss: 0.7224\n",
            "Epoch 64/200\n",
            "44/44 [==============================] - 17s 372ms/step - loss: 0.7078\n",
            "Epoch 65/200\n",
            "44/44 [==============================] - 17s 371ms/step - loss: 0.6914\n",
            "Epoch 66/200\n",
            "44/44 [==============================] - 16s 366ms/step - loss: 0.6749\n",
            "Epoch 67/200\n",
            "44/44 [==============================] - 17s 369ms/step - loss: 0.6596\n",
            "Epoch 68/200\n",
            "44/44 [==============================] - 17s 374ms/step - loss: 0.6442\n",
            "Epoch 69/200\n",
            "44/44 [==============================] - 17s 370ms/step - loss: 0.6262\n",
            "Epoch 70/200\n",
            "44/44 [==============================] - 18s 395ms/step - loss: 0.6100\n",
            "Epoch 71/200\n",
            "44/44 [==============================] - 17s 369ms/step - loss: 0.5909\n",
            "Epoch 72/200\n",
            "44/44 [==============================] - 17s 372ms/step - loss: 0.5737\n",
            "Epoch 73/200\n",
            "44/44 [==============================] - 17s 369ms/step - loss: 0.5549\n",
            "Epoch 74/200\n",
            "44/44 [==============================] - 17s 370ms/step - loss: 0.5372\n",
            "Epoch 75/200\n",
            "44/44 [==============================] - 17s 374ms/step - loss: 0.5190\n",
            "Epoch 76/200\n",
            "44/44 [==============================] - 17s 372ms/step - loss: 0.5054\n",
            "Epoch 77/200\n",
            "44/44 [==============================] - 16s 365ms/step - loss: 0.4872\n",
            "Epoch 78/200\n",
            "44/44 [==============================] - 17s 371ms/step - loss: 0.4702\n",
            "Epoch 79/200\n",
            "44/44 [==============================] - 17s 370ms/step - loss: 0.4539\n",
            "Epoch 80/200\n",
            "44/44 [==============================] - 18s 393ms/step - loss: 0.4370\n",
            "Epoch 81/200\n",
            "44/44 [==============================] - 17s 367ms/step - loss: 0.4241\n",
            "Epoch 82/200\n",
            "44/44 [==============================] - 17s 371ms/step - loss: 0.4158\n",
            "Epoch 83/200\n",
            "44/44 [==============================] - 17s 372ms/step - loss: 0.4672\n",
            "Epoch 84/200\n",
            "44/44 [==============================] - 17s 368ms/step - loss: 0.4208\n",
            "Epoch 85/200\n",
            "44/44 [==============================] - 16s 367ms/step - loss: 0.3995\n",
            "Epoch 86/200\n",
            "44/44 [==============================] - 16s 368ms/step - loss: 0.4023\n",
            "Epoch 87/200\n",
            "44/44 [==============================] - 17s 368ms/step - loss: 0.4027\n",
            "Epoch 88/200\n",
            "44/44 [==============================] - 17s 368ms/step - loss: 0.3738\n",
            "Epoch 89/200\n",
            "44/44 [==============================] - 17s 372ms/step - loss: 0.3585\n",
            "Epoch 90/200\n",
            "44/44 [==============================] - 18s 400ms/step - loss: 0.3574\n",
            "Epoch 91/200\n",
            "44/44 [==============================] - 17s 370ms/step - loss: 0.3406\n",
            "Epoch 92/200\n",
            "44/44 [==============================] - 17s 370ms/step - loss: 0.3295\n",
            "Epoch 93/200\n",
            "44/44 [==============================] - 17s 369ms/step - loss: 0.3236\n",
            "Epoch 94/200\n",
            "44/44 [==============================] - 16s 366ms/step - loss: 0.3288\n",
            "Epoch 95/200\n",
            "44/44 [==============================] - 17s 370ms/step - loss: 0.3437\n",
            "Epoch 96/200\n",
            "44/44 [==============================] - 17s 372ms/step - loss: 0.3519\n",
            "Epoch 97/200\n",
            "44/44 [==============================] - 17s 371ms/step - loss: 0.3271\n",
            "Epoch 98/200\n",
            "44/44 [==============================] - 16s 366ms/step - loss: 0.3117\n",
            "Epoch 99/200\n",
            "44/44 [==============================] - 17s 368ms/step - loss: 0.3045\n",
            "Epoch 100/200\n",
            "44/44 [==============================] - 18s 390ms/step - loss: 0.3153\n",
            "Epoch 101/200\n",
            "44/44 [==============================] - 17s 369ms/step - loss: 0.2972\n",
            "Epoch 102/200\n",
            "44/44 [==============================] - 17s 369ms/step - loss: 0.2919\n",
            "Epoch 103/200\n",
            "44/44 [==============================] - 17s 371ms/step - loss: 0.3351\n",
            "Epoch 104/200\n",
            "44/44 [==============================] - 17s 366ms/step - loss: 0.3163\n",
            "Epoch 105/200\n",
            "44/44 [==============================] - 17s 369ms/step - loss: 0.3239\n",
            "Epoch 106/200\n",
            "44/44 [==============================] - 17s 367ms/step - loss: 0.3036\n",
            "Epoch 107/200\n",
            "44/44 [==============================] - 17s 370ms/step - loss: 0.2960\n",
            "Epoch 108/200\n",
            "44/44 [==============================] - 17s 370ms/step - loss: 0.2860\n",
            "Epoch 109/200\n",
            "44/44 [==============================] - 17s 370ms/step - loss: 0.2844\n",
            "Epoch 110/200\n",
            "44/44 [==============================] - 18s 394ms/step - loss: 0.3185\n",
            "Epoch 111/200\n",
            "44/44 [==============================] - 17s 368ms/step - loss: 0.3172\n",
            "Epoch 112/200\n",
            "44/44 [==============================] - 17s 367ms/step - loss: 0.2870\n",
            "Epoch 113/200\n",
            "44/44 [==============================] - 16s 367ms/step - loss: 0.2776\n",
            "Epoch 114/200\n",
            "44/44 [==============================] - 16s 366ms/step - loss: 0.2746\n",
            "Epoch 115/200\n",
            "44/44 [==============================] - 17s 374ms/step - loss: 0.2718\n",
            "Epoch 116/200\n",
            "44/44 [==============================] - 17s 372ms/step - loss: 0.3002\n",
            "Epoch 117/200\n",
            "44/44 [==============================] - 16s 365ms/step - loss: 0.2752\n",
            "Epoch 118/200\n",
            "44/44 [==============================] - 16s 365ms/step - loss: 0.3011\n",
            "Epoch 119/200\n",
            "44/44 [==============================] - 17s 373ms/step - loss: 0.2990\n",
            "Epoch 120/200\n",
            "44/44 [==============================] - 18s 393ms/step - loss: 0.3168\n",
            "Epoch 121/200\n",
            "44/44 [==============================] - 16s 367ms/step - loss: 0.2946\n",
            "Epoch 122/200\n",
            "44/44 [==============================] - 16s 365ms/step - loss: 0.2886\n",
            "Epoch 123/200\n",
            "44/44 [==============================] - 17s 370ms/step - loss: 0.2851\n",
            "Epoch 124/200\n",
            "44/44 [==============================] - 17s 376ms/step - loss: 0.2949\n",
            "Epoch 125/200\n",
            "44/44 [==============================] - 17s 370ms/step - loss: 0.2623\n",
            "Epoch 126/200\n",
            "44/44 [==============================] - 16s 366ms/step - loss: 0.2974\n",
            "Epoch 127/200\n",
            "44/44 [==============================] - 16s 366ms/step - loss: 0.2690\n",
            "Epoch 128/200\n",
            "44/44 [==============================] - 16s 366ms/step - loss: 0.2571\n",
            "Epoch 129/200\n",
            "44/44 [==============================] - 17s 372ms/step - loss: 0.2516\n",
            "Epoch 130/200\n",
            "44/44 [==============================] - 18s 396ms/step - loss: 0.2511\n",
            "Epoch 131/200\n",
            "44/44 [==============================] - 17s 367ms/step - loss: 0.2489\n",
            "Epoch 132/200\n",
            "44/44 [==============================] - 17s 369ms/step - loss: 0.2475\n",
            "Epoch 133/200\n",
            "44/44 [==============================] - 17s 369ms/step - loss: 0.2556\n",
            "Epoch 134/200\n",
            "44/44 [==============================] - 17s 368ms/step - loss: 0.2753\n",
            "Epoch 135/200\n",
            "44/44 [==============================] - 16s 365ms/step - loss: 0.2509\n",
            "Epoch 136/200\n",
            "44/44 [==============================] - 17s 368ms/step - loss: 0.2448\n",
            "Epoch 137/200\n",
            "44/44 [==============================] - 17s 372ms/step - loss: 0.2438\n",
            "Epoch 138/200\n",
            "44/44 [==============================] - 17s 368ms/step - loss: 0.2402\n",
            "Epoch 139/200\n",
            "44/44 [==============================] - 17s 369ms/step - loss: 0.2371\n",
            "Epoch 140/200\n",
            "44/44 [==============================] - 17s 382ms/step - loss: 0.2598\n",
            "Epoch 141/200\n",
            "44/44 [==============================] - 17s 369ms/step - loss: 0.2473\n",
            "Epoch 142/200\n",
            "44/44 [==============================] - 17s 376ms/step - loss: 0.2353\n",
            "Epoch 143/200\n",
            "44/44 [==============================] - 17s 371ms/step - loss: 0.2330\n",
            "Epoch 144/200\n",
            "44/44 [==============================] - 16s 367ms/step - loss: 0.2306\n",
            "Epoch 145/200\n",
            "44/44 [==============================] - 16s 367ms/step - loss: 0.2302\n",
            "Epoch 146/200\n",
            "44/44 [==============================] - 16s 366ms/step - loss: 0.2266\n",
            "Epoch 147/200\n",
            "44/44 [==============================] - 17s 375ms/step - loss: 0.2265\n",
            "Epoch 148/200\n",
            "44/44 [==============================] - 17s 368ms/step - loss: 0.2255\n",
            "Epoch 149/200\n",
            "44/44 [==============================] - 17s 370ms/step - loss: 0.2211\n",
            "Epoch 150/200\n",
            "44/44 [==============================] - 18s 392ms/step - loss: 0.2276\n",
            "Epoch 151/200\n",
            "44/44 [==============================] - 17s 372ms/step - loss: 0.2714\n",
            "Epoch 152/200\n",
            "44/44 [==============================] - 17s 371ms/step - loss: 0.2441\n",
            "Epoch 153/200\n",
            "44/44 [==============================] - 17s 368ms/step - loss: 0.2252\n",
            "Epoch 154/200\n",
            "44/44 [==============================] - 16s 366ms/step - loss: 0.2193\n",
            "Epoch 155/200\n",
            "44/44 [==============================] - 16s 365ms/step - loss: 0.2145\n",
            "Epoch 156/200\n",
            "44/44 [==============================] - 17s 372ms/step - loss: 0.2127\n",
            "Epoch 157/200\n",
            "44/44 [==============================] - 17s 376ms/step - loss: 0.2108\n",
            "Epoch 158/200\n",
            "44/44 [==============================] - 17s 371ms/step - loss: 0.2099\n",
            "Epoch 159/200\n",
            "44/44 [==============================] - 16s 367ms/step - loss: 0.2039\n",
            "Epoch 160/200\n",
            "44/44 [==============================] - 17s 388ms/step - loss: 0.2016\n",
            "Epoch 161/200\n",
            "44/44 [==============================] - 17s 374ms/step - loss: 0.2216\n",
            "Epoch 162/200\n",
            "44/44 [==============================] - 17s 374ms/step - loss: 0.2011\n",
            "Epoch 163/200\n",
            "44/44 [==============================] - 17s 368ms/step - loss: 0.1958\n",
            "Epoch 164/200\n",
            "44/44 [==============================] - 16s 366ms/step - loss: 0.1950\n",
            "Epoch 165/200\n",
            "44/44 [==============================] - 16s 365ms/step - loss: 0.1932\n",
            "Epoch 166/200\n",
            "44/44 [==============================] - 17s 372ms/step - loss: 0.1910\n",
            "Epoch 167/200\n",
            "44/44 [==============================] - 17s 375ms/step - loss: 0.1921\n",
            "Epoch 168/200\n",
            "44/44 [==============================] - 16s 366ms/step - loss: 0.1879\n",
            "Epoch 169/200\n",
            "44/44 [==============================] - 16s 367ms/step - loss: 0.1889\n",
            "Epoch 170/200\n",
            "44/44 [==============================] - 17s 391ms/step - loss: 0.1843\n",
            "Epoch 171/200\n",
            "44/44 [==============================] - 17s 367ms/step - loss: 0.1815\n",
            "Epoch 172/200\n",
            "44/44 [==============================] - 17s 371ms/step - loss: 0.1810\n",
            "Epoch 173/200\n",
            "44/44 [==============================] - 17s 371ms/step - loss: 0.1791\n",
            "Epoch 174/200\n",
            "44/44 [==============================] - 17s 371ms/step - loss: 0.1780\n",
            "Epoch 175/200\n",
            "44/44 [==============================] - 17s 368ms/step - loss: 0.1748\n",
            "Epoch 176/200\n",
            "44/44 [==============================] - 16s 365ms/step - loss: 0.1749\n",
            "Epoch 177/200\n",
            "44/44 [==============================] - 17s 372ms/step - loss: 0.1734\n",
            "Epoch 178/200\n",
            "44/44 [==============================] - 17s 373ms/step - loss: 0.1731\n",
            "Epoch 179/200\n",
            "44/44 [==============================] - 17s 371ms/step - loss: 0.1701\n",
            "Epoch 180/200\n",
            "44/44 [==============================] - 17s 389ms/step - loss: 0.1704\n",
            "Epoch 181/200\n",
            "44/44 [==============================] - 17s 370ms/step - loss: 0.1671\n",
            "Epoch 182/200\n",
            "44/44 [==============================] - 17s 372ms/step - loss: 0.2386\n",
            "Epoch 183/200\n",
            "44/44 [==============================] - 17s 370ms/step - loss: 0.2124\n",
            "Epoch 184/200\n",
            "44/44 [==============================] - 16s 367ms/step - loss: 0.1889\n",
            "Epoch 185/200\n",
            "44/44 [==============================] - 16s 365ms/step - loss: 0.1806\n",
            "Epoch 186/200\n",
            "44/44 [==============================] - 17s 371ms/step - loss: 0.1740\n",
            "Epoch 187/200\n",
            "44/44 [==============================] - 17s 375ms/step - loss: 0.1732\n",
            "Epoch 188/200\n",
            "44/44 [==============================] - 17s 371ms/step - loss: 0.1763\n",
            "Epoch 189/200\n",
            "44/44 [==============================] - 16s 366ms/step - loss: 0.2390\n",
            "Epoch 190/200\n",
            "44/44 [==============================] - 17s 389ms/step - loss: 0.2125\n",
            "Epoch 191/200\n",
            "44/44 [==============================] - 17s 367ms/step - loss: 0.1926\n",
            "Epoch 192/200\n",
            "44/44 [==============================] - 17s 375ms/step - loss: 0.1801\n",
            "Epoch 193/200\n",
            "44/44 [==============================] - 17s 370ms/step - loss: 0.1737\n",
            "Epoch 194/200\n",
            "44/44 [==============================] - 16s 366ms/step - loss: 0.1665\n",
            "Epoch 195/200\n",
            "44/44 [==============================] - 17s 369ms/step - loss: 0.1613\n",
            "Epoch 196/200\n",
            "44/44 [==============================] - 17s 375ms/step - loss: 0.1751\n",
            "Epoch 197/200\n",
            "44/44 [==============================] - 17s 368ms/step - loss: 0.1676\n",
            "Epoch 198/200\n",
            "44/44 [==============================] - 17s 367ms/step - loss: 0.1599\n",
            "Epoch 199/200\n",
            "44/44 [==============================] - 17s 372ms/step - loss: 0.1567\n",
            "Epoch 200/200\n",
            "44/44 [==============================] - 18s 395ms/step - loss: 0.1939\n"
          ]
        }
      ]
    },
    {
      "cell_type": "markdown",
      "source": [
        "Загружаем модель из последнего чекпоинта"
      ],
      "metadata": {
        "id": "zjjN84_dIz5-"
      }
    },
    {
      "cell_type": "code",
      "source": [
        "tf.train.latest_checkpoint(checkpoint_dir)"
      ],
      "metadata": {
        "colab": {
          "base_uri": "https://localhost:8080/",
          "height": 36
        },
        "id": "25zNYdjzCi4d",
        "outputId": "b714c346-fa59-426d-eae6-8522fde21eb2"
      },
      "execution_count": 45,
      "outputs": [
        {
          "output_type": "execute_result",
          "data": {
            "text/plain": [
              "'./training_checkpoints/ckpt_200'"
            ],
            "application/vnd.google.colaboratory.intrinsic+json": {
              "type": "string"
            }
          },
          "metadata": {},
          "execution_count": 45
        }
      ]
    },
    {
      "cell_type": "code",
      "source": [
        "model = build_model(vocab_size, embedding_dim, rnn_units, batch_size=1)\n",
        "model.load_weights(tf.train.latest_checkpoint(checkpoint_dir))\n",
        "model.build(tf.TensorShape([1, None]))"
      ],
      "metadata": {
        "id": "bK_6G177EEzn"
      },
      "execution_count": 46,
      "outputs": []
    },
    {
      "cell_type": "markdown",
      "source": [
        "Доработаем функцию, чтобы температуру можно было передавать, как аргумент функции"
      ],
      "metadata": {
        "id": "mcrRHdr6I35m"
      }
    },
    {
      "cell_type": "code",
      "source": [
        "def generate_text(model, start_string, temperature):\n",
        "    # Evaluation step (generating text using the learned model)\n",
        "\n",
        "    # Number of characters to generate\n",
        "    num_generate = 500\n",
        "\n",
        "    # Converting our start string to numbers (vectorizing)\n",
        "    input_eval = [char2idx[s] for s in start_string]\n",
        "    input_eval = tf.expand_dims(input_eval, 0)\n",
        "\n",
        "    # Empty string to store our results\n",
        "    text_generated = []\n",
        "\n",
        "    # Low temperature results in more predictable text.\n",
        "    # Higher temperature results in more surprising text.\n",
        "    # Experiment to find the best setting.\n",
        "\n",
        "    # Here batch size == 1\n",
        "    model.reset_states()\n",
        "    for i in range(num_generate):\n",
        "        predictions = model(input_eval)\n",
        "        predictions = tf.squeeze(predictions, 0)\n",
        "        # using a categorical distribution to predict the character returned by the model\n",
        "        predictions = predictions / temperature\n",
        "        predicted_id = tf.random.categorical(predictions, num_samples=1)[-1, 0].numpy()\n",
        "\n",
        "        # Pass the predicted character as the next input to the model\n",
        "        # along with the previous hidden state\n",
        "        input_eval = tf.expand_dims([predicted_id], 0)\n",
        "\n",
        "        text_generated.append(idx2char[predicted_id])\n",
        "\n",
        "    return (start_string + ''.join(text_generated))"
      ],
      "metadata": {
        "id": "faTTOPTqEZyh"
      },
      "execution_count": 48,
      "outputs": []
    },
    {
      "cell_type": "markdown",
      "source": [
        "А теперь меняем температуру от 0.1 до 1.5 с шагом 0.1 и смотрим результат"
      ],
      "metadata": {
        "id": "tA00cY2RI_P_"
      }
    },
    {
      "cell_type": "code",
      "source": [
        "text_ = generate_text(model, start_string=u\"Я буду долго гнать велосипед \", temperature=0.1)\n",
        "print(text_)"
      ],
      "metadata": {
        "colab": {
          "base_uri": "https://localhost:8080/"
        },
        "id": "B5X5NvvpEQY0",
        "outputId": "7d488315-2be7-4329-9496-7ddfe0eb81f6"
      },
      "execution_count": 50,
      "outputs": [
        {
          "output_type": "stream",
          "name": "stdout",
          "text": [
            "Я буду долго гнать велосипед ней,\n",
            "                                                                                                                                                                                                                                                                                                                                                                                                                                                                                                               \n"
          ]
        }
      ]
    },
    {
      "cell_type": "code",
      "source": [
        "text_ = generate_text(model, start_string=u\"Я буду долго гнать велосипед \", temperature=0.2)\n",
        "print(text_)"
      ],
      "metadata": {
        "colab": {
          "base_uri": "https://localhost:8080/"
        },
        "id": "Bk8EMYXTEumX",
        "outputId": "d2345474-eede-44b7-c117-15e92502c6ef"
      },
      "execution_count": 51,
      "outputs": [
        {
          "output_type": "stream",
          "name": "stdout",
          "text": [
            "Я буду долго гнать велосипед ней,\n",
            "                         Быть может, в мысли нам приходит\n",
            "                        Средь модных и шут.\n",
            "\n",
            "                                                                                                                                                                                                                                                                                                                                                                                                        \n"
          ]
        }
      ]
    },
    {
      "cell_type": "code",
      "source": [
        "text_ = generate_text(model, start_string=u\"Я буду долго гнать велосипед \", temperature=0.3)\n",
        "print(text_)"
      ],
      "metadata": {
        "colab": {
          "base_uri": "https://localhost:8080/"
        },
        "id": "0lPgshUCE0CC",
        "outputId": "e36bfc2b-d45c-4475-f73e-091996a8c1d1"
      },
      "execution_count": 52,
      "outputs": [
        {
          "output_type": "stream",
          "name": "stdout",
          "text": [
            "Я буду долго гнать велосипед ней,\n",
            "                         Унижусь до смиренной прозы;\n",
            "                        Тогда роман на старый образец:\n",
            "                        У тетушки княжны Елены\n",
            "                        Все тот                                                                                                                                                                                                                                                                                                                     \n"
          ]
        }
      ]
    },
    {
      "cell_type": "code",
      "source": [
        "text_ = generate_text(model, start_string=u\"Я буду долго гнать велосипед \", temperature=0.4)\n",
        "print(text_)"
      ],
      "metadata": {
        "colab": {
          "base_uri": "https://localhost:8080/"
        },
        "id": "SkkspptbE6yE",
        "outputId": "e5fae151-45b6-436c-b23c-923b847ec1de"
      },
      "execution_count": 53,
      "outputs": [
        {
          "output_type": "stream",
          "name": "stdout",
          "text": [
            "Я буду долго гнать велосипед ней,\n",
            "                         Бритв и про дев; медвертивом снегов ее прогулки тайком в чепце!\n",
            "                        Как ты, боже! - стынет кровь,\n",
            "                         Как только вспомню взгляд холодно споры\n",
            "                        И уж заранее зевал,\n",
            "                        И тот же шпиц, и текли в глуши,\n",
            "                        Не так ли, друг? - Ничуть. Куда! -\n",
            "                         Он пел те дальные страны,\n",
            "                        Где долго в лоно тишины\n",
            "                             \n"
          ]
        }
      ]
    },
    {
      "cell_type": "code",
      "source": [
        "text_ = generate_text(model, start_string=u\"Я буду долго гнать велосипед \", temperature=0.5)\n",
        "print(text_)"
      ],
      "metadata": {
        "colab": {
          "base_uri": "https://localhost:8080/"
        },
        "id": "-g2rcO-JFF5g",
        "outputId": "36d39905-d18b-4ed3-9ab1-1ba684137e49"
      },
      "execution_count": 54,
      "outputs": [
        {
          "output_type": "stream",
          "name": "stdout",
          "text": [
            "Я буду долго гнать велосипед недоступных                                                                                               Две нас нет.\n",
            "\n",
            "                                                                                                                        XXVIII\n",
            "\n",
            "                        Мой бедный                                                                                                                                                                                                                          \n"
          ]
        }
      ]
    },
    {
      "cell_type": "code",
      "source": [
        "text_ = generate_text(model, start_string=u\"Я буду долго гнать велосипед \", temperature=0.6)\n",
        "print(text_)"
      ],
      "metadata": {
        "colab": {
          "base_uri": "https://localhost:8080/"
        },
        "id": "aAtHUlEgFNKe",
        "outputId": "3b91eb9c-a3a6-48ba-e0e3-9b810b75f520"
      },
      "execution_count": 55,
      "outputs": [
        {
          "output_type": "stream",
          "name": "stdout",
          "text": [
            "Я буду долго гнать велосипед на поединке друга,\n",
            "                        Дожив без цели, без трудов\n",
            "                         На каждой станции трактир.\n",
            "\n",
            "                                 XXXIX\n",
            "\n",
            "                        Стал вновь читать готовым                                                                                   XLIIIII\n",
            "\n",
            "                        Но не теперь. Хоть я сердечно\n",
            "                        В знаком все глядит - и с тобой\n",
            "                        Под ней черней полк ливрей,\n",
            "                        Измены вес\n"
          ]
        }
      ]
    },
    {
      "cell_type": "code",
      "source": [
        "text_ = generate_text(model, start_string=u\"Я буду долго гнать велосипед \", temperature=0.7)\n",
        "print(text_)"
      ],
      "metadata": {
        "colab": {
          "base_uri": "https://localhost:8080/"
        },
        "id": "229a_cMUFVkI",
        "outputId": "988a8414-ea1c-4232-99b1-65f1716e0d9d"
      },
      "execution_count": 56,
      "outputs": [
        {
          "output_type": "stream",
          "name": "stdout",
          "text": [
            "Я буду долго гнать велосипед ней,\n",
            "                        Британской музы небылицы\n",
            "                        Она в альбомы нежных дев,\n",
            "                        За гробом ожидает нас.\n",
            "                        Вела расходы, брила лбы,\n",
            "                         Ходила в баню по субботу блистал ни чувством,\n",
            "                         Ни поэтическим огнем,\n",
            "                        Не                      XXXIII\n",
            "\n",
            "                        Она поэту подарила\n",
            "                        В супругом чуть не развелась;\n",
            "                        Она в\n"
          ]
        }
      ]
    },
    {
      "cell_type": "markdown",
      "source": [
        "кстати, вполне неплохо :)"
      ],
      "metadata": {
        "id": "_99WLDSuFhq2"
      }
    },
    {
      "cell_type": "code",
      "source": [
        "text_ = generate_text(model, start_string=u\"Я буду долго гнать велосипед \", temperature=0.8)\n",
        "print(text_)"
      ],
      "metadata": {
        "colab": {
          "base_uri": "https://localhost:8080/"
        },
        "id": "UIxLnzZOFeYc",
        "outputId": "4c15595b-6c61-430e-a412-c33709e2f47b"
      },
      "execution_count": 57,
      "outputs": [
        {
          "output_type": "stream",
          "name": "stdout",
          "text": [
            "Я буду долго гнать велосипед на поединке друга,\n",
            "                        Дожив без целит видеть сон Теперь с каким она вниманьем\n",
            "                         Читает сладостный роман,\n",
            "                        В нем ранний ветерок\n",
            "                         Но вскоре гости понемногу\n",
            "                        Приемы скоро приняла!\n",
            "                       Кто их перевести.)\n",
            "\n",
            "                                                        Меня покойница свекровь. -\n",
            "                       Ее тревожит сновиденье.\n",
            "                         Не зная, ка\n"
          ]
        }
      ]
    },
    {
      "cell_type": "markdown",
      "source": [
        "и это тоже вполне )"
      ],
      "metadata": {
        "id": "YKYBRv-oFpWA"
      }
    },
    {
      "cell_type": "code",
      "source": [
        "text_ = generate_text(model, start_string=u\"Я буду долго гнать велосипед \", temperature=0.9)\n",
        "print(text_)"
      ],
      "metadata": {
        "colab": {
          "base_uri": "https://localhost:8080/"
        },
        "id": "jmVnCywzFrot",
        "outputId": "0f281de7-484a-40b0-9f6d-0d8aa1d4860b"
      },
      "execution_count": 58,
      "outputs": [
        {
          "output_type": "stream",
          "name": "stdout",
          "text": [
            "Я буду долго гнать велосипед неприступною {3}.\n",
            "\n",
            "                               XVIII\n",
            "\n",
            "                        Одна бы ль, где выдит ей луна.\n",
            "                         Охоты узы брака несть,\n",
            "                        С Онегиным желал сердечно\n",
            "                         С его лелеяла надежда,\n",
            "                       И мира новый бесценный,\n",
            "                                     VI\n",
            "\n",
            "                                      И дедов верный капитал\n",
            "                        Иль предузнав издалека\n",
            "                        В кусты припадшего стр\n"
          ]
        }
      ]
    },
    {
      "cell_type": "code",
      "source": [
        "text_ = generate_text(model, start_string=u\"Я буду долго гнать велосипед \", temperature=1.0)\n",
        "print(text_)"
      ],
      "metadata": {
        "colab": {
          "base_uri": "https://localhost:8080/"
        },
        "id": "nt2MNDLxF2wG",
        "outputId": "c344c0a4-6aa2-4a06-8b25-d423f1a90ff5"
      },
      "execution_count": 59,
      "outputs": [
        {
          "output_type": "stream",
          "name": "stdout",
          "text": [
            "Я буду долго гнать велосипед недоступных шелковый\"\n",
            "\n",
            "                                                             XIX\n",
            "\n",
            "                                Да бродит по лесам одна.\n",
            "\n",
            "                                    XXII\n",
            "\n",
            "                              XXVIII\n",
            "\n",
            "                        Опрятней модного паркет\n",
            "                        Уж как она без цели браладбивал, уста мои\n",
            "                                    Читающий мечты свои\n",
            "                       Предмет бурь уклопать зари возлюбивой\n",
            "                        Русская душу ни см\n"
          ]
        }
      ]
    },
    {
      "cell_type": "code",
      "source": [
        "text_ = generate_text(model, start_string=u\"Я буду долго гнать велосипед \", temperature=1.1)\n",
        "print(text_)"
      ],
      "metadata": {
        "colab": {
          "base_uri": "https://localhost:8080/"
        },
        "id": "3siJJiB4F_Ze",
        "outputId": "5ff72f0f-e1a1-43a0-dacf-c8f2371aba0b"
      },
      "execution_count": 60,
      "outputs": [
        {
          "output_type": "stream",
          "name": "stdout",
          "text": [
            "Я буду долго гнать велосипед ним, одна,\n",
            "                         Страстей чужих язык мятежный,\n",
            "                         И молчалива, как небо, голубые,\n",
            "                            Ол он, и был счастлив.\n",
            "                        Скажу благородном расстоянье;\n",
            "                        Не так небу Преданный конес!\n",
            "                        Забыв на время все на свете,\n",
            "                         Она пред хладною толпой,\n",
            "                        Где нас нет.\n",
            "\n",
            "                               X\n",
            "\n",
            "                        Девиты шепчут в угол\n"
          ]
        }
      ]
    },
    {
      "cell_type": "code",
      "source": [
        "text_ = generate_text(model, start_string=u\"Я буду долго гнать велосипед \", temperature=1.2)\n",
        "print(text_)"
      ],
      "metadata": {
        "colab": {
          "base_uri": "https://localhost:8080/"
        },
        "id": "d81RoVzhGI_i",
        "outputId": "370981e7-3b62-4aa9-e2a1-27052b8decc2"
      },
      "execution_count": 62,
      "outputs": [
        {
          "output_type": "stream",
          "name": "stdout",
          "text": [
            "Я буду долго гнать велосипед нам;\n",
            "                          Трещит лучинка перед ней.\n",
            "\n",
            "                               в гостиной встреча новых лиц,\n",
            "                        Шавнца, бледна,\n",
            "                        Две сосны корнями срослись;\n",
            "                        Лая модных на Мрандися,\n",
            "                         Вела       Все успокоилась кажут бады зсем,\n",
            "                        На красных лапках гусь тяжелый,\n",
            "              К реке сквозь меня вечер день морозонсням;\n",
            "                          Петровский замок. Мрачно он\n",
            "     \n"
          ]
        }
      ]
    },
    {
      "cell_type": "code",
      "source": [
        "text_ = generate_text(model, start_string=u\"Я буду долго гнать велосипед \", temperature=1.3)\n",
        "print(text_)"
      ],
      "metadata": {
        "colab": {
          "base_uri": "https://localhost:8080/"
        },
        "id": "2KqklJAhGS73",
        "outputId": "56cd1426-5899-4f2a-e8eb-cbe103992710"
      },
      "execution_count": 63,
      "outputs": [
        {
          "output_type": "stream",
          "name": "stdout",
          "text": [
            "Я буду долго гнать велосипед нагой.\n",
            "\n",
            "                   А Для него измуши мне: нежной,\n",
            "                        В своей коляскрывнительном,\n",
            "  на уме,\n",
            "                        И в необдумаснув пистолет,\n",
            "                        уле\n",
            "                         Пуг слушк   Разрешалася с           Заря от уфреплотил!\n",
            "                        Не умер в правди поет\n",
            "              XXIII\n",
            "\n",
            "                        Мартын Задека не решу.\n",
            "\n",
            "                                        И ей душу по рабно я толку ваш выслушала\n",
            "                       В\n"
          ]
        }
      ]
    },
    {
      "cell_type": "code",
      "source": [
        "text_ = generate_text(model, start_string=u\"Я буду долго гнать велосипед \", temperature=1.4)\n",
        "print(text_)"
      ],
      "metadata": {
        "colab": {
          "base_uri": "https://localhost:8080/"
        },
        "id": "m_UbXQXgGjfX",
        "outputId": "18ff2608-af48-4ae7-9437-40e765ae3bbb"
      },
      "execution_count": 64,
      "outputs": [
        {
          "output_type": "stream",
          "name": "stdout",
          "text": [
            "Я буду долго гнать велосипед нам на сцянет\n",
            "                      В душе не презирать людей;\n",
            "                         Пугая робкую любовь,\n",
            "                        И субно в салиш сТамки примотритый дом бегом,\n",
            " Охлади\n",
            "                        Укажет будущий невежда\n",
            "                       На этом глуп, лаждазначен строгою судьбу,\n",
            "                        Прошу мою\n",
            "                        У баратился он задумчив Мой Петвились шаже дубав задрепает\n",
            "     Зыманье и вредн      Сракавый неправилахрадова.\n",
            "                        Sed l'g\n"
          ]
        }
      ]
    },
    {
      "cell_type": "code",
      "source": [
        "text_ = generate_text(model, start_string=u\"Я буду долго гнать велосипед \", temperature=1.5)\n",
        "print(text_)"
      ],
      "metadata": {
        "colab": {
          "base_uri": "https://localhost:8080/"
        },
        "id": "NGTF1BbzGslJ",
        "outputId": "567aa7ed-9532-4235-affd-f8e5f2c388e1"
      },
      "execution_count": 65,
      "outputs": [
        {
          "output_type": "stream",
          "name": "stdout",
          "text": [
            "Я буду долго гнать велосипед нежных.\n",
            "                        Онегин сбибший свита родная ведьмоей лодной,\n",
            "                   В нем думы роем {фки\n",
            "       Как пьяный путник на него...\n",
            "                        Уж темно: Танясь нахала;\n",
            "        -\n",
            "                        Пря  Не может; дверь толкнул Евгений:\n",
            "                         Из-за стола, гремя! я след\n",
            "                       Печальных много приключений.\n",
            "                    А то, скучая наслажденьем,\n",
            "                        Храпит - и путник осторожный\n",
            "                      \n"
          ]
        }
      ]
    },
    {
      "cell_type": "markdown",
      "source": [
        "Мне больше всего понравилась генерация при температуре 0.7-0.8"
      ],
      "metadata": {
        "id": "T4Rq7DIGJGeN"
      }
    }
  ]
}