{
  "nbformat": 4,
  "nbformat_minor": 0,
  "metadata": {
    "colab": {
      "name": "hw_10_NLP.ipynb",
      "provenance": [],
      "collapsed_sections": []
    },
    "kernelspec": {
      "name": "python3",
      "display_name": "Python 3"
    },
    "language_info": {
      "name": "python"
    },
    "accelerator": "GPU",
    "gpuClass": "standard"
  },
  "cells": [
    {
      "cell_type": "markdown",
      "source": [
        "## Задание\n",
        "Разобраться с моделькой перевода как она устроена\n",
        "запустить для перевода с русского на английский (при желании можно взять другие пары языков) два варианта с вниманием и без внимания\n",
        "оценить качество насколько корректно переводит (для теста отобрать примеры с увеличением длины текста) (так как оценка визуальная достаточно 20-ти примеров в тестовой выборке)"
      ],
      "metadata": {
        "id": "7unfckoGiL5_"
      }
    },
    {
      "cell_type": "markdown",
      "source": [
        "#### 1. Начнем с модели без внимания"
      ],
      "metadata": {
        "id": "2XCwPOPOiW4R"
      }
    },
    {
      "cell_type": "code",
      "execution_count": null,
      "metadata": {
        "id": "cyi6cfOniK6y"
      },
      "outputs": [],
      "source": [
        "import tensorflow as tf\n",
        "\n",
        "import matplotlib.pyplot as plt\n",
        "import matplotlib.ticker as ticker\n",
        "from sklearn.model_selection import train_test_split\n",
        "\n",
        "import unicodedata\n",
        "import re\n",
        "import numpy as np\n",
        "import os\n",
        "import io\n",
        "import time"
      ]
    },
    {
      "cell_type": "code",
      "source": [
        "tf.test.gpu_device_name()"
      ],
      "metadata": {
        "colab": {
          "base_uri": "https://localhost:8080/",
          "height": 36
        },
        "id": "2BXYx6w6nSht",
        "outputId": "f17033d8-ef93-40dc-d5b7-f64d9c1160c1"
      },
      "execution_count": null,
      "outputs": [
        {
          "output_type": "execute_result",
          "data": {
            "text/plain": [
              "'/device:GPU:0'"
            ],
            "application/vnd.google.colaboratory.intrinsic+json": {
              "type": "string"
            }
          },
          "metadata": {},
          "execution_count": 2
        }
      ]
    },
    {
      "cell_type": "markdown",
      "source": [
        "## Download and prepare the dataset\n",
        "\n",
        "We'll use a language dataset provided by http://www.manythings.org/anki/"
      ],
      "metadata": {
        "id": "CV-_FjIBijiW"
      }
    },
    {
      "cell_type": "code",
      "source": [
        "!wget http://www.manythings.org/anki/rus-eng.zip"
      ],
      "metadata": {
        "colab": {
          "base_uri": "https://localhost:8080/"
        },
        "id": "c8sk5mA1ikWQ",
        "outputId": "99d83478-0923-40bf-a61b-b011dc4c8585"
      },
      "execution_count": null,
      "outputs": [
        {
          "output_type": "stream",
          "name": "stdout",
          "text": [
            "--2022-07-19 04:00:38--  http://www.manythings.org/anki/rus-eng.zip\n",
            "Resolving www.manythings.org (www.manythings.org)... 173.254.30.110\n",
            "Connecting to www.manythings.org (www.manythings.org)|173.254.30.110|:80... connected.\n",
            "HTTP request sent, awaiting response... 200 OK\n",
            "Length: 14819554 (14M) [application/zip]\n",
            "Saving to: ‘rus-eng.zip’\n",
            "\n",
            "rus-eng.zip         100%[===================>]  14.13M  28.8MB/s    in 0.5s    \n",
            "\n",
            "2022-07-19 04:00:39 (28.8 MB/s) - ‘rus-eng.zip’ saved [14819554/14819554]\n",
            "\n"
          ]
        }
      ]
    },
    {
      "cell_type": "code",
      "source": [
        "!mkdir rus-eng\n",
        "!unzip rus-eng.zip -d rus-eng/"
      ],
      "metadata": {
        "colab": {
          "base_uri": "https://localhost:8080/"
        },
        "id": "pBNMYPE5ikYm",
        "outputId": "5cb32be1-dd91-4239-afe5-bb982d0acc68"
      },
      "execution_count": null,
      "outputs": [
        {
          "output_type": "stream",
          "name": "stdout",
          "text": [
            "Archive:  rus-eng.zip\n",
            "  inflating: rus-eng/rus.txt         \n",
            "  inflating: rus-eng/_about.txt      \n"
          ]
        }
      ]
    },
    {
      "cell_type": "code",
      "source": [
        "!ls /content/rus-eng/ -lah"
      ],
      "metadata": {
        "colab": {
          "base_uri": "https://localhost:8080/"
        },
        "id": "N1tUgCP8ikcL",
        "outputId": "c9a65ab2-bf19-4dc1-995a-8d6d9ae777b4"
      },
      "execution_count": null,
      "outputs": [
        {
          "output_type": "stream",
          "name": "stdout",
          "text": [
            "total 71M\n",
            "drwxr-xr-x 2 root root 4.0K Jul 19 04:00 .\n",
            "drwxr-xr-x 1 root root 4.0K Jul 19 04:00 ..\n",
            "-rw-r--r-- 1 root root 1.5K May  2 01:29 _about.txt\n",
            "-rw-r--r-- 1 root root  71M May  2 01:29 rus.txt\n"
          ]
        }
      ]
    },
    {
      "cell_type": "code",
      "source": [
        "# Path to the file\n",
        "path_to_file = \"/content/rus-eng/rus.txt\""
      ],
      "metadata": {
        "id": "scIBJVlhi9uX"
      },
      "execution_count": null,
      "outputs": []
    },
    {
      "cell_type": "markdown",
      "source": [
        "Функция препроцессинга текста, в т.ч. ставим токены start end"
      ],
      "metadata": {
        "id": "R6XTTjIYjIfq"
      }
    },
    {
      "cell_type": "code",
      "source": [
        "def preprocess_sentence(w):\n",
        "  w = w.lower().strip()\n",
        "\n",
        "  # creating a space between a word and the punctuation following it\n",
        "  # eg: \"he is a boy.\" => \"he is a boy .\"\n",
        "  # Reference:- https://stackoverflow.com/questions/3645931/python-padding-punctuation-with-white-spaces-keeping-punctuation\n",
        "  w = re.sub(r\"([?.!,])\", r\" \\1 \", w)\n",
        "  w = re.sub(r'[\" \"]+', \" \", w)\n",
        "\n",
        "  # replacing everything with space except (a-z, A-Z, \".\", \"?\", \"!\", \",\")\n",
        "  w = re.sub(r\"[^a-zA-Zа-яА-Я?.!,']+\", \" \", w)\n",
        "\n",
        "  w = w.strip()\n",
        "\n",
        "  # adding a start and an end token to the sentence\n",
        "  # so that the model know when to start and stop predicting.\n",
        "  w = '<start> ' + w + ' <end>'\n",
        "  return w"
      ],
      "metadata": {
        "id": "vJvuZRDVjAFe"
      },
      "execution_count": null,
      "outputs": []
    },
    {
      "cell_type": "markdown",
      "source": [
        "Функция для создания пар русский-английский, которые потребуются для обучения и валидации"
      ],
      "metadata": {
        "id": "sSYsgAYijhtD"
      }
    },
    {
      "cell_type": "code",
      "source": [
        "# 1. Remove the accents\n",
        "# 2. Clean the sentences\n",
        "# 3. Return word pairs in the format: [ENG, RUS]\n",
        "def create_dataset(path, num_examples):\n",
        "  lines = io.open(path, encoding='UTF-8').read().strip().split('\\n')\n",
        "\n",
        "  word_pairs = [[preprocess_sentence(w) for w in l.split('\\t')[:2]]  for l in lines[:num_examples]]\n",
        "\n",
        "  return zip(*word_pairs)"
      ],
      "metadata": {
        "id": "zMFLrg2VjArC"
      },
      "execution_count": null,
      "outputs": []
    },
    {
      "cell_type": "markdown",
      "source": [
        "Пример, как будут выглядеть данные на русском и английском"
      ],
      "metadata": {
        "id": "sQJYBeSejxFn"
      }
    },
    {
      "cell_type": "code",
      "source": [
        "en, ru = create_dataset(path_to_file, None)\n",
        "print(en[0])\n",
        "print(ru[0])"
      ],
      "metadata": {
        "colab": {
          "base_uri": "https://localhost:8080/"
        },
        "id": "WKn5pXecjAto",
        "outputId": "82dac7ca-c6a5-4341-c53b-a3f21ad093ff"
      },
      "execution_count": null,
      "outputs": [
        {
          "output_type": "stream",
          "name": "stdout",
          "text": [
            "<start> go . <end>\n",
            "<start> марш ! <end>\n"
          ]
        }
      ]
    },
    {
      "cell_type": "markdown",
      "source": [
        "Функция токенизации, возвращает последовательность токенов с паддингом и сам токенайзер"
      ],
      "metadata": {
        "id": "UxQonzCXkRoy"
      }
    },
    {
      "cell_type": "code",
      "source": [
        "def tokenize(lang):\n",
        "  lang_tokenizer = tf.keras.preprocessing.text.Tokenizer(\n",
        "      filters='')\n",
        "  lang_tokenizer.fit_on_texts(lang)\n",
        "\n",
        "  tensor = lang_tokenizer.texts_to_sequences(lang)\n",
        "\n",
        "  tensor = tf.keras.preprocessing.sequence.pad_sequences(tensor,\n",
        "                                                         padding='post')\n",
        "\n",
        "  return tensor, lang_tokenizer"
      ],
      "metadata": {
        "id": "J4pVqGZwjAwN"
      },
      "execution_count": null,
      "outputs": []
    },
    {
      "cell_type": "markdown",
      "source": [
        "Создаем функцию, которая вернет входной и таргет тензоры для последовательностей и токенайзеры инпута и таргета"
      ],
      "metadata": {
        "id": "cO8NZ0Y-kdqN"
      }
    },
    {
      "cell_type": "code",
      "source": [
        "def load_dataset(path, num_examples=None):\n",
        "  # creating cleaned input, output pairs\n",
        "  targ_lang, inp_lang = create_dataset(path, num_examples)\n",
        "\n",
        "  input_tensor, inp_lang_tokenizer = tokenize(inp_lang)\n",
        "  target_tensor, targ_lang_tokenizer = tokenize(targ_lang)\n",
        "\n",
        "  return input_tensor, target_tensor, inp_lang_tokenizer, targ_lang_tokenizer"
      ],
      "metadata": {
        "id": "X3Mn1CNajAzs"
      },
      "execution_count": null,
      "outputs": []
    },
    {
      "cell_type": "markdown",
      "source": [
        "### Limit the size of the dataset to experiment faster (optional)"
      ],
      "metadata": {
        "id": "Bw1y6VCCk_El"
      }
    },
    {
      "cell_type": "code",
      "source": [
        "len(en), len(ru)"
      ],
      "metadata": {
        "colab": {
          "base_uri": "https://localhost:8080/"
        },
        "id": "wh0UsFjCk7a9",
        "outputId": "267414c9-98bc-4ae6-d0db-1e17cb22e927"
      },
      "execution_count": null,
      "outputs": [
        {
          "output_type": "execute_result",
          "data": {
            "text/plain": [
              "(444587, 444587)"
            ]
          },
          "metadata": {},
          "execution_count": 12
        }
      ]
    },
    {
      "cell_type": "markdown",
      "source": [
        "Для более быстрого процесса обучения ограничим количество примеров до 100 000"
      ],
      "metadata": {
        "id": "72ki5ljvlEUX"
      }
    },
    {
      "cell_type": "code",
      "source": [
        "# Try experimenting with the size of that dataset\n",
        "num_examples = 100000\n",
        "input_tensor, target_tensor, inp_lang, targ_lang = load_dataset(path_to_file, num_examples)\n",
        "\n",
        "# Calculate max_length of the target tensors\n",
        "max_length_targ, max_length_inp = target_tensor.shape[1], input_tensor.shape[1]"
      ],
      "metadata": {
        "id": "5UpvAIkdlKHg"
      },
      "execution_count": null,
      "outputs": []
    },
    {
      "cell_type": "markdown",
      "source": [
        "Разобьем данные на train и test"
      ],
      "metadata": {
        "id": "bE993u8rlV9M"
      }
    },
    {
      "cell_type": "code",
      "source": [
        "# Creating training and validation sets using an 80-20 split\n",
        "input_tensor_train, input_tensor_val, target_tensor_train, target_tensor_val = train_test_split(input_tensor, target_tensor, test_size=0.2)\n",
        "\n",
        "# Show length\n",
        "print(len(input_tensor_train), len(target_tensor_train), len(input_tensor_val), len(target_tensor_val))"
      ],
      "metadata": {
        "colab": {
          "base_uri": "https://localhost:8080/"
        },
        "id": "3-8wi2v0lYwD",
        "outputId": "a0003e1d-faa4-49f8-e815-c04991d279f7"
      },
      "execution_count": null,
      "outputs": [
        {
          "output_type": "stream",
          "name": "stdout",
          "text": [
            "80000 80000 20000 20000\n"
          ]
        }
      ]
    },
    {
      "cell_type": "markdown",
      "source": [
        "### Create a tf.data dataset"
      ],
      "metadata": {
        "id": "6aVlEVPwlnXR"
      }
    },
    {
      "cell_type": "code",
      "source": [
        "BUFFER_SIZE = len(input_tensor_train)\n",
        "BATCH_SIZE = 64\n",
        "steps_per_epoch = len(input_tensor_train)//BATCH_SIZE\n",
        "embedding_dim = 300\n",
        "units = 1024\n",
        "vocab_inp_size = len(inp_lang.word_index)+1\n",
        "vocab_tar_size = len(targ_lang.word_index)+1\n",
        "\n",
        "dataset = tf.data.Dataset.from_tensor_slices((input_tensor_train, target_tensor_train)).shuffle(BUFFER_SIZE)\n",
        "dataset = dataset.batch(BATCH_SIZE, drop_remainder=True)"
      ],
      "metadata": {
        "id": "VYzGP6fVlYx4"
      },
      "execution_count": null,
      "outputs": []
    },
    {
      "cell_type": "markdown",
      "source": [
        "Создаем классы энкодера и декодера"
      ],
      "metadata": {
        "id": "GlfmQ6YTl2HH"
      }
    },
    {
      "cell_type": "code",
      "source": [
        "class Encoder(tf.keras.Model):\n",
        "  def __init__(self, vocab_size, embedding_dim, enc_units, batch_sz):\n",
        "    super(Encoder, self).__init__()\n",
        "    self.batch_sz = batch_sz\n",
        "    self.enc_units = enc_units\n",
        "    self.embedding = tf.keras.layers.Embedding(vocab_size, embedding_dim)\n",
        "    self.gru = tf.keras.layers.GRU(self.enc_units,\n",
        "                                   return_sequences=False,\n",
        "                                   return_state=True,\n",
        "                                   recurrent_initializer='glorot_uniform')\n",
        "    \n",
        "\n",
        "  def call(self, x, hidden):\n",
        "    x = self.embedding(x)\n",
        "    output, state = self.gru(x, initial_state = hidden)\n",
        "    return state\n",
        "\n",
        "  def initialize_hidden_state(self):\n",
        "    return tf.zeros((self.batch_sz, self.enc_units))"
      ],
      "metadata": {
        "id": "GIE0gq-QlY1a"
      },
      "execution_count": null,
      "outputs": []
    },
    {
      "cell_type": "code",
      "source": [
        "class Decoder(tf.keras.Model):\n",
        "  def __init__(self, vocab_size, embedding_dim, dec_units, batch_sz):\n",
        "    super(Decoder, self).__init__()\n",
        "    self.batch_sz = batch_sz\n",
        "    self.dec_units = dec_units\n",
        "    self.embedding = tf.keras.layers.Embedding(vocab_size, embedding_dim)\n",
        "    self.gru = tf.keras.layers.GRU(self.dec_units,\n",
        "                                   return_sequences=True,\n",
        "                                   return_state=True,\n",
        "                                   recurrent_initializer='glorot_uniform')\n",
        "    self.fc = tf.keras.layers.Dense(vocab_size)\n",
        "\n",
        "  def call(self, x, hidden):\n",
        "    # enc_output shape == (batch_size, max_length, hidden_size)\n",
        "\n",
        "    # x shape after passing through embedding == (batch_size, 1, embedding_dim)\n",
        "    x = self.embedding(x)\n",
        "\n",
        "    # x shape after concatenation == (batch_size, 1, embedding_dim + hidden_size)\n",
        "\n",
        "    # passing the concatenated vector to the GRU\n",
        "    output, state = self.gru(x, initial_state=hidden)\n",
        "\n",
        "    # output shape == (batch_size * 1, hidden_size)\n",
        "    output = tf.reshape(output, (-1, output.shape[2]))\n",
        "\n",
        "    # output shape == (batch_size, vocab)\n",
        "    x = self.fc(output)\n",
        "\n",
        "    return x, state"
      ],
      "metadata": {
        "id": "t8d4wUSvmYr2"
      },
      "execution_count": null,
      "outputs": []
    },
    {
      "cell_type": "code",
      "source": [
        "encoder = Encoder(vocab_inp_size, embedding_dim, units, BATCH_SIZE)\n",
        "decoder = Decoder(vocab_tar_size, embedding_dim, units, BATCH_SIZE)"
      ],
      "metadata": {
        "id": "61AY0HPXl-hp"
      },
      "execution_count": null,
      "outputs": []
    },
    {
      "cell_type": "markdown",
      "source": [
        "## Define the optimizer and the loss function"
      ],
      "metadata": {
        "id": "ofeAsPz0mTer"
      }
    },
    {
      "cell_type": "code",
      "source": [
        "optimizer = tf.keras.optimizers.Adam()\n",
        "\n",
        "loss_object = tf.keras.losses.SparseCategoricalCrossentropy(\n",
        "    from_logits=True, reduction='none')\n",
        "\n",
        "def loss_function(real, pred):\n",
        "  mask = tf.math.logical_not(tf.math.equal(real, 0))\n",
        "  loss_ = loss_object(real, pred)\n",
        "\n",
        "  mask = tf.cast(mask, dtype=loss_.dtype)\n",
        "  loss_ *= mask\n",
        "\n",
        "  return tf.reduce_mean(loss_)"
      ],
      "metadata": {
        "id": "SuyM3QXLmyZn"
      },
      "execution_count": null,
      "outputs": []
    },
    {
      "cell_type": "markdown",
      "source": [
        "## Checkpoints (Object-based saving)"
      ],
      "metadata": {
        "id": "oHan1z05m6BN"
      }
    },
    {
      "cell_type": "code",
      "source": [
        "checkpoint_dir = './training_nmt_checkpoints'\n",
        "\n",
        "checkpoint_prefix = os.path.join(checkpoint_dir, \"ckpt\")\n",
        "\n",
        "checkpoint = tf.train.Checkpoint(optimizer=optimizer,\n",
        "                                 encoder=encoder,\n",
        "                                 decoder=decoder)"
      ],
      "metadata": {
        "id": "EKO007Zhm35y"
      },
      "execution_count": null,
      "outputs": []
    },
    {
      "cell_type": "code",
      "source": [
        "@tf.function\n",
        "def train_step(inp, targ, enc_hidden):\n",
        "  loss = 0\n",
        "\n",
        "  with tf.GradientTape() as tape:\n",
        "    enc_hidden = encoder(inp, enc_hidden)\n",
        "\n",
        "    dec_hidden = enc_hidden\n",
        "\n",
        "    dec_input = tf.expand_dims([targ_lang.word_index['<start>']] * BATCH_SIZE, 1)\n",
        "\n",
        "    # Teacher forcing - feeding the target as the next input\n",
        "    for t in range(1, targ.shape[1]):\n",
        "      # passing enc_output to the decoder\n",
        "      predictions, dec_hidden = decoder(dec_input, dec_hidden)\n",
        "\n",
        "      loss += loss_function(targ[:, t], predictions)\n",
        "\n",
        "      # using teacher forcing\n",
        "      dec_input = tf.expand_dims(targ[:, t], 1)\n",
        "\n",
        "  batch_loss = (loss / int(targ.shape[1]))\n",
        "\n",
        "  variables = encoder.trainable_variables + decoder.trainable_variables\n",
        "\n",
        "  gradients = tape.gradient(loss, variables)\n",
        "\n",
        "  optimizer.apply_gradients(zip(gradients, variables))\n",
        "\n",
        "  return batch_loss"
      ],
      "metadata": {
        "id": "oogr_I70myb-"
      },
      "execution_count": null,
      "outputs": []
    },
    {
      "cell_type": "code",
      "source": [
        "EPOCHS = 50\n",
        "\n",
        "for epoch in range(EPOCHS):\n",
        "  start = time.time()\n",
        "\n",
        "  enc_hidden = encoder.initialize_hidden_state()\n",
        "  total_loss = 0\n",
        "\n",
        "  for (batch, (inp, targ)) in enumerate(dataset.take(steps_per_epoch)):\n",
        "    batch_loss = train_step(inp, targ, enc_hidden)\n",
        "    total_loss += batch_loss\n",
        "\n",
        "    if batch % 100 == 0:\n",
        "      print('Epoch {} Batch {} Loss {:.4f}'.format(epoch + 1,\n",
        "                                                   batch,\n",
        "                                                   batch_loss.numpy()))\n",
        "  # saving (checkpoint) the model every 2 epochs\n",
        "  if (epoch + 1) % 2 == 0:\n",
        "    checkpoint.save(file_prefix = checkpoint_prefix)\n",
        "\n",
        "  print('Epoch {} Loss {:.4f}'.format(epoch + 1,\n",
        "                                      total_loss / steps_per_epoch))\n",
        "  print('Time taken for 1 epoch {} sec\\n'.format(time.time() - start))"
      ],
      "metadata": {
        "colab": {
          "base_uri": "https://localhost:8080/"
        },
        "id": "8Z-1Iy9KnGCP",
        "outputId": "3cbc4b55-ff53-4015-bf85-4b1b5dd9f119"
      },
      "execution_count": null,
      "outputs": [
        {
          "output_type": "stream",
          "name": "stdout",
          "text": [
            "Epoch 1 Batch 0 Loss 4.7408\n",
            "Epoch 1 Batch 100 Loss 2.0539\n",
            "Epoch 1 Batch 200 Loss 1.8918\n",
            "Epoch 1 Batch 300 Loss 1.5905\n",
            "Epoch 1 Batch 400 Loss 1.6201\n",
            "Epoch 1 Batch 500 Loss 1.4649\n",
            "Epoch 1 Batch 600 Loss 1.3822\n",
            "Epoch 1 Batch 700 Loss 1.2878\n",
            "Epoch 1 Batch 800 Loss 1.1977\n",
            "Epoch 1 Batch 900 Loss 1.1513\n",
            "Epoch 1 Batch 1000 Loss 1.1360\n",
            "Epoch 1 Batch 1100 Loss 1.0979\n",
            "Epoch 1 Batch 1200 Loss 1.0953\n",
            "Epoch 1 Loss 1.4726\n",
            "Time taken for 1 epoch 71.47051119804382 sec\n",
            "\n",
            "Epoch 2 Batch 0 Loss 0.9283\n",
            "Epoch 2 Batch 100 Loss 0.9269\n",
            "Epoch 2 Batch 200 Loss 0.7939\n",
            "Epoch 2 Batch 300 Loss 0.8200\n",
            "Epoch 2 Batch 400 Loss 0.8750\n",
            "Epoch 2 Batch 500 Loss 0.7504\n",
            "Epoch 2 Batch 600 Loss 0.8472\n",
            "Epoch 2 Batch 700 Loss 0.6905\n",
            "Epoch 2 Batch 800 Loss 0.7866\n",
            "Epoch 2 Batch 900 Loss 0.6720\n",
            "Epoch 2 Batch 1000 Loss 0.7731\n",
            "Epoch 2 Batch 1100 Loss 0.7924\n",
            "Epoch 2 Batch 1200 Loss 0.5250\n",
            "Epoch 2 Loss 0.7595\n",
            "Time taken for 1 epoch 58.21958875656128 sec\n",
            "\n",
            "Epoch 3 Batch 0 Loss 0.3982\n",
            "Epoch 3 Batch 100 Loss 0.4136\n",
            "Epoch 3 Batch 200 Loss 0.3888\n",
            "Epoch 3 Batch 300 Loss 0.4209\n",
            "Epoch 3 Batch 400 Loss 0.4321\n",
            "Epoch 3 Batch 500 Loss 0.3897\n",
            "Epoch 3 Batch 600 Loss 0.3168\n",
            "Epoch 3 Batch 700 Loss 0.4409\n",
            "Epoch 3 Batch 800 Loss 0.3630\n",
            "Epoch 3 Batch 900 Loss 0.4309\n",
            "Epoch 3 Batch 1000 Loss 0.3107\n",
            "Epoch 3 Batch 1100 Loss 0.4451\n",
            "Epoch 3 Batch 1200 Loss 0.3702\n",
            "Epoch 3 Loss 0.4092\n",
            "Time taken for 1 epoch 59.14244842529297 sec\n",
            "\n",
            "Epoch 4 Batch 0 Loss 0.2163\n",
            "Epoch 4 Batch 100 Loss 0.2310\n",
            "Epoch 4 Batch 200 Loss 0.2176\n",
            "Epoch 4 Batch 300 Loss 0.2199\n",
            "Epoch 4 Batch 400 Loss 0.2154\n",
            "Epoch 4 Batch 500 Loss 0.2328\n",
            "Epoch 4 Batch 600 Loss 0.2027\n",
            "Epoch 4 Batch 700 Loss 0.2956\n",
            "Epoch 4 Batch 800 Loss 0.2414\n",
            "Epoch 4 Batch 900 Loss 0.2624\n",
            "Epoch 4 Batch 1000 Loss 0.2520\n",
            "Epoch 4 Batch 1100 Loss 0.2707\n",
            "Epoch 4 Batch 1200 Loss 0.2617\n",
            "Epoch 4 Loss 0.2413\n",
            "Time taken for 1 epoch 59.320067167282104 sec\n",
            "\n",
            "Epoch 5 Batch 0 Loss 0.1416\n",
            "Epoch 5 Batch 100 Loss 0.2103\n",
            "Epoch 5 Batch 200 Loss 0.1535\n",
            "Epoch 5 Batch 300 Loss 0.1329\n",
            "Epoch 5 Batch 400 Loss 0.1464\n",
            "Epoch 5 Batch 500 Loss 0.2206\n",
            "Epoch 5 Batch 600 Loss 0.1606\n",
            "Epoch 5 Batch 700 Loss 0.1891\n",
            "Epoch 5 Batch 800 Loss 0.1805\n",
            "Epoch 5 Batch 900 Loss 0.1516\n",
            "Epoch 5 Batch 1000 Loss 0.1560\n",
            "Epoch 5 Batch 1100 Loss 0.1928\n",
            "Epoch 5 Batch 1200 Loss 0.1740\n",
            "Epoch 5 Loss 0.1621\n",
            "Time taken for 1 epoch 58.92230486869812 sec\n",
            "\n",
            "Epoch 6 Batch 0 Loss 0.1235\n",
            "Epoch 6 Batch 100 Loss 0.1149\n",
            "Epoch 6 Batch 200 Loss 0.1225\n",
            "Epoch 6 Batch 300 Loss 0.1101\n",
            "Epoch 6 Batch 400 Loss 0.1025\n",
            "Epoch 6 Batch 500 Loss 0.1335\n",
            "Epoch 6 Batch 600 Loss 0.0886\n",
            "Epoch 6 Batch 700 Loss 0.1226\n",
            "Epoch 6 Batch 800 Loss 0.1293\n",
            "Epoch 6 Batch 900 Loss 0.1265\n",
            "Epoch 6 Batch 1000 Loss 0.1560\n",
            "Epoch 6 Batch 1100 Loss 0.1307\n",
            "Epoch 6 Batch 1200 Loss 0.0973\n",
            "Epoch 6 Loss 0.1240\n",
            "Time taken for 1 epoch 59.59739875793457 sec\n",
            "\n",
            "Epoch 7 Batch 0 Loss 0.0539\n",
            "Epoch 7 Batch 100 Loss 0.1077\n",
            "Epoch 7 Batch 200 Loss 0.0928\n",
            "Epoch 7 Batch 300 Loss 0.0883\n",
            "Epoch 7 Batch 400 Loss 0.1198\n",
            "Epoch 7 Batch 500 Loss 0.1112\n",
            "Epoch 7 Batch 600 Loss 0.1156\n",
            "Epoch 7 Batch 700 Loss 0.1381\n",
            "Epoch 7 Batch 800 Loss 0.1243\n",
            "Epoch 7 Batch 900 Loss 0.1026\n",
            "Epoch 7 Batch 1000 Loss 0.1042\n",
            "Epoch 7 Batch 1100 Loss 0.1314\n",
            "Epoch 7 Batch 1200 Loss 0.1289\n",
            "Epoch 7 Loss 0.1033\n",
            "Time taken for 1 epoch 59.07570695877075 sec\n",
            "\n",
            "Epoch 8 Batch 0 Loss 0.0774\n",
            "Epoch 8 Batch 100 Loss 0.0888\n",
            "Epoch 8 Batch 200 Loss 0.0976\n",
            "Epoch 8 Batch 300 Loss 0.0592\n",
            "Epoch 8 Batch 400 Loss 0.0808\n",
            "Epoch 8 Batch 500 Loss 0.0581\n",
            "Epoch 8 Batch 600 Loss 0.0565\n",
            "Epoch 8 Batch 700 Loss 0.0950\n",
            "Epoch 8 Batch 800 Loss 0.0842\n",
            "Epoch 8 Batch 900 Loss 0.0971\n",
            "Epoch 8 Batch 1000 Loss 0.1178\n",
            "Epoch 8 Batch 1100 Loss 0.0995\n",
            "Epoch 8 Batch 1200 Loss 0.1098\n",
            "Epoch 8 Loss 0.0927\n",
            "Time taken for 1 epoch 59.5877251625061 sec\n",
            "\n",
            "Epoch 9 Batch 0 Loss 0.0688\n",
            "Epoch 9 Batch 100 Loss 0.0841\n",
            "Epoch 9 Batch 200 Loss 0.0654\n",
            "Epoch 9 Batch 300 Loss 0.0736\n",
            "Epoch 9 Batch 400 Loss 0.0704\n",
            "Epoch 9 Batch 500 Loss 0.0762\n",
            "Epoch 9 Batch 600 Loss 0.0783\n",
            "Epoch 9 Batch 700 Loss 0.0586\n",
            "Epoch 9 Batch 800 Loss 0.1048\n",
            "Epoch 9 Batch 900 Loss 0.0981\n",
            "Epoch 9 Batch 1000 Loss 0.0724\n",
            "Epoch 9 Batch 1100 Loss 0.0968\n",
            "Epoch 9 Batch 1200 Loss 0.0926\n",
            "Epoch 9 Loss 0.0856\n",
            "Time taken for 1 epoch 59.05835294723511 sec\n",
            "\n",
            "Epoch 10 Batch 0 Loss 0.0440\n",
            "Epoch 10 Batch 100 Loss 0.0781\n",
            "Epoch 10 Batch 200 Loss 0.0571\n",
            "Epoch 10 Batch 300 Loss 0.0417\n",
            "Epoch 10 Batch 400 Loss 0.0466\n",
            "Epoch 10 Batch 500 Loss 0.0795\n",
            "Epoch 10 Batch 600 Loss 0.0795\n",
            "Epoch 10 Batch 700 Loss 0.0665\n",
            "Epoch 10 Batch 800 Loss 0.0803\n",
            "Epoch 10 Batch 900 Loss 0.0786\n",
            "Epoch 10 Batch 1000 Loss 0.1073\n",
            "Epoch 10 Batch 1100 Loss 0.1150\n",
            "Epoch 10 Batch 1200 Loss 0.1040\n",
            "Epoch 10 Loss 0.0814\n",
            "Time taken for 1 epoch 59.630274295806885 sec\n",
            "\n",
            "Epoch 11 Batch 0 Loss 0.0585\n",
            "Epoch 11 Batch 100 Loss 0.0699\n",
            "Epoch 11 Batch 200 Loss 0.0474\n",
            "Epoch 11 Batch 300 Loss 0.0638\n",
            "Epoch 11 Batch 400 Loss 0.0980\n",
            "Epoch 11 Batch 500 Loss 0.0656\n",
            "Epoch 11 Batch 600 Loss 0.0999\n",
            "Epoch 11 Batch 700 Loss 0.0841\n",
            "Epoch 11 Batch 800 Loss 0.0703\n",
            "Epoch 11 Batch 900 Loss 0.1070\n",
            "Epoch 11 Batch 1000 Loss 0.0822\n",
            "Epoch 11 Batch 1100 Loss 0.0991\n",
            "Epoch 11 Batch 1200 Loss 0.1156\n",
            "Epoch 11 Loss 0.0778\n",
            "Time taken for 1 epoch 58.93290185928345 sec\n",
            "\n",
            "Epoch 12 Batch 0 Loss 0.0377\n",
            "Epoch 12 Batch 100 Loss 0.0875\n",
            "Epoch 12 Batch 200 Loss 0.0569\n",
            "Epoch 12 Batch 300 Loss 0.0707\n",
            "Epoch 12 Batch 400 Loss 0.0802\n",
            "Epoch 12 Batch 500 Loss 0.0651\n",
            "Epoch 12 Batch 600 Loss 0.0799\n",
            "Epoch 12 Batch 700 Loss 0.0506\n",
            "Epoch 12 Batch 800 Loss 0.0908\n",
            "Epoch 12 Batch 900 Loss 0.0604\n",
            "Epoch 12 Batch 1000 Loss 0.1172\n",
            "Epoch 12 Batch 1100 Loss 0.0842\n",
            "Epoch 12 Batch 1200 Loss 0.1374\n",
            "Epoch 12 Loss 0.0754\n",
            "Time taken for 1 epoch 59.584147453308105 sec\n",
            "\n",
            "Epoch 13 Batch 0 Loss 0.0481\n",
            "Epoch 13 Batch 100 Loss 0.0684\n",
            "Epoch 13 Batch 200 Loss 0.0484\n",
            "Epoch 13 Batch 300 Loss 0.0916\n",
            "Epoch 13 Batch 400 Loss 0.0626\n",
            "Epoch 13 Batch 500 Loss 0.0571\n",
            "Epoch 13 Batch 600 Loss 0.0585\n",
            "Epoch 13 Batch 700 Loss 0.0949\n",
            "Epoch 13 Batch 800 Loss 0.0846\n",
            "Epoch 13 Batch 900 Loss 0.0953\n",
            "Epoch 13 Batch 1000 Loss 0.0976\n",
            "Epoch 13 Batch 1100 Loss 0.0714\n",
            "Epoch 13 Batch 1200 Loss 0.0796\n",
            "Epoch 13 Loss 0.0726\n",
            "Time taken for 1 epoch 59.02288269996643 sec\n",
            "\n",
            "Epoch 14 Batch 0 Loss 0.0413\n",
            "Epoch 14 Batch 100 Loss 0.0336\n",
            "Epoch 14 Batch 200 Loss 0.0468\n",
            "Epoch 14 Batch 300 Loss 0.0427\n",
            "Epoch 14 Batch 400 Loss 0.0519\n",
            "Epoch 14 Batch 500 Loss 0.0777\n",
            "Epoch 14 Batch 600 Loss 0.0404\n",
            "Epoch 14 Batch 700 Loss 0.0515\n",
            "Epoch 14 Batch 800 Loss 0.0897\n",
            "Epoch 14 Batch 900 Loss 0.0719\n",
            "Epoch 14 Batch 1000 Loss 0.0599\n",
            "Epoch 14 Batch 1100 Loss 0.1100\n",
            "Epoch 14 Batch 1200 Loss 0.0724\n",
            "Epoch 14 Loss 0.0704\n",
            "Time taken for 1 epoch 59.47945761680603 sec\n",
            "\n",
            "Epoch 15 Batch 0 Loss 0.0882\n",
            "Epoch 15 Batch 100 Loss 0.0370\n",
            "Epoch 15 Batch 200 Loss 0.0534\n",
            "Epoch 15 Batch 300 Loss 0.0705\n",
            "Epoch 15 Batch 400 Loss 0.0395\n",
            "Epoch 15 Batch 500 Loss 0.0704\n",
            "Epoch 15 Batch 600 Loss 0.0796\n",
            "Epoch 15 Batch 700 Loss 0.1092\n",
            "Epoch 15 Batch 800 Loss 0.0743\n",
            "Epoch 15 Batch 900 Loss 0.0690\n",
            "Epoch 15 Batch 1000 Loss 0.0538\n",
            "Epoch 15 Batch 1100 Loss 0.0371\n",
            "Epoch 15 Batch 1200 Loss 0.0689\n",
            "Epoch 15 Loss 0.0689\n",
            "Time taken for 1 epoch 58.90156817436218 sec\n",
            "\n",
            "Epoch 16 Batch 0 Loss 0.0454\n",
            "Epoch 16 Batch 100 Loss 0.0470\n",
            "Epoch 16 Batch 200 Loss 0.0511\n",
            "Epoch 16 Batch 300 Loss 0.0649\n",
            "Epoch 16 Batch 400 Loss 0.0426\n",
            "Epoch 16 Batch 500 Loss 0.0502\n",
            "Epoch 16 Batch 600 Loss 0.0728\n",
            "Epoch 16 Batch 700 Loss 0.0454\n",
            "Epoch 16 Batch 800 Loss 0.0978\n",
            "Epoch 16 Batch 900 Loss 0.0577\n",
            "Epoch 16 Batch 1000 Loss 0.0734\n",
            "Epoch 16 Batch 1100 Loss 0.1316\n",
            "Epoch 16 Batch 1200 Loss 0.0917\n",
            "Epoch 16 Loss 0.0673\n",
            "Time taken for 1 epoch 59.54497575759888 sec\n",
            "\n",
            "Epoch 17 Batch 0 Loss 0.0564\n",
            "Epoch 17 Batch 100 Loss 0.0385\n",
            "Epoch 17 Batch 200 Loss 0.0780\n",
            "Epoch 17 Batch 300 Loss 0.0487\n",
            "Epoch 17 Batch 400 Loss 0.0425\n",
            "Epoch 17 Batch 500 Loss 0.0521\n",
            "Epoch 17 Batch 600 Loss 0.0545\n",
            "Epoch 17 Batch 700 Loss 0.0725\n",
            "Epoch 17 Batch 800 Loss 0.0832\n",
            "Epoch 17 Batch 900 Loss 0.0650\n",
            "Epoch 17 Batch 1000 Loss 0.0824\n",
            "Epoch 17 Batch 1100 Loss 0.0640\n",
            "Epoch 17 Batch 1200 Loss 0.0726\n",
            "Epoch 17 Loss 0.0659\n",
            "Time taken for 1 epoch 58.95447611808777 sec\n",
            "\n",
            "Epoch 18 Batch 0 Loss 0.0878\n",
            "Epoch 18 Batch 100 Loss 0.0601\n",
            "Epoch 18 Batch 200 Loss 0.0537\n",
            "Epoch 18 Batch 300 Loss 0.0794\n",
            "Epoch 18 Batch 400 Loss 0.0314\n",
            "Epoch 18 Batch 500 Loss 0.0401\n",
            "Epoch 18 Batch 600 Loss 0.0315\n",
            "Epoch 18 Batch 700 Loss 0.0327\n",
            "Epoch 18 Batch 800 Loss 0.0500\n",
            "Epoch 18 Batch 900 Loss 0.0534\n",
            "Epoch 18 Batch 1000 Loss 0.0769\n",
            "Epoch 18 Batch 1100 Loss 0.0893\n",
            "Epoch 18 Batch 1200 Loss 0.0782\n",
            "Epoch 18 Loss 0.0647\n",
            "Time taken for 1 epoch 59.519787073135376 sec\n",
            "\n",
            "Epoch 19 Batch 0 Loss 0.0607\n",
            "Epoch 19 Batch 100 Loss 0.0983\n",
            "Epoch 19 Batch 200 Loss 0.0618\n",
            "Epoch 19 Batch 300 Loss 0.0383\n",
            "Epoch 19 Batch 400 Loss 0.0510\n",
            "Epoch 19 Batch 500 Loss 0.0530\n",
            "Epoch 19 Batch 600 Loss 0.0472\n",
            "Epoch 19 Batch 700 Loss 0.0630\n",
            "Epoch 19 Batch 800 Loss 0.0600\n",
            "Epoch 19 Batch 900 Loss 0.0873\n",
            "Epoch 19 Batch 1000 Loss 0.0937\n",
            "Epoch 19 Batch 1100 Loss 0.0521\n",
            "Epoch 19 Batch 1200 Loss 0.0764\n",
            "Epoch 19 Loss 0.0638\n",
            "Time taken for 1 epoch 59.03146719932556 sec\n",
            "\n",
            "Epoch 20 Batch 0 Loss 0.0345\n",
            "Epoch 20 Batch 100 Loss 0.0390\n",
            "Epoch 20 Batch 200 Loss 0.0438\n",
            "Epoch 20 Batch 300 Loss 0.0560\n",
            "Epoch 20 Batch 400 Loss 0.0484\n",
            "Epoch 20 Batch 500 Loss 0.0522\n",
            "Epoch 20 Batch 600 Loss 0.0931\n",
            "Epoch 20 Batch 700 Loss 0.0475\n",
            "Epoch 20 Batch 800 Loss 0.0500\n",
            "Epoch 20 Batch 900 Loss 0.0810\n",
            "Epoch 20 Batch 1000 Loss 0.0667\n",
            "Epoch 20 Batch 1100 Loss 0.0715\n",
            "Epoch 20 Batch 1200 Loss 0.0828\n",
            "Epoch 20 Loss 0.0629\n",
            "Time taken for 1 epoch 59.57080125808716 sec\n",
            "\n",
            "Epoch 21 Batch 0 Loss 0.0576\n",
            "Epoch 21 Batch 100 Loss 0.0628\n",
            "Epoch 21 Batch 200 Loss 0.0488\n",
            "Epoch 21 Batch 300 Loss 0.0414\n",
            "Epoch 21 Batch 400 Loss 0.0548\n",
            "Epoch 21 Batch 500 Loss 0.0654\n",
            "Epoch 21 Batch 600 Loss 0.0447\n",
            "Epoch 21 Batch 700 Loss 0.0348\n",
            "Epoch 21 Batch 800 Loss 0.0471\n",
            "Epoch 21 Batch 900 Loss 0.0705\n",
            "Epoch 21 Batch 1000 Loss 0.0724\n",
            "Epoch 21 Batch 1100 Loss 0.0493\n",
            "Epoch 21 Batch 1200 Loss 0.0628\n",
            "Epoch 21 Loss 0.0611\n",
            "Time taken for 1 epoch 58.99987721443176 sec\n",
            "\n",
            "Epoch 22 Batch 0 Loss 0.0659\n",
            "Epoch 22 Batch 100 Loss 0.0242\n",
            "Epoch 22 Batch 200 Loss 0.0251\n",
            "Epoch 22 Batch 300 Loss 0.0434\n",
            "Epoch 22 Batch 400 Loss 0.0369\n",
            "Epoch 22 Batch 500 Loss 0.0780\n",
            "Epoch 22 Batch 600 Loss 0.0349\n",
            "Epoch 22 Batch 700 Loss 0.0477\n",
            "Epoch 22 Batch 800 Loss 0.0386\n",
            "Epoch 22 Batch 900 Loss 0.0494\n",
            "Epoch 22 Batch 1000 Loss 0.0822\n",
            "Epoch 22 Batch 1100 Loss 0.0553\n",
            "Epoch 22 Batch 1200 Loss 0.0728\n",
            "Epoch 22 Loss 0.0616\n",
            "Time taken for 1 epoch 59.662604570388794 sec\n",
            "\n",
            "Epoch 23 Batch 0 Loss 0.0400\n",
            "Epoch 23 Batch 100 Loss 0.0623\n",
            "Epoch 23 Batch 200 Loss 0.0580\n",
            "Epoch 23 Batch 300 Loss 0.0823\n",
            "Epoch 23 Batch 400 Loss 0.0773\n",
            "Epoch 23 Batch 500 Loss 0.0166\n",
            "Epoch 23 Batch 600 Loss 0.0599\n",
            "Epoch 23 Batch 700 Loss 0.0468\n",
            "Epoch 23 Batch 800 Loss 0.0584\n",
            "Epoch 23 Batch 900 Loss 0.0636\n",
            "Epoch 23 Batch 1000 Loss 0.0832\n",
            "Epoch 23 Batch 1100 Loss 0.0467\n",
            "Epoch 23 Batch 1200 Loss 0.0942\n",
            "Epoch 23 Loss 0.0599\n",
            "Time taken for 1 epoch 58.92407155036926 sec\n",
            "\n",
            "Epoch 24 Batch 0 Loss 0.0275\n",
            "Epoch 24 Batch 100 Loss 0.0707\n",
            "Epoch 24 Batch 200 Loss 0.0544\n",
            "Epoch 24 Batch 300 Loss 0.0678\n",
            "Epoch 24 Batch 400 Loss 0.0769\n",
            "Epoch 24 Batch 500 Loss 0.0567\n",
            "Epoch 24 Batch 600 Loss 0.0612\n",
            "Epoch 24 Batch 700 Loss 0.0357\n",
            "Epoch 24 Batch 800 Loss 0.0602\n",
            "Epoch 24 Batch 900 Loss 0.0774\n",
            "Epoch 24 Batch 1000 Loss 0.0364\n",
            "Epoch 24 Batch 1100 Loss 0.0565\n",
            "Epoch 24 Batch 1200 Loss 0.0991\n",
            "Epoch 24 Loss 0.0588\n",
            "Time taken for 1 epoch 59.537126302719116 sec\n",
            "\n",
            "Epoch 25 Batch 0 Loss 0.0580\n",
            "Epoch 25 Batch 100 Loss 0.0470\n",
            "Epoch 25 Batch 200 Loss 0.0468\n",
            "Epoch 25 Batch 300 Loss 0.0416\n",
            "Epoch 25 Batch 400 Loss 0.0220\n",
            "Epoch 25 Batch 500 Loss 0.0510\n",
            "Epoch 25 Batch 600 Loss 0.0496\n",
            "Epoch 25 Batch 700 Loss 0.0481\n",
            "Epoch 25 Batch 800 Loss 0.0354\n",
            "Epoch 25 Batch 900 Loss 0.0241\n",
            "Epoch 25 Batch 1000 Loss 0.0418\n",
            "Epoch 25 Batch 1100 Loss 0.0598\n",
            "Epoch 25 Batch 1200 Loss 0.0828\n",
            "Epoch 25 Loss 0.0587\n",
            "Time taken for 1 epoch 58.93690490722656 sec\n",
            "\n",
            "Epoch 26 Batch 0 Loss 0.0217\n",
            "Epoch 26 Batch 100 Loss 0.0651\n",
            "Epoch 26 Batch 200 Loss 0.0366\n",
            "Epoch 26 Batch 300 Loss 0.0272\n",
            "Epoch 26 Batch 400 Loss 0.0392\n",
            "Epoch 26 Batch 500 Loss 0.0649\n",
            "Epoch 26 Batch 600 Loss 0.0894\n",
            "Epoch 26 Batch 700 Loss 0.1051\n",
            "Epoch 26 Batch 800 Loss 0.0750\n",
            "Epoch 26 Batch 900 Loss 0.0838\n",
            "Epoch 26 Batch 1000 Loss 0.0379\n",
            "Epoch 26 Batch 1100 Loss 0.0465\n",
            "Epoch 26 Batch 1200 Loss 0.0712\n",
            "Epoch 26 Loss 0.0576\n",
            "Time taken for 1 epoch 59.61476469039917 sec\n",
            "\n",
            "Epoch 27 Batch 0 Loss 0.0732\n",
            "Epoch 27 Batch 100 Loss 0.0404\n",
            "Epoch 27 Batch 200 Loss 0.0443\n",
            "Epoch 27 Batch 300 Loss 0.0439\n",
            "Epoch 27 Batch 400 Loss 0.0505\n",
            "Epoch 27 Batch 500 Loss 0.0719\n",
            "Epoch 27 Batch 600 Loss 0.0578\n",
            "Epoch 27 Batch 700 Loss 0.0331\n",
            "Epoch 27 Batch 800 Loss 0.0558\n",
            "Epoch 27 Batch 900 Loss 0.0542\n",
            "Epoch 27 Batch 1000 Loss 0.0668\n",
            "Epoch 27 Batch 1100 Loss 0.0558\n",
            "Epoch 27 Batch 1200 Loss 0.0737\n",
            "Epoch 27 Loss 0.0573\n",
            "Time taken for 1 epoch 58.99767541885376 sec\n",
            "\n",
            "Epoch 28 Batch 0 Loss 0.0433\n",
            "Epoch 28 Batch 100 Loss 0.0220\n",
            "Epoch 28 Batch 200 Loss 0.0494\n",
            "Epoch 28 Batch 300 Loss 0.0610\n",
            "Epoch 28 Batch 400 Loss 0.0616\n",
            "Epoch 28 Batch 500 Loss 0.0631\n",
            "Epoch 28 Batch 600 Loss 0.0693\n",
            "Epoch 28 Batch 700 Loss 0.0755\n",
            "Epoch 28 Batch 800 Loss 0.0642\n",
            "Epoch 28 Batch 900 Loss 0.0661\n",
            "Epoch 28 Batch 1000 Loss 0.0585\n",
            "Epoch 28 Batch 1100 Loss 0.0740\n",
            "Epoch 28 Batch 1200 Loss 0.0769\n",
            "Epoch 28 Loss 0.0561\n",
            "Time taken for 1 epoch 59.5870885848999 sec\n",
            "\n",
            "Epoch 29 Batch 0 Loss 0.0429\n",
            "Epoch 29 Batch 100 Loss 0.0281\n",
            "Epoch 29 Batch 200 Loss 0.0473\n",
            "Epoch 29 Batch 300 Loss 0.0600\n",
            "Epoch 29 Batch 400 Loss 0.0282\n",
            "Epoch 29 Batch 500 Loss 0.0674\n",
            "Epoch 29 Batch 600 Loss 0.0877\n",
            "Epoch 29 Batch 700 Loss 0.0716\n",
            "Epoch 29 Batch 800 Loss 0.0995\n",
            "Epoch 29 Batch 900 Loss 0.0406\n",
            "Epoch 29 Batch 1000 Loss 0.0636\n",
            "Epoch 29 Batch 1100 Loss 0.0644\n",
            "Epoch 29 Batch 1200 Loss 0.0688\n",
            "Epoch 29 Loss 0.0561\n",
            "Time taken for 1 epoch 58.94363451004028 sec\n",
            "\n",
            "Epoch 30 Batch 0 Loss 0.0321\n",
            "Epoch 30 Batch 100 Loss 0.0410\n",
            "Epoch 30 Batch 200 Loss 0.0341\n",
            "Epoch 30 Batch 300 Loss 0.0591\n",
            "Epoch 30 Batch 400 Loss 0.0531\n",
            "Epoch 30 Batch 500 Loss 0.0472\n",
            "Epoch 30 Batch 600 Loss 0.0752\n",
            "Epoch 30 Batch 700 Loss 0.0528\n",
            "Epoch 30 Batch 800 Loss 0.0686\n",
            "Epoch 30 Batch 900 Loss 0.0973\n",
            "Epoch 30 Batch 1000 Loss 0.0752\n",
            "Epoch 30 Batch 1100 Loss 0.0481\n",
            "Epoch 30 Batch 1200 Loss 0.1045\n",
            "Epoch 30 Loss 0.0546\n",
            "Time taken for 1 epoch 59.53368520736694 sec\n",
            "\n",
            "Epoch 31 Batch 0 Loss 0.0350\n",
            "Epoch 31 Batch 100 Loss 0.0493\n",
            "Epoch 31 Batch 200 Loss 0.0365\n",
            "Epoch 31 Batch 300 Loss 0.0387\n",
            "Epoch 31 Batch 400 Loss 0.0640\n",
            "Epoch 31 Batch 500 Loss 0.0430\n",
            "Epoch 31 Batch 600 Loss 0.0815\n",
            "Epoch 31 Batch 700 Loss 0.0705\n",
            "Epoch 31 Batch 800 Loss 0.0412\n",
            "Epoch 31 Batch 900 Loss 0.0655\n",
            "Epoch 31 Batch 1000 Loss 0.0700\n",
            "Epoch 31 Batch 1100 Loss 0.0694\n",
            "Epoch 31 Batch 1200 Loss 0.0779\n",
            "Epoch 31 Loss 0.0545\n",
            "Time taken for 1 epoch 58.940372943878174 sec\n",
            "\n",
            "Epoch 32 Batch 0 Loss 0.0461\n",
            "Epoch 32 Batch 100 Loss 0.0220\n",
            "Epoch 32 Batch 200 Loss 0.0320\n",
            "Epoch 32 Batch 300 Loss 0.0401\n",
            "Epoch 32 Batch 400 Loss 0.0317\n",
            "Epoch 32 Batch 500 Loss 0.0519\n",
            "Epoch 32 Batch 600 Loss 0.0569\n",
            "Epoch 32 Batch 700 Loss 0.0649\n",
            "Epoch 32 Batch 800 Loss 0.0425\n",
            "Epoch 32 Batch 900 Loss 0.0823\n",
            "Epoch 32 Batch 1000 Loss 0.1106\n",
            "Epoch 32 Batch 1100 Loss 0.0785\n",
            "Epoch 32 Batch 1200 Loss 0.1002\n",
            "Epoch 32 Loss 0.0534\n",
            "Time taken for 1 epoch 59.63856863975525 sec\n",
            "\n",
            "Epoch 33 Batch 0 Loss 0.0307\n",
            "Epoch 33 Batch 100 Loss 0.0546\n",
            "Epoch 33 Batch 200 Loss 0.0877\n",
            "Epoch 33 Batch 300 Loss 0.0446\n",
            "Epoch 33 Batch 400 Loss 0.0318\n",
            "Epoch 33 Batch 500 Loss 0.0308\n",
            "Epoch 33 Batch 600 Loss 0.0613\n",
            "Epoch 33 Batch 700 Loss 0.0402\n",
            "Epoch 33 Batch 800 Loss 0.0709\n",
            "Epoch 33 Batch 900 Loss 0.0534\n",
            "Epoch 33 Batch 1000 Loss 0.0468\n",
            "Epoch 33 Batch 1100 Loss 0.0762\n",
            "Epoch 33 Batch 1200 Loss 0.0740\n",
            "Epoch 33 Loss 0.0530\n",
            "Time taken for 1 epoch 59.043174266815186 sec\n",
            "\n",
            "Epoch 34 Batch 0 Loss 0.0348\n",
            "Epoch 34 Batch 100 Loss 0.0416\n",
            "Epoch 34 Batch 200 Loss 0.0400\n",
            "Epoch 34 Batch 300 Loss 0.0635\n",
            "Epoch 34 Batch 400 Loss 0.0537\n",
            "Epoch 34 Batch 500 Loss 0.0694\n",
            "Epoch 34 Batch 600 Loss 0.0472\n",
            "Epoch 34 Batch 700 Loss 0.0507\n",
            "Epoch 34 Batch 800 Loss 0.0443\n",
            "Epoch 34 Batch 900 Loss 0.0548\n",
            "Epoch 34 Batch 1000 Loss 0.0307\n",
            "Epoch 34 Batch 1100 Loss 0.0827\n",
            "Epoch 34 Batch 1200 Loss 0.0503\n",
            "Epoch 34 Loss 0.0528\n",
            "Time taken for 1 epoch 59.699378967285156 sec\n",
            "\n",
            "Epoch 35 Batch 0 Loss 0.0212\n",
            "Epoch 35 Batch 100 Loss 0.0289\n",
            "Epoch 35 Batch 200 Loss 0.0274\n",
            "Epoch 35 Batch 300 Loss 0.0701\n",
            "Epoch 35 Batch 400 Loss 0.0437\n",
            "Epoch 35 Batch 500 Loss 0.0446\n",
            "Epoch 35 Batch 600 Loss 0.0671\n",
            "Epoch 35 Batch 700 Loss 0.0560\n",
            "Epoch 35 Batch 800 Loss 0.0512\n",
            "Epoch 35 Batch 900 Loss 0.0681\n",
            "Epoch 35 Batch 1000 Loss 0.0248\n",
            "Epoch 35 Batch 1100 Loss 0.0592\n",
            "Epoch 35 Batch 1200 Loss 0.0685\n",
            "Epoch 35 Loss 0.0522\n",
            "Time taken for 1 epoch 59.03634691238403 sec\n",
            "\n",
            "Epoch 36 Batch 0 Loss 0.0574\n",
            "Epoch 36 Batch 100 Loss 0.0371\n",
            "Epoch 36 Batch 200 Loss 0.0289\n",
            "Epoch 36 Batch 300 Loss 0.0253\n",
            "Epoch 36 Batch 400 Loss 0.0440\n",
            "Epoch 36 Batch 500 Loss 0.0510\n",
            "Epoch 36 Batch 600 Loss 0.0394\n",
            "Epoch 36 Batch 700 Loss 0.0724\n",
            "Epoch 36 Batch 800 Loss 0.0457\n",
            "Epoch 36 Batch 900 Loss 0.0420\n",
            "Epoch 36 Batch 1000 Loss 0.0475\n",
            "Epoch 36 Batch 1100 Loss 0.0337\n",
            "Epoch 36 Batch 1200 Loss 0.0480\n",
            "Epoch 36 Loss 0.0514\n",
            "Time taken for 1 epoch 59.61773443222046 sec\n",
            "\n",
            "Epoch 37 Batch 0 Loss 0.0429\n",
            "Epoch 37 Batch 100 Loss 0.0355\n",
            "Epoch 37 Batch 200 Loss 0.0446\n",
            "Epoch 37 Batch 300 Loss 0.0448\n",
            "Epoch 37 Batch 400 Loss 0.0270\n",
            "Epoch 37 Batch 500 Loss 0.0777\n",
            "Epoch 37 Batch 600 Loss 0.0365\n",
            "Epoch 37 Batch 700 Loss 0.0661\n",
            "Epoch 37 Batch 800 Loss 0.0679\n",
            "Epoch 37 Batch 900 Loss 0.0598\n",
            "Epoch 37 Batch 1000 Loss 0.0939\n",
            "Epoch 37 Batch 1100 Loss 0.0484\n",
            "Epoch 37 Batch 1200 Loss 0.0685\n",
            "Epoch 37 Loss 0.0510\n",
            "Time taken for 1 epoch 59.01796317100525 sec\n",
            "\n",
            "Epoch 38 Batch 0 Loss 0.0542\n",
            "Epoch 38 Batch 100 Loss 0.0723\n",
            "Epoch 38 Batch 200 Loss 0.0321\n",
            "Epoch 38 Batch 300 Loss 0.0559\n",
            "Epoch 38 Batch 400 Loss 0.0837\n",
            "Epoch 38 Batch 500 Loss 0.0542\n",
            "Epoch 38 Batch 600 Loss 0.0566\n",
            "Epoch 38 Batch 700 Loss 0.0492\n",
            "Epoch 38 Batch 800 Loss 0.0502\n",
            "Epoch 38 Batch 900 Loss 0.0657\n",
            "Epoch 38 Batch 1000 Loss 0.0434\n",
            "Epoch 38 Batch 1100 Loss 0.0392\n",
            "Epoch 38 Batch 1200 Loss 0.0383\n",
            "Epoch 38 Loss 0.0513\n",
            "Time taken for 1 epoch 59.60911750793457 sec\n",
            "\n",
            "Epoch 39 Batch 0 Loss 0.0223\n",
            "Epoch 39 Batch 100 Loss 0.0398\n",
            "Epoch 39 Batch 200 Loss 0.0263\n",
            "Epoch 39 Batch 300 Loss 0.0746\n",
            "Epoch 39 Batch 400 Loss 0.0279\n",
            "Epoch 39 Batch 500 Loss 0.0644\n",
            "Epoch 39 Batch 600 Loss 0.0423\n",
            "Epoch 39 Batch 700 Loss 0.0549\n",
            "Epoch 39 Batch 800 Loss 0.0628\n",
            "Epoch 39 Batch 900 Loss 0.0604\n",
            "Epoch 39 Batch 1000 Loss 0.0417\n",
            "Epoch 39 Batch 1100 Loss 0.0821\n",
            "Epoch 39 Batch 1200 Loss 0.1027\n",
            "Epoch 39 Loss 0.0502\n",
            "Time taken for 1 epoch 59.02457022666931 sec\n",
            "\n",
            "Epoch 40 Batch 0 Loss 0.0326\n",
            "Epoch 40 Batch 100 Loss 0.0593\n",
            "Epoch 40 Batch 200 Loss 0.0422\n",
            "Epoch 40 Batch 300 Loss 0.0333\n",
            "Epoch 40 Batch 400 Loss 0.0325\n",
            "Epoch 40 Batch 500 Loss 0.0387\n",
            "Epoch 40 Batch 600 Loss 0.0513\n",
            "Epoch 40 Batch 700 Loss 0.0752\n",
            "Epoch 40 Batch 800 Loss 0.0434\n",
            "Epoch 40 Batch 900 Loss 0.0279\n",
            "Epoch 40 Batch 1000 Loss 0.0936\n",
            "Epoch 40 Batch 1100 Loss 0.0846\n",
            "Epoch 40 Batch 1200 Loss 0.0659\n",
            "Epoch 40 Loss 0.0500\n",
            "Time taken for 1 epoch 59.63443398475647 sec\n",
            "\n",
            "Epoch 41 Batch 0 Loss 0.0573\n",
            "Epoch 41 Batch 100 Loss 0.0348\n",
            "Epoch 41 Batch 200 Loss 0.0376\n",
            "Epoch 41 Batch 300 Loss 0.0202\n",
            "Epoch 41 Batch 400 Loss 0.0479\n",
            "Epoch 41 Batch 500 Loss 0.0895\n",
            "Epoch 41 Batch 600 Loss 0.0631\n",
            "Epoch 41 Batch 700 Loss 0.0348\n",
            "Epoch 41 Batch 800 Loss 0.0525\n",
            "Epoch 41 Batch 900 Loss 0.0716\n",
            "Epoch 41 Batch 1000 Loss 0.0828\n",
            "Epoch 41 Batch 1100 Loss 0.0729\n",
            "Epoch 41 Batch 1200 Loss 0.0840\n",
            "Epoch 41 Loss 0.0493\n",
            "Time taken for 1 epoch 58.98752737045288 sec\n",
            "\n",
            "Epoch 42 Batch 0 Loss 0.0560\n",
            "Epoch 42 Batch 100 Loss 0.0256\n",
            "Epoch 42 Batch 200 Loss 0.0372\n",
            "Epoch 42 Batch 300 Loss 0.0470\n",
            "Epoch 42 Batch 400 Loss 0.0540\n",
            "Epoch 42 Batch 500 Loss 0.0518\n",
            "Epoch 42 Batch 600 Loss 0.0199\n",
            "Epoch 42 Batch 700 Loss 0.0404\n",
            "Epoch 42 Batch 800 Loss 0.0580\n",
            "Epoch 42 Batch 900 Loss 0.0658\n",
            "Epoch 42 Batch 1000 Loss 0.0940\n",
            "Epoch 42 Batch 1100 Loss 0.0599\n",
            "Epoch 42 Batch 1200 Loss 0.0703\n",
            "Epoch 42 Loss 0.0500\n",
            "Time taken for 1 epoch 59.636189699172974 sec\n",
            "\n",
            "Epoch 43 Batch 0 Loss 0.0583\n",
            "Epoch 43 Batch 100 Loss 0.0741\n",
            "Epoch 43 Batch 200 Loss 0.0471\n",
            "Epoch 43 Batch 300 Loss 0.0316\n",
            "Epoch 43 Batch 400 Loss 0.0499\n",
            "Epoch 43 Batch 500 Loss 0.0515\n",
            "Epoch 43 Batch 600 Loss 0.0418\n",
            "Epoch 43 Batch 700 Loss 0.0641\n",
            "Epoch 43 Batch 800 Loss 0.0621\n",
            "Epoch 43 Batch 900 Loss 0.0539\n",
            "Epoch 43 Batch 1000 Loss 0.0941\n",
            "Epoch 43 Batch 1100 Loss 0.0711\n",
            "Epoch 43 Batch 1200 Loss 0.0445\n",
            "Epoch 43 Loss 0.0489\n",
            "Time taken for 1 epoch 58.95703148841858 sec\n",
            "\n",
            "Epoch 44 Batch 0 Loss 0.0213\n",
            "Epoch 44 Batch 100 Loss 0.0309\n",
            "Epoch 44 Batch 200 Loss 0.0116\n",
            "Epoch 44 Batch 300 Loss 0.0406\n",
            "Epoch 44 Batch 400 Loss 0.0726\n",
            "Epoch 44 Batch 500 Loss 0.0684\n",
            "Epoch 44 Batch 600 Loss 0.0469\n",
            "Epoch 44 Batch 700 Loss 0.0641\n",
            "Epoch 44 Batch 800 Loss 0.0861\n",
            "Epoch 44 Batch 900 Loss 0.0425\n",
            "Epoch 44 Batch 1000 Loss 0.0357\n",
            "Epoch 44 Batch 1100 Loss 0.0471\n",
            "Epoch 44 Batch 1200 Loss 0.0639\n",
            "Epoch 44 Loss 0.0488\n",
            "Time taken for 1 epoch 59.474305868148804 sec\n",
            "\n",
            "Epoch 45 Batch 0 Loss 0.0357\n",
            "Epoch 45 Batch 100 Loss 0.0389\n",
            "Epoch 45 Batch 200 Loss 0.0317\n",
            "Epoch 45 Batch 300 Loss 0.0453\n",
            "Epoch 45 Batch 400 Loss 0.0375\n",
            "Epoch 45 Batch 500 Loss 0.0444\n",
            "Epoch 45 Batch 600 Loss 0.0442\n",
            "Epoch 45 Batch 700 Loss 0.0323\n",
            "Epoch 45 Batch 800 Loss 0.0735\n",
            "Epoch 45 Batch 900 Loss 0.0683\n",
            "Epoch 45 Batch 1000 Loss 0.0562\n",
            "Epoch 45 Batch 1100 Loss 0.0826\n",
            "Epoch 45 Batch 1200 Loss 0.0423\n",
            "Epoch 45 Loss 0.0480\n",
            "Time taken for 1 epoch 58.87134408950806 sec\n",
            "\n",
            "Epoch 46 Batch 0 Loss 0.0181\n",
            "Epoch 46 Batch 100 Loss 0.0348\n",
            "Epoch 46 Batch 200 Loss 0.0369\n",
            "Epoch 46 Batch 300 Loss 0.0423\n",
            "Epoch 46 Batch 400 Loss 0.0620\n",
            "Epoch 46 Batch 500 Loss 0.0559\n",
            "Epoch 46 Batch 600 Loss 0.0631\n",
            "Epoch 46 Batch 700 Loss 0.0767\n",
            "Epoch 46 Batch 800 Loss 0.0461\n",
            "Epoch 46 Batch 900 Loss 0.0289\n",
            "Epoch 46 Batch 1000 Loss 0.0550\n",
            "Epoch 46 Batch 1100 Loss 0.0518\n",
            "Epoch 46 Batch 1200 Loss 0.0508\n",
            "Epoch 46 Loss 0.0476\n",
            "Time taken for 1 epoch 59.49822235107422 sec\n",
            "\n",
            "Epoch 47 Batch 0 Loss 0.0331\n",
            "Epoch 47 Batch 100 Loss 0.0233\n",
            "Epoch 47 Batch 200 Loss 0.0258\n",
            "Epoch 47 Batch 300 Loss 0.0679\n",
            "Epoch 47 Batch 400 Loss 0.0480\n",
            "Epoch 47 Batch 500 Loss 0.0390\n",
            "Epoch 47 Batch 600 Loss 0.0488\n",
            "Epoch 47 Batch 700 Loss 0.0765\n",
            "Epoch 47 Batch 800 Loss 0.0643\n",
            "Epoch 47 Batch 900 Loss 0.0410\n",
            "Epoch 47 Batch 1000 Loss 0.0409\n",
            "Epoch 47 Batch 1100 Loss 0.0611\n",
            "Epoch 47 Batch 1200 Loss 0.0383\n",
            "Epoch 47 Loss 0.0476\n",
            "Time taken for 1 epoch 58.90280055999756 sec\n",
            "\n",
            "Epoch 48 Batch 0 Loss 0.0484\n",
            "Epoch 48 Batch 100 Loss 0.0432\n",
            "Epoch 48 Batch 200 Loss 0.0298\n",
            "Epoch 48 Batch 300 Loss 0.0378\n",
            "Epoch 48 Batch 400 Loss 0.0312\n",
            "Epoch 48 Batch 500 Loss 0.0398\n",
            "Epoch 48 Batch 600 Loss 0.0354\n",
            "Epoch 48 Batch 700 Loss 0.0804\n",
            "Epoch 48 Batch 800 Loss 0.0627\n",
            "Epoch 48 Batch 900 Loss 0.0340\n",
            "Epoch 48 Batch 1000 Loss 0.0982\n",
            "Epoch 48 Batch 1100 Loss 0.0562\n",
            "Epoch 48 Batch 1200 Loss 0.0957\n",
            "Epoch 48 Loss 0.0475\n",
            "Time taken for 1 epoch 59.96903967857361 sec\n",
            "\n",
            "Epoch 49 Batch 0 Loss 0.0381\n",
            "Epoch 49 Batch 100 Loss 0.0358\n",
            "Epoch 49 Batch 200 Loss 0.0267\n",
            "Epoch 49 Batch 300 Loss 0.0563\n",
            "Epoch 49 Batch 400 Loss 0.0565\n",
            "Epoch 49 Batch 500 Loss 0.0311\n",
            "Epoch 49 Batch 600 Loss 0.0589\n",
            "Epoch 49 Batch 700 Loss 0.0315\n",
            "Epoch 49 Batch 800 Loss 0.0458\n",
            "Epoch 49 Batch 900 Loss 0.0747\n",
            "Epoch 49 Batch 1000 Loss 0.0250\n",
            "Epoch 49 Batch 1100 Loss 0.0699\n",
            "Epoch 49 Batch 1200 Loss 0.0415\n",
            "Epoch 49 Loss 0.0470\n",
            "Time taken for 1 epoch 59.59432363510132 sec\n",
            "\n",
            "Epoch 50 Batch 0 Loss 0.0260\n",
            "Epoch 50 Batch 100 Loss 0.0289\n",
            "Epoch 50 Batch 200 Loss 0.0479\n",
            "Epoch 50 Batch 300 Loss 0.0302\n",
            "Epoch 50 Batch 400 Loss 0.0237\n",
            "Epoch 50 Batch 500 Loss 0.0299\n",
            "Epoch 50 Batch 600 Loss 0.0515\n",
            "Epoch 50 Batch 700 Loss 0.0626\n",
            "Epoch 50 Batch 800 Loss 0.0789\n",
            "Epoch 50 Batch 900 Loss 0.0383\n",
            "Epoch 50 Batch 1000 Loss 0.0408\n",
            "Epoch 50 Batch 1100 Loss 0.0498\n",
            "Epoch 50 Batch 1200 Loss 0.0657\n",
            "Epoch 50 Loss 0.0472\n",
            "Time taken for 1 epoch 61.280714988708496 sec\n",
            "\n"
          ]
        }
      ]
    },
    {
      "cell_type": "markdown",
      "source": [
        "## Translate\n",
        "\n",
        "* The evaluate function is similar to the training loop, except we don't use *teacher forcing* here. The input to the decoder at each time step is its previous predictions along with the hidden state and the encoder output.\n",
        "* Stop predicting when the model predicts the *end token*.\n",
        "* And store the *attention weights for every time step*.\n",
        "\n",
        "Note: The encoder output is calculated only once for one input."
      ],
      "metadata": {
        "id": "dGdmyqw6yVh-"
      }
    },
    {
      "cell_type": "code",
      "source": [
        "def evaluate(sentence):\n",
        "  attention_plot = np.zeros((max_length_targ, max_length_inp))\n",
        "\n",
        "  sentence = preprocess_sentence(sentence)\n",
        "\n",
        "  inputs = [inp_lang.word_index[i] for i in sentence.split(' ')]\n",
        "  inputs = tf.keras.preprocessing.sequence.pad_sequences([inputs],\n",
        "                                                         maxlen=max_length_inp,\n",
        "                                                         padding='post')\n",
        "  inputs = tf.convert_to_tensor(inputs)\n",
        "\n",
        "  result = ''\n",
        "\n",
        "  hidden = [tf.zeros((1, units))]\n",
        "  enc_hidden = encoder(inputs, hidden)\n",
        "\n",
        "  dec_hidden = enc_hidden\n",
        "  dec_input = tf.expand_dims([targ_lang.word_index['<start>']], 0)\n",
        "\n",
        "  for t in range(max_length_targ):\n",
        "    predictions, dec_hidden = decoder(dec_input, dec_hidden)\n",
        "\n",
        "    # storing the attention weights to plot later on\n",
        "    predicted_id = tf.argmax(predictions[0]).numpy()\n",
        "    result += targ_lang.index_word[predicted_id] + ' '\n",
        "\n",
        "    if targ_lang.index_word[predicted_id] == '<end>':\n",
        "      return result, sentence\n",
        "\n",
        "    # the predicted ID is fed back into the model\n",
        "    dec_input = tf.expand_dims([predicted_id], 0)\n",
        "\n",
        "  return result, sentence"
      ],
      "metadata": {
        "id": "d3t2r7IxnGHO"
      },
      "execution_count": null,
      "outputs": []
    },
    {
      "cell_type": "code",
      "source": [
        "def translate(sentence):\n",
        "  result, sentence = evaluate(sentence)\n",
        "\n",
        "  print('Input: %s' % (sentence))\n",
        "  print('Predicted translation: {}'.format(result))"
      ],
      "metadata": {
        "id": "_H-E88RwnGJm"
      },
      "execution_count": null,
      "outputs": []
    },
    {
      "cell_type": "markdown",
      "source": [
        "## Restore the latest checkpoint and test"
      ],
      "metadata": {
        "id": "NElPKIxAyiwS"
      }
    },
    {
      "cell_type": "code",
      "source": [
        "# restoring the latest checkpoint in checkpoint_dir\n",
        "checkpoint.restore(tf.train.latest_checkpoint(checkpoint_dir))"
      ],
      "metadata": {
        "colab": {
          "base_uri": "https://localhost:8080/"
        },
        "id": "Xw3n9F8jygFp",
        "outputId": "38391ce6-0108-4624-cf43-6a575cb17a01"
      },
      "execution_count": null,
      "outputs": [
        {
          "output_type": "execute_result",
          "data": {
            "text/plain": [
              "<tensorflow.python.training.tracking.util.CheckpointLoadStatus at 0x7eff0f3962d0>"
            ]
          },
          "metadata": {},
          "execution_count": 25
        }
      ]
    },
    {
      "cell_type": "markdown",
      "source": [
        "Посмотрим, как модель переводит"
      ],
      "metadata": {
        "id": "GNapwQ2oQF1n"
      }
    },
    {
      "cell_type": "code",
      "source": [
        "translate('Привет, как дела?')"
      ],
      "metadata": {
        "colab": {
          "base_uri": "https://localhost:8080/"
        },
        "id": "dwsPz-TKygIt",
        "outputId": "fc472890-d75d-494a-b42e-7bfa952eca81"
      },
      "execution_count": null,
      "outputs": [
        {
          "output_type": "stream",
          "name": "stdout",
          "text": [
            "Input: <start> привет , как дела ? <end>\n",
            "Predicted translation: hi . how are you ? <end> \n"
          ]
        }
      ]
    },
    {
      "cell_type": "code",
      "source": [
        "translate('Отличная погода')"
      ],
      "metadata": {
        "colab": {
          "base_uri": "https://localhost:8080/"
        },
        "id": "Bc5YnU3dzHBb",
        "outputId": "0f89b7b3-4602-4b8e-a048-34883f695b45"
      },
      "execution_count": null,
      "outputs": [
        {
          "output_type": "stream",
          "name": "stdout",
          "text": [
            "Input: <start> отличная погода <end>\n",
            "Predicted translation: this is a nice person . <end> \n"
          ]
        }
      ]
    },
    {
      "cell_type": "code",
      "source": [
        "translate('Карта мира')"
      ],
      "metadata": {
        "colab": {
          "base_uri": "https://localhost:8080/"
        },
        "id": "jQWHV3EFzNy1",
        "outputId": "782e8475-b97b-4c24-ca24-1a8addadd715"
      },
      "execution_count": null,
      "outputs": [
        {
          "output_type": "stream",
          "name": "stdout",
          "text": [
            "Input: <start> карта мира <end>\n",
            "Predicted translation: the beer is attentive . <end> \n"
          ]
        }
      ]
    },
    {
      "cell_type": "code",
      "source": [
        "translate('Чем я могу помочь?')"
      ],
      "metadata": {
        "colab": {
          "base_uri": "https://localhost:8080/"
        },
        "id": "6M53GXWzzTPl",
        "outputId": "f10b9944-7bd8-4c38-8e68-9f911a44076b"
      },
      "execution_count": null,
      "outputs": [
        {
          "output_type": "stream",
          "name": "stdout",
          "text": [
            "Input: <start> чем я могу помочь ? <end>\n",
            "Predicted translation: how can i be of help ? <end> \n"
          ]
        }
      ]
    },
    {
      "cell_type": "code",
      "source": [
        "translate('Сколько сейчас времени?')"
      ],
      "metadata": {
        "colab": {
          "base_uri": "https://localhost:8080/"
        },
        "id": "4nf5rfO5zaEh",
        "outputId": "2ecbace6-d731-49ab-c3c1-176bef31885d"
      },
      "execution_count": null,
      "outputs": [
        {
          "output_type": "stream",
          "name": "stdout",
          "text": [
            "Input: <start> сколько сейчас времени ? <end>\n",
            "Predicted translation: what time is it now ? <end> \n"
          ]
        }
      ]
    },
    {
      "cell_type": "code",
      "source": [
        "translate('Сегодня на улице отличная погода')"
      ],
      "metadata": {
        "colab": {
          "base_uri": "https://localhost:8080/"
        },
        "id": "WuM_lhZXygL0",
        "outputId": "0df40c3e-8842-4480-98fc-519b12f7a7f2"
      },
      "execution_count": null,
      "outputs": [
        {
          "output_type": "stream",
          "name": "stdout",
          "text": [
            "Input: <start> сегодня на улице отличная погода <end>\n",
            "Predicted translation: today is a big mistake . <end> \n"
          ]
        }
      ]
    },
    {
      "cell_type": "code",
      "source": [
        "translate('Сколько времени нужно, чтобы добраться до остановки')"
      ],
      "metadata": {
        "colab": {
          "base_uri": "https://localhost:8080/"
        },
        "id": "n30_6YvUygOY",
        "outputId": "efee5747-1472-49f3-ad26-611cc25570ae"
      },
      "execution_count": null,
      "outputs": [
        {
          "output_type": "stream",
          "name": "stdout",
          "text": [
            "Input: <start> сколько времени нужно , чтобы добраться до остановки <end>\n",
            "Predicted translation: how old or i contact ? <end> \n"
          ]
        }
      ]
    },
    {
      "cell_type": "code",
      "source": [
        "translate('Банк выпустил новую карту')"
      ],
      "metadata": {
        "colab": {
          "base_uri": "https://localhost:8080/"
        },
        "id": "9osmCqHmyzHN",
        "outputId": "c75cdda6-66cb-49c8-8eb6-b95f5f68c1fc"
      },
      "execution_count": null,
      "outputs": [
        {
          "output_type": "stream",
          "name": "stdout",
          "text": [
            "Input: <start> банк выпустил новую карту <end>\n",
            "Predicted translation: the book was new . <end> \n"
          ]
        }
      ]
    },
    {
      "cell_type": "code",
      "source": [
        "translate('Прогулка была приятной')"
      ],
      "metadata": {
        "colab": {
          "base_uri": "https://localhost:8080/"
        },
        "id": "Ei_scNAFzytd",
        "outputId": "5aa341a5-20ff-40fc-a0eb-823a3afe0b6a"
      },
      "execution_count": null,
      "outputs": [
        {
          "output_type": "stream",
          "name": "stdout",
          "text": [
            "Input: <start> прогулка была приятной <end>\n",
            "Predicted translation: a little sweet . <end> \n"
          ]
        }
      ]
    },
    {
      "cell_type": "code",
      "source": [
        "translate('На море волны')"
      ],
      "metadata": {
        "colab": {
          "base_uri": "https://localhost:8080/"
        },
        "id": "ypkvlavnz-FP",
        "outputId": "f31cbc93-8566-4ae6-a6f9-7fbd44f12340"
      },
      "execution_count": null,
      "outputs": [
        {
          "output_type": "stream",
          "name": "stdout",
          "text": [
            "Input: <start> на море волны <end>\n",
            "Predicted translation: the well is dry . <end> \n"
          ]
        }
      ]
    },
    {
      "cell_type": "code",
      "source": [
        "translate('Как тебя зовут?')"
      ],
      "metadata": {
        "colab": {
          "base_uri": "https://localhost:8080/"
        },
        "id": "b-ttINLT0DMX",
        "outputId": "52624c87-2049-4cf4-c4f7-4c0690c62eee"
      },
      "execution_count": null,
      "outputs": [
        {
          "output_type": "stream",
          "name": "stdout",
          "text": [
            "Input: <start> как тебя зовут ? <end>\n",
            "Predicted translation: what's your name ? <end> \n"
          ]
        }
      ]
    },
    {
      "cell_type": "code",
      "source": [
        "translate('Я прошел урок по математике')"
      ],
      "metadata": {
        "colab": {
          "base_uri": "https://localhost:8080/"
        },
        "id": "z3brAr9v0Hk-",
        "outputId": "631a3832-cd7b-4875-9247-c1bb8c3c0ea9"
      },
      "execution_count": null,
      "outputs": [
        {
          "output_type": "stream",
          "name": "stdout",
          "text": [
            "Input: <start> я прошел урок по математике <end>\n",
            "Predicted translation: was i to rich ? <end> \n"
          ]
        }
      ]
    },
    {
      "cell_type": "code",
      "source": [
        "translate('Что такое корабль?')"
      ],
      "metadata": {
        "colab": {
          "base_uri": "https://localhost:8080/"
        },
        "id": "0wfNgLRg0Hu8",
        "outputId": "990d6667-2585-45b3-8560-1ae4aab642f8"
      },
      "execution_count": null,
      "outputs": [
        {
          "output_type": "stream",
          "name": "stdout",
          "text": [
            "Input: <start> что такое корабль ? <end>\n",
            "Predicted translation: what is bullfighting ? <end> \n"
          ]
        }
      ]
    },
    {
      "cell_type": "code",
      "source": [
        "translate('Быть или не быть вот в чем вопрос?')"
      ],
      "metadata": {
        "colab": {
          "base_uri": "https://localhost:8080/"
        },
        "id": "E07GfQtK0HxZ",
        "outputId": "2d01455c-d90b-4b30-d95f-8478bc9a532b"
      },
      "execution_count": null,
      "outputs": [
        {
          "output_type": "stream",
          "name": "stdout",
          "text": [
            "Input: <start> быть или не быть вот в чем вопрос ? <end>\n",
            "Predicted translation: what should we go ? <end> \n"
          ]
        }
      ]
    },
    {
      "cell_type": "code",
      "source": [
        "translate('Горе от ума')"
      ],
      "metadata": {
        "colab": {
          "base_uri": "https://localhost:8080/"
        },
        "id": "iC5RVIu70H00",
        "outputId": "f367aac7-c5e5-4075-b14e-80b407a1390d"
      },
      "execution_count": null,
      "outputs": [
        {
          "output_type": "stream",
          "name": "stdout",
          "text": [
            "Input: <start> горе от ума <end>\n",
            "Predicted translation: is the nuts are allowed . <end> \n"
          ]
        }
      ]
    },
    {
      "cell_type": "markdown",
      "source": [
        "## Теперь обучим модель со слоем внимания"
      ],
      "metadata": {
        "id": "SO5AZlN_QMED"
      }
    },
    {
      "cell_type": "code",
      "source": [
        "BUFFER_SIZE = len(input_tensor_train)\n",
        "BATCH_SIZE = 64\n",
        "steps_per_epoch = len(input_tensor_train)//BATCH_SIZE\n",
        "embedding_dim = 256\n",
        "units = 1024\n",
        "vocab_inp_size = len(inp_lang.word_index)+1\n",
        "vocab_tar_size = len(targ_lang.word_index)+1\n",
        "\n",
        "dataset = tf.data.Dataset.from_tensor_slices((input_tensor_train, target_tensor_train)).shuffle(BUFFER_SIZE)\n",
        "dataset = dataset.batch(BATCH_SIZE, drop_remainder=True)"
      ],
      "metadata": {
        "id": "sswN5r-63PSH"
      },
      "execution_count": null,
      "outputs": []
    },
    {
      "cell_type": "code",
      "source": [
        "class Encoder(tf.keras.Model):\n",
        "  def __init__(self, vocab_size, embedding_dim, enc_units, batch_sz):\n",
        "    super(Encoder, self).__init__()\n",
        "    self.batch_sz = batch_sz\n",
        "    self.enc_units = enc_units\n",
        "    self.embedding = tf.keras.layers.Embedding(vocab_size, embedding_dim)\n",
        "    self.gru = tf.keras.layers.GRU(self.enc_units,\n",
        "                                   return_sequences=True,\n",
        "                                   return_state=True,\n",
        "                                   recurrent_initializer='glorot_uniform')\n",
        "\n",
        "  def call(self, x, hidden):\n",
        "    x = self.embedding(x)\n",
        "    output, state = self.gru(x, initial_state = hidden)\n",
        "    return output, state\n",
        "\n",
        "  def initialize_hidden_state(self):\n",
        "    return tf.zeros((self.batch_sz, self.enc_units))"
      ],
      "metadata": {
        "id": "zJBNQKLG3PVk"
      },
      "execution_count": null,
      "outputs": []
    },
    {
      "cell_type": "code",
      "source": [
        "encoder = Encoder(vocab_inp_size, embedding_dim, units, BATCH_SIZE)"
      ],
      "metadata": {
        "id": "SwA8RX6Z3UOE"
      },
      "execution_count": null,
      "outputs": []
    },
    {
      "cell_type": "markdown",
      "source": [
        "Класс для слоя Внимания"
      ],
      "metadata": {
        "id": "yKIEQd8fQZIl"
      }
    },
    {
      "cell_type": "code",
      "source": [
        "class BahdanauAttention(tf.keras.layers.Layer):\n",
        "  def __init__(self, units):\n",
        "    super(BahdanauAttention, self).__init__()\n",
        "    self.W1 = tf.keras.layers.Dense(units)\n",
        "    self.W2 = tf.keras.layers.Dense(units)\n",
        "    self.V = tf.keras.layers.Dense(1)\n",
        "\n",
        "  def call(self, query, values):\n",
        "    # query hidden state shape == (batch_size, hidden size)\n",
        "    # query_with_time_axis shape == (batch_size, 1, hidden size)\n",
        "    # values shape == (batch_size, max_len, hidden size)\n",
        "    # we are doing this to broadcast addition along the time axis to calculate the score\n",
        "    query_with_time_axis = tf.expand_dims(query, 1)\n",
        "\n",
        "    # score shape == (batch_size, max_length, 1)\n",
        "    # we get 1 at the last axis because we are applying score to self.V\n",
        "    # the shape of the tensor before applying self.V is (batch_size, max_length, units)\n",
        "    score = self.V(tf.nn.tanh(\n",
        "        self.W1(query_with_time_axis) + self.W2(values)))\n",
        "\n",
        "    # attention_weights shape == (batch_size, max_length, 1)\n",
        "    attention_weights = tf.nn.softmax(score, axis=1)\n",
        "\n",
        "    # context_vector shape after sum == (batch_size, hidden_size)\n",
        "    context_vector = attention_weights * values\n",
        "    context_vector = tf.reduce_sum(context_vector, axis=1)\n",
        "\n",
        "    return context_vector, attention_weights"
      ],
      "metadata": {
        "id": "2Ijtoyzi1OnN"
      },
      "execution_count": null,
      "outputs": []
    },
    {
      "cell_type": "code",
      "source": [
        "attention_layer = BahdanauAttention(10)"
      ],
      "metadata": {
        "id": "i07XoPgt1Tje"
      },
      "execution_count": null,
      "outputs": []
    },
    {
      "cell_type": "markdown",
      "source": [
        "В декодере добавился слой внимания"
      ],
      "metadata": {
        "id": "XfBGQsaIQcUO"
      }
    },
    {
      "cell_type": "code",
      "source": [
        "class Decoder(tf.keras.Model):\n",
        "  def __init__(self, vocab_size, embedding_dim, dec_units, batch_sz):\n",
        "    super(Decoder, self).__init__()\n",
        "    self.batch_sz = batch_sz\n",
        "    self.dec_units = dec_units\n",
        "    self.embedding = tf.keras.layers.Embedding(vocab_size, embedding_dim)\n",
        "    self.gru = tf.keras.layers.GRU(self.dec_units,\n",
        "                                   return_sequences=True,\n",
        "                                   return_state=True,\n",
        "                                   recurrent_initializer='glorot_uniform')\n",
        "    self.fc = tf.keras.layers.Dense(vocab_size)\n",
        "\n",
        "    # used for attention\n",
        "    self.attention = BahdanauAttention(self.dec_units)\n",
        "\n",
        "  def call(self, x, hidden, enc_output):\n",
        "    # enc_output shape == (batch_size, max_length, hidden_size)\n",
        "    context_vector, attention_weights = self.attention(hidden, enc_output)\n",
        "\n",
        "    # x shape after passing through embedding == (batch_size, 1, embedding_dim)\n",
        "    x = self.embedding(x)\n",
        "\n",
        "    # x shape after concatenation == (batch_size, 1, embedding_dim + hidden_size)\n",
        "    x = tf.concat([tf.expand_dims(context_vector, 1), x], axis=-1)\n",
        "\n",
        "    # passing the concatenated vector to the GRU\n",
        "    output, state = self.gru(x)\n",
        "\n",
        "    # output shape == (batch_size * 1, hidden_size)\n",
        "    output = tf.reshape(output, (-1, output.shape[2]))\n",
        "\n",
        "    # output shape == (batch_size, vocab)\n",
        "    x = self.fc(output)\n",
        "\n",
        "    return x, state, attention_weights"
      ],
      "metadata": {
        "id": "EJQ_jZaG1V7O"
      },
      "execution_count": null,
      "outputs": []
    },
    {
      "cell_type": "code",
      "source": [
        "decoder = Decoder(vocab_tar_size, embedding_dim, units, BATCH_SIZE)"
      ],
      "metadata": {
        "id": "_4tCl8z91mIm"
      },
      "execution_count": null,
      "outputs": []
    },
    {
      "cell_type": "code",
      "source": [
        "optimizer = tf.keras.optimizers.Adam()\n",
        "loss_object = tf.keras.losses.SparseCategoricalCrossentropy(\n",
        "    from_logits=True, reduction='none')\n",
        "\n",
        "def loss_function(real, pred):\n",
        "  mask = tf.math.logical_not(tf.math.equal(real, 0))\n",
        "  loss_ = loss_object(real, pred)\n",
        "\n",
        "  mask = tf.cast(mask, dtype=loss_.dtype)\n",
        "  loss_ *= mask\n",
        "\n",
        "  return tf.reduce_mean(loss_)"
      ],
      "metadata": {
        "id": "9LoaC0d43u8B"
      },
      "execution_count": null,
      "outputs": []
    },
    {
      "cell_type": "code",
      "source": [
        "checkpoint_dir = './training_attention_checkpoints_2'\n",
        "checkpoint_prefix = os.path.join(checkpoint_dir, \"ckpt\")\n",
        "checkpoint = tf.train.Checkpoint(optimizer=optimizer,\n",
        "                                 encoder=encoder,\n",
        "                                 decoder=decoder)"
      ],
      "metadata": {
        "id": "eBEywJTK1qmZ"
      },
      "execution_count": null,
      "outputs": []
    },
    {
      "cell_type": "markdown",
      "source": [
        "Функция обучения"
      ],
      "metadata": {
        "id": "2ZhykHhUQhyo"
      }
    },
    {
      "cell_type": "code",
      "source": [
        "@tf.function\n",
        "def train_step(inp, targ, enc_hidden):\n",
        "  loss = 0\n",
        "\n",
        "  with tf.GradientTape() as tape:\n",
        "    enc_output, enc_hidden = encoder(inp, enc_hidden)\n",
        "\n",
        "    dec_hidden = enc_hidden\n",
        "\n",
        "    dec_input = tf.expand_dims([targ_lang.word_index['<start>']] * BATCH_SIZE, 1)\n",
        "\n",
        "    # Teacher forcing - feeding the target as the next input\n",
        "    for t in range(1, targ.shape[1]):\n",
        "      # passing enc_output to the decoder\n",
        "      predictions, dec_hidden, _ = decoder(dec_input, dec_hidden, enc_output)\n",
        "\n",
        "      loss += loss_function(targ[:, t], predictions)\n",
        "\n",
        "      # using teacher forcing\n",
        "      dec_input = tf.expand_dims(targ[:, t], 1)\n",
        "\n",
        "  batch_loss = (loss / int(targ.shape[1]))\n",
        "\n",
        "  variables = encoder.trainable_variables + decoder.trainable_variables\n",
        "\n",
        "  gradients = tape.gradient(loss, variables)\n",
        "\n",
        "  optimizer.apply_gradients(zip(gradients, variables))\n",
        "\n",
        "  return batch_loss"
      ],
      "metadata": {
        "id": "vXedOf9b3yt9"
      },
      "execution_count": null,
      "outputs": []
    },
    {
      "cell_type": "code",
      "source": [
        "EPOCHS = 50\n",
        "\n",
        "for epoch in range(EPOCHS):\n",
        "  start = time.time()\n",
        "\n",
        "  enc_hidden = encoder.initialize_hidden_state()\n",
        "  total_loss = 0\n",
        "\n",
        "  for (batch, (inp, targ)) in enumerate(dataset.take(steps_per_epoch)):\n",
        "    batch_loss = train_step(inp, targ, enc_hidden)\n",
        "    total_loss += batch_loss\n",
        "\n",
        "    if batch % 100 == 0:\n",
        "      print('Epoch {} Batch {} Loss {:.4f}'.format(epoch + 1,\n",
        "                                                   batch,\n",
        "                                                   batch_loss.numpy()))\n",
        "  # saving (checkpoint) the model every 2 epochs\n",
        "  if (epoch + 1) % 2 == 0:\n",
        "    checkpoint.save(file_prefix = checkpoint_prefix)\n",
        "\n",
        "  print('Epoch {} Loss {:.4f}'.format(epoch + 1,\n",
        "                                      total_loss / steps_per_epoch))\n",
        "  print('Time taken for 1 epoch {} sec\\n'.format(time.time() - start))"
      ],
      "metadata": {
        "colab": {
          "base_uri": "https://localhost:8080/"
        },
        "id": "aZwSZBTk1ylF",
        "outputId": "95bc2642-e942-4e6d-ed35-73c88a998ad4"
      },
      "execution_count": null,
      "outputs": [
        {
          "output_type": "stream",
          "name": "stdout",
          "text": [
            "Epoch 1 Batch 0 Loss 4.7032\n",
            "Epoch 1 Batch 100 Loss 2.2169\n",
            "Epoch 1 Batch 200 Loss 1.8190\n",
            "Epoch 1 Batch 300 Loss 1.6080\n",
            "Epoch 1 Batch 400 Loss 1.5772\n",
            "Epoch 1 Batch 500 Loss 1.4872\n",
            "Epoch 1 Batch 600 Loss 1.3143\n",
            "Epoch 1 Batch 700 Loss 1.3198\n",
            "Epoch 1 Batch 800 Loss 1.2200\n",
            "Epoch 1 Batch 900 Loss 1.1137\n",
            "Epoch 1 Batch 1000 Loss 1.0883\n",
            "Epoch 1 Batch 1100 Loss 1.1568\n",
            "Epoch 1 Batch 1200 Loss 0.9867\n",
            "Epoch 1 Loss 1.4447\n",
            "Time taken for 1 epoch 112.38990616798401 sec\n",
            "\n",
            "Epoch 2 Batch 0 Loss 0.7876\n",
            "Epoch 2 Batch 100 Loss 0.8407\n",
            "Epoch 2 Batch 200 Loss 0.7857\n",
            "Epoch 2 Batch 300 Loss 0.7887\n",
            "Epoch 2 Batch 400 Loss 0.6930\n",
            "Epoch 2 Batch 500 Loss 0.6160\n",
            "Epoch 2 Batch 600 Loss 0.5875\n",
            "Epoch 2 Batch 700 Loss 0.6106\n",
            "Epoch 2 Batch 800 Loss 0.5215\n",
            "Epoch 2 Batch 900 Loss 0.5680\n",
            "Epoch 2 Batch 1000 Loss 0.5844\n",
            "Epoch 2 Batch 1100 Loss 0.4897\n",
            "Epoch 2 Batch 1200 Loss 0.5902\n",
            "Epoch 2 Loss 0.6685\n",
            "Time taken for 1 epoch 102.18650555610657 sec\n",
            "\n",
            "Epoch 3 Batch 0 Loss 0.3309\n",
            "Epoch 3 Batch 100 Loss 0.3005\n",
            "Epoch 3 Batch 200 Loss 0.4514\n",
            "Epoch 3 Batch 300 Loss 0.3362\n",
            "Epoch 3 Batch 400 Loss 0.4587\n",
            "Epoch 3 Batch 500 Loss 0.4203\n",
            "Epoch 3 Batch 600 Loss 0.3291\n",
            "Epoch 3 Batch 700 Loss 0.3067\n",
            "Epoch 3 Batch 800 Loss 0.4115\n",
            "Epoch 3 Batch 900 Loss 0.3611\n",
            "Epoch 3 Batch 1000 Loss 0.3504\n",
            "Epoch 3 Batch 1100 Loss 0.3536\n",
            "Epoch 3 Batch 1200 Loss 0.2902\n",
            "Epoch 3 Loss 0.3497\n",
            "Time taken for 1 epoch 101.09887170791626 sec\n",
            "\n",
            "Epoch 4 Batch 0 Loss 0.1508\n",
            "Epoch 4 Batch 100 Loss 0.1491\n",
            "Epoch 4 Batch 200 Loss 0.1958\n",
            "Epoch 4 Batch 300 Loss 0.2343\n",
            "Epoch 4 Batch 400 Loss 0.2134\n",
            "Epoch 4 Batch 500 Loss 0.2824\n",
            "Epoch 4 Batch 600 Loss 0.1994\n",
            "Epoch 4 Batch 700 Loss 0.2347\n",
            "Epoch 4 Batch 800 Loss 0.2176\n",
            "Epoch 4 Batch 900 Loss 0.2124\n",
            "Epoch 4 Batch 1000 Loss 0.2403\n",
            "Epoch 4 Batch 1100 Loss 0.2513\n",
            "Epoch 4 Batch 1200 Loss 0.2750\n",
            "Epoch 4 Loss 0.2107\n",
            "Time taken for 1 epoch 101.96037697792053 sec\n",
            "\n",
            "Epoch 5 Batch 0 Loss 0.1358\n",
            "Epoch 5 Batch 100 Loss 0.1259\n",
            "Epoch 5 Batch 200 Loss 0.1131\n",
            "Epoch 5 Batch 300 Loss 0.1361\n",
            "Epoch 5 Batch 400 Loss 0.1263\n",
            "Epoch 5 Batch 500 Loss 0.1433\n",
            "Epoch 5 Batch 600 Loss 0.1648\n",
            "Epoch 5 Batch 700 Loss 0.1544\n",
            "Epoch 5 Batch 800 Loss 0.1861\n",
            "Epoch 5 Batch 900 Loss 0.1195\n",
            "Epoch 5 Batch 1000 Loss 0.1574\n",
            "Epoch 5 Batch 1100 Loss 0.1838\n",
            "Epoch 5 Batch 1200 Loss 0.0959\n",
            "Epoch 5 Loss 0.1456\n",
            "Time taken for 1 epoch 101.00481510162354 sec\n",
            "\n",
            "Epoch 6 Batch 0 Loss 0.0762\n",
            "Epoch 6 Batch 100 Loss 0.0849\n",
            "Epoch 6 Batch 200 Loss 0.0770\n",
            "Epoch 6 Batch 300 Loss 0.0986\n",
            "Epoch 6 Batch 400 Loss 0.1044\n",
            "Epoch 6 Batch 500 Loss 0.1133\n",
            "Epoch 6 Batch 600 Loss 0.1121\n",
            "Epoch 6 Batch 700 Loss 0.1312\n",
            "Epoch 6 Batch 800 Loss 0.1193\n",
            "Epoch 6 Batch 900 Loss 0.1401\n",
            "Epoch 6 Batch 1000 Loss 0.1476\n",
            "Epoch 6 Batch 1100 Loss 0.1495\n",
            "Epoch 6 Batch 1200 Loss 0.1651\n",
            "Epoch 6 Loss 0.1138\n",
            "Time taken for 1 epoch 101.97836875915527 sec\n",
            "\n",
            "Epoch 7 Batch 0 Loss 0.0907\n",
            "Epoch 7 Batch 100 Loss 0.0913\n",
            "Epoch 7 Batch 200 Loss 0.0900\n",
            "Epoch 7 Batch 300 Loss 0.0960\n",
            "Epoch 7 Batch 400 Loss 0.0598\n",
            "Epoch 7 Batch 500 Loss 0.0637\n",
            "Epoch 7 Batch 600 Loss 0.0719\n",
            "Epoch 7 Batch 700 Loss 0.0722\n",
            "Epoch 7 Batch 800 Loss 0.1194\n",
            "Epoch 7 Batch 900 Loss 0.1109\n",
            "Epoch 7 Batch 1000 Loss 0.1090\n",
            "Epoch 7 Batch 1100 Loss 0.1010\n",
            "Epoch 7 Batch 1200 Loss 0.0893\n",
            "Epoch 7 Loss 0.0970\n",
            "Time taken for 1 epoch 101.12376236915588 sec\n",
            "\n",
            "Epoch 8 Batch 0 Loss 0.0724\n",
            "Epoch 8 Batch 100 Loss 0.0491\n",
            "Epoch 8 Batch 200 Loss 0.1056\n",
            "Epoch 8 Batch 300 Loss 0.0654\n",
            "Epoch 8 Batch 400 Loss 0.1045\n",
            "Epoch 8 Batch 500 Loss 0.1279\n",
            "Epoch 8 Batch 600 Loss 0.0599\n",
            "Epoch 8 Batch 700 Loss 0.1344\n",
            "Epoch 8 Batch 800 Loss 0.0874\n",
            "Epoch 8 Batch 900 Loss 0.1075\n",
            "Epoch 8 Batch 1000 Loss 0.0818\n",
            "Epoch 8 Batch 1100 Loss 0.1004\n",
            "Epoch 8 Batch 1200 Loss 0.0782\n",
            "Epoch 8 Loss 0.0875\n",
            "Time taken for 1 epoch 101.71857166290283 sec\n",
            "\n",
            "Epoch 9 Batch 0 Loss 0.0675\n",
            "Epoch 9 Batch 100 Loss 0.0491\n",
            "Epoch 9 Batch 200 Loss 0.0502\n",
            "Epoch 9 Batch 300 Loss 0.1068\n",
            "Epoch 9 Batch 400 Loss 0.0799\n",
            "Epoch 9 Batch 500 Loss 0.0956\n",
            "Epoch 9 Batch 600 Loss 0.0625\n",
            "Epoch 9 Batch 700 Loss 0.0905\n",
            "Epoch 9 Batch 800 Loss 0.0495\n",
            "Epoch 9 Batch 900 Loss 0.1248\n",
            "Epoch 9 Batch 1000 Loss 0.0937\n",
            "Epoch 9 Batch 1100 Loss 0.0836\n",
            "Epoch 9 Batch 1200 Loss 0.0957\n",
            "Epoch 9 Loss 0.0809\n",
            "Time taken for 1 epoch 101.21413040161133 sec\n",
            "\n",
            "Epoch 10 Batch 0 Loss 0.0572\n",
            "Epoch 10 Batch 100 Loss 0.0420\n",
            "Epoch 10 Batch 200 Loss 0.0540\n",
            "Epoch 10 Batch 300 Loss 0.0510\n",
            "Epoch 10 Batch 400 Loss 0.1017\n",
            "Epoch 10 Batch 500 Loss 0.0359\n",
            "Epoch 10 Batch 600 Loss 0.0830\n",
            "Epoch 10 Batch 700 Loss 0.0911\n",
            "Epoch 10 Batch 800 Loss 0.0984\n",
            "Epoch 10 Batch 900 Loss 0.1096\n",
            "Epoch 10 Batch 1000 Loss 0.1067\n",
            "Epoch 10 Batch 1100 Loss 0.0686\n",
            "Epoch 10 Batch 1200 Loss 0.1007\n",
            "Epoch 10 Loss 0.0758\n",
            "Time taken for 1 epoch 101.81561636924744 sec\n",
            "\n",
            "Epoch 11 Batch 0 Loss 0.0368\n",
            "Epoch 11 Batch 100 Loss 0.0598\n",
            "Epoch 11 Batch 200 Loss 0.0821\n",
            "Epoch 11 Batch 300 Loss 0.0418\n",
            "Epoch 11 Batch 400 Loss 0.0503\n",
            "Epoch 11 Batch 500 Loss 0.0660\n",
            "Epoch 11 Batch 600 Loss 0.0505\n",
            "Epoch 11 Batch 700 Loss 0.0707\n",
            "Epoch 11 Batch 800 Loss 0.0618\n",
            "Epoch 11 Batch 900 Loss 0.0853\n",
            "Epoch 11 Batch 1000 Loss 0.0682\n",
            "Epoch 11 Batch 1100 Loss 0.0397\n",
            "Epoch 11 Batch 1200 Loss 0.0808\n",
            "Epoch 11 Loss 0.0721\n",
            "Time taken for 1 epoch 101.21422529220581 sec\n",
            "\n",
            "Epoch 12 Batch 0 Loss 0.0219\n",
            "Epoch 12 Batch 100 Loss 0.0611\n",
            "Epoch 12 Batch 200 Loss 0.0572\n",
            "Epoch 12 Batch 300 Loss 0.0775\n",
            "Epoch 12 Batch 400 Loss 0.0764\n",
            "Epoch 12 Batch 500 Loss 0.0751\n",
            "Epoch 12 Batch 600 Loss 0.0643\n",
            "Epoch 12 Batch 700 Loss 0.0676\n",
            "Epoch 12 Batch 800 Loss 0.0418\n",
            "Epoch 12 Batch 900 Loss 0.0988\n",
            "Epoch 12 Batch 1000 Loss 0.0729\n",
            "Epoch 12 Batch 1100 Loss 0.0869\n",
            "Epoch 12 Batch 1200 Loss 0.1007\n",
            "Epoch 12 Loss 0.0699\n",
            "Time taken for 1 epoch 101.77850103378296 sec\n",
            "\n",
            "Epoch 13 Batch 0 Loss 0.0497\n",
            "Epoch 13 Batch 100 Loss 0.0797\n",
            "Epoch 13 Batch 200 Loss 0.0347\n",
            "Epoch 13 Batch 300 Loss 0.0571\n",
            "Epoch 13 Batch 400 Loss 0.0373\n",
            "Epoch 13 Batch 500 Loss 0.0352\n",
            "Epoch 13 Batch 600 Loss 0.0593\n",
            "Epoch 13 Batch 700 Loss 0.0988\n",
            "Epoch 13 Batch 800 Loss 0.0613\n",
            "Epoch 13 Batch 900 Loss 0.0383\n",
            "Epoch 13 Batch 1000 Loss 0.1244\n",
            "Epoch 13 Batch 1100 Loss 0.0596\n",
            "Epoch 13 Batch 1200 Loss 0.0580\n",
            "Epoch 13 Loss 0.0663\n",
            "Time taken for 1 epoch 101.01082062721252 sec\n",
            "\n",
            "Epoch 14 Batch 0 Loss 0.0483\n",
            "Epoch 14 Batch 100 Loss 0.0472\n",
            "Epoch 14 Batch 200 Loss 0.0481\n",
            "Epoch 14 Batch 300 Loss 0.0414\n",
            "Epoch 14 Batch 400 Loss 0.0479\n",
            "Epoch 14 Batch 500 Loss 0.0896\n",
            "Epoch 14 Batch 600 Loss 0.0550\n",
            "Epoch 14 Batch 700 Loss 0.0789\n",
            "Epoch 14 Batch 800 Loss 0.0491\n",
            "Epoch 14 Batch 900 Loss 0.0911\n",
            "Epoch 14 Batch 1000 Loss 0.0709\n",
            "Epoch 14 Batch 1100 Loss 0.0660\n",
            "Epoch 14 Batch 1200 Loss 0.0877\n",
            "Epoch 14 Loss 0.0650\n",
            "Time taken for 1 epoch 102.00321841239929 sec\n",
            "\n",
            "Epoch 15 Batch 0 Loss 0.0653\n",
            "Epoch 15 Batch 100 Loss 0.0488\n",
            "Epoch 15 Batch 200 Loss 0.0400\n",
            "Epoch 15 Batch 300 Loss 0.0552\n",
            "Epoch 15 Batch 400 Loss 0.0778\n",
            "Epoch 15 Batch 500 Loss 0.0754\n",
            "Epoch 15 Batch 600 Loss 0.0525\n",
            "Epoch 15 Batch 700 Loss 0.0972\n",
            "Epoch 15 Batch 800 Loss 0.0530\n",
            "Epoch 15 Batch 900 Loss 0.0594\n",
            "Epoch 15 Batch 1000 Loss 0.0828\n",
            "Epoch 15 Batch 1100 Loss 0.0666\n",
            "Epoch 15 Batch 1200 Loss 0.0670\n",
            "Epoch 15 Loss 0.0618\n",
            "Time taken for 1 epoch 101.07208371162415 sec\n",
            "\n",
            "Epoch 16 Batch 0 Loss 0.0415\n",
            "Epoch 16 Batch 100 Loss 0.0339\n",
            "Epoch 16 Batch 200 Loss 0.0330\n",
            "Epoch 16 Batch 300 Loss 0.0767\n",
            "Epoch 16 Batch 400 Loss 0.0400\n",
            "Epoch 16 Batch 500 Loss 0.1230\n",
            "Epoch 16 Batch 600 Loss 0.0599\n",
            "Epoch 16 Batch 700 Loss 0.0510\n",
            "Epoch 16 Batch 800 Loss 0.0547\n",
            "Epoch 16 Batch 900 Loss 0.0418\n",
            "Epoch 16 Batch 1000 Loss 0.0804\n",
            "Epoch 16 Batch 1100 Loss 0.0795\n",
            "Epoch 16 Batch 1200 Loss 0.0936\n",
            "Epoch 16 Loss 0.0605\n",
            "Time taken for 1 epoch 101.98905801773071 sec\n",
            "\n",
            "Epoch 17 Batch 0 Loss 0.0476\n",
            "Epoch 17 Batch 100 Loss 0.0317\n",
            "Epoch 17 Batch 200 Loss 0.0261\n",
            "Epoch 17 Batch 300 Loss 0.0778\n",
            "Epoch 17 Batch 400 Loss 0.0475\n",
            "Epoch 17 Batch 500 Loss 0.0318\n",
            "Epoch 17 Batch 600 Loss 0.0527\n",
            "Epoch 17 Batch 700 Loss 0.0335\n",
            "Epoch 17 Batch 800 Loss 0.0715\n",
            "Epoch 17 Batch 900 Loss 0.0309\n",
            "Epoch 17 Batch 1000 Loss 0.0666\n",
            "Epoch 17 Batch 1100 Loss 0.0818\n",
            "Epoch 17 Batch 1200 Loss 0.0666\n",
            "Epoch 17 Loss 0.0604\n",
            "Time taken for 1 epoch 101.05524325370789 sec\n",
            "\n",
            "Epoch 18 Batch 0 Loss 0.0542\n",
            "Epoch 18 Batch 100 Loss 0.0686\n",
            "Epoch 18 Batch 200 Loss 0.0248\n",
            "Epoch 18 Batch 300 Loss 0.0400\n",
            "Epoch 18 Batch 400 Loss 0.0434\n",
            "Epoch 18 Batch 500 Loss 0.0346\n",
            "Epoch 18 Batch 600 Loss 0.0541\n",
            "Epoch 18 Batch 700 Loss 0.0527\n",
            "Epoch 18 Batch 800 Loss 0.0508\n",
            "Epoch 18 Batch 900 Loss 0.0653\n",
            "Epoch 18 Batch 1000 Loss 0.0518\n",
            "Epoch 18 Batch 1100 Loss 0.0678\n",
            "Epoch 18 Batch 1200 Loss 0.0817\n",
            "Epoch 18 Loss 0.0576\n",
            "Time taken for 1 epoch 101.95798945426941 sec\n",
            "\n",
            "Epoch 19 Batch 0 Loss 0.0536\n",
            "Epoch 19 Batch 100 Loss 0.0519\n",
            "Epoch 19 Batch 200 Loss 0.0484\n",
            "Epoch 19 Batch 300 Loss 0.0654\n",
            "Epoch 19 Batch 400 Loss 0.0346\n",
            "Epoch 19 Batch 500 Loss 0.0349\n",
            "Epoch 19 Batch 600 Loss 0.0876\n",
            "Epoch 19 Batch 700 Loss 0.0739\n",
            "Epoch 19 Batch 800 Loss 0.0514\n",
            "Epoch 19 Batch 900 Loss 0.0731\n",
            "Epoch 19 Batch 1000 Loss 0.0760\n",
            "Epoch 19 Batch 1100 Loss 0.0626\n",
            "Epoch 19 Batch 1200 Loss 0.1105\n",
            "Epoch 19 Loss 0.0564\n",
            "Time taken for 1 epoch 100.82582473754883 sec\n",
            "\n",
            "Epoch 20 Batch 0 Loss 0.0424\n",
            "Epoch 20 Batch 100 Loss 0.0661\n",
            "Epoch 20 Batch 200 Loss 0.0365\n",
            "Epoch 20 Batch 300 Loss 0.0555\n",
            "Epoch 20 Batch 400 Loss 0.0117\n",
            "Epoch 20 Batch 500 Loss 0.0521\n",
            "Epoch 20 Batch 600 Loss 0.0638\n",
            "Epoch 20 Batch 700 Loss 0.0600\n",
            "Epoch 20 Batch 800 Loss 0.0854\n",
            "Epoch 20 Batch 900 Loss 0.0431\n",
            "Epoch 20 Batch 1000 Loss 0.0260\n",
            "Epoch 20 Batch 1100 Loss 0.0667\n",
            "Epoch 20 Batch 1200 Loss 0.0489\n",
            "Epoch 20 Loss 0.0550\n",
            "Time taken for 1 epoch 101.79797959327698 sec\n",
            "\n",
            "Epoch 21 Batch 0 Loss 0.0415\n",
            "Epoch 21 Batch 100 Loss 0.0301\n",
            "Epoch 21 Batch 200 Loss 0.0776\n",
            "Epoch 21 Batch 300 Loss 0.0685\n",
            "Epoch 21 Batch 400 Loss 0.0363\n",
            "Epoch 21 Batch 500 Loss 0.0702\n",
            "Epoch 21 Batch 600 Loss 0.0505\n",
            "Epoch 21 Batch 700 Loss 0.0417\n",
            "Epoch 21 Batch 800 Loss 0.0706\n",
            "Epoch 21 Batch 900 Loss 0.0712\n",
            "Epoch 21 Batch 1000 Loss 0.0607\n",
            "Epoch 21 Batch 1100 Loss 0.0449\n",
            "Epoch 21 Batch 1200 Loss 0.0565\n",
            "Epoch 21 Loss 0.0542\n",
            "Time taken for 1 epoch 100.94348120689392 sec\n",
            "\n",
            "Epoch 22 Batch 0 Loss 0.0398\n",
            "Epoch 22 Batch 100 Loss 0.0485\n",
            "Epoch 22 Batch 200 Loss 0.0213\n",
            "Epoch 22 Batch 300 Loss 0.0543\n",
            "Epoch 22 Batch 400 Loss 0.0378\n",
            "Epoch 22 Batch 500 Loss 0.0644\n",
            "Epoch 22 Batch 600 Loss 0.0475\n",
            "Epoch 22 Batch 700 Loss 0.0726\n",
            "Epoch 22 Batch 800 Loss 0.0747\n",
            "Epoch 22 Batch 900 Loss 0.0645\n",
            "Epoch 22 Batch 1000 Loss 0.0708\n",
            "Epoch 22 Batch 1100 Loss 0.0827\n",
            "Epoch 22 Batch 1200 Loss 0.0800\n",
            "Epoch 22 Loss 0.0528\n",
            "Time taken for 1 epoch 101.82150363922119 sec\n",
            "\n",
            "Epoch 23 Batch 0 Loss 0.0380\n",
            "Epoch 23 Batch 100 Loss 0.0233\n",
            "Epoch 23 Batch 200 Loss 0.0314\n",
            "Epoch 23 Batch 300 Loss 0.0331\n",
            "Epoch 23 Batch 400 Loss 0.0476\n",
            "Epoch 23 Batch 500 Loss 0.0550\n",
            "Epoch 23 Batch 600 Loss 0.0429\n",
            "Epoch 23 Batch 700 Loss 0.0328\n",
            "Epoch 23 Batch 800 Loss 0.0453\n",
            "Epoch 23 Batch 900 Loss 0.0917\n",
            "Epoch 23 Batch 1000 Loss 0.0523\n",
            "Epoch 23 Batch 1100 Loss 0.0452\n",
            "Epoch 23 Batch 1200 Loss 0.0509\n",
            "Epoch 23 Loss 0.0516\n",
            "Time taken for 1 epoch 100.86161637306213 sec\n",
            "\n",
            "Epoch 24 Batch 0 Loss 0.0389\n",
            "Epoch 24 Batch 100 Loss 0.0319\n",
            "Epoch 24 Batch 200 Loss 0.0311\n",
            "Epoch 24 Batch 300 Loss 0.0512\n",
            "Epoch 24 Batch 400 Loss 0.0414\n",
            "Epoch 24 Batch 500 Loss 0.0716\n",
            "Epoch 24 Batch 600 Loss 0.0550\n",
            "Epoch 24 Batch 700 Loss 0.0676\n",
            "Epoch 24 Batch 800 Loss 0.0388\n",
            "Epoch 24 Batch 900 Loss 0.0510\n",
            "Epoch 24 Batch 1000 Loss 0.0355\n",
            "Epoch 24 Batch 1100 Loss 0.0546\n",
            "Epoch 24 Batch 1200 Loss 0.0779\n",
            "Epoch 24 Loss 0.0512\n",
            "Time taken for 1 epoch 101.76840329170227 sec\n",
            "\n",
            "Epoch 25 Batch 0 Loss 0.0481\n",
            "Epoch 25 Batch 100 Loss 0.0412\n",
            "Epoch 25 Batch 200 Loss 0.0275\n",
            "Epoch 25 Batch 300 Loss 0.0334\n",
            "Epoch 25 Batch 400 Loss 0.0506\n",
            "Epoch 25 Batch 500 Loss 0.0752\n",
            "Epoch 25 Batch 600 Loss 0.0417\n",
            "Epoch 25 Batch 700 Loss 0.0827\n",
            "Epoch 25 Batch 800 Loss 0.0406\n",
            "Epoch 25 Batch 900 Loss 0.0753\n",
            "Epoch 25 Batch 1000 Loss 0.0688\n",
            "Epoch 25 Batch 1100 Loss 0.0483\n",
            "Epoch 25 Batch 1200 Loss 0.0713\n",
            "Epoch 25 Loss 0.0503\n",
            "Time taken for 1 epoch 101.03700399398804 sec\n",
            "\n",
            "Epoch 26 Batch 0 Loss 0.0418\n",
            "Epoch 26 Batch 100 Loss 0.0281\n",
            "Epoch 26 Batch 200 Loss 0.0495\n",
            "Epoch 26 Batch 300 Loss 0.0926\n",
            "Epoch 26 Batch 400 Loss 0.0440\n",
            "Epoch 26 Batch 500 Loss 0.0471\n",
            "Epoch 26 Batch 600 Loss 0.0463\n",
            "Epoch 26 Batch 700 Loss 0.0268\n",
            "Epoch 26 Batch 800 Loss 0.0553\n",
            "Epoch 26 Batch 900 Loss 0.0604\n",
            "Epoch 26 Batch 1000 Loss 0.0435\n",
            "Epoch 26 Batch 1100 Loss 0.0670\n",
            "Epoch 26 Batch 1200 Loss 0.0534\n",
            "Epoch 26 Loss 0.0494\n",
            "Time taken for 1 epoch 101.98393654823303 sec\n",
            "\n",
            "Epoch 27 Batch 0 Loss 0.0608\n",
            "Epoch 27 Batch 100 Loss 0.0464\n",
            "Epoch 27 Batch 200 Loss 0.0438\n",
            "Epoch 27 Batch 300 Loss 0.0476\n",
            "Epoch 27 Batch 400 Loss 0.0600\n",
            "Epoch 27 Batch 500 Loss 0.0283\n",
            "Epoch 27 Batch 600 Loss 0.0571\n",
            "Epoch 27 Batch 700 Loss 0.0802\n",
            "Epoch 27 Batch 800 Loss 0.0654\n",
            "Epoch 27 Batch 900 Loss 0.0408\n",
            "Epoch 27 Batch 1000 Loss 0.0609\n",
            "Epoch 27 Batch 1100 Loss 0.0436\n",
            "Epoch 27 Batch 1200 Loss 0.0545\n",
            "Epoch 27 Loss 0.0495\n",
            "Time taken for 1 epoch 100.89916801452637 sec\n",
            "\n",
            "Epoch 28 Batch 0 Loss 0.0508\n",
            "Epoch 28 Batch 100 Loss 0.0349\n",
            "Epoch 28 Batch 200 Loss 0.0278\n",
            "Epoch 28 Batch 300 Loss 0.0547\n",
            "Epoch 28 Batch 400 Loss 0.0594\n",
            "Epoch 28 Batch 500 Loss 0.0174\n",
            "Epoch 28 Batch 600 Loss 0.0817\n",
            "Epoch 28 Batch 700 Loss 0.0629\n",
            "Epoch 28 Batch 800 Loss 0.0387\n",
            "Epoch 28 Batch 900 Loss 0.0743\n",
            "Epoch 28 Batch 1000 Loss 0.0418\n",
            "Epoch 28 Batch 1100 Loss 0.0677\n",
            "Epoch 28 Batch 1200 Loss 0.0560\n",
            "Epoch 28 Loss 0.0473\n",
            "Time taken for 1 epoch 101.98421549797058 sec\n",
            "\n",
            "Epoch 29 Batch 0 Loss 0.0269\n",
            "Epoch 29 Batch 100 Loss 0.0314\n",
            "Epoch 29 Batch 200 Loss 0.0530\n",
            "Epoch 29 Batch 300 Loss 0.0227\n",
            "Epoch 29 Batch 400 Loss 0.0309\n",
            "Epoch 29 Batch 500 Loss 0.0450\n",
            "Epoch 29 Batch 600 Loss 0.0316\n",
            "Epoch 29 Batch 700 Loss 0.0423\n",
            "Epoch 29 Batch 800 Loss 0.0431\n",
            "Epoch 29 Batch 900 Loss 0.0716\n",
            "Epoch 29 Batch 1000 Loss 0.0490\n",
            "Epoch 29 Batch 1100 Loss 0.0726\n",
            "Epoch 29 Batch 1200 Loss 0.0245\n",
            "Epoch 29 Loss 0.0473\n",
            "Time taken for 1 epoch 101.16446352005005 sec\n",
            "\n",
            "Epoch 30 Batch 0 Loss 0.0541\n",
            "Epoch 30 Batch 100 Loss 0.0268\n",
            "Epoch 30 Batch 200 Loss 0.0202\n",
            "Epoch 30 Batch 300 Loss 0.0487\n",
            "Epoch 30 Batch 400 Loss 0.0235\n",
            "Epoch 30 Batch 500 Loss 0.0561\n",
            "Epoch 30 Batch 600 Loss 0.0370\n",
            "Epoch 30 Batch 700 Loss 0.0608\n",
            "Epoch 30 Batch 800 Loss 0.0535\n",
            "Epoch 30 Batch 900 Loss 0.0920\n",
            "Epoch 30 Batch 1000 Loss 0.0513\n",
            "Epoch 30 Batch 1100 Loss 0.0752\n",
            "Epoch 30 Batch 1200 Loss 0.0297\n",
            "Epoch 30 Loss 0.0470\n",
            "Time taken for 1 epoch 101.77632236480713 sec\n",
            "\n",
            "Epoch 31 Batch 0 Loss 0.0486\n",
            "Epoch 31 Batch 100 Loss 0.0239\n",
            "Epoch 31 Batch 200 Loss 0.0408\n",
            "Epoch 31 Batch 300 Loss 0.0444\n",
            "Epoch 31 Batch 400 Loss 0.0692\n",
            "Epoch 31 Batch 500 Loss 0.0373\n",
            "Epoch 31 Batch 600 Loss 0.0346\n",
            "Epoch 31 Batch 700 Loss 0.0467\n",
            "Epoch 31 Batch 800 Loss 0.0914\n",
            "Epoch 31 Batch 900 Loss 0.0452\n",
            "Epoch 31 Batch 1000 Loss 0.0291\n",
            "Epoch 31 Batch 1100 Loss 0.0533\n",
            "Epoch 31 Batch 1200 Loss 0.0868\n",
            "Epoch 31 Loss 0.0466\n",
            "Time taken for 1 epoch 100.78475785255432 sec\n",
            "\n",
            "Epoch 32 Batch 0 Loss 0.0367\n",
            "Epoch 32 Batch 100 Loss 0.0395\n",
            "Epoch 32 Batch 200 Loss 0.0273\n",
            "Epoch 32 Batch 300 Loss 0.0447\n",
            "Epoch 32 Batch 400 Loss 0.0330\n",
            "Epoch 32 Batch 500 Loss 0.0716\n",
            "Epoch 32 Batch 600 Loss 0.0449\n",
            "Epoch 32 Batch 700 Loss 0.0401\n",
            "Epoch 32 Batch 800 Loss 0.0876\n",
            "Epoch 32 Batch 900 Loss 0.0552\n",
            "Epoch 32 Batch 1000 Loss 0.0388\n",
            "Epoch 32 Batch 1100 Loss 0.0422\n",
            "Epoch 32 Batch 1200 Loss 0.0432\n",
            "Epoch 32 Loss 0.0458\n",
            "Time taken for 1 epoch 101.38555359840393 sec\n",
            "\n",
            "Epoch 33 Batch 0 Loss 0.0363\n",
            "Epoch 33 Batch 100 Loss 0.0393\n",
            "Epoch 33 Batch 200 Loss 0.0287\n",
            "Epoch 33 Batch 300 Loss 0.0460\n",
            "Epoch 33 Batch 400 Loss 0.0466\n",
            "Epoch 33 Batch 500 Loss 0.0628\n",
            "Epoch 33 Batch 600 Loss 0.0403\n",
            "Epoch 33 Batch 700 Loss 0.0630\n",
            "Epoch 33 Batch 800 Loss 0.0481\n",
            "Epoch 33 Batch 900 Loss 0.0315\n",
            "Epoch 33 Batch 1000 Loss 0.0320\n",
            "Epoch 33 Batch 1100 Loss 0.0249\n",
            "Epoch 33 Batch 1200 Loss 0.0669\n",
            "Epoch 33 Loss 0.0445\n",
            "Time taken for 1 epoch 101.00279688835144 sec\n",
            "\n",
            "Epoch 34 Batch 0 Loss 0.0396\n",
            "Epoch 34 Batch 100 Loss 0.0388\n",
            "Epoch 34 Batch 200 Loss 0.0267\n",
            "Epoch 34 Batch 300 Loss 0.0426\n",
            "Epoch 34 Batch 400 Loss 0.0326\n",
            "Epoch 34 Batch 500 Loss 0.0374\n",
            "Epoch 34 Batch 600 Loss 0.0619\n",
            "Epoch 34 Batch 700 Loss 0.0287\n",
            "Epoch 34 Batch 800 Loss 0.0419\n",
            "Epoch 34 Batch 900 Loss 0.0992\n",
            "Epoch 34 Batch 1000 Loss 0.0500\n",
            "Epoch 34 Batch 1100 Loss 0.0544\n",
            "Epoch 34 Batch 1200 Loss 0.0514\n",
            "Epoch 34 Loss 0.0444\n",
            "Time taken for 1 epoch 101.5194399356842 sec\n",
            "\n",
            "Epoch 35 Batch 0 Loss 0.0269\n",
            "Epoch 35 Batch 100 Loss 0.0329\n",
            "Epoch 35 Batch 200 Loss 0.0337\n",
            "Epoch 35 Batch 300 Loss 0.0539\n",
            "Epoch 35 Batch 400 Loss 0.0347\n",
            "Epoch 35 Batch 500 Loss 0.0269\n",
            "Epoch 35 Batch 600 Loss 0.0461\n",
            "Epoch 35 Batch 700 Loss 0.0806\n",
            "Epoch 35 Batch 800 Loss 0.0469\n",
            "Epoch 35 Batch 900 Loss 0.0438\n",
            "Epoch 35 Batch 1000 Loss 0.0911\n",
            "Epoch 35 Batch 1100 Loss 0.0665\n",
            "Epoch 35 Batch 1200 Loss 0.0692\n",
            "Epoch 35 Loss 0.0441\n",
            "Time taken for 1 epoch 101.03807759284973 sec\n",
            "\n",
            "Epoch 36 Batch 0 Loss 0.0559\n",
            "Epoch 36 Batch 100 Loss 0.0373\n",
            "Epoch 36 Batch 200 Loss 0.0312\n",
            "Epoch 36 Batch 300 Loss 0.0277\n",
            "Epoch 36 Batch 400 Loss 0.0410\n",
            "Epoch 36 Batch 500 Loss 0.0465\n",
            "Epoch 36 Batch 600 Loss 0.0480\n",
            "Epoch 36 Batch 700 Loss 0.0364\n",
            "Epoch 36 Batch 800 Loss 0.0310\n",
            "Epoch 36 Batch 900 Loss 0.0526\n",
            "Epoch 36 Batch 1000 Loss 0.0458\n",
            "Epoch 36 Batch 1100 Loss 0.0617\n",
            "Epoch 36 Batch 1200 Loss 0.0230\n",
            "Epoch 36 Loss 0.0441\n",
            "Time taken for 1 epoch 101.7106831073761 sec\n",
            "\n",
            "Epoch 37 Batch 0 Loss 0.0514\n",
            "Epoch 37 Batch 100 Loss 0.0347\n",
            "Epoch 37 Batch 200 Loss 0.0279\n",
            "Epoch 37 Batch 300 Loss 0.0398\n",
            "Epoch 37 Batch 400 Loss 0.0281\n",
            "Epoch 37 Batch 500 Loss 0.0412\n",
            "Epoch 37 Batch 600 Loss 0.0381\n",
            "Epoch 37 Batch 700 Loss 0.0393\n",
            "Epoch 37 Batch 800 Loss 0.0714\n",
            "Epoch 37 Batch 900 Loss 0.0371\n",
            "Epoch 37 Batch 1000 Loss 0.0650\n",
            "Epoch 37 Batch 1100 Loss 0.0409\n",
            "Epoch 37 Batch 1200 Loss 0.0440\n",
            "Epoch 37 Loss 0.0433\n",
            "Time taken for 1 epoch 100.70855665206909 sec\n",
            "\n",
            "Epoch 38 Batch 0 Loss 0.0273\n",
            "Epoch 38 Batch 100 Loss 0.0438\n",
            "Epoch 38 Batch 200 Loss 0.0556\n",
            "Epoch 38 Batch 300 Loss 0.0503\n",
            "Epoch 38 Batch 400 Loss 0.0350\n",
            "Epoch 38 Batch 500 Loss 0.0406\n",
            "Epoch 38 Batch 600 Loss 0.0309\n",
            "Epoch 38 Batch 700 Loss 0.0436\n",
            "Epoch 38 Batch 800 Loss 0.0459\n",
            "Epoch 38 Batch 900 Loss 0.0287\n",
            "Epoch 38 Batch 1000 Loss 0.0622\n",
            "Epoch 38 Batch 1100 Loss 0.0601\n",
            "Epoch 38 Batch 1200 Loss 0.0483\n",
            "Epoch 38 Loss 0.0430\n",
            "Time taken for 1 epoch 101.71573114395142 sec\n",
            "\n",
            "Epoch 39 Batch 0 Loss 0.0486\n",
            "Epoch 39 Batch 100 Loss 0.0443\n",
            "Epoch 39 Batch 200 Loss 0.0249\n",
            "Epoch 39 Batch 300 Loss 0.0236\n",
            "Epoch 39 Batch 400 Loss 0.0457\n",
            "Epoch 39 Batch 500 Loss 0.0286\n",
            "Epoch 39 Batch 600 Loss 0.0375\n",
            "Epoch 39 Batch 700 Loss 0.0343\n",
            "Epoch 39 Batch 800 Loss 0.0323\n",
            "Epoch 39 Batch 900 Loss 0.0460\n",
            "Epoch 39 Batch 1000 Loss 0.0523\n",
            "Epoch 39 Batch 1100 Loss 0.0432\n",
            "Epoch 39 Batch 1200 Loss 0.0603\n",
            "Epoch 39 Loss 0.0426\n",
            "Time taken for 1 epoch 100.79919099807739 sec\n",
            "\n",
            "Epoch 40 Batch 0 Loss 0.0307\n",
            "Epoch 40 Batch 100 Loss 0.0334\n",
            "Epoch 40 Batch 200 Loss 0.0211\n",
            "Epoch 40 Batch 300 Loss 0.0367\n",
            "Epoch 40 Batch 400 Loss 0.0428\n",
            "Epoch 40 Batch 500 Loss 0.0416\n",
            "Epoch 40 Batch 600 Loss 0.0555\n",
            "Epoch 40 Batch 700 Loss 0.0292\n",
            "Epoch 40 Batch 800 Loss 0.0697\n",
            "Epoch 40 Batch 900 Loss 0.0518\n",
            "Epoch 40 Batch 1000 Loss 0.0438\n",
            "Epoch 40 Batch 1100 Loss 0.0444\n",
            "Epoch 40 Batch 1200 Loss 0.0419\n",
            "Epoch 40 Loss 0.0418\n",
            "Time taken for 1 epoch 101.44804072380066 sec\n",
            "\n",
            "Epoch 41 Batch 0 Loss 0.0166\n",
            "Epoch 41 Batch 100 Loss 0.0567\n",
            "Epoch 41 Batch 200 Loss 0.0407\n",
            "Epoch 41 Batch 300 Loss 0.0291\n",
            "Epoch 41 Batch 400 Loss 0.0429\n",
            "Epoch 41 Batch 500 Loss 0.0480\n",
            "Epoch 41 Batch 600 Loss 0.0262\n",
            "Epoch 41 Batch 700 Loss 0.0525\n",
            "Epoch 41 Batch 800 Loss 0.0380\n",
            "Epoch 41 Batch 900 Loss 0.0381\n",
            "Epoch 41 Batch 1000 Loss 0.0676\n",
            "Epoch 41 Batch 1100 Loss 0.0712\n",
            "Epoch 41 Batch 1200 Loss 0.0578\n",
            "Epoch 41 Loss 0.0420\n",
            "Time taken for 1 epoch 100.99736618995667 sec\n",
            "\n",
            "Epoch 42 Batch 0 Loss 0.0402\n",
            "Epoch 42 Batch 100 Loss 0.0491\n",
            "Epoch 42 Batch 200 Loss 0.0458\n",
            "Epoch 42 Batch 300 Loss 0.0433\n",
            "Epoch 42 Batch 400 Loss 0.0315\n",
            "Epoch 42 Batch 500 Loss 0.0451\n",
            "Epoch 42 Batch 600 Loss 0.0274\n",
            "Epoch 42 Batch 700 Loss 0.0335\n",
            "Epoch 42 Batch 800 Loss 0.0241\n",
            "Epoch 42 Batch 900 Loss 0.0425\n",
            "Epoch 42 Batch 1000 Loss 0.0405\n",
            "Epoch 42 Batch 1100 Loss 0.0721\n",
            "Epoch 42 Batch 1200 Loss 0.0447\n",
            "Epoch 42 Loss 0.0411\n",
            "Time taken for 1 epoch 101.52220463752747 sec\n",
            "\n",
            "Epoch 43 Batch 0 Loss 0.0498\n",
            "Epoch 43 Batch 100 Loss 0.0227\n",
            "Epoch 43 Batch 200 Loss 0.0528\n",
            "Epoch 43 Batch 300 Loss 0.0533\n",
            "Epoch 43 Batch 400 Loss 0.0378\n",
            "Epoch 43 Batch 500 Loss 0.0219\n",
            "Epoch 43 Batch 600 Loss 0.0402\n",
            "Epoch 43 Batch 700 Loss 0.0192\n",
            "Epoch 43 Batch 800 Loss 0.0353\n",
            "Epoch 43 Batch 900 Loss 0.0210\n",
            "Epoch 43 Batch 1000 Loss 0.0382\n",
            "Epoch 43 Batch 1100 Loss 0.0413\n",
            "Epoch 43 Batch 1200 Loss 0.0564\n",
            "Epoch 43 Loss 0.0408\n",
            "Time taken for 1 epoch 100.929922580719 sec\n",
            "\n",
            "Epoch 44 Batch 0 Loss 0.0347\n",
            "Epoch 44 Batch 100 Loss 0.0269\n",
            "Epoch 44 Batch 200 Loss 0.0349\n",
            "Epoch 44 Batch 300 Loss 0.0404\n",
            "Epoch 44 Batch 400 Loss 0.0249\n",
            "Epoch 44 Batch 500 Loss 0.0286\n",
            "Epoch 44 Batch 600 Loss 0.0431\n",
            "Epoch 44 Batch 700 Loss 0.0435\n",
            "Epoch 44 Batch 800 Loss 0.0354\n",
            "Epoch 44 Batch 900 Loss 0.0301\n",
            "Epoch 44 Batch 1000 Loss 0.0430\n",
            "Epoch 44 Batch 1100 Loss 0.0447\n",
            "Epoch 44 Batch 1200 Loss 0.0458\n",
            "Epoch 44 Loss 0.0406\n",
            "Time taken for 1 epoch 101.67056488990784 sec\n",
            "\n",
            "Epoch 45 Batch 0 Loss 0.0272\n",
            "Epoch 45 Batch 100 Loss 0.0165\n",
            "Epoch 45 Batch 200 Loss 0.0246\n",
            "Epoch 45 Batch 300 Loss 0.0545\n",
            "Epoch 45 Batch 400 Loss 0.0628\n",
            "Epoch 45 Batch 500 Loss 0.0452\n",
            "Epoch 45 Batch 600 Loss 0.0400\n",
            "Epoch 45 Batch 700 Loss 0.0410\n",
            "Epoch 45 Batch 800 Loss 0.0612\n",
            "Epoch 45 Batch 900 Loss 0.0228\n",
            "Epoch 45 Batch 1000 Loss 0.0425\n",
            "Epoch 45 Batch 1100 Loss 0.0592\n",
            "Epoch 45 Batch 1200 Loss 0.0262\n",
            "Epoch 45 Loss 0.0401\n",
            "Time taken for 1 epoch 100.86142110824585 sec\n",
            "\n",
            "Epoch 46 Batch 0 Loss 0.0365\n",
            "Epoch 46 Batch 100 Loss 0.0386\n",
            "Epoch 46 Batch 200 Loss 0.0340\n",
            "Epoch 46 Batch 300 Loss 0.0417\n",
            "Epoch 46 Batch 400 Loss 0.0389\n",
            "Epoch 46 Batch 500 Loss 0.0497\n",
            "Epoch 46 Batch 600 Loss 0.0433\n",
            "Epoch 46 Batch 700 Loss 0.0217\n",
            "Epoch 46 Batch 800 Loss 0.0535\n",
            "Epoch 46 Batch 900 Loss 0.0404\n",
            "Epoch 46 Batch 1000 Loss 0.0479\n",
            "Epoch 46 Batch 1100 Loss 0.0360\n",
            "Epoch 46 Batch 1200 Loss 0.0666\n",
            "Epoch 46 Loss 0.0408\n",
            "Time taken for 1 epoch 101.56720757484436 sec\n",
            "\n",
            "Epoch 47 Batch 0 Loss 0.0316\n",
            "Epoch 47 Batch 100 Loss 0.0133\n",
            "Epoch 47 Batch 200 Loss 0.0187\n",
            "Epoch 47 Batch 300 Loss 0.0253\n",
            "Epoch 47 Batch 400 Loss 0.0341\n",
            "Epoch 47 Batch 500 Loss 0.0303\n",
            "Epoch 47 Batch 600 Loss 0.0434\n",
            "Epoch 47 Batch 700 Loss 0.0525\n",
            "Epoch 47 Batch 800 Loss 0.0380\n",
            "Epoch 47 Batch 900 Loss 0.0383\n",
            "Epoch 47 Batch 1000 Loss 0.0411\n",
            "Epoch 47 Batch 1100 Loss 0.0330\n",
            "Epoch 47 Batch 1200 Loss 0.0430\n",
            "Epoch 47 Loss 0.0397\n",
            "Time taken for 1 epoch 100.85085582733154 sec\n",
            "\n",
            "Epoch 48 Batch 0 Loss 0.0329\n",
            "Epoch 48 Batch 100 Loss 0.0222\n",
            "Epoch 48 Batch 200 Loss 0.0267\n",
            "Epoch 48 Batch 300 Loss 0.0248\n",
            "Epoch 48 Batch 400 Loss 0.0306\n",
            "Epoch 48 Batch 500 Loss 0.0390\n",
            "Epoch 48 Batch 600 Loss 0.0361\n",
            "Epoch 48 Batch 700 Loss 0.0422\n",
            "Epoch 48 Batch 800 Loss 0.0414\n",
            "Epoch 48 Batch 900 Loss 0.0546\n",
            "Epoch 48 Batch 1000 Loss 0.0399\n",
            "Epoch 48 Batch 1100 Loss 0.0325\n",
            "Epoch 48 Batch 1200 Loss 0.0481\n",
            "Epoch 48 Loss 0.0397\n",
            "Time taken for 1 epoch 101.41632270812988 sec\n",
            "\n",
            "Epoch 49 Batch 0 Loss 0.0296\n",
            "Epoch 49 Batch 100 Loss 0.0293\n",
            "Epoch 49 Batch 200 Loss 0.0369\n",
            "Epoch 49 Batch 300 Loss 0.0143\n",
            "Epoch 49 Batch 400 Loss 0.0258\n",
            "Epoch 49 Batch 500 Loss 0.0360\n",
            "Epoch 49 Batch 600 Loss 0.0279\n",
            "Epoch 49 Batch 700 Loss 0.0299\n",
            "Epoch 49 Batch 800 Loss 0.0253\n",
            "Epoch 49 Batch 900 Loss 0.0510\n",
            "Epoch 49 Batch 1000 Loss 0.0444\n",
            "Epoch 49 Batch 1100 Loss 0.0413\n",
            "Epoch 49 Batch 1200 Loss 0.0513\n",
            "Epoch 49 Loss 0.0400\n",
            "Time taken for 1 epoch 100.98960304260254 sec\n",
            "\n",
            "Epoch 50 Batch 0 Loss 0.0477\n",
            "Epoch 50 Batch 100 Loss 0.0164\n",
            "Epoch 50 Batch 200 Loss 0.0330\n",
            "Epoch 50 Batch 300 Loss 0.0255\n",
            "Epoch 50 Batch 400 Loss 0.0346\n",
            "Epoch 50 Batch 500 Loss 0.0228\n",
            "Epoch 50 Batch 600 Loss 0.0352\n",
            "Epoch 50 Batch 700 Loss 0.0521\n",
            "Epoch 50 Batch 800 Loss 0.0234\n",
            "Epoch 50 Batch 900 Loss 0.0635\n",
            "Epoch 50 Batch 1000 Loss 0.0345\n",
            "Epoch 50 Batch 1100 Loss 0.0729\n",
            "Epoch 50 Batch 1200 Loss 0.0511\n",
            "Epoch 50 Loss 0.0394\n",
            "Time taken for 1 epoch 101.93782162666321 sec\n",
            "\n"
          ]
        }
      ]
    },
    {
      "cell_type": "markdown",
      "source": [
        "Функция для запуска перевода"
      ],
      "metadata": {
        "id": "9hCrZf0-QmYP"
      }
    },
    {
      "cell_type": "code",
      "source": [
        "def evaluate(sentence):\n",
        "  attention_plot = np.zeros((max_length_targ, max_length_inp))\n",
        "\n",
        "  sentence = preprocess_sentence(sentence)\n",
        "\n",
        "  inputs = [inp_lang.word_index[i] for i in sentence.split(' ')]\n",
        "  inputs = tf.keras.preprocessing.sequence.pad_sequences([inputs],\n",
        "                                                         maxlen=max_length_inp,\n",
        "                                                         padding='post')\n",
        "  inputs = tf.convert_to_tensor(inputs)\n",
        "\n",
        "  result = ''\n",
        "\n",
        "  hidden = [tf.zeros((1, units))]\n",
        "  enc_out, enc_hidden = encoder(inputs, hidden)\n",
        "\n",
        "  dec_hidden = enc_hidden\n",
        "  dec_input = tf.expand_dims([targ_lang.word_index['<start>']], 0)\n",
        "\n",
        "  for t in range(max_length_targ):\n",
        "    predictions, dec_hidden, attention_weights = decoder(dec_input,\n",
        "                                                         dec_hidden,\n",
        "                                                         enc_out)\n",
        "\n",
        "    # storing the attention weights to plot later on\n",
        "    attention_weights = tf.reshape(attention_weights, (-1, ))\n",
        "    attention_plot[t] = attention_weights.numpy()\n",
        "\n",
        "    predicted_id = tf.argmax(predictions[0]).numpy()\n",
        "\n",
        "    result += targ_lang.index_word[predicted_id] + ' '\n",
        "\n",
        "    if targ_lang.index_word[predicted_id] == '<end>':\n",
        "      return result, sentence, attention_plot\n",
        "\n",
        "    # the predicted ID is fed back into the model\n",
        "    dec_input = tf.expand_dims([predicted_id], 0)\n",
        "\n",
        "  return result, sentence, attention_plot"
      ],
      "metadata": {
        "id": "-1cyydr9IU8-"
      },
      "execution_count": null,
      "outputs": []
    },
    {
      "cell_type": "markdown",
      "source": [
        "Функци, визуализирующая связь исходной последовательности и перевода"
      ],
      "metadata": {
        "id": "Yz3qJBTXQrUb"
      }
    },
    {
      "cell_type": "code",
      "source": [
        "# function for plotting the attention weights\n",
        "def plot_attention(attention, sentence, predicted_sentence):\n",
        "  fig = plt.figure(figsize=(10,10))\n",
        "  ax = fig.add_subplot(1, 1, 1)\n",
        "  ax.matshow(attention, cmap='viridis')\n",
        "\n",
        "  fontdict = {'fontsize': 14}\n",
        "\n",
        "  ax.set_xticklabels([''] + sentence, fontdict=fontdict, rotation=90)\n",
        "  ax.set_yticklabels([''] + predicted_sentence, fontdict=fontdict)\n",
        "\n",
        "  ax.xaxis.set_major_locator(ticker.MultipleLocator(1))\n",
        "  ax.yaxis.set_major_locator(ticker.MultipleLocator(1))\n",
        "\n",
        "  plt.show()"
      ],
      "metadata": {
        "id": "05whTaQUIVEZ"
      },
      "execution_count": null,
      "outputs": []
    },
    {
      "cell_type": "markdown",
      "source": [
        "Функция, объединяющая две предыдущие функции"
      ],
      "metadata": {
        "id": "g35EaAY3Q3ZH"
      }
    },
    {
      "cell_type": "code",
      "source": [
        "def translate(sentence):\n",
        "  result, sentence, attention_plot = evaluate(sentence)\n",
        "\n",
        "  print('Input: %s' % (sentence))\n",
        "  print('Predicted translation: {}'.format(result))\n",
        "\n",
        "  attention_plot = attention_plot[:len(result.split(' ')), :len(sentence.split(' '))]\n",
        "  plot_attention(attention_plot, sentence.split(' '), result.split(' '))"
      ],
      "metadata": {
        "id": "fA-mZ_qOIVJH"
      },
      "execution_count": null,
      "outputs": []
    },
    {
      "cell_type": "code",
      "source": [
        "# restoring the latest checkpoint in checkpoint_dir\n",
        "checkpoint.restore(tf.train.latest_checkpoint(checkpoint_dir))"
      ],
      "metadata": {
        "colab": {
          "base_uri": "https://localhost:8080/"
        },
        "id": "ZOsGTyriIktJ",
        "outputId": "e5f5bbfc-6ff8-42fe-b8c5-bfcc7894c3d0"
      },
      "execution_count": null,
      "outputs": [
        {
          "output_type": "execute_result",
          "data": {
            "text/plain": [
              "<tensorflow.python.training.tracking.util.CheckpointLoadStatus at 0x7eff175a1f50>"
            ]
          },
          "metadata": {},
          "execution_count": 88
        }
      ]
    },
    {
      "cell_type": "markdown",
      "source": [
        "Посмотрим на качество перевода"
      ],
      "metadata": {
        "id": "x22Zpk-9RDSE"
      }
    },
    {
      "cell_type": "code",
      "source": [
        "translate('Привет, как дела?')"
      ],
      "metadata": {
        "colab": {
          "base_uri": "https://localhost:8080/",
          "height": 677
        },
        "id": "Ol8JaaWfIkwd",
        "outputId": "e5ee75f3-f1bc-4630-9764-5ee8337e8a34"
      },
      "execution_count": null,
      "outputs": [
        {
          "output_type": "stream",
          "name": "stdout",
          "text": [
            "Input: <start> привет , как дела ? <end>\n",
            "Predicted translation: hi ! how are you ? <end> \n"
          ]
        },
        {
          "output_type": "display_data",
          "data": {
            "text/plain": [
              "<Figure size 720x720 with 1 Axes>"
            ],
            "image/png": "[encoded data removed]"
          },
          "metadata": {
            "needs_background": "light"
          }
        }
      ]
    },
    {
      "cell_type": "code",
      "source": [
        "translate('Отличная погода')"
      ],
      "metadata": {
        "colab": {
          "base_uri": "https://localhost:8080/",
          "height": 690
        },
        "id": "Jj2Jl0cyIkzi",
        "outputId": "bb836464-2505-410d-dbae-6bca578f3866"
      },
      "execution_count": null,
      "outputs": [
        {
          "output_type": "stream",
          "name": "stdout",
          "text": [
            "Input: <start> отличная погода <end>\n",
            "Predicted translation: it's rather good . <end> \n"
          ]
        },
        {
          "output_type": "display_data",
          "data": {
            "text/plain": [
              "<Figure size 720x720 with 1 Axes>"
            ],
            "image/png": "[encoded data removed]"
          },
          "metadata": {
            "needs_background": "light"
          }
        }
      ]
    },
    {
      "cell_type": "code",
      "source": [
        "translate('Карта мира')"
      ],
      "metadata": {
        "colab": {
          "base_uri": "https://localhost:8080/",
          "height": 677
        },
        "id": "vJQ0d1fdI1py",
        "outputId": "0e077ca9-0863-44a2-f198-01b5f5d11c80"
      },
      "execution_count": null,
      "outputs": [
        {
          "output_type": "stream",
          "name": "stdout",
          "text": [
            "Input: <start> карта мира <end>\n",
            "Predicted translation: the bag turned on high . <end> \n"
          ]
        },
        {
          "output_type": "display_data",
          "data": {
            "text/plain": [
              "<Figure size 720x720 with 1 Axes>"
            ],
            "image/png": "[encoded data removed]"
          },
          "metadata": {
            "needs_background": "light"
          }
        }
      ]
    },
    {
      "cell_type": "code",
      "source": [
        "translate('Чем я могу помочь?')"
      ],
      "metadata": {
        "colab": {
          "base_uri": "https://localhost:8080/",
          "height": 677
        },
        "id": "6T4MAlblI1s6",
        "outputId": "65e7d229-10d7-4e35-a39e-4358613e8a47"
      },
      "execution_count": null,
      "outputs": [
        {
          "output_type": "stream",
          "name": "stdout",
          "text": [
            "Input: <start> чем я могу помочь ? <end>\n",
            "Predicted translation: how can i help ? <end> \n"
          ]
        },
        {
          "output_type": "display_data",
          "data": {
            "text/plain": [
              "<Figure size 720x720 with 1 Axes>"
            ],
            "image/png": "[encoded data removed]"
          },
          "metadata": {
            "needs_background": "light"
          }
        }
      ]
    },
    {
      "cell_type": "code",
      "source": [
        "translate('Сколько сейчас времени?')"
      ],
      "metadata": {
        "colab": {
          "base_uri": "https://localhost:8080/",
          "height": 684
        },
        "id": "X3kACaxuI1wI",
        "outputId": "b19543eb-005f-42c0-e913-19779de8ad68"
      },
      "execution_count": null,
      "outputs": [
        {
          "output_type": "stream",
          "name": "stdout",
          "text": [
            "Input: <start> сколько сейчас времени ? <end>\n",
            "Predicted translation: what time is it now ? <end> \n"
          ]
        },
        {
          "output_type": "display_data",
          "data": {
            "text/plain": [
              "<Figure size 720x720 with 1 Axes>"
            ],
            "image/png": "[encoded data removed]"
          },
          "metadata": {
            "needs_background": "light"
          }
        }
      ]
    },
    {
      "cell_type": "code",
      "source": [
        "translate('Сегодня на улице отличная погода')"
      ],
      "metadata": {
        "colab": {
          "base_uri": "https://localhost:8080/",
          "height": 690
        },
        "id": "xQZvhWh0I1zi",
        "outputId": "41df21ab-58c6-40e4-df00-22870ccab252"
      },
      "execution_count": null,
      "outputs": [
        {
          "output_type": "stream",
          "name": "stdout",
          "text": [
            "Input: <start> сегодня на улице отличная погода <end>\n",
            "Predicted translation: it's all right out . <end> \n"
          ]
        },
        {
          "output_type": "display_data",
          "data": {
            "text/plain": [
              "<Figure size 720x720 with 1 Axes>"
            ],
            "image/png": "[encoded data removed]"
          },
          "metadata": {
            "needs_background": "light"
          }
        }
      ]
    },
    {
      "cell_type": "code",
      "source": [
        "translate('Сколько времени нужно, чтобы добраться до остановки')"
      ],
      "metadata": {
        "colab": {
          "base_uri": "https://localhost:8080/",
          "height": 545
        },
        "id": "46UQvstgJDjw",
        "outputId": "7084dba9-343b-4579-efbe-eef455d1f208"
      },
      "execution_count": null,
      "outputs": [
        {
          "output_type": "stream",
          "name": "stdout",
          "text": [
            "Input: <start> сколько времени нужно , чтобы добраться до остановки <end>\n",
            "Predicted translation: large while i rain . <end> \n"
          ]
        },
        {
          "output_type": "display_data",
          "data": {
            "text/plain": [
              "<Figure size 720x720 with 1 Axes>"
            ],
            "image/png": "[encoded data removed]"
          },
          "metadata": {
            "needs_background": "light"
          }
        }
      ]
    },
    {
      "cell_type": "code",
      "source": [
        "translate('Банк выпустил новую карту')"
      ],
      "metadata": {
        "colab": {
          "base_uri": "https://localhost:8080/",
          "height": 692
        },
        "id": "Hw8nlqV6JDmw",
        "outputId": "d6b577b9-91f1-40d4-9c4a-c86c055d2308"
      },
      "execution_count": null,
      "outputs": [
        {
          "output_type": "stream",
          "name": "stdout",
          "text": [
            "Input: <start> банк выпустил новую карту <end>\n",
            "Predicted translation: the plane is fast . <end> \n"
          ]
        },
        {
          "output_type": "display_data",
          "data": {
            "text/plain": [
              "<Figure size 720x720 with 1 Axes>"
            ],
            "image/png": "[encoded data removed]"
          },
          "metadata": {
            "needs_background": "light"
          }
        }
      ]
    },
    {
      "cell_type": "code",
      "source": [
        "translate('Прогулка была приятной')"
      ],
      "metadata": {
        "colab": {
          "base_uri": "https://localhost:8080/",
          "height": 692
        },
        "id": "iC44InBTJDpQ",
        "outputId": "ec7466a6-823a-4351-c100-574019110875"
      },
      "execution_count": null,
      "outputs": [
        {
          "output_type": "stream",
          "name": "stdout",
          "text": [
            "Input: <start> прогулка была приятной <end>\n",
            "Predicted translation: last way was nice . <end> \n"
          ]
        },
        {
          "output_type": "display_data",
          "data": {
            "text/plain": [
              "<Figure size 720x720 with 1 Axes>"
            ],
            "image/png": "[encoded data removed]"
          },
          "metadata": {
            "needs_background": "light"
          }
        }
      ]
    },
    {
      "cell_type": "code",
      "source": [
        "translate('На море волны')"
      ],
      "metadata": {
        "colab": {
          "base_uri": "https://localhost:8080/",
          "height": 677
        },
        "id": "U3P1BdGaJDuP",
        "outputId": "18a318dc-7922-4fe6-f641-8f4a48a5ee40"
      },
      "execution_count": null,
      "outputs": [
        {
          "output_type": "stream",
          "name": "stdout",
          "text": [
            "Input: <start> на море волны <end>\n",
            "Predicted translation: the boy is lonely . <end> \n"
          ]
        },
        {
          "output_type": "display_data",
          "data": {
            "text/plain": [
              "<Figure size 720x720 with 1 Axes>"
            ],
            "image/png": "[encoded data removed]"
          },
          "metadata": {
            "needs_background": "light"
          }
        }
      ]
    },
    {
      "cell_type": "code",
      "source": [
        "translate('Как тебя зовут?')"
      ],
      "metadata": {
        "colab": {
          "base_uri": "https://localhost:8080/",
          "height": 677
        },
        "id": "lmDzZhccJDwq",
        "outputId": "1cbb770f-f3c5-4da7-fa00-3f2f7d60bd2e"
      },
      "execution_count": null,
      "outputs": [
        {
          "output_type": "stream",
          "name": "stdout",
          "text": [
            "Input: <start> как тебя зовут ? <end>\n",
            "Predicted translation: what is your name ? <end> \n"
          ]
        },
        {
          "output_type": "display_data",
          "data": {
            "text/plain": [
              "<Figure size 720x720 with 1 Axes>"
            ],
            "image/png": "[encoded data removed]"
          },
          "metadata": {
            "needs_background": "light"
          }
        }
      ]
    },
    {
      "cell_type": "code",
      "source": [
        "translate('Я прошел урок по математике')"
      ],
      "metadata": {
        "colab": {
          "base_uri": "https://localhost:8080/",
          "height": 711
        },
        "id": "wUwC56_pI12S",
        "outputId": "55b53f4b-7db6-42fa-db20-7287c6ce2d2e"
      },
      "execution_count": null,
      "outputs": [
        {
          "output_type": "stream",
          "name": "stdout",
          "text": [
            "Input: <start> я прошел урок по математике <end>\n",
            "Predicted translation: i hear i agree . <end> \n"
          ]
        },
        {
          "output_type": "display_data",
          "data": {
            "text/plain": [
              "<Figure size 720x720 with 1 Axes>"
            ],
            "image/png": "[encoded data removed]"
          },
          "metadata": {
            "needs_background": "light"
          }
        }
      ]
    },
    {
      "cell_type": "code",
      "source": [
        "translate('Что такое корабль?')"
      ],
      "metadata": {
        "colab": {
          "base_uri": "https://localhost:8080/",
          "height": 681
        },
        "id": "fjAvs6jhI2Dq",
        "outputId": "53c3f46c-0592-4462-8b80-034bd8b308c7"
      },
      "execution_count": null,
      "outputs": [
        {
          "output_type": "stream",
          "name": "stdout",
          "text": [
            "Input: <start> что такое корабль ? <end>\n",
            "Predicted translation: what is the flight ? <end> \n"
          ]
        },
        {
          "output_type": "display_data",
          "data": {
            "text/plain": [
              "<Figure size 720x720 with 1 Axes>"
            ],
            "image/png": "[encoded data removed]"
          },
          "metadata": {
            "needs_background": "light"
          }
        }
      ]
    },
    {
      "cell_type": "code",
      "source": [
        "translate('Быть или не быть вот в чем вопрос?')"
      ],
      "metadata": {
        "colab": {
          "base_uri": "https://localhost:8080/",
          "height": 677
        },
        "id": "HHo4ijq3Ik2M",
        "outputId": "2236f519-4110-41fd-9459-8b7cfcd5810d"
      },
      "execution_count": null,
      "outputs": [
        {
          "output_type": "stream",
          "name": "stdout",
          "text": [
            "Input: <start> быть или не быть вот в чем вопрос ? <end>\n",
            "Predicted translation: it's not the same or a same or a same or \n"
          ]
        },
        {
          "output_type": "display_data",
          "data": {
            "text/plain": [
              "<Figure size 720x720 with 1 Axes>"
            ],
            "image/png": "[encoded data removed]"
          },
          "metadata": {
            "needs_background": "light"
          }
        }
      ]
    },
    {
      "cell_type": "code",
      "source": [
        "translate('Горе от ума')"
      ],
      "metadata": {
        "colab": {
          "base_uri": "https://localhost:8080/",
          "height": 677
        },
        "id": "hyeJa9FZJmPi",
        "outputId": "7bb586a2-46ce-4036-f355-11e274f5392c"
      },
      "execution_count": null,
      "outputs": [
        {
          "output_type": "stream",
          "name": "stdout",
          "text": [
            "Input: <start> горе от ума <end>\n",
            "Predicted translation: mom is crazy ! <end> \n"
          ]
        },
        {
          "output_type": "display_data",
          "data": {
            "text/plain": [
              "<Figure size 720x720 with 1 Axes>"
            ],
            "image/png": "[encoded data removed]"
          },
          "metadata": {
            "needs_background": "light"
          }
        }
      ]
    },
    {
      "cell_type": "markdown",
      "source": [
        "Вывод: в рамках данной задачи сложно сказать, что слой внимания сильно улучшил качество перевода, может быть чуть-чуть"
      ],
      "metadata": {
        "id": "fjDa7F17RGxZ"
      }
    }
  ]
}